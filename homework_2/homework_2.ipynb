{
 "metadata": {
  "language_info": {
   "codemirror_mode": {
    "name": "ipython",
    "version": 3
   },
   "file_extension": ".py",
   "mimetype": "text/x-python",
   "name": "python",
   "nbconvert_exporter": "python",
   "pygments_lexer": "ipython3",
   "version": "3.8.5-final"
  },
  "orig_nbformat": 2,
  "kernelspec": {
   "name": "python3",
   "display_name": "Python 3",
   "language": "python"
  }
 },
 "nbformat": 4,
 "nbformat_minor": 2,
 "cells": [
  {
   "source": [
    "# Homework 2\n",
    "### Marco Sicklinger, 03/2021\n"
   ],
   "cell_type": "markdown",
   "metadata": {}
  },
  {
   "source": [
    "We first define some useful functions and classes."
   ],
   "cell_type": "markdown",
   "metadata": {}
  },
  {
   "cell_type": "code",
   "execution_count": 1004,
   "metadata": {},
   "outputs": [],
   "source": [
    "import torch as pt\n",
    "from typing import List\n",
    "from random import random, seed\n",
    "seed(0)"
   ]
  },
  {
   "source": [
    "We define, like taught in the laboratory, and `AvarageMeter()` class."
   ],
   "cell_type": "markdown",
   "metadata": {}
  },
  {
   "cell_type": "code",
   "execution_count": 1005,
   "metadata": {},
   "outputs": [],
   "source": [
    "class AverageMeter(object):\n",
    "    def __init__(self):\n",
    "        self.reset()\n",
    "\n",
    "    def reset(self):\n",
    "        self.val = 0\n",
    "        self.avg = 0\n",
    "        self.sum = 0\n",
    "        self.count = 0\n",
    "\n",
    "    def update(self, val, n=1):\n",
    "        self.val = val\n",
    "        self.sum += val * n\n",
    "        self.count += n\n",
    "        self.avg = self.sum / self.count"
   ]
  },
  {
   "source": [
    "We also provide a simple dataloader for better handling of data."
   ],
   "cell_type": "markdown",
   "metadata": {}
  },
  {
   "cell_type": "code",
   "execution_count": 1006,
   "metadata": {},
   "outputs": [],
   "source": [
    "class dataloader():\n",
    "    \"\"\"\n",
    "    Dataloader for matrix-like inputs and vector-like outputs\n",
    "    \"\"\"\n",
    "\n",
    "    def __init__(self, X, y):\n",
    "        self._X = X.clone().detach()\n",
    "        self._y = pt.tensor(y)\n",
    "\n",
    "    def __len__(self):\n",
    "        return self._X.shape[0]\n",
    "    \n",
    "    def __getitem__(self, index):\n",
    "        return self._X[index,:], self._y[index]"
   ]
  },
  {
   "source": [
    "In order to create the required data we define a function to use when symmetric vectors are required, `mirror_vectors`, and a function to create generic random vectors, `random_vector()`.  \n",
    "In addition to that, we define a function, `symmetry()`, that allows us to determin if a vector satisfy the \"mirror property\".  \n",
    "Finally, we defined a function that allows us to create the final dataset needed for the `dataloader()`."
   ],
   "cell_type": "markdown",
   "metadata": {}
  },
  {
   "cell_type": "code",
   "execution_count": 1007,
   "metadata": {},
   "outputs": [],
   "source": [
    "def mirror_vectors(n: int = 6):\n",
    "    \n",
    "    result = pt.empty((2**n, n))\n",
    "\n",
    "    x = pt.arange((2**n))\n",
    "    for i in range(n):\n",
    "        m = 2**(i+1)\n",
    "        result[:, i] = x%m < 2**i\n",
    "    \n",
    "    return result"
   ]
  },
  {
   "cell_type": "code",
   "execution_count": 1008,
   "metadata": {},
   "outputs": [],
   "source": [
    "def symmetry(x):\n",
    "\n",
    "    if len(x)%2 != 0: return 0\n",
    "\n",
    "    for i in range(len(x)//2):\n",
    "        if x[i] != x[len(x)-i-1]: \n",
    "            return 0\n",
    "    return 1"
   ]
  },
  {
   "cell_type": "code",
   "execution_count": 1009,
   "metadata": {},
   "outputs": [],
   "source": [
    "def data_creator(*data: List) -> List:\n",
    "\n",
    "    result = []\n",
    "\n",
    "    for item in data:\n",
    "        result = result + item\n",
    "\n",
    "    return result"
   ]
  },
  {
   "source": [
    "We also defined a function needed to compute the accuracy. Since, this quantity is neede for each vector, we defined a function to compute it for each prediction associated to every vector passed with the `dataloader()`."
   ],
   "cell_type": "markdown",
   "metadata": {}
  },
  {
   "cell_type": "code",
   "execution_count": 1010,
   "metadata": {},
   "outputs": [],
   "source": [
    "def local_accuracy(y_hat, y):\n",
    "\n",
    "    prediction = round(y_hat.item())\n",
    "    if  prediction == y.item():\n",
    "        return 1\n",
    "    else:\n",
    "        return 0"
   ]
  },
  {
   "source": [
    "Then we define the multi-layer perceptron, the training functions and the test function, following the protocol used in class."
   ],
   "cell_type": "markdown",
   "metadata": {}
  },
  {
   "cell_type": "code",
   "execution_count": 1011,
   "metadata": {},
   "outputs": [],
   "source": [
    "class MultiLayerPerceptron(pt.nn.Module):\n",
    "\n",
    "    def __init__(self):\n",
    "        super().__init__()\n",
    "\n",
    "        # Create members to simulate layers\n",
    "        self._h_layer = pt.nn.Linear(in_features = 6, out_features = 2, bias = True)\n",
    "        self._o_layer = pt.nn.Linear(in_features = 2, out_features = 1, bias = True)\n",
    "\n",
    "    def forward(self, X):\n",
    "\n",
    "        out = self._h_layer(X)\n",
    "        out = pt.sigmoid(out)\n",
    "\n",
    "        out = self._o_layer(out)\n",
    "        out = pt.sigmoid(out)\n",
    "\n",
    "        return out"
   ]
  },
  {
   "cell_type": "code",
   "execution_count": 1012,
   "metadata": {},
   "outputs": [],
   "source": [
    "def train_epoch(model, data, loss_ft, optimizer, loss_meter, accuracy_meter):\n",
    "\n",
    "    for x, y in data:\n",
    "\n",
    "        optimizer.zero_grad()\n",
    "\n",
    "        y_hat = model(x).ravel()\n",
    "\n",
    "        loss = loss_ft(y_hat, y)\n",
    "\n",
    "        loss.backward()\n",
    "\n",
    "        optimizer.step()\n",
    "\n",
    "        loss_meter.update(val=loss.item(), n=x.shape[0])\n",
    "\n",
    "        acc = local_accuracy(y_hat, y)\n",
    "        accuracy_meter.update(val=acc, n=x.shape[0])"
   ]
  },
  {
   "cell_type": "code",
   "execution_count": 1013,
   "metadata": {},
   "outputs": [],
   "source": [
    "def train_model(model, data, loss_ft, optimizer, num_epochs): \n",
    "    model.train()\n",
    "\n",
    "    losses = []\n",
    "\n",
    "    for epoch in range(num_epochs):\n",
    "\n",
    "        loss_meter = AverageMeter()\n",
    "\n",
    "        accuracy_meter = AverageMeter()\n",
    "\n",
    "        train_epoch(model, data, loss_ft, optimizer, loss_meter, accuracy_meter)\n",
    "\n",
    "        losses.append(loss_meter.sum)\n",
    "\n",
    "        #print(f\"Epoch {epoch+1} completed. Loss - total: {loss_meter.sum} - average: {loss_meter.avg}; Accuracy: {accuracy_meter.avg}\")\n",
    "    \n",
    "    return accuracy_meter.avg, losses"
   ]
  },
  {
   "cell_type": "code",
   "execution_count": 1014,
   "metadata": {},
   "outputs": [],
   "source": [
    "def test_model(model, data, loss_ft=None):\n",
    "\n",
    "    if loss_ft is not None:\n",
    "        loss_meter = AverageMeter()\n",
    "        accuracy_meter = AverageMeter()\n",
    "\n",
    "    model.eval() \n",
    "\n",
    "    with pt.no_grad():\n",
    "        for x, y in data:\n",
    "            y_hat = model(x)\n",
    "            loss = loss_ft(y_hat, y) if loss_ft is not None else None\n",
    "            acc = local_accuracy(y_hat, y)\n",
    "            if loss_ft is not None:\n",
    "                loss_meter.update(loss.item(), x.shape[0])\n",
    "            accuracy_meter.update(acc, x.shape[0])\n",
    "\n",
    "    print(f\"TESTING - loss {loss_meter.sum if loss_ft is not None else '--'} - Accuracy {accuracy_meter.avg}\")"
   ]
  },
  {
   "source": [
    "Here we create the data:"
   ],
   "cell_type": "markdown",
   "metadata": {}
  },
  {
   "cell_type": "code",
   "execution_count": 1015,
   "metadata": {},
   "outputs": [],
   "source": [
    "X = mirror_vectors()\n",
    "\n",
    "y = []\n",
    "for i in range(len(X)):\n",
    "    y.append(float(symmetry(X[i,:])))"
   ]
  },
  {
   "source": [
    "and we define the dataloader and the loss function."
   ],
   "cell_type": "markdown",
   "metadata": {}
  },
  {
   "cell_type": "code",
   "execution_count": 1016,
   "metadata": {},
   "outputs": [],
   "source": [
    "data = dataloader(X,y)\n",
    "loss_ft = pt.nn.MSELoss(reduction=\"sum\")"
   ]
  },
  {
   "source": [
    "We iteratively look for a model which can give us a total loss smaller or equal than $3.5$, values at which accuracy on the training should be satisfying."
   ],
   "cell_type": "markdown",
   "metadata": {}
  },
  {
   "cell_type": "code",
   "execution_count": 1017,
   "metadata": {
    "tags": []
   },
   "outputs": [
    {
     "output_type": "stream",
     "name": "stderr",
     "text": [
      "/home/macro/anaconda3/lib/python3.7/site-packages/torch/nn/modules/loss.py:528: UserWarning: Using a target size (torch.Size([])) that is different to the input size (torch.Size([1])). This will likely lead to incorrect results due to broadcasting. Please ensure they have the same size.\n",
      "  return F.mse_loss(input, target, reduction=self.reduction)\n",
      "iteration 1 -- loss 41.89030350185931 -- accuracy 0.875\n",
      "iteration 2 -- loss 40.271148218773305 -- accuracy 0.875\n",
      "iteration 3 -- loss 40.71860184520483 -- accuracy 0.875\n",
      "iteration 4 -- loss 42.14215796627104 -- accuracy 0.875\n"
     ]
    },
    {
     "output_type": "error",
     "ename": "KeyboardInterrupt",
     "evalue": "",
     "traceback": [
      "\u001b[0;31m---------------------------------------------------------------------------\u001b[0m",
      "\u001b[0;31mKeyboardInterrupt\u001b[0m                         Traceback (most recent call last)",
      "\u001b[0;32m<ipython-input-1017-d593d650942f>\u001b[0m in \u001b[0;36m<module>\u001b[0;34m\u001b[0m\n\u001b[1;32m      8\u001b[0m     \u001b[0moptimizer\u001b[0m \u001b[0;34m=\u001b[0m \u001b[0mpt\u001b[0m\u001b[0;34m.\u001b[0m\u001b[0moptim\u001b[0m\u001b[0;34m.\u001b[0m\u001b[0mSGD\u001b[0m\u001b[0;34m(\u001b[0m\u001b[0mmodel\u001b[0m\u001b[0;34m.\u001b[0m\u001b[0mparameters\u001b[0m\u001b[0;34m(\u001b[0m\u001b[0;34m)\u001b[0m\u001b[0;34m,\u001b[0m \u001b[0mlr\u001b[0m\u001b[0;34m=\u001b[0m\u001b[0;36m0.1\u001b[0m\u001b[0;34m)\u001b[0m\u001b[0;34m\u001b[0m\u001b[0;34m\u001b[0m\u001b[0m\n\u001b[1;32m      9\u001b[0m \u001b[0;34m\u001b[0m\u001b[0m\n\u001b[0;32m---> 10\u001b[0;31m     \u001b[0macc\u001b[0m\u001b[0;34m,\u001b[0m \u001b[0mlosses\u001b[0m \u001b[0;34m=\u001b[0m \u001b[0mtrain_model\u001b[0m\u001b[0;34m(\u001b[0m\u001b[0mmodel\u001b[0m\u001b[0;34m,\u001b[0m \u001b[0mdata\u001b[0m\u001b[0;34m,\u001b[0m \u001b[0mloss_ft\u001b[0m\u001b[0;34m,\u001b[0m \u001b[0moptimizer\u001b[0m\u001b[0;34m,\u001b[0m \u001b[0mnum_epochs\u001b[0m\u001b[0;34m)\u001b[0m\u001b[0;34m\u001b[0m\u001b[0;34m\u001b[0m\u001b[0m\n\u001b[0m\u001b[1;32m     11\u001b[0m \u001b[0;34m\u001b[0m\u001b[0m\n\u001b[1;32m     12\u001b[0m     \u001b[0mloss_threshold\u001b[0m \u001b[0;34m=\u001b[0m \u001b[0mlosses\u001b[0m\u001b[0;34m[\u001b[0m\u001b[0;34m-\u001b[0m\u001b[0;36m1\u001b[0m\u001b[0;34m]\u001b[0m\u001b[0;34m\u001b[0m\u001b[0;34m\u001b[0m\u001b[0m\n",
      "\u001b[0;32m<ipython-input-1013-0107c5407ae8>\u001b[0m in \u001b[0;36mtrain_model\u001b[0;34m(model, data, loss_ft, optimizer, num_epochs)\u001b[0m\n\u001b[1;32m     10\u001b[0m         \u001b[0maccuracy_meter\u001b[0m \u001b[0;34m=\u001b[0m \u001b[0mAverageMeter\u001b[0m\u001b[0;34m(\u001b[0m\u001b[0;34m)\u001b[0m\u001b[0;34m\u001b[0m\u001b[0;34m\u001b[0m\u001b[0m\n\u001b[1;32m     11\u001b[0m \u001b[0;34m\u001b[0m\u001b[0m\n\u001b[0;32m---> 12\u001b[0;31m         \u001b[0mtrain_epoch\u001b[0m\u001b[0;34m(\u001b[0m\u001b[0mmodel\u001b[0m\u001b[0;34m,\u001b[0m \u001b[0mdata\u001b[0m\u001b[0;34m,\u001b[0m \u001b[0mloss_ft\u001b[0m\u001b[0;34m,\u001b[0m \u001b[0moptimizer\u001b[0m\u001b[0;34m,\u001b[0m \u001b[0mloss_meter\u001b[0m\u001b[0;34m,\u001b[0m \u001b[0maccuracy_meter\u001b[0m\u001b[0;34m)\u001b[0m\u001b[0;34m\u001b[0m\u001b[0;34m\u001b[0m\u001b[0m\n\u001b[0m\u001b[1;32m     13\u001b[0m \u001b[0;34m\u001b[0m\u001b[0m\n\u001b[1;32m     14\u001b[0m         \u001b[0mlosses\u001b[0m\u001b[0;34m.\u001b[0m\u001b[0mappend\u001b[0m\u001b[0;34m(\u001b[0m\u001b[0mloss_meter\u001b[0m\u001b[0;34m.\u001b[0m\u001b[0msum\u001b[0m\u001b[0;34m)\u001b[0m\u001b[0;34m\u001b[0m\u001b[0;34m\u001b[0m\u001b[0m\n",
      "\u001b[0;32m<ipython-input-1012-87a90610b729>\u001b[0m in \u001b[0;36mtrain_epoch\u001b[0;34m(model, data, loss_ft, optimizer, loss_meter, accuracy_meter)\u001b[0m\n\u001b[1;32m      7\u001b[0m         \u001b[0my_hat\u001b[0m \u001b[0;34m=\u001b[0m \u001b[0mmodel\u001b[0m\u001b[0;34m(\u001b[0m\u001b[0mx\u001b[0m\u001b[0;34m)\u001b[0m\u001b[0;34m.\u001b[0m\u001b[0mravel\u001b[0m\u001b[0;34m(\u001b[0m\u001b[0;34m)\u001b[0m\u001b[0;34m\u001b[0m\u001b[0;34m\u001b[0m\u001b[0m\n\u001b[1;32m      8\u001b[0m \u001b[0;34m\u001b[0m\u001b[0m\n\u001b[0;32m----> 9\u001b[0;31m         \u001b[0mloss\u001b[0m \u001b[0;34m=\u001b[0m \u001b[0mloss_ft\u001b[0m\u001b[0;34m(\u001b[0m\u001b[0my_hat\u001b[0m\u001b[0;34m,\u001b[0m \u001b[0my\u001b[0m\u001b[0;34m)\u001b[0m\u001b[0;34m\u001b[0m\u001b[0;34m\u001b[0m\u001b[0m\n\u001b[0m\u001b[1;32m     10\u001b[0m \u001b[0;34m\u001b[0m\u001b[0m\n\u001b[1;32m     11\u001b[0m         \u001b[0mloss\u001b[0m\u001b[0;34m.\u001b[0m\u001b[0mbackward\u001b[0m\u001b[0;34m(\u001b[0m\u001b[0;34m)\u001b[0m\u001b[0;34m\u001b[0m\u001b[0;34m\u001b[0m\u001b[0m\n",
      "\u001b[0;32m~/anaconda3/lib/python3.7/site-packages/torch/nn/modules/module.py\u001b[0m in \u001b[0;36m_call_impl\u001b[0;34m(self, *input, **kwargs)\u001b[0m\n\u001b[1;32m    887\u001b[0m             \u001b[0mresult\u001b[0m \u001b[0;34m=\u001b[0m \u001b[0mself\u001b[0m\u001b[0;34m.\u001b[0m\u001b[0m_slow_forward\u001b[0m\u001b[0;34m(\u001b[0m\u001b[0;34m*\u001b[0m\u001b[0minput\u001b[0m\u001b[0;34m,\u001b[0m \u001b[0;34m**\u001b[0m\u001b[0mkwargs\u001b[0m\u001b[0;34m)\u001b[0m\u001b[0;34m\u001b[0m\u001b[0;34m\u001b[0m\u001b[0m\n\u001b[1;32m    888\u001b[0m         \u001b[0;32melse\u001b[0m\u001b[0;34m:\u001b[0m\u001b[0;34m\u001b[0m\u001b[0;34m\u001b[0m\u001b[0m\n\u001b[0;32m--> 889\u001b[0;31m             \u001b[0mresult\u001b[0m \u001b[0;34m=\u001b[0m \u001b[0mself\u001b[0m\u001b[0;34m.\u001b[0m\u001b[0mforward\u001b[0m\u001b[0;34m(\u001b[0m\u001b[0;34m*\u001b[0m\u001b[0minput\u001b[0m\u001b[0;34m,\u001b[0m \u001b[0;34m**\u001b[0m\u001b[0mkwargs\u001b[0m\u001b[0;34m)\u001b[0m\u001b[0;34m\u001b[0m\u001b[0;34m\u001b[0m\u001b[0m\n\u001b[0m\u001b[1;32m    890\u001b[0m         for hook in itertools.chain(\n\u001b[1;32m    891\u001b[0m                 \u001b[0m_global_forward_hooks\u001b[0m\u001b[0;34m.\u001b[0m\u001b[0mvalues\u001b[0m\u001b[0;34m(\u001b[0m\u001b[0;34m)\u001b[0m\u001b[0;34m,\u001b[0m\u001b[0;34m\u001b[0m\u001b[0;34m\u001b[0m\u001b[0m\n",
      "\u001b[0;32m~/anaconda3/lib/python3.7/site-packages/torch/nn/modules/loss.py\u001b[0m in \u001b[0;36mforward\u001b[0;34m(self, input, target)\u001b[0m\n\u001b[1;32m    526\u001b[0m \u001b[0;34m\u001b[0m\u001b[0m\n\u001b[1;32m    527\u001b[0m     \u001b[0;32mdef\u001b[0m \u001b[0mforward\u001b[0m\u001b[0;34m(\u001b[0m\u001b[0mself\u001b[0m\u001b[0;34m,\u001b[0m \u001b[0minput\u001b[0m\u001b[0;34m:\u001b[0m \u001b[0mTensor\u001b[0m\u001b[0;34m,\u001b[0m \u001b[0mtarget\u001b[0m\u001b[0;34m:\u001b[0m \u001b[0mTensor\u001b[0m\u001b[0;34m)\u001b[0m \u001b[0;34m->\u001b[0m \u001b[0mTensor\u001b[0m\u001b[0;34m:\u001b[0m\u001b[0;34m\u001b[0m\u001b[0;34m\u001b[0m\u001b[0m\n\u001b[0;32m--> 528\u001b[0;31m         \u001b[0;32mreturn\u001b[0m \u001b[0mF\u001b[0m\u001b[0;34m.\u001b[0m\u001b[0mmse_loss\u001b[0m\u001b[0;34m(\u001b[0m\u001b[0minput\u001b[0m\u001b[0;34m,\u001b[0m \u001b[0mtarget\u001b[0m\u001b[0;34m,\u001b[0m \u001b[0mreduction\u001b[0m\u001b[0;34m=\u001b[0m\u001b[0mself\u001b[0m\u001b[0;34m.\u001b[0m\u001b[0mreduction\u001b[0m\u001b[0;34m)\u001b[0m\u001b[0;34m\u001b[0m\u001b[0;34m\u001b[0m\u001b[0m\n\u001b[0m\u001b[1;32m    529\u001b[0m \u001b[0;34m\u001b[0m\u001b[0m\n\u001b[1;32m    530\u001b[0m \u001b[0;34m\u001b[0m\u001b[0m\n",
      "\u001b[0;32m~/anaconda3/lib/python3.7/site-packages/torch/nn/functional.py\u001b[0m in \u001b[0;36mmse_loss\u001b[0;34m(input, target, size_average, reduce, reduction)\u001b[0m\n\u001b[1;32m   2924\u001b[0m \u001b[0;34m\u001b[0m\u001b[0m\n\u001b[1;32m   2925\u001b[0m     \u001b[0mexpanded_input\u001b[0m\u001b[0;34m,\u001b[0m \u001b[0mexpanded_target\u001b[0m \u001b[0;34m=\u001b[0m \u001b[0mtorch\u001b[0m\u001b[0;34m.\u001b[0m\u001b[0mbroadcast_tensors\u001b[0m\u001b[0;34m(\u001b[0m\u001b[0minput\u001b[0m\u001b[0;34m,\u001b[0m \u001b[0mtarget\u001b[0m\u001b[0;34m)\u001b[0m\u001b[0;34m\u001b[0m\u001b[0;34m\u001b[0m\u001b[0m\n\u001b[0;32m-> 2926\u001b[0;31m     \u001b[0;32mreturn\u001b[0m \u001b[0mtorch\u001b[0m\u001b[0;34m.\u001b[0m\u001b[0m_C\u001b[0m\u001b[0;34m.\u001b[0m\u001b[0m_nn\u001b[0m\u001b[0;34m.\u001b[0m\u001b[0mmse_loss\u001b[0m\u001b[0;34m(\u001b[0m\u001b[0mexpanded_input\u001b[0m\u001b[0;34m,\u001b[0m \u001b[0mexpanded_target\u001b[0m\u001b[0;34m,\u001b[0m \u001b[0m_Reduction\u001b[0m\u001b[0;34m.\u001b[0m\u001b[0mget_enum\u001b[0m\u001b[0;34m(\u001b[0m\u001b[0mreduction\u001b[0m\u001b[0;34m)\u001b[0m\u001b[0;34m)\u001b[0m\u001b[0;34m\u001b[0m\u001b[0;34m\u001b[0m\u001b[0m\n\u001b[0m\u001b[1;32m   2927\u001b[0m \u001b[0;34m\u001b[0m\u001b[0m\n\u001b[1;32m   2928\u001b[0m \u001b[0;34m\u001b[0m\u001b[0m\n",
      "\u001b[0;31mKeyboardInterrupt\u001b[0m: "
     ]
    }
   ],
   "source": [
    "loss_threshold = 50\n",
    "trial = 0\n",
    "\n",
    "while(loss_threshold > 3.5):\n",
    "\n",
    "    model = MultiLayerPerceptron()\n",
    "\n",
    "    optimizer = pt.optim.SGD(model.parameters(), lr=0.1)\n",
    "\n",
    "    acc, losses = train_model(model, data, loss_ft, optimizer, num_epochs)\n",
    "\n",
    "    loss_threshold = losses[-1]\n",
    "\n",
    "    trial += 1\n",
    "\n",
    "    print(\"iteration {} -- loss {} -- accuracy {}\".format(trial, loss_threshold, acc))\n",
    "\n",
    "# print(f\"Training completed - final loss {loss} -- Accuracy {acc}\")"
   ]
  },
  {
   "source": [
    "We can inspect the weights by the following commands:"
   ],
   "cell_type": "markdown",
   "metadata": {}
  },
  {
   "cell_type": "code",
   "execution_count": 922,
   "metadata": {},
   "outputs": [
    {
     "output_type": "stream",
     "name": "stdout",
     "text": [
      "_h_layer.weight tensor([[ -2.4997,  -0.2569, -12.9795,  12.9461,   0.4338,   2.4755],\n        [  1.8697,  -0.7237,  -6.7383,   6.7925,   0.8795,  -1.9802]]) \n\n----------------\n_h_layer.bias tensor([-0.0856,  1.4894]) \n\n----------------\n_o_layer.weight tensor([[-10.8094,   5.2845]]) \n\n----------------\n_o_layer.bias tensor([-4.0356]) \n\n----------------\n"
     ]
    }
   ],
   "source": [
    "for par_name, par in model.state_dict().items():\n",
    "    print(par_name,par,'\\n')\n",
    "    print('----------------')"
   ]
  },
  {
   "cell_type": "code",
   "execution_count": null,
   "metadata": {},
   "outputs": [],
   "source": []
  },
  {
   "source": [
    "In addition, it is possible tom plot the computations of the loss function for the best model found:"
   ],
   "cell_type": "markdown",
   "metadata": {}
  },
  {
   "cell_type": "code",
   "execution_count": 883,
   "metadata": {},
   "outputs": [
    {
     "output_type": "display_data",
     "data": {
      "text/plain": "<Figure size 432x288 with 1 Axes>",
      "image/svg+xml": "<?xml version=\"1.0\" encoding=\"utf-8\" standalone=\"no\"?>\n<!DOCTYPE svg PUBLIC \"-//W3C//DTD SVG 1.1//EN\"\n  \"http://www.w3.org/Graphics/SVG/1.1/DTD/svg11.dtd\">\n<!-- Created with matplotlib (https://matplotlib.org/) -->\n<svg height=\"248.518125pt\" version=\"1.1\" viewBox=\"0 0 368.925 248.518125\" width=\"368.925pt\" xmlns=\"http://www.w3.org/2000/svg\" xmlns:xlink=\"http://www.w3.org/1999/xlink\">\n <metadata>\n  <rdf:RDF xmlns:cc=\"http://creativecommons.org/ns#\" xmlns:dc=\"http://purl.org/dc/elements/1.1/\" xmlns:rdf=\"http://www.w3.org/1999/02/22-rdf-syntax-ns#\">\n   <cc:Work>\n    <dc:type rdf:resource=\"http://purl.org/dc/dcmitype/StillImage\"/>\n    <dc:date>2021-03-25T18:04:05.403531</dc:date>\n    <dc:format>image/svg+xml</dc:format>\n    <dc:creator>\n     <cc:Agent>\n      <dc:title>Matplotlib v3.3.1, https://matplotlib.org/</dc:title>\n     </cc:Agent>\n    </dc:creator>\n   </cc:Work>\n  </rdf:RDF>\n </metadata>\n <defs>\n  <style type=\"text/css\">*{stroke-linecap:butt;stroke-linejoin:round;}</style>\n </defs>\n <g id=\"figure_1\">\n  <g id=\"patch_1\">\n   <path d=\"M -0 248.518125 \nL 368.925 248.518125 \nL 368.925 0 \nL -0 0 \nz\n\" style=\"fill:none;\"/>\n  </g>\n  <g id=\"axes_1\">\n   <g id=\"patch_2\">\n    <path d=\"M 26.925 224.64 \nL 361.725 224.64 \nL 361.725 7.2 \nL 26.925 7.2 \nz\n\" style=\"fill:#ffffff;\"/>\n   </g>\n   <g id=\"matplotlib.axis_1\">\n    <g id=\"xtick_1\">\n     <g id=\"line2d_1\">\n      <defs>\n       <path d=\"M 0 0 \nL 0 3.5 \n\" id=\"m12549f548d\" style=\"stroke:#000000;stroke-width:0.8;\"/>\n      </defs>\n      <g>\n       <use style=\"stroke:#000000;stroke-width:0.8;\" x=\"42.143182\" xlink:href=\"#m12549f548d\" y=\"224.64\"/>\n      </g>\n     </g>\n     <g id=\"text_1\">\n      <!-- 0 -->\n      <g transform=\"translate(38.961932 239.238437)scale(0.1 -0.1)\">\n       <defs>\n        <path d=\"M 31.78125 66.40625 \nQ 24.171875 66.40625 20.328125 58.90625 \nQ 16.5 51.421875 16.5 36.375 \nQ 16.5 21.390625 20.328125 13.890625 \nQ 24.171875 6.390625 31.78125 6.390625 \nQ 39.453125 6.390625 43.28125 13.890625 \nQ 47.125 21.390625 47.125 36.375 \nQ 47.125 51.421875 43.28125 58.90625 \nQ 39.453125 66.40625 31.78125 66.40625 \nz\nM 31.78125 74.21875 \nQ 44.046875 74.21875 50.515625 64.515625 \nQ 56.984375 54.828125 56.984375 36.375 \nQ 56.984375 17.96875 50.515625 8.265625 \nQ 44.046875 -1.421875 31.78125 -1.421875 \nQ 19.53125 -1.421875 13.0625 8.265625 \nQ 6.59375 17.96875 6.59375 36.375 \nQ 6.59375 54.828125 13.0625 64.515625 \nQ 19.53125 74.21875 31.78125 74.21875 \nz\n\" id=\"DejaVuSans-48\"/>\n       </defs>\n       <use xlink:href=\"#DejaVuSans-48\"/>\n      </g>\n     </g>\n    </g>\n    <g id=\"xtick_2\">\n     <g id=\"line2d_2\">\n      <g>\n       <use style=\"stroke:#000000;stroke-width:0.8;\" x=\"103.076843\" xlink:href=\"#m12549f548d\" y=\"224.64\"/>\n      </g>\n     </g>\n     <g id=\"text_2\">\n      <!-- 200 -->\n      <g transform=\"translate(93.533093 239.238437)scale(0.1 -0.1)\">\n       <defs>\n        <path d=\"M 19.1875 8.296875 \nL 53.609375 8.296875 \nL 53.609375 0 \nL 7.328125 0 \nL 7.328125 8.296875 \nQ 12.9375 14.109375 22.625 23.890625 \nQ 32.328125 33.6875 34.8125 36.53125 \nQ 39.546875 41.84375 41.421875 45.53125 \nQ 43.3125 49.21875 43.3125 52.78125 \nQ 43.3125 58.59375 39.234375 62.25 \nQ 35.15625 65.921875 28.609375 65.921875 \nQ 23.96875 65.921875 18.8125 64.3125 \nQ 13.671875 62.703125 7.8125 59.421875 \nL 7.8125 69.390625 \nQ 13.765625 71.78125 18.9375 73 \nQ 24.125 74.21875 28.421875 74.21875 \nQ 39.75 74.21875 46.484375 68.546875 \nQ 53.21875 62.890625 53.21875 53.421875 \nQ 53.21875 48.921875 51.53125 44.890625 \nQ 49.859375 40.875 45.40625 35.40625 \nQ 44.1875 33.984375 37.640625 27.21875 \nQ 31.109375 20.453125 19.1875 8.296875 \nz\n\" id=\"DejaVuSans-50\"/>\n       </defs>\n       <use xlink:href=\"#DejaVuSans-50\"/>\n       <use x=\"63.623047\" xlink:href=\"#DejaVuSans-48\"/>\n       <use x=\"127.246094\" xlink:href=\"#DejaVuSans-48\"/>\n      </g>\n     </g>\n    </g>\n    <g id=\"xtick_3\">\n     <g id=\"line2d_3\">\n      <g>\n       <use style=\"stroke:#000000;stroke-width:0.8;\" x=\"164.010504\" xlink:href=\"#m12549f548d\" y=\"224.64\"/>\n      </g>\n     </g>\n     <g id=\"text_3\">\n      <!-- 400 -->\n      <g transform=\"translate(154.466754 239.238437)scale(0.1 -0.1)\">\n       <defs>\n        <path d=\"M 37.796875 64.3125 \nL 12.890625 25.390625 \nL 37.796875 25.390625 \nz\nM 35.203125 72.90625 \nL 47.609375 72.90625 \nL 47.609375 25.390625 \nL 58.015625 25.390625 \nL 58.015625 17.1875 \nL 47.609375 17.1875 \nL 47.609375 0 \nL 37.796875 0 \nL 37.796875 17.1875 \nL 4.890625 17.1875 \nL 4.890625 26.703125 \nz\n\" id=\"DejaVuSans-52\"/>\n       </defs>\n       <use xlink:href=\"#DejaVuSans-52\"/>\n       <use x=\"63.623047\" xlink:href=\"#DejaVuSans-48\"/>\n       <use x=\"127.246094\" xlink:href=\"#DejaVuSans-48\"/>\n      </g>\n     </g>\n    </g>\n    <g id=\"xtick_4\">\n     <g id=\"line2d_4\">\n      <g>\n       <use style=\"stroke:#000000;stroke-width:0.8;\" x=\"224.944165\" xlink:href=\"#m12549f548d\" y=\"224.64\"/>\n      </g>\n     </g>\n     <g id=\"text_4\">\n      <!-- 600 -->\n      <g transform=\"translate(215.400415 239.238437)scale(0.1 -0.1)\">\n       <defs>\n        <path d=\"M 33.015625 40.375 \nQ 26.375 40.375 22.484375 35.828125 \nQ 18.609375 31.296875 18.609375 23.390625 \nQ 18.609375 15.53125 22.484375 10.953125 \nQ 26.375 6.390625 33.015625 6.390625 \nQ 39.65625 6.390625 43.53125 10.953125 \nQ 47.40625 15.53125 47.40625 23.390625 \nQ 47.40625 31.296875 43.53125 35.828125 \nQ 39.65625 40.375 33.015625 40.375 \nz\nM 52.59375 71.296875 \nL 52.59375 62.3125 \nQ 48.875 64.0625 45.09375 64.984375 \nQ 41.3125 65.921875 37.59375 65.921875 \nQ 27.828125 65.921875 22.671875 59.328125 \nQ 17.53125 52.734375 16.796875 39.40625 \nQ 19.671875 43.65625 24.015625 45.921875 \nQ 28.375 48.1875 33.59375 48.1875 \nQ 44.578125 48.1875 50.953125 41.515625 \nQ 57.328125 34.859375 57.328125 23.390625 \nQ 57.328125 12.15625 50.6875 5.359375 \nQ 44.046875 -1.421875 33.015625 -1.421875 \nQ 20.359375 -1.421875 13.671875 8.265625 \nQ 6.984375 17.96875 6.984375 36.375 \nQ 6.984375 53.65625 15.1875 63.9375 \nQ 23.390625 74.21875 37.203125 74.21875 \nQ 40.921875 74.21875 44.703125 73.484375 \nQ 48.484375 72.75 52.59375 71.296875 \nz\n\" id=\"DejaVuSans-54\"/>\n       </defs>\n       <use xlink:href=\"#DejaVuSans-54\"/>\n       <use x=\"63.623047\" xlink:href=\"#DejaVuSans-48\"/>\n       <use x=\"127.246094\" xlink:href=\"#DejaVuSans-48\"/>\n      </g>\n     </g>\n    </g>\n    <g id=\"xtick_5\">\n     <g id=\"line2d_5\">\n      <g>\n       <use style=\"stroke:#000000;stroke-width:0.8;\" x=\"285.877826\" xlink:href=\"#m12549f548d\" y=\"224.64\"/>\n      </g>\n     </g>\n     <g id=\"text_5\">\n      <!-- 800 -->\n      <g transform=\"translate(276.334076 239.238437)scale(0.1 -0.1)\">\n       <defs>\n        <path d=\"M 31.78125 34.625 \nQ 24.75 34.625 20.71875 30.859375 \nQ 16.703125 27.09375 16.703125 20.515625 \nQ 16.703125 13.921875 20.71875 10.15625 \nQ 24.75 6.390625 31.78125 6.390625 \nQ 38.8125 6.390625 42.859375 10.171875 \nQ 46.921875 13.96875 46.921875 20.515625 \nQ 46.921875 27.09375 42.890625 30.859375 \nQ 38.875 34.625 31.78125 34.625 \nz\nM 21.921875 38.8125 \nQ 15.578125 40.375 12.03125 44.71875 \nQ 8.5 49.078125 8.5 55.328125 \nQ 8.5 64.0625 14.71875 69.140625 \nQ 20.953125 74.21875 31.78125 74.21875 \nQ 42.671875 74.21875 48.875 69.140625 \nQ 55.078125 64.0625 55.078125 55.328125 \nQ 55.078125 49.078125 51.53125 44.71875 \nQ 48 40.375 41.703125 38.8125 \nQ 48.828125 37.15625 52.796875 32.3125 \nQ 56.78125 27.484375 56.78125 20.515625 \nQ 56.78125 9.90625 50.3125 4.234375 \nQ 43.84375 -1.421875 31.78125 -1.421875 \nQ 19.734375 -1.421875 13.25 4.234375 \nQ 6.78125 9.90625 6.78125 20.515625 \nQ 6.78125 27.484375 10.78125 32.3125 \nQ 14.796875 37.15625 21.921875 38.8125 \nz\nM 18.3125 54.390625 \nQ 18.3125 48.734375 21.84375 45.5625 \nQ 25.390625 42.390625 31.78125 42.390625 \nQ 38.140625 42.390625 41.71875 45.5625 \nQ 45.3125 48.734375 45.3125 54.390625 \nQ 45.3125 60.0625 41.71875 63.234375 \nQ 38.140625 66.40625 31.78125 66.40625 \nQ 25.390625 66.40625 21.84375 63.234375 \nQ 18.3125 60.0625 18.3125 54.390625 \nz\n\" id=\"DejaVuSans-56\"/>\n       </defs>\n       <use xlink:href=\"#DejaVuSans-56\"/>\n       <use x=\"63.623047\" xlink:href=\"#DejaVuSans-48\"/>\n       <use x=\"127.246094\" xlink:href=\"#DejaVuSans-48\"/>\n      </g>\n     </g>\n    </g>\n    <g id=\"xtick_6\">\n     <g id=\"line2d_6\">\n      <g>\n       <use style=\"stroke:#000000;stroke-width:0.8;\" x=\"346.811486\" xlink:href=\"#m12549f548d\" y=\"224.64\"/>\n      </g>\n     </g>\n     <g id=\"text_6\">\n      <!-- 1000 -->\n      <g transform=\"translate(334.086486 239.238437)scale(0.1 -0.1)\">\n       <defs>\n        <path d=\"M 12.40625 8.296875 \nL 28.515625 8.296875 \nL 28.515625 63.921875 \nL 10.984375 60.40625 \nL 10.984375 69.390625 \nL 28.421875 72.90625 \nL 38.28125 72.90625 \nL 38.28125 8.296875 \nL 54.390625 8.296875 \nL 54.390625 0 \nL 12.40625 0 \nz\n\" id=\"DejaVuSans-49\"/>\n       </defs>\n       <use xlink:href=\"#DejaVuSans-49\"/>\n       <use x=\"63.623047\" xlink:href=\"#DejaVuSans-48\"/>\n       <use x=\"127.246094\" xlink:href=\"#DejaVuSans-48\"/>\n       <use x=\"190.869141\" xlink:href=\"#DejaVuSans-48\"/>\n      </g>\n     </g>\n    </g>\n   </g>\n   <g id=\"matplotlib.axis_2\">\n    <g id=\"ytick_1\">\n     <g id=\"line2d_7\">\n      <defs>\n       <path d=\"M 0 0 \nL -3.5 0 \n\" id=\"m5974b13e00\" style=\"stroke:#000000;stroke-width:0.8;\"/>\n      </defs>\n      <g>\n       <use style=\"stroke:#000000;stroke-width:0.8;\" x=\"26.925\" xlink:href=\"#m5974b13e00\" y=\"215.119496\"/>\n      </g>\n     </g>\n     <g id=\"text_7\">\n      <!-- 0 -->\n      <g transform=\"translate(13.5625 218.918715)scale(0.1 -0.1)\">\n       <use xlink:href=\"#DejaVuSans-48\"/>\n      </g>\n     </g>\n    </g>\n    <g id=\"ytick_2\">\n     <g id=\"line2d_8\">\n      <g>\n       <use style=\"stroke:#000000;stroke-width:0.8;\" x=\"26.925\" xlink:href=\"#m5974b13e00\" y=\"172.222336\"/>\n      </g>\n     </g>\n     <g id=\"text_8\">\n      <!-- 20 -->\n      <g transform=\"translate(7.2 176.021555)scale(0.1 -0.1)\">\n       <use xlink:href=\"#DejaVuSans-50\"/>\n       <use x=\"63.623047\" xlink:href=\"#DejaVuSans-48\"/>\n      </g>\n     </g>\n    </g>\n    <g id=\"ytick_3\">\n     <g id=\"line2d_9\">\n      <g>\n       <use style=\"stroke:#000000;stroke-width:0.8;\" x=\"26.925\" xlink:href=\"#m5974b13e00\" y=\"129.325176\"/>\n      </g>\n     </g>\n     <g id=\"text_9\">\n      <!-- 40 -->\n      <g transform=\"translate(7.2 133.124395)scale(0.1 -0.1)\">\n       <use xlink:href=\"#DejaVuSans-52\"/>\n       <use x=\"63.623047\" xlink:href=\"#DejaVuSans-48\"/>\n      </g>\n     </g>\n    </g>\n    <g id=\"ytick_4\">\n     <g id=\"line2d_10\">\n      <g>\n       <use style=\"stroke:#000000;stroke-width:0.8;\" x=\"26.925\" xlink:href=\"#m5974b13e00\" y=\"86.428016\"/>\n      </g>\n     </g>\n     <g id=\"text_10\">\n      <!-- 60 -->\n      <g transform=\"translate(7.2 90.227235)scale(0.1 -0.1)\">\n       <use xlink:href=\"#DejaVuSans-54\"/>\n       <use x=\"63.623047\" xlink:href=\"#DejaVuSans-48\"/>\n      </g>\n     </g>\n    </g>\n    <g id=\"ytick_5\">\n     <g id=\"line2d_11\">\n      <g>\n       <use style=\"stroke:#000000;stroke-width:0.8;\" x=\"26.925\" xlink:href=\"#m5974b13e00\" y=\"43.530856\"/>\n      </g>\n     </g>\n     <g id=\"text_11\">\n      <!-- 80 -->\n      <g transform=\"translate(7.2 47.330075)scale(0.1 -0.1)\">\n       <use xlink:href=\"#DejaVuSans-56\"/>\n       <use x=\"63.623047\" xlink:href=\"#DejaVuSans-48\"/>\n      </g>\n     </g>\n    </g>\n   </g>\n   <g id=\"line2d_12\">\n    <path clip-path=\"url(#pd666cc3225)\" d=\"M 42.143182 17.083636 \nL 42.44785 19.902486 \nL 43.057187 21.410001 \nL 43.666523 21.8932 \nL 43.971192 21.85875 \nL 44.27586 22.072442 \nL 44.580528 21.893884 \nL 44.885197 22.257105 \nL 45.494533 22.370503 \nL 45.799201 26.344803 \nL 46.10387 24.789341 \nL 46.408538 24.777294 \nL 46.713206 25.840125 \nL 47.017875 27.963582 \nL 47.322543 28.831625 \nL 47.627211 25.620488 \nL 48.236548 28.967139 \nL 48.845885 30.532761 \nL 49.150553 30.106588 \nL 49.455221 34.278842 \nL 49.759889 32.748902 \nL 50.064558 33.447337 \nL 50.369226 35.415504 \nL 50.673894 38.195115 \nL 50.978563 38.288221 \nL 51.283231 40.832166 \nL 51.587899 52.281881 \nL 51.892568 46.647605 \nL 52.197236 43.501346 \nL 52.501904 50.417535 \nL 53.111241 56.377794 \nL 53.415909 56.934754 \nL 53.720577 62.478775 \nL 54.025246 73.325335 \nL 54.329914 68.418541 \nL 54.634582 79.397912 \nL 54.939251 80.136222 \nL 55.853256 92.987586 \nL 56.76726 102.821476 \nL 57.071929 104.649056 \nL 57.376597 108.217389 \nL 57.681265 109.283595 \nL 58.59527 117.262854 \nL 58.899939 118.060749 \nL 59.204607 119.615533 \nL 59.813943 123.840709 \nL 60.42328 126.878174 \nL 60.727948 125.116903 \nL 61.032617 126.576854 \nL 61.337285 129.025511 \nL 61.641953 129.821597 \nL 62.555958 133.241728 \nL 63.469963 135.682897 \nL 63.774631 136.052393 \nL 64.0793 136.711366 \nL 64.383968 136.90824 \nL 64.688636 138.555077 \nL 64.993305 138.529453 \nL 65.297973 138.89072 \nL 65.90731 140.252273 \nL 66.211978 141.149019 \nL 66.516646 140.581185 \nL 66.821314 141.546246 \nL 67.125983 140.895108 \nL 67.430651 141.863568 \nL 68.039988 141.340996 \nL 68.344656 142.033978 \nL 68.953993 141.576024 \nL 69.258661 142.534542 \nL 69.563329 142.211311 \nL 69.867998 141.602433 \nL 70.172666 142.623868 \nL 70.477334 142.240282 \nL 70.782002 141.603726 \nL 71.086671 143.515939 \nL 71.391339 148.159009 \nL 72.914681 150.957985 \nL 73.219349 151.263806 \nL 73.828686 152.239992 \nL 74.133354 152.457142 \nL 74.438022 149.917448 \nL 74.74269 154.320405 \nL 75.047359 151.224845 \nL 75.352027 156.136887 \nL 75.656695 152.628796 \nL 75.961364 157.784239 \nL 76.266032 153.856285 \nL 76.5707 158.983671 \nL 76.875369 154.82093 \nL 77.180037 160.156905 \nL 77.484705 155.524103 \nL 77.789373 161.064774 \nL 78.094042 156.261777 \nL 78.39871 161.714651 \nL 78.703378 156.88136 \nL 79.008047 161.593463 \nL 79.312715 162.448699 \nL 79.617383 157.795518 \nL 79.922052 157.807629 \nL 80.22672 162.53496 \nL 80.531388 163.30173 \nL 80.836057 157.746311 \nL 81.140725 163.491504 \nL 81.445393 157.942268 \nL 81.750061 164.307101 \nL 82.05473 158.99798 \nL 82.359398 158.896749 \nL 82.664066 164.523399 \nL 82.968735 159.574699 \nL 83.273403 159.456384 \nL 83.578071 164.422468 \nL 83.88274 165.184713 \nL 84.187408 159.955156 \nL 84.492076 159.887557 \nL 84.796744 164.881715 \nL 85.101413 165.692804 \nL 85.406081 160.226636 \nL 85.710749 160.113192 \nL 86.015418 165.331317 \nL 86.320086 160.377352 \nL 86.624754 160.895756 \nL 86.929423 165.953087 \nL 87.234091 161.072868 \nL 87.538759 160.943348 \nL 87.843428 165.728253 \nL 88.148096 166.2309 \nL 88.452764 161.120906 \nL 88.757432 161.993789 \nL 89.062101 166.8233 \nL 89.366769 161.738066 \nL 89.671437 161.613549 \nL 89.976106 166.520105 \nL 90.280774 162.309221 \nL 90.585442 167.24343 \nL 90.890111 162.196239 \nL 91.194779 162.105067 \nL 91.499447 167.170256 \nL 91.804115 162.876428 \nL 92.108784 162.657173 \nL 92.413452 167.31361 \nL 92.71812 162.841336 \nL 93.022789 163.322943 \nL 93.327457 167.743023 \nL 93.632125 162.992549 \nL 93.936794 168.010861 \nL 94.241462 163.519162 \nL 94.54613 168.415757 \nL 94.850799 163.483342 \nL 95.155467 163.890464 \nL 95.460135 163.824563 \nL 95.764803 168.426192 \nL 96.069472 164.234513 \nL 96.37414 164.251539 \nL 96.678808 168.756155 \nL 96.983477 162.281398 \nL 97.592813 167.994178 \nL 98.20215 170.98405 \nL 98.506818 166.363752 \nL 98.811486 172.131975 \nL 99.116155 167.653259 \nL 100.03016 169.436001 \nL 100.944165 171.549863 \nL 101.248833 175.592707 \nL 101.553501 172.684697 \nL 102.162838 173.683399 \nL 103.381511 176.085888 \nL 103.686179 178.822845 \nL 103.990848 177.033865 \nL 105.818857 179.991671 \nL 107.342199 182.568925 \nL 109.170209 185.737604 \nL 109.779545 186.687049 \nL 110.084214 184.167446 \nL 110.388882 183.304072 \nL 110.69355 184.105832 \nL 110.998219 185.574285 \nL 112.216892 187.539203 \nL 112.52156 185.709615 \nL 112.826229 190.167202 \nL 113.130897 188.124746 \nL 113.435565 191.401824 \nL 113.740233 192.707721 \nL 114.044902 192.424894 \nL 114.34957 193.993459 \nL 114.654238 192.577862 \nL 114.958907 194.785103 \nL 115.263575 195.713641 \nL 115.568243 194.58414 \nL 115.872912 196.648109 \nL 116.17758 195.636601 \nL 116.482248 196.966572 \nL 116.786916 197.634939 \nL 117.091585 196.704497 \nL 117.396253 197.797608 \nL 117.700921 197.964036 \nL 118.00559 197.508445 \nL 118.310258 198.537874 \nL 118.919595 198.689857 \nL 119.224263 198.266395 \nL 119.528931 198.712717 \nL 119.8336 199.441304 \nL 120.138268 199.554024 \nL 120.442936 199.097329 \nL 120.747604 199.763934 \nL 121.052273 199.849886 \nL 121.356941 199.499239 \nL 121.661609 200.270213 \nL 121.966278 199.867057 \nL 122.270946 200.375352 \nL 122.575614 200.446268 \nL 122.880283 200.156574 \nL 123.184951 200.52021 \nL 123.489619 201.21149 \nL 123.794287 200.834926 \nL 124.098956 200.769356 \nL 124.403624 201.143899 \nL 124.708292 201.047206 \nL 125.317629 201.608526 \nL 125.622297 201.566643 \nL 125.926966 201.807951 \nL 126.231634 201.765682 \nL 126.536302 201.9509 \nL 126.840971 202.591447 \nL 127.145639 201.978295 \nL 127.450307 202.226117 \nL 127.754975 202.228807 \nL 128.059644 202.433783 \nL 128.364312 202.449757 \nL 129.582985 203.018157 \nL 130.192322 203.217596 \nL 130.801658 203.452489 \nL 132.020332 203.919709 \nL 132.629668 204.115378 \nL 133.543673 204.42271 \nL 135.98102 205.183964 \nL 136.285688 205.005017 \nL 137.199693 205.332873 \nL 138.418366 205.776648 \nL 138.723034 205.92165 \nL 139.332371 206.030969 \nL 139.637039 206.687666 \nL 140.855713 207.200305 \nL 141.160381 207.246076 \nL 141.465049 207.470527 \nL 141.769717 207.505198 \nL 142.379054 207.831391 \nL 142.683722 207.858615 \nL 142.988391 208.084517 \nL 143.293059 208.012793 \nL 143.902396 208.196696 \nL 144.207064 208.088105 \nL 144.511732 208.426818 \nL 152.737776 210.917013 \nL 153.042445 210.906644 \nL 153.95645 211.189324 \nL 154.261118 211.175246 \nL 154.870455 211.36951 \nL 155.175123 211.356504 \nL 155.784459 211.537246 \nL 156.089128 211.523153 \nL 156.698464 211.701379 \nL 159.440479 212.062055 \nL 160.049816 212.128064 \nL 160.659152 212.194373 \nL 162.79183 212.412154 \nL 163.705835 212.453225 \nL 164.315172 212.55463 \nL 165.229177 212.585431 \nL 166.143182 212.698934 \nL 167.057187 212.726104 \nL 167.971192 212.828033 \nL 168.580528 212.864989 \nL 174.673894 213.197804 \nL 199.961364 213.894094 \nL 209.101413 214.045625 \nL 213.671437 214.101111 \nL 218.241462 214.163525 \nL 224.03016 214.22042 \nL 236.826229 214.334137 \nL 346.506818 214.756264 \nL 346.506818 214.756264 \n\" style=\"fill:none;stroke:#1f77b4;stroke-linecap:square;stroke-width:1.5;\"/>\n   </g>\n   <g id=\"patch_3\">\n    <path d=\"M 26.925 224.64 \nL 26.925 7.2 \n\" style=\"fill:none;stroke:#000000;stroke-linecap:square;stroke-linejoin:miter;stroke-width:0.8;\"/>\n   </g>\n   <g id=\"patch_4\">\n    <path d=\"M 361.725 224.64 \nL 361.725 7.2 \n\" style=\"fill:none;stroke:#000000;stroke-linecap:square;stroke-linejoin:miter;stroke-width:0.8;\"/>\n   </g>\n   <g id=\"patch_5\">\n    <path d=\"M 26.925 224.64 \nL 361.725 224.64 \n\" style=\"fill:none;stroke:#000000;stroke-linecap:square;stroke-linejoin:miter;stroke-width:0.8;\"/>\n   </g>\n   <g id=\"patch_6\">\n    <path d=\"M 26.925 7.2 \nL 361.725 7.2 \n\" style=\"fill:none;stroke:#000000;stroke-linecap:square;stroke-linejoin:miter;stroke-width:0.8;\"/>\n   </g>\n  </g>\n </g>\n <defs>\n  <clipPath id=\"pd666cc3225\">\n   <rect height=\"217.44\" width=\"334.8\" x=\"26.925\" y=\"7.2\"/>\n  </clipPath>\n </defs>\n</svg>\n",
      "image/png": "[encoded data removed]"
     },
     "metadata": {
      "needs_background": "light"
     }
    }
   ],
   "source": [
    "import matplotlib.pyplot as plt \n",
    "axis = [i for i in range(num_epochs)]\n",
    "_ = plt.plot(axis,losses)\n",
    "__ = plt.xlabel('epoch') \n",
    "___ = plt.ylabel('loss')"
   ]
  },
  {
   "source": [
    "Finally we proceed with the test on some other data, created in the same way as before."
   ],
   "cell_type": "markdown",
   "metadata": {}
  },
  {
   "cell_type": "code",
   "execution_count": 911,
   "metadata": {},
   "outputs": [],
   "source": [
    "X1_test = mirror_vectors(15,)\n",
    "X_test = data_creator(X1_test,X2_test)\n",
    "\n",
    "y_test = []\n",
    "for i in range(len(X_test)):\n",
    "    y_test.append(float(symmetry(X_test[i])))"
   ]
  },
  {
   "cell_type": "code",
   "execution_count": 913,
   "metadata": {},
   "outputs": [],
   "source": [
    "data_test = dataloader(X_test, y_test)"
   ]
  },
  {
   "cell_type": "code",
   "execution_count": 915,
   "metadata": {},
   "outputs": [
    {
     "output_type": "stream",
     "name": "stdout",
     "text": [
      "TESTING - loss 24.296983845328214 - Accuracy 0.84\n"
     ]
    }
   ],
   "source": [
    "test_model(model, data_test, loss_ft=pt.nn.MSELoss(reduction=\"sum\"))"
   ]
  }
 ]
}