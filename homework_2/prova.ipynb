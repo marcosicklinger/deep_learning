{
 "metadata": {
  "language_info": {
   "codemirror_mode": {
    "name": "ipython",
    "version": 3
   },
   "file_extension": ".py",
   "mimetype": "text/x-python",
   "name": "python",
   "nbconvert_exporter": "python",
   "pygments_lexer": "ipython3",
   "version": "3.8.5-final"
  },
  "orig_nbformat": 2,
  "kernelspec": {
   "name": "python3",
   "display_name": "Python 3",
   "language": "python"
  }
 },
 "nbformat": 4,
 "nbformat_minor": 2,
 "cells": [
  {
   "cell_type": "code",
   "execution_count": 1,
   "metadata": {},
   "outputs": [],
   "source": [
    "import torch"
   ]
  },
  {
   "cell_type": "code",
   "execution_count": 2,
   "metadata": {},
   "outputs": [],
   "source": [
    "torch.manual_seed(0)\n",
    "N = 100\n",
    "x = torch.rand(N,1)*5\n",
    "# Let the following command be the true function\n",
    "y = 2.3 + 5.1*x\n",
    "# Get some noisy observations\n",
    "y_obs = y + 0.2*torch.randn(N,1)"
   ]
  },
  {
   "cell_type": "code",
   "execution_count": 3,
   "metadata": {},
   "outputs": [],
   "source": [
    "w = torch.randn(1, requires_grad=True)\n",
    "b = torch.randn(1, requires_grad=True)"
   ]
  },
  {
   "cell_type": "code",
   "execution_count": 4,
   "metadata": {},
   "outputs": [],
   "source": [
    "gamma = 0.01"
   ]
  },
  {
   "cell_type": "code",
   "execution_count": 6,
   "metadata": {
    "tags": []
   },
   "outputs": [
    {
     "output_type": "stream",
     "name": "stdout",
     "text": [
      "0\nw: tensor([5.1093], requires_grad=True)\nb: tensor([2.2480], requires_grad=True)\nw.grad: tensor([0.0178])\nb.grad: tensor([-0.0574])\n1\nw: tensor([5.1092], requires_grad=True)\nb: tensor([2.2486], requires_grad=True)\nw.grad: tensor([0.0177])\nb.grad: tensor([-0.0571])\n2\nw: tensor([5.1090], requires_grad=True)\nb: tensor([2.2491], requires_grad=True)\nw.grad: tensor([0.0176])\nb.grad: tensor([-0.0568])\n3\nw: tensor([5.1088], requires_grad=True)\nb: tensor([2.2497], requires_grad=True)\nw.grad: tensor([0.0175])\nb.grad: tensor([-0.0565])\n4\nw: tensor([5.1086], requires_grad=True)\nb: tensor([2.2503], requires_grad=True)\nw.grad: tensor([0.0175])\nb.grad: tensor([-0.0563])\n5\nw: tensor([5.1084], requires_grad=True)\nb: tensor([2.2508], requires_grad=True)\nw.grad: tensor([0.0174])\nb.grad: tensor([-0.0560])\n6\nw: tensor([5.1083], requires_grad=True)\nb: tensor([2.2514], requires_grad=True)\nw.grad: tensor([0.0173])\nb.grad: tensor([-0.0557])\n7\nw: tensor([5.1081], requires_grad=True)\nb: tensor([2.2519], requires_grad=True)\nw.grad: tensor([0.0172])\nb.grad: tensor([-0.0554])\n8\nw: tensor([5.1079], requires_grad=True)\nb: tensor([2.2525], requires_grad=True)\nw.grad: tensor([0.0171])\nb.grad: tensor([-0.0552])\n9\nw: tensor([5.1078], requires_grad=True)\nb: tensor([2.2530], requires_grad=True)\nw.grad: tensor([0.0170])\nb.grad: tensor([-0.0549])\n10\nw: tensor([5.1076], requires_grad=True)\nb: tensor([2.2536], requires_grad=True)\nw.grad: tensor([0.0170])\nb.grad: tensor([-0.0546])\n11\nw: tensor([5.1074], requires_grad=True)\nb: tensor([2.2541], requires_grad=True)\nw.grad: tensor([0.0169])\nb.grad: tensor([-0.0544])\n12\nw: tensor([5.1073], requires_grad=True)\nb: tensor([2.2547], requires_grad=True)\nw.grad: tensor([0.0168])\nb.grad: tensor([-0.0541])\n13\nw: tensor([5.1071], requires_grad=True)\nb: tensor([2.2552], requires_grad=True)\nw.grad: tensor([0.0167])\nb.grad: tensor([-0.0538])\n14\nw: tensor([5.1069], requires_grad=True)\nb: tensor([2.2558], requires_grad=True)\nw.grad: tensor([0.0166])\nb.grad: tensor([-0.0536])\n15\nw: tensor([5.1067], requires_grad=True)\nb: tensor([2.2563], requires_grad=True)\nw.grad: tensor([0.0165])\nb.grad: tensor([-0.0533])\n16\nw: tensor([5.1066], requires_grad=True)\nb: tensor([2.2568], requires_grad=True)\nw.grad: tensor([0.0165])\nb.grad: tensor([-0.0531])\n17\nw: tensor([5.1064], requires_grad=True)\nb: tensor([2.2574], requires_grad=True)\nw.grad: tensor([0.0164])\nb.grad: tensor([-0.0528])\n18\nw: tensor([5.1063], requires_grad=True)\nb: tensor([2.2579], requires_grad=True)\nw.grad: tensor([0.0163])\nb.grad: tensor([-0.0526])\n19\nw: tensor([5.1061], requires_grad=True)\nb: tensor([2.2584], requires_grad=True)\nw.grad: tensor([0.0162])\nb.grad: tensor([-0.0523])\n20\nw: tensor([5.1059], requires_grad=True)\nb: tensor([2.2589], requires_grad=True)\nw.grad: tensor([0.0162])\nb.grad: tensor([-0.0520])\n21\nw: tensor([5.1058], requires_grad=True)\nb: tensor([2.2595], requires_grad=True)\nw.grad: tensor([0.0161])\nb.grad: tensor([-0.0518])\n22\nw: tensor([5.1056], requires_grad=True)\nb: tensor([2.2600], requires_grad=True)\nw.grad: tensor([0.0160])\nb.grad: tensor([-0.0515])\n23\nw: tensor([5.1054], requires_grad=True)\nb: tensor([2.2605], requires_grad=True)\nw.grad: tensor([0.0159])\nb.grad: tensor([-0.0513])\n24\nw: tensor([5.1053], requires_grad=True)\nb: tensor([2.2610], requires_grad=True)\nw.grad: tensor([0.0158])\nb.grad: tensor([-0.0510])\n25\nw: tensor([5.1051], requires_grad=True)\nb: tensor([2.2615], requires_grad=True)\nw.grad: tensor([0.0158])\nb.grad: tensor([-0.0508])\n26\nw: tensor([5.1050], requires_grad=True)\nb: tensor([2.2620], requires_grad=True)\nw.grad: tensor([0.0157])\nb.grad: tensor([-0.0506])\n27\nw: tensor([5.1048], requires_grad=True)\nb: tensor([2.2625], requires_grad=True)\nw.grad: tensor([0.0156])\nb.grad: tensor([-0.0503])\n28\nw: tensor([5.1047], requires_grad=True)\nb: tensor([2.2630], requires_grad=True)\nw.grad: tensor([0.0155])\nb.grad: tensor([-0.0501])\n29\nw: tensor([5.1045], requires_grad=True)\nb: tensor([2.2635], requires_grad=True)\nw.grad: tensor([0.0155])\nb.grad: tensor([-0.0498])\n30\nw: tensor([5.1043], requires_grad=True)\nb: tensor([2.2640], requires_grad=True)\nw.grad: tensor([0.0154])\nb.grad: tensor([-0.0496])\n31\nw: tensor([5.1042], requires_grad=True)\nb: tensor([2.2645], requires_grad=True)\nw.grad: tensor([0.0153])\nb.grad: tensor([-0.0493])\n32\nw: tensor([5.1040], requires_grad=True)\nb: tensor([2.2650], requires_grad=True)\nw.grad: tensor([0.0152])\nb.grad: tensor([-0.0491])\n33\nw: tensor([5.1039], requires_grad=True)\nb: tensor([2.2655], requires_grad=True)\nw.grad: tensor([0.0152])\nb.grad: tensor([-0.0489])\n34\nw: tensor([5.1037], requires_grad=True)\nb: tensor([2.2660], requires_grad=True)\nw.grad: tensor([0.0151])\nb.grad: tensor([-0.0486])\n35\nw: tensor([5.1036], requires_grad=True)\nb: tensor([2.2665], requires_grad=True)\nw.grad: tensor([0.0150])\nb.grad: tensor([-0.0484])\n36\nw: tensor([5.1034], requires_grad=True)\nb: tensor([2.2670], requires_grad=True)\nw.grad: tensor([0.0150])\nb.grad: tensor([-0.0482])\n37\nw: tensor([5.1033], requires_grad=True)\nb: tensor([2.2674], requires_grad=True)\nw.grad: tensor([0.0149])\nb.grad: tensor([-0.0479])\n38\nw: tensor([5.1031], requires_grad=True)\nb: tensor([2.2679], requires_grad=True)\nw.grad: tensor([0.0148])\nb.grad: tensor([-0.0477])\n39\nw: tensor([5.1030], requires_grad=True)\nb: tensor([2.2684], requires_grad=True)\nw.grad: tensor([0.0147])\nb.grad: tensor([-0.0475])\n40\nw: tensor([5.1028], requires_grad=True)\nb: tensor([2.2689], requires_grad=True)\nw.grad: tensor([0.0147])\nb.grad: tensor([-0.0472])\n41\nw: tensor([5.1027], requires_grad=True)\nb: tensor([2.2694], requires_grad=True)\nw.grad: tensor([0.0146])\nb.grad: tensor([-0.0470])\n42\nw: tensor([5.1026], requires_grad=True)\nb: tensor([2.2698], requires_grad=True)\nw.grad: tensor([0.0145])\nb.grad: tensor([-0.0468])\n43\nw: tensor([5.1024], requires_grad=True)\nb: tensor([2.2703], requires_grad=True)\nw.grad: tensor([0.0145])\nb.grad: tensor([-0.0465])\n44\nw: tensor([5.1023], requires_grad=True)\nb: tensor([2.2708], requires_grad=True)\nw.grad: tensor([0.0144])\nb.grad: tensor([-0.0463])\n45\nw: tensor([5.1021], requires_grad=True)\nb: tensor([2.2712], requires_grad=True)\nw.grad: tensor([0.0143])\nb.grad: tensor([-0.0461])\n46\nw: tensor([5.1020], requires_grad=True)\nb: tensor([2.2717], requires_grad=True)\nw.grad: tensor([0.0142])\nb.grad: tensor([-0.0459])\n47\nw: tensor([5.1018], requires_grad=True)\nb: tensor([2.2721], requires_grad=True)\nw.grad: tensor([0.0142])\nb.grad: tensor([-0.0457])\n48\nw: tensor([5.1017], requires_grad=True)\nb: tensor([2.2726], requires_grad=True)\nw.grad: tensor([0.0141])\nb.grad: tensor([-0.0454])\n49\nw: tensor([5.1015], requires_grad=True)\nb: tensor([2.2730], requires_grad=True)\nw.grad: tensor([0.0140])\nb.grad: tensor([-0.0452])\n50\nw: tensor([5.1014], requires_grad=True)\nb: tensor([2.2735], requires_grad=True)\nw.grad: tensor([0.0140])\nb.grad: tensor([-0.0450])\n51\nw: tensor([5.1013], requires_grad=True)\nb: tensor([2.2740], requires_grad=True)\nw.grad: tensor([0.0139])\nb.grad: tensor([-0.0448])\n52\nw: tensor([5.1011], requires_grad=True)\nb: tensor([2.2744], requires_grad=True)\nw.grad: tensor([0.0138])\nb.grad: tensor([-0.0446])\n53\nw: tensor([5.1010], requires_grad=True)\nb: tensor([2.2748], requires_grad=True)\nw.grad: tensor([0.0138])\nb.grad: tensor([-0.0443])\n54\nw: tensor([5.1009], requires_grad=True)\nb: tensor([2.2753], requires_grad=True)\nw.grad: tensor([0.0137])\nb.grad: tensor([-0.0441])\n55\nw: tensor([5.1007], requires_grad=True)\nb: tensor([2.2757], requires_grad=True)\nw.grad: tensor([0.0136])\nb.grad: tensor([-0.0439])\n56\nw: tensor([5.1006], requires_grad=True)\nb: tensor([2.2762], requires_grad=True)\nw.grad: tensor([0.0136])\nb.grad: tensor([-0.0437])\n57\nw: tensor([5.1004], requires_grad=True)\nb: tensor([2.2766], requires_grad=True)\nw.grad: tensor([0.0135])\nb.grad: tensor([-0.0435])\n58\nw: tensor([5.1003], requires_grad=True)\nb: tensor([2.2770], requires_grad=True)\nw.grad: tensor([0.0134])\nb.grad: tensor([-0.0433])\n59\nw: tensor([5.1002], requires_grad=True)\nb: tensor([2.2775], requires_grad=True)\nw.grad: tensor([0.0134])\nb.grad: tensor([-0.0431])\n60\nw: tensor([5.1000], requires_grad=True)\nb: tensor([2.2779], requires_grad=True)\nw.grad: tensor([0.0133])\nb.grad: tensor([-0.0429])\n61\nw: tensor([5.0999], requires_grad=True)\nb: tensor([2.2783], requires_grad=True)\nw.grad: tensor([0.0132])\nb.grad: tensor([-0.0427])\n62\nw: tensor([5.0998], requires_grad=True)\nb: tensor([2.2788], requires_grad=True)\nw.grad: tensor([0.0132])\nb.grad: tensor([-0.0425])\n63\nw: tensor([5.0996], requires_grad=True)\nb: tensor([2.2792], requires_grad=True)\nw.grad: tensor([0.0131])\nb.grad: tensor([-0.0422])\n64\nw: tensor([5.0995], requires_grad=True)\nb: tensor([2.2796], requires_grad=True)\nw.grad: tensor([0.0130])\nb.grad: tensor([-0.0420])\n65\nw: tensor([5.0994], requires_grad=True)\nb: tensor([2.2800], requires_grad=True)\nw.grad: tensor([0.0130])\nb.grad: tensor([-0.0418])\n66\nw: tensor([5.0993], requires_grad=True)\nb: tensor([2.2804], requires_grad=True)\nw.grad: tensor([0.0129])\nb.grad: tensor([-0.0416])\n67\nw: tensor([5.0991], requires_grad=True)\nb: tensor([2.2809], requires_grad=True)\nw.grad: tensor([0.0129])\nb.grad: tensor([-0.0414])\n68\nw: tensor([5.0990], requires_grad=True)\nb: tensor([2.2813], requires_grad=True)\nw.grad: tensor([0.0128])\nb.grad: tensor([-0.0412])\n69\nw: tensor([5.0989], requires_grad=True)\nb: tensor([2.2817], requires_grad=True)\nw.grad: tensor([0.0127])\nb.grad: tensor([-0.0410])\n70\nw: tensor([5.0987], requires_grad=True)\nb: tensor([2.2821], requires_grad=True)\nw.grad: tensor([0.0127])\nb.grad: tensor([-0.0408])\n71\nw: tensor([5.0986], requires_grad=True)\nb: tensor([2.2825], requires_grad=True)\nw.grad: tensor([0.0126])\nb.grad: tensor([-0.0406])\n72\nw: tensor([5.0985], requires_grad=True)\nb: tensor([2.2829], requires_grad=True)\nw.grad: tensor([0.0126])\nb.grad: tensor([-0.0404])\n73\nw: tensor([5.0984], requires_grad=True)\nb: tensor([2.2833], requires_grad=True)\nw.grad: tensor([0.0125])\nb.grad: tensor([-0.0402])\n74\nw: tensor([5.0982], requires_grad=True)\nb: tensor([2.2837], requires_grad=True)\nw.grad: tensor([0.0124])\nb.grad: tensor([-0.0400])\n75\nw: tensor([5.0981], requires_grad=True)\nb: tensor([2.2841], requires_grad=True)\nw.grad: tensor([0.0124])\nb.grad: tensor([-0.0399])\n76\nw: tensor([5.0980], requires_grad=True)\nb: tensor([2.2845], requires_grad=True)\nw.grad: tensor([0.0123])\nb.grad: tensor([-0.0397])\n77\nw: tensor([5.0979], requires_grad=True)\nb: tensor([2.2849], requires_grad=True)\nw.grad: tensor([0.0123])\nb.grad: tensor([-0.0395])\n78\nw: tensor([5.0977], requires_grad=True)\nb: tensor([2.2853], requires_grad=True)\nw.grad: tensor([0.0122])\nb.grad: tensor([-0.0393])\n79\nw: tensor([5.0976], requires_grad=True)\nb: tensor([2.2857], requires_grad=True)\nw.grad: tensor([0.0121])\nb.grad: tensor([-0.0391])\n80\nw: tensor([5.0975], requires_grad=True)\nb: tensor([2.2861], requires_grad=True)\nw.grad: tensor([0.0121])\nb.grad: tensor([-0.0389])\n81\nw: tensor([5.0974], requires_grad=True)\nb: tensor([2.2865], requires_grad=True)\nw.grad: tensor([0.0120])\nb.grad: tensor([-0.0387])\n82\nw: tensor([5.0973], requires_grad=True)\nb: tensor([2.2869], requires_grad=True)\nw.grad: tensor([0.0120])\nb.grad: tensor([-0.0385])\n83\nw: tensor([5.0971], requires_grad=True)\nb: tensor([2.2873], requires_grad=True)\nw.grad: tensor([0.0119])\nb.grad: tensor([-0.0383])\n84\nw: tensor([5.0970], requires_grad=True)\nb: tensor([2.2876], requires_grad=True)\nw.grad: tensor([0.0118])\nb.grad: tensor([-0.0382])\n85\nw: tensor([5.0969], requires_grad=True)\nb: tensor([2.2880], requires_grad=True)\nw.grad: tensor([0.0118])\nb.grad: tensor([-0.0380])\n86\nw: tensor([5.0968], requires_grad=True)\nb: tensor([2.2884], requires_grad=True)\nw.grad: tensor([0.0117])\nb.grad: tensor([-0.0378])\n87\nw: tensor([5.0967], requires_grad=True)\nb: tensor([2.2888], requires_grad=True)\nw.grad: tensor([0.0117])\nb.grad: tensor([-0.0376])\n88\nw: tensor([5.0966], requires_grad=True)\nb: tensor([2.2892], requires_grad=True)\nw.grad: tensor([0.0116])\nb.grad: tensor([-0.0374])\n89\nw: tensor([5.0964], requires_grad=True)\nb: tensor([2.2895], requires_grad=True)\nw.grad: tensor([0.0116])\nb.grad: tensor([-0.0372])\n90\nw: tensor([5.0963], requires_grad=True)\nb: tensor([2.2899], requires_grad=True)\nw.grad: tensor([0.0115])\nb.grad: tensor([-0.0371])\n91\nw: tensor([5.0962], requires_grad=True)\nb: tensor([2.2903], requires_grad=True)\nw.grad: tensor([0.0114])\nb.grad: tensor([-0.0369])\n92\nw: tensor([5.0961], requires_grad=True)\nb: tensor([2.2906], requires_grad=True)\nw.grad: tensor([0.0114])\nb.grad: tensor([-0.0367])\n93\nw: tensor([5.0960], requires_grad=True)\nb: tensor([2.2910], requires_grad=True)\nw.grad: tensor([0.0113])\nb.grad: tensor([-0.0365])\n94\nw: tensor([5.0959], requires_grad=True)\nb: tensor([2.2914], requires_grad=True)\nw.grad: tensor([0.0113])\nb.grad: tensor([-0.0363])\n95\nw: tensor([5.0957], requires_grad=True)\nb: tensor([2.2917], requires_grad=True)\nw.grad: tensor([0.0112])\nb.grad: tensor([-0.0362])\n96\nw: tensor([5.0956], requires_grad=True)\nb: tensor([2.2921], requires_grad=True)\nw.grad: tensor([0.0112])\nb.grad: tensor([-0.0360])\n97\nw: tensor([5.0955], requires_grad=True)\nb: tensor([2.2925], requires_grad=True)\nw.grad: tensor([0.0111])\nb.grad: tensor([-0.0358])\n98\nw: tensor([5.0954], requires_grad=True)\nb: tensor([2.2928], requires_grad=True)\nw.grad: tensor([0.0111])\nb.grad: tensor([-0.0356])\n99\nw: tensor([5.0953], requires_grad=True)\nb: tensor([2.2932], requires_grad=True)\nw.grad: tensor([0.0110])\nb.grad: tensor([-0.0355])\n"
     ]
    }
   ],
   "source": [
    "for i in range(100):\n",
    "    print(i)\n",
    "    # use new weight to calculate loss\n",
    "    y_pred = w * x + b\n",
    "    mse = torch.mean((y_pred - y_obs) ** 2)\n",
    "\n",
    "    # backward\n",
    "    mse.backward()\n",
    "    print('w:', w)\n",
    "    print('b:', b)\n",
    "    print('w.grad:', w.grad)\n",
    "    print('b.grad:', b.grad)\n",
    "\n",
    "    # gradient descent, don't track\n",
    "    with torch.no_grad():\n",
    "        w = w - gamma * w.grad\n",
    "        b = b - gamma * b.grad\n",
    "    w.requires_grad = True\n",
    "    b.requires_grad = True"
   ]
  },
  {
   "cell_type": "code",
   "execution_count": null,
   "metadata": {},
   "outputs": [],
   "source": []
  }
 ]
}