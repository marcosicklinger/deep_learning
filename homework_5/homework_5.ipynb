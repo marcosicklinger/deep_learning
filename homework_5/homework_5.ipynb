{
 "metadata": {
  "language_info": {
   "codemirror_mode": {
    "name": "ipython",
    "version": 3
   },
   "file_extension": ".py",
   "mimetype": "text/x-python",
   "name": "python",
   "nbconvert_exporter": "python",
   "pygments_lexer": "ipython3",
   "version": "3.8.5-final"
  },
  "orig_nbformat": 2,
  "kernelspec": {
   "name": "python38564bit6bfc133e9737495b83ae1f902c3270be",
   "display_name": "Python 3.8.5 64-bit"
  },
  "metadata": {
   "interpreter": {
    "hash": "31f2aee4e71d21fbe5cf8b01ff0e069b9275f58929596ceb00d14d90e3e16cd6"
   }
  }
 },
 "nbformat": 4,
 "nbformat_minor": 2,
 "cells": [
  {
   "source": [
    "# Homework 5\n",
    "### Marco Sicklinger, April 2021"
   ],
   "cell_type": "markdown",
   "metadata": {}
  },
  {
   "source": [
    "### Packages & modules"
   ],
   "cell_type": "markdown",
   "metadata": {}
  },
  {
   "cell_type": "code",
   "execution_count": 4,
   "metadata": {},
   "outputs": [],
   "source": [
    "import torch\n",
    "from scripts import mnist, train_utils, architectures, train\n",
    "from scripts.train_utils import accuracy, AverageMeter\n",
    "from scripts.torch_utils import use_gpu_if_possible"
   ]
  },
  {
   "source": [
    "## Enhancement of the `magnitude_pruning` routine"
   ],
   "cell_type": "markdown",
   "metadata": {}
  },
  {
   "source": [
    "First we define the network we want to work with:"
   ],
   "cell_type": "markdown",
   "metadata": {}
  },
  {
   "cell_type": "code",
   "execution_count": 5,
   "metadata": {},
   "outputs": [],
   "source": [
    "layers = [\n",
    "    {\"n_in\": 784, \"n_out\": 16, \"batchnorm\": False},\n",
    "    {\"n_out\": 32, \"batchnorm\": True},\n",
    "    {\"n_out\": 64, \"batchnorm\": True},\n",
    "    {\"n_out\": 10, \"batchnorm\": True}\n",
    "]\n",
    "net = architectures.MLPCustom(layers)"
   ]
  },
  {
   "cell_type": "code",
   "execution_count": 6,
   "metadata": {},
   "outputs": [
    {
     "output_type": "stream",
     "name": "stdout",
     "text": [
      "layers.1.weight torch.Size([16, 784])\nlayers.1.bias torch.Size([16])\nlayers.3.weight torch.Size([16])\nlayers.3.bias torch.Size([16])\nlayers.4.weight torch.Size([32, 16])\nlayers.4.bias torch.Size([32])\nlayers.6.weight torch.Size([32])\nlayers.6.bias torch.Size([32])\nlayers.7.weight torch.Size([64, 32])\nlayers.7.bias torch.Size([64])\nlayers.9.weight torch.Size([64])\nlayers.9.bias torch.Size([64])\nlayers.10.weight torch.Size([10, 64])\nlayers.10.bias torch.Size([10])\n"
     ]
    }
   ],
   "source": [
    "for par in net.named_parameters():\n",
    "    print(par[0], par[1].shape)"
   ]
  },
  {
   "source": [
    "In order to make consecutive calls of the `magnitude_pruning` function sensible, it is necessary to insert a procedure according to which the values of the already pruned parameters are not considered when compunting a new threshold, which will be used in a new pruning step. I implemented this idea by removing from the distribution of the parameters' elements of the model those elements that were set to zero during the previous pruning step, so that only the distribution of the non-pruned parameters remains."
   ],
   "cell_type": "markdown",
   "metadata": {}
  },
  {
   "cell_type": "code",
   "execution_count": 7,
   "metadata": {},
   "outputs": [],
   "source": [
    "def magnitude_pruning(model, pruning_rate, old_mask=None, layers_to_prune=[\"1\",\"4\",\"7\",\"10\"]):\n",
    "    # 0. parameters to be pruned\n",
    "    pars_to_prune = [pars for pars in model.named_parameters() if any([l in pars[0] for l in layers_to_prune])] \n",
    "    # 1. vectorize distribution of abs(parameter)\n",
    "    flat = torch.cat([pars[1].abs().flatten() for pars in pars_to_prune], dim=0)\n",
    "    # 1b. if current pruning process is not the first of a sequence of pruning processes,\n",
    "    #     remove all elements (parameters' elements) that have been already pruned, so that\n",
    "    #     the process of choosing the threshold can rely on the non-zero elements only \n",
    "    if old_mask is not None:\n",
    "        flat = flat[flat.nonzero()].reshape(flat[flat.nonzero()].shape[0])\n",
    "    # 2. sort this distribution\n",
    "    flat = flat.sort()[0]\n",
    "    # 3. obtain the threshold\n",
    "    position = int(pruning_rate*flat.shape[0])\n",
    "    thresh = flat[position]\n",
    "    # 4. binarize the parameters & 5. compose these booleans into the mask\n",
    "    mask = [torch.where(pars[1].abs() >= thresh, torch.ones(pars[1].shape), torch.zeros(pars[1].shape)) for pars in pars_to_prune]\n",
    "    # 6. obtain the new structure of parameters\n",
    "    for pars, m in zip(pars_to_prune, mask):\n",
    "        pars[1].data *= m\n",
    "    # 7. what do we need to return? we need to store the mask\n",
    "    return mask, pars_to_prune"
   ]
  },
  {
   "source": [
    "### First check "
   ],
   "cell_type": "markdown",
   "metadata": {}
  },
  {
   "source": [
    "In this section we check if the implementation of the enhanced `magnitude_pruning` routine runs and its results make sense. Consider the following pruning rate"
   ],
   "cell_type": "markdown",
   "metadata": {}
  },
  {
   "cell_type": "code",
   "execution_count": 8,
   "metadata": {},
   "outputs": [],
   "source": [
    "pruning_rate = 0.2"
   ]
  },
  {
   "source": [
    "By applying the `magnitude_pruning` function, it is possible to observe that the computed masks are compatible (in terms of sizes) with the model parameters that the user wants to prune."
   ],
   "cell_type": "markdown",
   "metadata": {}
  },
  {
   "cell_type": "code",
   "execution_count": 9,
   "metadata": {
    "tags": []
   },
   "outputs": [
    {
     "output_type": "stream",
     "name": "stdout",
     "text": [
      "par:  torch.Size([16, 784])  m:  torch.Size([16, 784]) \n\npar:  torch.Size([16])  m:  torch.Size([16]) \n\npar:  torch.Size([32, 16])  m:  torch.Size([32, 16]) \n\npar:  torch.Size([32])  m:  torch.Size([32]) \n\npar:  torch.Size([64, 32])  m:  torch.Size([64, 32]) \n\npar:  torch.Size([64])  m:  torch.Size([64]) \n\npar:  torch.Size([10, 64])  m:  torch.Size([10, 64]) \n\npar:  torch.Size([10])  m:  torch.Size([10]) \n\n"
     ]
    }
   ],
   "source": [
    "mask_1, pars_to_prune = magnitude_pruning(net, pruning_rate)\n",
    "for par,m in zip(pars_to_prune,mask_1):\n",
    "    print('par: ', par[1].shape, ' m: ',m.shape,'\\n')"
   ]
  },
  {
   "cell_type": "code",
   "execution_count": 10,
   "metadata": {},
   "outputs": [
    {
     "output_type": "stream",
     "name": "stdout",
     "text": [
      "par:  torch.Size([16, 784])  m:  torch.Size([16, 784]) \n\npar:  torch.Size([16])  m:  torch.Size([16]) \n\npar:  torch.Size([32, 16])  m:  torch.Size([32, 16]) \n\npar:  torch.Size([32])  m:  torch.Size([32]) \n\npar:  torch.Size([64, 32])  m:  torch.Size([64, 32]) \n\npar:  torch.Size([64])  m:  torch.Size([64]) \n\npar:  torch.Size([10, 64])  m:  torch.Size([10, 64]) \n\npar:  torch.Size([10])  m:  torch.Size([10]) \n\n"
     ]
    }
   ],
   "source": [
    "mask_2, pars_to_prune = magnitude_pruning(net, pruning_rate, old_mask=mask_1)\n",
    "for par,m in zip(pars_to_prune,mask_2):\n",
    "    print('par: ', par[1].shape, ' m: ',m.shape,'\\n')"
   ]
  },
  {
   "source": [
    "In order to check if the second application of `magnitude_prunig` has given a different mask (meaning, a mask that is going to \"shadow\" more parameters' elements of the previous one), we define a function that counts the number of zero elements of a pytorch tensor. "
   ],
   "cell_type": "markdown",
   "metadata": {}
  },
  {
   "cell_type": "code",
   "execution_count": 11,
   "metadata": {},
   "outputs": [],
   "source": [
    "def count_zeros(Tensor):\n",
    "    zeros = torch.sum(Tensor == 0).item()\n",
    "    return zeros"
   ]
  },
  {
   "source": [
    "Then we compute the number of zeros in the two computed masks."
   ],
   "cell_type": "markdown",
   "metadata": {}
  },
  {
   "cell_type": "code",
   "execution_count": 12,
   "metadata": {},
   "outputs": [
    {
     "output_type": "stream",
     "name": "stdout",
     "text": [
      "zeros in mask 1:  3173 | --- | zeros in mask 2:  5711\n"
     ]
    }
   ],
   "source": [
    "zeros_mask_1 = 0\n",
    "zeros_mask_2 = 0\n",
    "for m1, m2 in zip(mask_1, mask_2):\n",
    "    zeros_mask_1 += count_zeros(m1)\n",
    "    zeros_mask_2 += count_zeros(m2)\n",
    "print('zeros in mask 1: ',zeros_mask_1 , '| --- |', 'zeros in mask 2: ', zeros_mask_2)"
   ]
  },
  {
   "source": [
    "**Observation:** The total number of parameters that are to be pruned is $15866$. We set the pruning rate at $20%$ and, indeed, the pruned parameters are the integer part of $15866\\cdot0.2$, that is $3173$.\n",
    "The remaining are $15866-3173=12693$. Pruning again takes out $5711-3173=2538$ elements, which is actually the integer part of the $20\\%$ fo $12693$."
   ],
   "cell_type": "markdown",
   "metadata": {}
  },
  {
   "source": [
    "## Second check, with training"
   ],
   "cell_type": "markdown",
   "metadata": {}
  },
  {
   "source": [
    "Let's consider the previous model, pre-trained on the 'MNIST' dataset."
   ],
   "cell_type": "markdown",
   "metadata": {}
  },
  {
   "cell_type": "code",
   "execution_count": 243,
   "metadata": {},
   "outputs": [],
   "source": [
    "layers = [\n",
    "    {\"n_in\": 784, \"n_out\": 16, \"batchnorm\": False},\n",
    "    {\"n_out\": 32, \"batchnorm\": True},\n",
    "    {\"n_out\": 64, \"batchnorm\": True},\n",
    "    {\"n_out\": 10, \"batchnorm\": True}\n",
    "]\n",
    "net = architectures.MLPCustom(layers)"
   ]
  },
  {
   "cell_type": "code",
   "execution_count": 244,
   "metadata": {},
   "outputs": [],
   "source": [
    "trainloader, testloader, _, _ = mnist.get_data()\n",
    "loss_fn = torch.nn.CrossEntropyLoss()"
   ]
  },
  {
   "cell_type": "code",
   "execution_count": 245,
   "metadata": {},
   "outputs": [
    {
     "output_type": "stream",
     "name": "stdout",
     "text": [
      "TESTING - loss 7349.624578475952 - performance 0.9631333333333333\n"
     ]
    },
    {
     "output_type": "execute_result",
     "data": {
      "text/plain": [
       "(7349.624578475952, 0.9631333333333333)"
      ]
     },
     "metadata": {},
     "execution_count": 245
    }
   ],
   "source": [
    "# load pretrained model\n",
    "state_dict = torch.load(\"models_push/mlp_custom_mnist/mlp_custom_mnist.pt\")\n",
    "net.load_state_dict(state_dict)\n",
    "train.test_model(net, testloader, loss_fn=loss_fn)"
   ]
  },
  {
   "source": [
    "The `train_epoch` and `train_model` function have been suitably modified in order to take as an additional parameter the list of parameters that are to be pruned, so that it is possible to avoid that also pruned elements are trained (inside `train_epoch` routine). The aforementioned parameter is set to `None` by default, but one can pass the wanted list of parameters that is returned by the `magnitude_pruning` function."
   ],
   "cell_type": "markdown",
   "metadata": {}
  },
  {
   "cell_type": "code",
   "execution_count": 20,
   "metadata": {},
   "outputs": [],
   "source": [
    "def train_epoch(model, dataloader, loss_fn, optimizer, loss_meter, performance_meter, performance, device, mask, pars_to_prune):\n",
    "    for X, y in dataloader:\n",
    "        X = X.to(device)\n",
    "        y = y.to(device)\n",
    "\n",
    "        optimizer.zero_grad() \n",
    "\n",
    "        y_hat = model(X)\n",
    "\n",
    "        loss = loss_fn(y_hat, y)\n",
    "\n",
    "        loss.backward()\n",
    "\n",
    "        ##### we must neutralize the gradient on the pruned params before the optimizer takes a step ####\n",
    "\n",
    "        if mask is not None:\n",
    "            for pars, m in zip(pars_to_prune, mask):\n",
    "                pars[1].grad *= m\n",
    "\n",
    "        ######\n",
    "\n",
    "        optimizer.step()\n",
    "\n",
    "        acc = performance(y_hat, y)\n",
    "\n",
    "        loss_meter.update(val=loss.item(), n=X.shape[0])\n",
    "        performance_meter.update(val=acc, n=X.shape[0])"
   ]
  },
  {
   "cell_type": "code",
   "execution_count": 21,
   "metadata": {},
   "outputs": [],
   "source": [
    "def train_model(model, dataloader, loss_fn, optimizer, num_epochs, checkpoint_loc=None, checkpoint_name=\"checkpoint.pt\", performance=accuracy, lr_scheduler=None, device=None, mask=None, pars_to_prune=None):\n",
    "    if checkpoint_loc is not None:\n",
    "        os.makedirs(checkpoint_loc, exist_ok=True)\n",
    "\n",
    "    if device is None:\n",
    "        device = use_gpu_if_possible()\n",
    "    \n",
    "    model = model.to(device)\n",
    "    model.train()\n",
    "\n",
    "    for epoch in range(num_epochs):\n",
    "        loss_meter = AverageMeter()\n",
    "        performance_meter = AverageMeter()\n",
    "\n",
    "        print(f\"Epoch {epoch+1} --- learning rate {optimizer.param_groups[0]['lr']:.5f}\")\n",
    "\n",
    "        train_epoch(model, dataloader, loss_fn, optimizer, loss_meter, performance_meter, performance, device, mask, pars_to_prune)\n",
    "\n",
    "        print(f\"Epoch {epoch+1} completed. Loss - total: {loss_meter.sum} - average: {loss_meter.avg}; Performance: {performance_meter.avg}\")\n",
    "\n",
    "        if checkpoint_name is not None and checkpoint_loc is not None:\n",
    "            checkpoint_dict = {\n",
    "                \"parameters\": model.state_dict(),\n",
    "                \"optimizer\": optimizer.state_dict(),\n",
    "                \"epoch\": epoch\n",
    "            }\n",
    "            torch.save(checkpoint_dict, os.path.join(checkpoint_loc, checkpoint_name))\n",
    "        \n",
    "        if lr_scheduler is not None:\n",
    "            lr_scheduler.step()\n",
    "\n",
    "    return loss_meter.sum, performance_meter.avg"
   ]
  },
  {
   "cell_type": "code",
   "execution_count": 248,
   "metadata": {},
   "outputs": [],
   "source": [
    "learning_rate = 0.01\n",
    "num_epochs = 10\n",
    "optimizer = torch.optim.Adam(net.parameters(), lr = learning_rate)"
   ]
  },
  {
   "cell_type": "code",
   "execution_count": 249,
   "metadata": {},
   "outputs": [],
   "source": [
    "pruning_rate = 0.2\n",
    "mask, pars_to_prune = magnitude_pruning(net, pruning_rate)"
   ]
  },
  {
   "cell_type": "code",
   "execution_count": 250,
   "metadata": {},
   "outputs": [
    {
     "output_type": "stream",
     "name": "stdout",
     "text": [
      "zeros in first mask:  3173\n"
     ]
    }
   ],
   "source": [
    "# counting of zeros at the \"starting point\" mask\n",
    "zeros_mask_first = 0\n",
    "for m in mask:\n",
    "    zeros_mask_first += count_zeros(m)\n",
    "print('zeros in first mask: ', zeros_mask_first)"
   ]
  },
  {
   "cell_type": "code",
   "execution_count": 251,
   "metadata": {},
   "outputs": [
    {
     "output_type": "stream",
     "name": "stdout",
     "text": [
      "Epoch 1 --- learning rate 0.01000\n",
      "Epoch 1 completed. Loss - total: 12338.451662063599 - average: 0.2056408610343933; Performance: 0.9370166666666667\n",
      "Epoch 2 --- learning rate 0.01000\n",
      "Epoch 2 completed. Loss - total: 9092.570098400116 - average: 0.15154283497333526; Performance: 0.95355\n",
      "Epoch 3 --- learning rate 0.01000\n",
      "Epoch 3 completed. Loss - total: 8026.804535150528 - average: 0.13378007558584212; Performance: 0.9583166666666667\n",
      "Epoch 4 --- learning rate 0.01000\n",
      "Epoch 4 completed. Loss - total: 7246.538192749023 - average: 0.12077563654581706; Performance: 0.9623166666666667\n",
      "Epoch 5 --- learning rate 0.01000\n",
      "Epoch 5 completed. Loss - total: 6583.903876066208 - average: 0.10973173126777012; Performance: 0.9653166666666667\n",
      "Epoch 6 --- learning rate 0.01000\n",
      "Epoch 6 completed. Loss - total: 6213.696259975433 - average: 0.10356160433292388; Performance: 0.9672333333333333\n",
      "Epoch 7 --- learning rate 0.01000\n",
      "Epoch 7 completed. Loss - total: 5983.215481758118 - average: 0.09972025802930196; Performance: 0.9677166666666667\n",
      "Epoch 8 --- learning rate 0.01000\n",
      "Epoch 8 completed. Loss - total: 5520.336069345474 - average: 0.0920056011557579; Performance: 0.97055\n",
      "Epoch 9 --- learning rate 0.01000\n",
      "Epoch 9 completed. Loss - total: 5431.373679637909 - average: 0.09052289466063182; Performance: 0.9702666666666667\n",
      "Epoch 10 --- learning rate 0.01000\n",
      "Epoch 10 completed. Loss - total: 5141.798481464386 - average: 0.08569664135773977; Performance: 0.9724833333333334\n",
      "zeros in final mask:  5711\n",
      "Iteration 1 completed\n",
      "----------------------\n",
      "Epoch 1 --- learning rate 0.01000\n",
      "Epoch 1 completed. Loss - total: 4769.0223960876465 - average: 0.07948370660146077; Performance: 0.9739666666666666\n",
      "Epoch 2 --- learning rate 0.01000\n",
      "Epoch 2 completed. Loss - total: 4615.686429738998 - average: 0.07692810716231664; Performance: 0.9747666666666667\n",
      "Epoch 3 --- learning rate 0.01000\n",
      "Epoch 3 completed. Loss - total: 4338.268629074097 - average: 0.07230447715123495; Performance: 0.9768166666666667\n",
      "Epoch 4 --- learning rate 0.01000\n",
      "Epoch 4 completed. Loss - total: 4462.364785909653 - average: 0.07437274643182755; Performance: 0.9756\n",
      "Epoch 5 --- learning rate 0.01000\n",
      "Epoch 5 completed. Loss - total: 4209.352269649506 - average: 0.0701558711608251; Performance: 0.9772166666666666\n",
      "Epoch 6 --- learning rate 0.01000\n",
      "Epoch 6 completed. Loss - total: 4281.078815579414 - average: 0.07135131359299024; Performance: 0.9761833333333333\n",
      "Epoch 7 --- learning rate 0.01000\n",
      "Epoch 7 completed. Loss - total: 4089.7278348207474 - average: 0.06816213058034579; Performance: 0.9778666666666667\n",
      "Epoch 8 --- learning rate 0.01000\n",
      "Epoch 8 completed. Loss - total: 4048.493574857712 - average: 0.06747489291429519; Performance: 0.9778\n",
      "Epoch 9 --- learning rate 0.01000\n",
      "Epoch 9 completed. Loss - total: 3996.4534549713135 - average: 0.06660755758285522; Performance: 0.9776666666666667\n",
      "Epoch 10 --- learning rate 0.01000\n",
      "Epoch 10 completed. Loss - total: 3861.0868156552315 - average: 0.0643514469275872; Performance: 0.9790833333333333\n",
      "zeros in final mask:  6563\n",
      "Iteration 2 completed\n",
      "----------------------\n",
      "Epoch 1 --- learning rate 0.01000\n",
      "Epoch 1 completed. Loss - total: 3603.8146238327026 - average: 0.060063577063878375; Performance: 0.98\n",
      "Epoch 2 --- learning rate 0.01000\n",
      "Epoch 2 completed. Loss - total: 3698.955237388611 - average: 0.06164925395647685; Performance: 0.97935\n",
      "Epoch 3 --- learning rate 0.01000\n",
      "Epoch 3 completed. Loss - total: 3612.5776904821396 - average: 0.06020962817470232; Performance: 0.9795666666666667\n",
      "Epoch 4 --- learning rate 0.01000\n",
      "Epoch 4 completed. Loss - total: 3536.8640604019165 - average: 0.05894773434003194; Performance: 0.9803666666666667\n",
      "Epoch 5 --- learning rate 0.01000\n",
      "Epoch 5 completed. Loss - total: 3401.6512138843536 - average: 0.05669418689807256; Performance: 0.9808333333333333\n",
      "Epoch 6 --- learning rate 0.01000\n",
      "Epoch 6 completed. Loss - total: 3612.9230173826218 - average: 0.0602153836230437; Performance: 0.9802833333333333\n",
      "Epoch 7 --- learning rate 0.01000\n",
      "Epoch 7 completed. Loss - total: 3358.9219877123833 - average: 0.05598203312853972; Performance: 0.9809333333333333\n",
      "Epoch 8 --- learning rate 0.01000\n",
      "Epoch 8 completed. Loss - total: 3289.872266829014 - average: 0.05483120444715023; Performance: 0.9823166666666666\n",
      "Epoch 9 --- learning rate 0.01000\n",
      "Epoch 9 completed. Loss - total: 3067.78070127964 - average: 0.05112967835466067; Performance: 0.98245\n",
      "Epoch 10 --- learning rate 0.01000\n",
      "Epoch 10 completed. Loss - total: 3369.6589679718018 - average: 0.05616098279953003; Performance: 0.981\n",
      "zeros in final mask:  7780\n",
      "Iteration 3 completed\n",
      "----------------------\n",
      "Epoch 1 --- learning rate 0.01000\n",
      "Epoch 1 completed. Loss - total: 3154.2588379383087 - average: 0.05257098063230514; Performance: 0.9821166666666666\n",
      "Epoch 2 --- learning rate 0.01000\n",
      "Epoch 2 completed. Loss - total: 2986.829732656479 - average: 0.04978049554427465; Performance: 0.9831\n",
      "Epoch 3 --- learning rate 0.01000\n",
      "Epoch 3 completed. Loss - total: 2774.483656525612 - average: 0.04624139427542687; Performance: 0.984\n",
      "Epoch 4 --- learning rate 0.01000\n",
      "Epoch 4 completed. Loss - total: 2870.745266199112 - average: 0.047845754436651865; Performance: 0.9834666666666667\n",
      "Epoch 5 --- learning rate 0.01000\n",
      "Epoch 5 completed. Loss - total: 2886.156112074852 - average: 0.0481026018679142; Performance: 0.9837166666666667\n",
      "Epoch 6 --- learning rate 0.01000\n",
      "Epoch 6 completed. Loss - total: 2809.324957728386 - average: 0.04682208262880643; Performance: 0.9845666666666667\n",
      "Epoch 7 --- learning rate 0.01000\n",
      "Epoch 7 completed. Loss - total: 2712.550765275955 - average: 0.04520917942126592; Performance: 0.9842333333333333\n",
      "Epoch 8 --- learning rate 0.01000\n",
      "Epoch 8 completed. Loss - total: 2667.544046998024 - average: 0.04445906744996707; Performance: 0.9849166666666667\n",
      "Epoch 9 --- learning rate 0.01000\n",
      "Epoch 9 completed. Loss - total: 2688.647341609001 - average: 0.044810789026816684; Performance: 0.9847666666666667\n",
      "Epoch 10 --- learning rate 0.01000\n",
      "Epoch 10 completed. Loss - total: 2728.08156478405 - average: 0.045468026079734165; Performance: 0.9844\n",
      "zeros in final mask:  8423\n",
      "Iteration 4 completed\n",
      "----------------------\n",
      "Epoch 1 --- learning rate 0.01000\n",
      "Epoch 1 completed. Loss - total: 2763.1036744117737 - average: 0.0460517279068629; Performance: 0.9842\n",
      "Epoch 2 --- learning rate 0.01000\n",
      "Epoch 2 completed. Loss - total: 2636.9335681200027 - average: 0.043948892802000046; Performance: 0.9848\n",
      "Epoch 3 --- learning rate 0.01000\n",
      "Epoch 3 completed. Loss - total: 2499.662540912628 - average: 0.0416610423485438; Performance: 0.9859166666666667\n",
      "Epoch 4 --- learning rate 0.01000\n",
      "Epoch 4 completed. Loss - total: 2494.669575572014 - average: 0.04157782625953357; Performance: 0.9859166666666667\n",
      "Epoch 5 --- learning rate 0.01000\n",
      "Epoch 5 completed. Loss - total: 2556.6958712935448 - average: 0.042611597854892415; Performance: 0.9853\n",
      "Epoch 6 --- learning rate 0.01000\n",
      "Epoch 6 completed. Loss - total: 2443.8630498051643 - average: 0.040731050830086074; Performance: 0.98575\n",
      "Epoch 7 --- learning rate 0.01000\n",
      "Epoch 7 completed. Loss - total: 2423.1956375837326 - average: 0.04038659395972888; Performance: 0.9861833333333333\n",
      "Epoch 8 --- learning rate 0.01000\n",
      "Epoch 8 completed. Loss - total: 2447.5181097388268 - average: 0.04079196849564711; Performance: 0.9856666666666667\n",
      "Epoch 9 --- learning rate 0.01000\n",
      "Epoch 9 completed. Loss - total: 2394.1337879896164 - average: 0.03990222979982694; Performance: 0.9862833333333333\n",
      "Epoch 10 --- learning rate 0.01000\n",
      "Epoch 10 completed. Loss - total: 2352.2494180202484 - average: 0.03920415696700414; Performance: 0.9865333333333334\n",
      "zeros in final mask:  9397\n",
      "Iteration 5 completed\n",
      "----------------------\n",
      "Epoch 1 --- learning rate 0.01000\n",
      "Epoch 1 completed. Loss - total: 2871.666901111603 - average: 0.04786111501852671; Performance: 0.9835\n",
      "Epoch 2 --- learning rate 0.01000\n",
      "Epoch 2 completed. Loss - total: 2552.513769030571 - average: 0.04254189615050952; Performance: 0.9851833333333333\n",
      "Epoch 3 --- learning rate 0.01000\n",
      "Epoch 3 completed. Loss - total: 2341.187089443207 - average: 0.039019784824053445; Performance: 0.9864166666666667\n",
      "Epoch 4 --- learning rate 0.01000\n",
      "Epoch 4 completed. Loss - total: 2385.0429188013077 - average: 0.039750715313355126; Performance: 0.9860333333333333\n",
      "Epoch 5 --- learning rate 0.01000\n",
      "Epoch 5 completed. Loss - total: 2369.536616384983 - average: 0.039492276939749715; Performance: 0.9861333333333333\n",
      "Epoch 6 --- learning rate 0.01000\n",
      "Epoch 6 completed. Loss - total: 2355.9302512407303 - average: 0.03926550418734551; Performance: 0.98675\n",
      "Epoch 7 --- learning rate 0.01000\n",
      "Epoch 7 completed. Loss - total: 2237.7580847740173 - average: 0.037295968079566956; Performance: 0.9867666666666667\n",
      "Epoch 8 --- learning rate 0.01000\n",
      "Epoch 8 completed. Loss - total: 2136.856469631195 - average: 0.03561427449385325; Performance: 0.98755\n",
      "Epoch 9 --- learning rate 0.01000\n",
      "Epoch 9 completed. Loss - total: 2261.972190797329 - average: 0.03769953651328881; Performance: 0.9864833333333334\n",
      "Epoch 10 --- learning rate 0.01000\n",
      "Epoch 10 completed. Loss - total: 2204.915149077773 - average: 0.036748585817962885; Performance: 0.9875\n",
      "zeros in final mask:  9911\n",
      "Iteration 6 completed\n",
      "----------------------\n",
      "Epoch 1 --- learning rate 0.01000\n",
      "Epoch 1 completed. Loss - total: 2598.075839281082 - average: 0.043301263988018035; Performance: 0.9853333333333333\n",
      "Epoch 2 --- learning rate 0.01000\n",
      "Epoch 2 completed. Loss - total: 2307.1214122772217 - average: 0.0384520235379537; Performance: 0.9861833333333333\n",
      "Epoch 3 --- learning rate 0.01000\n",
      "Epoch 3 completed. Loss - total: 2212.246303677559 - average: 0.036870771727959314; Performance: 0.9870666666666666\n",
      "Epoch 4 --- learning rate 0.01000\n",
      "Epoch 4 completed. Loss - total: 2150.60628759861 - average: 0.0358434381266435; Performance: 0.9877\n",
      "Epoch 5 --- learning rate 0.01000\n",
      "Epoch 5 completed. Loss - total: 2194.075808405876 - average: 0.03656793014009794; Performance: 0.9872166666666666\n",
      "Epoch 6 --- learning rate 0.01000\n",
      "Epoch 6 completed. Loss - total: 2200.0042994618416 - average: 0.036666738324364026; Performance: 0.98735\n",
      "Epoch 7 --- learning rate 0.01000\n",
      "Epoch 7 completed. Loss - total: 2308.6811238378286 - average: 0.038478018730630476; Performance: 0.9868166666666667\n",
      "Epoch 8 --- learning rate 0.01000\n",
      "Epoch 8 completed. Loss - total: 2146.3612545728683 - average: 0.03577268757621447; Performance: 0.9873666666666666\n",
      "Epoch 9 --- learning rate 0.01000\n",
      "Epoch 9 completed. Loss - total: 2046.8315564393997 - average: 0.034113859273989994; Performance: 0.9876833333333334\n",
      "Epoch 10 --- learning rate 0.01000\n",
      "Epoch 10 completed. Loss - total: 2072.908788755536 - average: 0.03454847981259227; Performance: 0.9875166666666667\n",
      "zeros in final mask:  10690\n",
      "Iteration 7 completed\n",
      "----------------------\n",
      "Epoch 1 --- learning rate 0.01000\n",
      "Epoch 1 completed. Loss - total: 3437.618674993515 - average: 0.05729364458322525; Performance: 0.9802833333333333\n",
      "Epoch 2 --- learning rate 0.01000\n",
      "Epoch 2 completed. Loss - total: 2836.827973842621 - average: 0.04728046623071035; Performance: 0.98335\n",
      "Epoch 3 --- learning rate 0.01000\n",
      "Epoch 3 completed. Loss - total: 2617.817901134491 - average: 0.04363029835224152; Performance: 0.98485\n",
      "Epoch 4 --- learning rate 0.01000\n",
      "Epoch 4 completed. Loss - total: 2523.503597766161 - average: 0.042058393296102684; Performance: 0.9852166666666666\n",
      "Epoch 5 --- learning rate 0.01000\n",
      "Epoch 5 completed. Loss - total: 2483.55625808239 - average: 0.04139260430137316; Performance: 0.9854833333333334\n",
      "Epoch 6 --- learning rate 0.01000\n",
      "Epoch 6 completed. Loss - total: 2414.220556586981 - average: 0.04023700927644968; Performance: 0.98595\n",
      "Epoch 7 --- learning rate 0.01000\n",
      "Epoch 7 completed. Loss - total: 2383.722039282322 - average: 0.039728700654705365; Performance: 0.9857666666666667\n",
      "Epoch 8 --- learning rate 0.01000\n",
      "Epoch 8 completed. Loss - total: 2363.1427841186523 - average: 0.039385713068644204; Performance: 0.986\n",
      "Epoch 9 --- learning rate 0.01000\n",
      "Epoch 9 completed. Loss - total: 2466.7641801834106 - average: 0.04111273633639018; Performance: 0.9855333333333334\n",
      "Epoch 10 --- learning rate 0.01000\n",
      "Epoch 10 completed. Loss - total: 2242.065695166588 - average: 0.0373677615861098; Performance: 0.9866666666666667\n",
      "zeros in final mask:  11102\n",
      "Iteration 8 completed\n",
      "----------------------\n",
      "Epoch 1 --- learning rate 0.01000\n",
      "Epoch 1 completed. Loss - total: 3146.4430094361305 - average: 0.05244071682393551; Performance: 0.9819833333333333\n",
      "Epoch 2 --- learning rate 0.01000\n",
      "Epoch 2 completed. Loss - total: 2659.958268046379 - average: 0.044332637800772984; Performance: 0.9843833333333334\n",
      "Epoch 3 --- learning rate 0.01000\n",
      "Epoch 3 completed. Loss - total: 2516.4529207646847 - average: 0.04194088201274474; Performance: 0.9852833333333333\n",
      "Epoch 4 --- learning rate 0.01000\n",
      "Epoch 4 completed. Loss - total: 2601.4969433546066 - average: 0.04335828238924344; Performance: 0.9842166666666666\n",
      "Epoch 5 --- learning rate 0.01000\n",
      "Epoch 5 completed. Loss - total: 2527.1588940620422 - average: 0.04211931490103404; Performance: 0.9849666666666667\n",
      "Epoch 6 --- learning rate 0.01000\n",
      "Epoch 6 completed. Loss - total: 2334.5623372793198 - average: 0.038909372287988665; Performance: 0.9859166666666667\n",
      "Epoch 7 --- learning rate 0.01000\n",
      "Epoch 7 completed. Loss - total: 2328.2772627472878 - average: 0.03880462104578813; Performance: 0.9860333333333333\n",
      "Epoch 8 --- learning rate 0.01000\n",
      "Epoch 8 completed. Loss - total: 2336.692599952221 - average: 0.03894487666587035; Performance: 0.9857166666666667\n",
      "Epoch 9 --- learning rate 0.01000\n",
      "Epoch 9 completed. Loss - total: 2408.7758150696754 - average: 0.04014626358449459; Performance: 0.98575\n",
      "Epoch 10 --- learning rate 0.01000\n",
      "Epoch 10 completed. Loss - total: 2317.02892267704 - average: 0.038617148711284; Performance: 0.9863333333333333\n",
      "zeros in final mask:  11725\n",
      "Iteration 9 completed\n",
      "----------------------\n",
      "Epoch 1 --- learning rate 0.01000\n",
      "Epoch 1 completed. Loss - total: 4145.637270689011 - average: 0.06909395451148351; Performance: 0.9761\n",
      "Epoch 2 --- learning rate 0.01000\n",
      "Epoch 2 completed. Loss - total: 3322.725666999817 - average: 0.055378761116663615; Performance: 0.9803333333333333\n",
      "Epoch 3 --- learning rate 0.01000\n",
      "Epoch 3 completed. Loss - total: 3207.0383643507957 - average: 0.053450639405846594; Performance: 0.9813666666666667\n",
      "Epoch 4 --- learning rate 0.01000\n",
      "Epoch 4 completed. Loss - total: 2924.3801654577255 - average: 0.048739669424295425; Performance: 0.98295\n",
      "Epoch 5 --- learning rate 0.01000\n",
      "Epoch 5 completed. Loss - total: 2889.521452844143 - average: 0.04815869088073572; Performance: 0.9828\n",
      "Epoch 6 --- learning rate 0.01000\n",
      "Epoch 6 completed. Loss - total: 2916.044755458832 - average: 0.04860074592431386; Performance: 0.98305\n",
      "Epoch 7 --- learning rate 0.01000\n",
      "Epoch 7 completed. Loss - total: 2873.7105173245072 - average: 0.047895175288741786; Performance: 0.9822166666666666\n",
      "Epoch 8 --- learning rate 0.01000\n",
      "Epoch 8 completed. Loss - total: 2730.382519841194 - average: 0.04550637533068657; Performance: 0.9845166666666667\n",
      "Epoch 9 --- learning rate 0.01000\n",
      "Epoch 9 completed. Loss - total: 2861.683187842369 - average: 0.04769471979737282; Performance: 0.9831\n",
      "Epoch 10 --- learning rate 0.01000\n",
      "Epoch 10 completed. Loss - total: 2867.854878783226 - average: 0.04779758131305377; Performance: 0.9834833333333334\n",
      "zeros in final mask:  12054\n",
      "Iteration 10 completed\n",
      "----------------------\n"
     ]
    }
   ],
   "source": [
    "losses = []\n",
    "accuracies = []\n",
    "iterations = 10\n",
    "mask_last = None\n",
    "for i in range(iterations):\n",
    "    l, a = train_model(net, trainloader, loss_fn, optimizer, num_epochs, mask=mask, pars_to_prune=pars_to_prune)\n",
    "    losses.append(l)\n",
    "    accuracies.append(a)\n",
    "    mask, pars_to_prune = magnitude_pruning(net, pruning_rate, old_mask=mask)\n",
    "    mask_last = mask\n",
    "    zeros_mask_last = 0\n",
    "    for m in mask_last:\n",
    "        zeros_mask_last += count_zeros(m)\n",
    "    print('zeros in final mask: ', zeros_mask_last)\n",
    "    print('Iteration {} completed'.format(i+1))\n",
    "    print('----------------------')"
   ]
  },
  {
   "cell_type": "code",
   "execution_count": 253,
   "metadata": {},
   "outputs": [],
   "source": [
    "import matplotlib.pyplot as plt"
   ]
  },
  {
   "cell_type": "code",
   "execution_count": 254,
   "metadata": {},
   "outputs": [],
   "source": [
    "axis = [i+1 for i in range(iterations)]\n",
    "one = [1 for i in range(iterations)]\n",
    "zero = [0 for i in range(iterations)]"
   ]
  },
  {
   "cell_type": "code",
   "execution_count": 255,
   "metadata": {},
   "outputs": [
    {
     "output_type": "display_data",
     "data": {
      "text/plain": "<Figure size 432x288 with 1 Axes>",
      "image/svg+xml": "<?xml version=\"1.0\" encoding=\"utf-8\" standalone=\"no\"?>\n<!DOCTYPE svg PUBLIC \"-//W3C//DTD SVG 1.1//EN\"\n  \"http://www.w3.org/Graphics/SVG/1.1/DTD/svg11.dtd\">\n<!-- Created with matplotlib (https://matplotlib.org/) -->\n<svg height=\"277.314375pt\" version=\"1.1\" viewBox=\"0 0 395.328125 277.314375\" width=\"395.328125pt\" xmlns=\"http://www.w3.org/2000/svg\" xmlns:xlink=\"http://www.w3.org/1999/xlink\">\n <metadata>\n  <rdf:RDF xmlns:cc=\"http://creativecommons.org/ns#\" xmlns:dc=\"http://purl.org/dc/elements/1.1/\" xmlns:rdf=\"http://www.w3.org/1999/02/22-rdf-syntax-ns#\">\n   <cc:Work>\n    <dc:type rdf:resource=\"http://purl.org/dc/dcmitype/StillImage\"/>\n    <dc:date>2021-04-13T20:50:05.284209</dc:date>\n    <dc:format>image/svg+xml</dc:format>\n    <dc:creator>\n     <cc:Agent>\n      <dc:title>Matplotlib v3.3.3, https://matplotlib.org/</dc:title>\n     </cc:Agent>\n    </dc:creator>\n   </cc:Work>\n  </rdf:RDF>\n </metadata>\n <defs>\n  <style type=\"text/css\">*{stroke-linecap:butt;stroke-linejoin:round;}</style>\n </defs>\n <g id=\"figure_1\">\n  <g id=\"patch_1\">\n   <path d=\"M 0 277.314375 \nL 395.328125 277.314375 \nL 395.328125 0 \nL 0 0 \nz\n\" style=\"fill:none;\"/>\n  </g>\n  <g id=\"axes_1\">\n   <g id=\"patch_2\">\n    <path d=\"M 53.328125 239.758125 \nL 388.128125 239.758125 \nL 388.128125 22.318125 \nL 53.328125 22.318125 \nz\n\" style=\"fill:#ffffff;\"/>\n   </g>\n   <g id=\"matplotlib.axis_1\">\n    <g id=\"xtick_1\">\n     <g id=\"line2d_1\">\n      <defs>\n       <path d=\"M 0 0 \nL 0 3.5 \n\" id=\"mafe00070ce\" style=\"stroke:#000000;stroke-width:0.8;\"/>\n      </defs>\n      <g>\n       <use style=\"stroke:#000000;stroke-width:0.8;\" x=\"102.364489\" xlink:href=\"#mafe00070ce\" y=\"239.758125\"/>\n      </g>\n     </g>\n     <g id=\"text_1\">\n      <!-- 2 -->\n      <g transform=\"translate(99.183239 254.356562)scale(0.1 -0.1)\">\n       <defs>\n        <path d=\"M 19.1875 8.296875 \nL 53.609375 8.296875 \nL 53.609375 0 \nL 7.328125 0 \nL 7.328125 8.296875 \nQ 12.9375 14.109375 22.625 23.890625 \nQ 32.328125 33.6875 34.8125 36.53125 \nQ 39.546875 41.84375 41.421875 45.53125 \nQ 43.3125 49.21875 43.3125 52.78125 \nQ 43.3125 58.59375 39.234375 62.25 \nQ 35.15625 65.921875 28.609375 65.921875 \nQ 23.96875 65.921875 18.8125 64.3125 \nQ 13.671875 62.703125 7.8125 59.421875 \nL 7.8125 69.390625 \nQ 13.765625 71.78125 18.9375 73 \nQ 24.125 74.21875 28.421875 74.21875 \nQ 39.75 74.21875 46.484375 68.546875 \nQ 53.21875 62.890625 53.21875 53.421875 \nQ 53.21875 48.921875 51.53125 44.890625 \nQ 49.859375 40.875 45.40625 35.40625 \nQ 44.1875 33.984375 37.640625 27.21875 \nQ 31.109375 20.453125 19.1875 8.296875 \nz\n\" id=\"DejaVuSans-50\"/>\n       </defs>\n       <use xlink:href=\"#DejaVuSans-50\"/>\n      </g>\n     </g>\n    </g>\n    <g id=\"xtick_2\">\n     <g id=\"line2d_2\">\n      <g>\n       <use style=\"stroke:#000000;stroke-width:0.8;\" x=\"170.000852\" xlink:href=\"#mafe00070ce\" y=\"239.758125\"/>\n      </g>\n     </g>\n     <g id=\"text_2\">\n      <!-- 4 -->\n      <g transform=\"translate(166.819602 254.356562)scale(0.1 -0.1)\">\n       <defs>\n        <path d=\"M 37.796875 64.3125 \nL 12.890625 25.390625 \nL 37.796875 25.390625 \nz\nM 35.203125 72.90625 \nL 47.609375 72.90625 \nL 47.609375 25.390625 \nL 58.015625 25.390625 \nL 58.015625 17.1875 \nL 47.609375 17.1875 \nL 47.609375 0 \nL 37.796875 0 \nL 37.796875 17.1875 \nL 4.890625 17.1875 \nL 4.890625 26.703125 \nz\n\" id=\"DejaVuSans-52\"/>\n       </defs>\n       <use xlink:href=\"#DejaVuSans-52\"/>\n      </g>\n     </g>\n    </g>\n    <g id=\"xtick_3\">\n     <g id=\"line2d_3\">\n      <g>\n       <use style=\"stroke:#000000;stroke-width:0.8;\" x=\"237.637216\" xlink:href=\"#mafe00070ce\" y=\"239.758125\"/>\n      </g>\n     </g>\n     <g id=\"text_3\">\n      <!-- 6 -->\n      <g transform=\"translate(234.455966 254.356562)scale(0.1 -0.1)\">\n       <defs>\n        <path d=\"M 33.015625 40.375 \nQ 26.375 40.375 22.484375 35.828125 \nQ 18.609375 31.296875 18.609375 23.390625 \nQ 18.609375 15.53125 22.484375 10.953125 \nQ 26.375 6.390625 33.015625 6.390625 \nQ 39.65625 6.390625 43.53125 10.953125 \nQ 47.40625 15.53125 47.40625 23.390625 \nQ 47.40625 31.296875 43.53125 35.828125 \nQ 39.65625 40.375 33.015625 40.375 \nz\nM 52.59375 71.296875 \nL 52.59375 62.3125 \nQ 48.875 64.0625 45.09375 64.984375 \nQ 41.3125 65.921875 37.59375 65.921875 \nQ 27.828125 65.921875 22.671875 59.328125 \nQ 17.53125 52.734375 16.796875 39.40625 \nQ 19.671875 43.65625 24.015625 45.921875 \nQ 28.375 48.1875 33.59375 48.1875 \nQ 44.578125 48.1875 50.953125 41.515625 \nQ 57.328125 34.859375 57.328125 23.390625 \nQ 57.328125 12.15625 50.6875 5.359375 \nQ 44.046875 -1.421875 33.015625 -1.421875 \nQ 20.359375 -1.421875 13.671875 8.265625 \nQ 6.984375 17.96875 6.984375 36.375 \nQ 6.984375 53.65625 15.1875 63.9375 \nQ 23.390625 74.21875 37.203125 74.21875 \nQ 40.921875 74.21875 44.703125 73.484375 \nQ 48.484375 72.75 52.59375 71.296875 \nz\n\" id=\"DejaVuSans-54\"/>\n       </defs>\n       <use xlink:href=\"#DejaVuSans-54\"/>\n      </g>\n     </g>\n    </g>\n    <g id=\"xtick_4\">\n     <g id=\"line2d_4\">\n      <g>\n       <use style=\"stroke:#000000;stroke-width:0.8;\" x=\"305.27358\" xlink:href=\"#mafe00070ce\" y=\"239.758125\"/>\n      </g>\n     </g>\n     <g id=\"text_4\">\n      <!-- 8 -->\n      <g transform=\"translate(302.09233 254.356562)scale(0.1 -0.1)\">\n       <defs>\n        <path d=\"M 31.78125 34.625 \nQ 24.75 34.625 20.71875 30.859375 \nQ 16.703125 27.09375 16.703125 20.515625 \nQ 16.703125 13.921875 20.71875 10.15625 \nQ 24.75 6.390625 31.78125 6.390625 \nQ 38.8125 6.390625 42.859375 10.171875 \nQ 46.921875 13.96875 46.921875 20.515625 \nQ 46.921875 27.09375 42.890625 30.859375 \nQ 38.875 34.625 31.78125 34.625 \nz\nM 21.921875 38.8125 \nQ 15.578125 40.375 12.03125 44.71875 \nQ 8.5 49.078125 8.5 55.328125 \nQ 8.5 64.0625 14.71875 69.140625 \nQ 20.953125 74.21875 31.78125 74.21875 \nQ 42.671875 74.21875 48.875 69.140625 \nQ 55.078125 64.0625 55.078125 55.328125 \nQ 55.078125 49.078125 51.53125 44.71875 \nQ 48 40.375 41.703125 38.8125 \nQ 48.828125 37.15625 52.796875 32.3125 \nQ 56.78125 27.484375 56.78125 20.515625 \nQ 56.78125 9.90625 50.3125 4.234375 \nQ 43.84375 -1.421875 31.78125 -1.421875 \nQ 19.734375 -1.421875 13.25 4.234375 \nQ 6.78125 9.90625 6.78125 20.515625 \nQ 6.78125 27.484375 10.78125 32.3125 \nQ 14.796875 37.15625 21.921875 38.8125 \nz\nM 18.3125 54.390625 \nQ 18.3125 48.734375 21.84375 45.5625 \nQ 25.390625 42.390625 31.78125 42.390625 \nQ 38.140625 42.390625 41.71875 45.5625 \nQ 45.3125 48.734375 45.3125 54.390625 \nQ 45.3125 60.0625 41.71875 63.234375 \nQ 38.140625 66.40625 31.78125 66.40625 \nQ 25.390625 66.40625 21.84375 63.234375 \nQ 18.3125 60.0625 18.3125 54.390625 \nz\n\" id=\"DejaVuSans-56\"/>\n       </defs>\n       <use xlink:href=\"#DejaVuSans-56\"/>\n      </g>\n     </g>\n    </g>\n    <g id=\"xtick_5\">\n     <g id=\"line2d_5\">\n      <g>\n       <use style=\"stroke:#000000;stroke-width:0.8;\" x=\"372.909943\" xlink:href=\"#mafe00070ce\" y=\"239.758125\"/>\n      </g>\n     </g>\n     <g id=\"text_5\">\n      <!-- 10 -->\n      <g transform=\"translate(366.547443 254.356562)scale(0.1 -0.1)\">\n       <defs>\n        <path d=\"M 12.40625 8.296875 \nL 28.515625 8.296875 \nL 28.515625 63.921875 \nL 10.984375 60.40625 \nL 10.984375 69.390625 \nL 28.421875 72.90625 \nL 38.28125 72.90625 \nL 38.28125 8.296875 \nL 54.390625 8.296875 \nL 54.390625 0 \nL 12.40625 0 \nz\n\" id=\"DejaVuSans-49\"/>\n        <path d=\"M 31.78125 66.40625 \nQ 24.171875 66.40625 20.328125 58.90625 \nQ 16.5 51.421875 16.5 36.375 \nQ 16.5 21.390625 20.328125 13.890625 \nQ 24.171875 6.390625 31.78125 6.390625 \nQ 39.453125 6.390625 43.28125 13.890625 \nQ 47.125 21.390625 47.125 36.375 \nQ 47.125 51.421875 43.28125 58.90625 \nQ 39.453125 66.40625 31.78125 66.40625 \nz\nM 31.78125 74.21875 \nQ 44.046875 74.21875 50.515625 64.515625 \nQ 56.984375 54.828125 56.984375 36.375 \nQ 56.984375 17.96875 50.515625 8.265625 \nQ 44.046875 -1.421875 31.78125 -1.421875 \nQ 19.53125 -1.421875 13.0625 8.265625 \nQ 6.59375 17.96875 6.59375 36.375 \nQ 6.59375 54.828125 13.0625 64.515625 \nQ 19.53125 74.21875 31.78125 74.21875 \nz\n\" id=\"DejaVuSans-48\"/>\n       </defs>\n       <use xlink:href=\"#DejaVuSans-49\"/>\n       <use x=\"63.623047\" xlink:href=\"#DejaVuSans-48\"/>\n      </g>\n     </g>\n    </g>\n    <g id=\"text_6\">\n     <!-- iteration -->\n     <g transform=\"translate(199.605469 268.034687)scale(0.1 -0.1)\">\n      <defs>\n       <path d=\"M 9.421875 54.6875 \nL 18.40625 54.6875 \nL 18.40625 0 \nL 9.421875 0 \nz\nM 9.421875 75.984375 \nL 18.40625 75.984375 \nL 18.40625 64.59375 \nL 9.421875 64.59375 \nz\n\" id=\"DejaVuSans-105\"/>\n       <path d=\"M 18.3125 70.21875 \nL 18.3125 54.6875 \nL 36.8125 54.6875 \nL 36.8125 47.703125 \nL 18.3125 47.703125 \nL 18.3125 18.015625 \nQ 18.3125 11.328125 20.140625 9.421875 \nQ 21.96875 7.515625 27.59375 7.515625 \nL 36.8125 7.515625 \nL 36.8125 0 \nL 27.59375 0 \nQ 17.1875 0 13.234375 3.875 \nQ 9.28125 7.765625 9.28125 18.015625 \nL 9.28125 47.703125 \nL 2.6875 47.703125 \nL 2.6875 54.6875 \nL 9.28125 54.6875 \nL 9.28125 70.21875 \nz\n\" id=\"DejaVuSans-116\"/>\n       <path d=\"M 56.203125 29.59375 \nL 56.203125 25.203125 \nL 14.890625 25.203125 \nQ 15.484375 15.921875 20.484375 11.0625 \nQ 25.484375 6.203125 34.421875 6.203125 \nQ 39.59375 6.203125 44.453125 7.46875 \nQ 49.3125 8.734375 54.109375 11.28125 \nL 54.109375 2.78125 \nQ 49.265625 0.734375 44.1875 -0.34375 \nQ 39.109375 -1.421875 33.890625 -1.421875 \nQ 20.796875 -1.421875 13.15625 6.1875 \nQ 5.515625 13.8125 5.515625 26.8125 \nQ 5.515625 40.234375 12.765625 48.109375 \nQ 20.015625 56 32.328125 56 \nQ 43.359375 56 49.78125 48.890625 \nQ 56.203125 41.796875 56.203125 29.59375 \nz\nM 47.21875 32.234375 \nQ 47.125 39.59375 43.09375 43.984375 \nQ 39.0625 48.390625 32.421875 48.390625 \nQ 24.90625 48.390625 20.390625 44.140625 \nQ 15.875 39.890625 15.1875 32.171875 \nz\n\" id=\"DejaVuSans-101\"/>\n       <path d=\"M 41.109375 46.296875 \nQ 39.59375 47.171875 37.8125 47.578125 \nQ 36.03125 48 33.890625 48 \nQ 26.265625 48 22.1875 43.046875 \nQ 18.109375 38.09375 18.109375 28.8125 \nL 18.109375 0 \nL 9.078125 0 \nL 9.078125 54.6875 \nL 18.109375 54.6875 \nL 18.109375 46.1875 \nQ 20.953125 51.171875 25.484375 53.578125 \nQ 30.03125 56 36.53125 56 \nQ 37.453125 56 38.578125 55.875 \nQ 39.703125 55.765625 41.0625 55.515625 \nz\n\" id=\"DejaVuSans-114\"/>\n       <path d=\"M 34.28125 27.484375 \nQ 23.390625 27.484375 19.1875 25 \nQ 14.984375 22.515625 14.984375 16.5 \nQ 14.984375 11.71875 18.140625 8.90625 \nQ 21.296875 6.109375 26.703125 6.109375 \nQ 34.1875 6.109375 38.703125 11.40625 \nQ 43.21875 16.703125 43.21875 25.484375 \nL 43.21875 27.484375 \nz\nM 52.203125 31.203125 \nL 52.203125 0 \nL 43.21875 0 \nL 43.21875 8.296875 \nQ 40.140625 3.328125 35.546875 0.953125 \nQ 30.953125 -1.421875 24.3125 -1.421875 \nQ 15.921875 -1.421875 10.953125 3.296875 \nQ 6 8.015625 6 15.921875 \nQ 6 25.140625 12.171875 29.828125 \nQ 18.359375 34.515625 30.609375 34.515625 \nL 43.21875 34.515625 \nL 43.21875 35.40625 \nQ 43.21875 41.609375 39.140625 45 \nQ 35.0625 48.390625 27.6875 48.390625 \nQ 23 48.390625 18.546875 47.265625 \nQ 14.109375 46.140625 10.015625 43.890625 \nL 10.015625 52.203125 \nQ 14.9375 54.109375 19.578125 55.046875 \nQ 24.21875 56 28.609375 56 \nQ 40.484375 56 46.34375 49.84375 \nQ 52.203125 43.703125 52.203125 31.203125 \nz\n\" id=\"DejaVuSans-97\"/>\n       <path d=\"M 30.609375 48.390625 \nQ 23.390625 48.390625 19.1875 42.75 \nQ 14.984375 37.109375 14.984375 27.296875 \nQ 14.984375 17.484375 19.15625 11.84375 \nQ 23.34375 6.203125 30.609375 6.203125 \nQ 37.796875 6.203125 41.984375 11.859375 \nQ 46.1875 17.53125 46.1875 27.296875 \nQ 46.1875 37.015625 41.984375 42.703125 \nQ 37.796875 48.390625 30.609375 48.390625 \nz\nM 30.609375 56 \nQ 42.328125 56 49.015625 48.375 \nQ 55.71875 40.765625 55.71875 27.296875 \nQ 55.71875 13.875 49.015625 6.21875 \nQ 42.328125 -1.421875 30.609375 -1.421875 \nQ 18.84375 -1.421875 12.171875 6.21875 \nQ 5.515625 13.875 5.515625 27.296875 \nQ 5.515625 40.765625 12.171875 48.375 \nQ 18.84375 56 30.609375 56 \nz\n\" id=\"DejaVuSans-111\"/>\n       <path d=\"M 54.890625 33.015625 \nL 54.890625 0 \nL 45.90625 0 \nL 45.90625 32.71875 \nQ 45.90625 40.484375 42.875 44.328125 \nQ 39.84375 48.1875 33.796875 48.1875 \nQ 26.515625 48.1875 22.3125 43.546875 \nQ 18.109375 38.921875 18.109375 30.90625 \nL 18.109375 0 \nL 9.078125 0 \nL 9.078125 54.6875 \nL 18.109375 54.6875 \nL 18.109375 46.1875 \nQ 21.34375 51.125 25.703125 53.5625 \nQ 30.078125 56 35.796875 56 \nQ 45.21875 56 50.046875 50.171875 \nQ 54.890625 44.34375 54.890625 33.015625 \nz\n\" id=\"DejaVuSans-110\"/>\n      </defs>\n      <use xlink:href=\"#DejaVuSans-105\"/>\n      <use x=\"27.783203\" xlink:href=\"#DejaVuSans-116\"/>\n      <use x=\"66.992188\" xlink:href=\"#DejaVuSans-101\"/>\n      <use x=\"128.515625\" xlink:href=\"#DejaVuSans-114\"/>\n      <use x=\"169.628906\" xlink:href=\"#DejaVuSans-97\"/>\n      <use x=\"230.908203\" xlink:href=\"#DejaVuSans-116\"/>\n      <use x=\"270.117188\" xlink:href=\"#DejaVuSans-105\"/>\n      <use x=\"297.900391\" xlink:href=\"#DejaVuSans-111\"/>\n      <use x=\"359.082031\" xlink:href=\"#DejaVuSans-110\"/>\n     </g>\n    </g>\n   </g>\n   <g id=\"matplotlib.axis_2\">\n    <g id=\"ytick_1\">\n     <g id=\"line2d_6\">\n      <defs>\n       <path d=\"M 0 0 \nL -3.5 0 \n\" id=\"mafae4e7d09\" style=\"stroke:#000000;stroke-width:0.8;\"/>\n      </defs>\n      <g>\n       <use style=\"stroke:#000000;stroke-width:0.8;\" x=\"53.328125\" xlink:href=\"#mafae4e7d09\" y=\"234.570675\"/>\n      </g>\n     </g>\n     <g id=\"text_7\">\n      <!-- 2000 -->\n      <g transform=\"translate(20.878125 238.369894)scale(0.1 -0.1)\">\n       <use xlink:href=\"#DejaVuSans-50\"/>\n       <use x=\"63.623047\" xlink:href=\"#DejaVuSans-48\"/>\n       <use x=\"127.246094\" xlink:href=\"#DejaVuSans-48\"/>\n       <use x=\"190.869141\" xlink:href=\"#DejaVuSans-48\"/>\n      </g>\n     </g>\n    </g>\n    <g id=\"ytick_2\">\n     <g id=\"line2d_7\">\n      <g>\n       <use style=\"stroke:#000000;stroke-width:0.8;\" x=\"53.328125\" xlink:href=\"#mafae4e7d09\" y=\"202.364772\"/>\n      </g>\n     </g>\n     <g id=\"text_8\">\n      <!-- 2500 -->\n      <g transform=\"translate(20.878125 206.163991)scale(0.1 -0.1)\">\n       <defs>\n        <path d=\"M 10.796875 72.90625 \nL 49.515625 72.90625 \nL 49.515625 64.59375 \nL 19.828125 64.59375 \nL 19.828125 46.734375 \nQ 21.96875 47.46875 24.109375 47.828125 \nQ 26.265625 48.1875 28.421875 48.1875 \nQ 40.625 48.1875 47.75 41.5 \nQ 54.890625 34.8125 54.890625 23.390625 \nQ 54.890625 11.625 47.5625 5.09375 \nQ 40.234375 -1.421875 26.90625 -1.421875 \nQ 22.3125 -1.421875 17.546875 -0.640625 \nQ 12.796875 0.140625 7.71875 1.703125 \nL 7.71875 11.625 \nQ 12.109375 9.234375 16.796875 8.0625 \nQ 21.484375 6.890625 26.703125 6.890625 \nQ 35.15625 6.890625 40.078125 11.328125 \nQ 45.015625 15.765625 45.015625 23.390625 \nQ 45.015625 31 40.078125 35.4375 \nQ 35.15625 39.890625 26.703125 39.890625 \nQ 22.75 39.890625 18.8125 39.015625 \nQ 14.890625 38.140625 10.796875 36.28125 \nz\n\" id=\"DejaVuSans-53\"/>\n       </defs>\n       <use xlink:href=\"#DejaVuSans-50\"/>\n       <use x=\"63.623047\" xlink:href=\"#DejaVuSans-53\"/>\n       <use x=\"127.246094\" xlink:href=\"#DejaVuSans-48\"/>\n       <use x=\"190.869141\" xlink:href=\"#DejaVuSans-48\"/>\n      </g>\n     </g>\n    </g>\n    <g id=\"ytick_3\">\n     <g id=\"line2d_8\">\n      <g>\n       <use style=\"stroke:#000000;stroke-width:0.8;\" x=\"53.328125\" xlink:href=\"#mafae4e7d09\" y=\"170.158869\"/>\n      </g>\n     </g>\n     <g id=\"text_9\">\n      <!-- 3000 -->\n      <g transform=\"translate(20.878125 173.958088)scale(0.1 -0.1)\">\n       <defs>\n        <path d=\"M 40.578125 39.3125 \nQ 47.65625 37.796875 51.625 33 \nQ 55.609375 28.21875 55.609375 21.1875 \nQ 55.609375 10.40625 48.1875 4.484375 \nQ 40.765625 -1.421875 27.09375 -1.421875 \nQ 22.515625 -1.421875 17.65625 -0.515625 \nQ 12.796875 0.390625 7.625 2.203125 \nL 7.625 11.71875 \nQ 11.71875 9.328125 16.59375 8.109375 \nQ 21.484375 6.890625 26.8125 6.890625 \nQ 36.078125 6.890625 40.9375 10.546875 \nQ 45.796875 14.203125 45.796875 21.1875 \nQ 45.796875 27.640625 41.28125 31.265625 \nQ 36.765625 34.90625 28.71875 34.90625 \nL 20.21875 34.90625 \nL 20.21875 43.015625 \nL 29.109375 43.015625 \nQ 36.375 43.015625 40.234375 45.921875 \nQ 44.09375 48.828125 44.09375 54.296875 \nQ 44.09375 59.90625 40.109375 62.90625 \nQ 36.140625 65.921875 28.71875 65.921875 \nQ 24.65625 65.921875 20.015625 65.03125 \nQ 15.375 64.15625 9.8125 62.3125 \nL 9.8125 71.09375 \nQ 15.4375 72.65625 20.34375 73.4375 \nQ 25.25 74.21875 29.59375 74.21875 \nQ 40.828125 74.21875 47.359375 69.109375 \nQ 53.90625 64.015625 53.90625 55.328125 \nQ 53.90625 49.265625 50.4375 45.09375 \nQ 46.96875 40.921875 40.578125 39.3125 \nz\n\" id=\"DejaVuSans-51\"/>\n       </defs>\n       <use xlink:href=\"#DejaVuSans-51\"/>\n       <use x=\"63.623047\" xlink:href=\"#DejaVuSans-48\"/>\n       <use x=\"127.246094\" xlink:href=\"#DejaVuSans-48\"/>\n       <use x=\"190.869141\" xlink:href=\"#DejaVuSans-48\"/>\n      </g>\n     </g>\n    </g>\n    <g id=\"ytick_4\">\n     <g id=\"line2d_9\">\n      <g>\n       <use style=\"stroke:#000000;stroke-width:0.8;\" x=\"53.328125\" xlink:href=\"#mafae4e7d09\" y=\"137.952967\"/>\n      </g>\n     </g>\n     <g id=\"text_10\">\n      <!-- 3500 -->\n      <g transform=\"translate(20.878125 141.752185)scale(0.1 -0.1)\">\n       <use xlink:href=\"#DejaVuSans-51\"/>\n       <use x=\"63.623047\" xlink:href=\"#DejaVuSans-53\"/>\n       <use x=\"127.246094\" xlink:href=\"#DejaVuSans-48\"/>\n       <use x=\"190.869141\" xlink:href=\"#DejaVuSans-48\"/>\n      </g>\n     </g>\n    </g>\n    <g id=\"ytick_5\">\n     <g id=\"line2d_10\">\n      <g>\n       <use style=\"stroke:#000000;stroke-width:0.8;\" x=\"53.328125\" xlink:href=\"#mafae4e7d09\" y=\"105.747064\"/>\n      </g>\n     </g>\n     <g id=\"text_11\">\n      <!-- 4000 -->\n      <g transform=\"translate(20.878125 109.546282)scale(0.1 -0.1)\">\n       <use xlink:href=\"#DejaVuSans-52\"/>\n       <use x=\"63.623047\" xlink:href=\"#DejaVuSans-48\"/>\n       <use x=\"127.246094\" xlink:href=\"#DejaVuSans-48\"/>\n       <use x=\"190.869141\" xlink:href=\"#DejaVuSans-48\"/>\n      </g>\n     </g>\n    </g>\n    <g id=\"ytick_6\">\n     <g id=\"line2d_11\">\n      <g>\n       <use style=\"stroke:#000000;stroke-width:0.8;\" x=\"53.328125\" xlink:href=\"#mafae4e7d09\" y=\"73.541161\"/>\n      </g>\n     </g>\n     <g id=\"text_12\">\n      <!-- 4500 -->\n      <g transform=\"translate(20.878125 77.340379)scale(0.1 -0.1)\">\n       <use xlink:href=\"#DejaVuSans-52\"/>\n       <use x=\"63.623047\" xlink:href=\"#DejaVuSans-53\"/>\n       <use x=\"127.246094\" xlink:href=\"#DejaVuSans-48\"/>\n       <use x=\"190.869141\" xlink:href=\"#DejaVuSans-48\"/>\n      </g>\n     </g>\n    </g>\n    <g id=\"ytick_7\">\n     <g id=\"line2d_12\">\n      <g>\n       <use style=\"stroke:#000000;stroke-width:0.8;\" x=\"53.328125\" xlink:href=\"#mafae4e7d09\" y=\"41.335258\"/>\n      </g>\n     </g>\n     <g id=\"text_13\">\n      <!-- 5000 -->\n      <g transform=\"translate(20.878125 45.134476)scale(0.1 -0.1)\">\n       <use xlink:href=\"#DejaVuSans-53\"/>\n       <use x=\"63.623047\" xlink:href=\"#DejaVuSans-48\"/>\n       <use x=\"127.246094\" xlink:href=\"#DejaVuSans-48\"/>\n       <use x=\"190.869141\" xlink:href=\"#DejaVuSans-48\"/>\n      </g>\n     </g>\n    </g>\n    <g id=\"text_14\">\n     <!-- loss -->\n     <g transform=\"translate(14.798438 140.695937)rotate(-90)scale(0.1 -0.1)\">\n      <defs>\n       <path d=\"M 9.421875 75.984375 \nL 18.40625 75.984375 \nL 18.40625 0 \nL 9.421875 0 \nz\n\" id=\"DejaVuSans-108\"/>\n       <path d=\"M 44.28125 53.078125 \nL 44.28125 44.578125 \nQ 40.484375 46.53125 36.375 47.5 \nQ 32.28125 48.484375 27.875 48.484375 \nQ 21.1875 48.484375 17.84375 46.4375 \nQ 14.5 44.390625 14.5 40.28125 \nQ 14.5 37.15625 16.890625 35.375 \nQ 19.28125 33.59375 26.515625 31.984375 \nL 29.59375 31.296875 \nQ 39.15625 29.25 43.1875 25.515625 \nQ 47.21875 21.78125 47.21875 15.09375 \nQ 47.21875 7.46875 41.1875 3.015625 \nQ 35.15625 -1.421875 24.609375 -1.421875 \nQ 20.21875 -1.421875 15.453125 -0.5625 \nQ 10.6875 0.296875 5.421875 2 \nL 5.421875 11.28125 \nQ 10.40625 8.6875 15.234375 7.390625 \nQ 20.0625 6.109375 24.8125 6.109375 \nQ 31.15625 6.109375 34.5625 8.28125 \nQ 37.984375 10.453125 37.984375 14.40625 \nQ 37.984375 18.0625 35.515625 20.015625 \nQ 33.0625 21.96875 24.703125 23.78125 \nL 21.578125 24.515625 \nQ 13.234375 26.265625 9.515625 29.90625 \nQ 5.8125 33.546875 5.8125 39.890625 \nQ 5.8125 47.609375 11.28125 51.796875 \nQ 16.75 56 26.8125 56 \nQ 31.78125 56 36.171875 55.265625 \nQ 40.578125 54.546875 44.28125 53.078125 \nz\n\" id=\"DejaVuSans-115\"/>\n      </defs>\n      <use xlink:href=\"#DejaVuSans-108\"/>\n      <use x=\"27.783203\" xlink:href=\"#DejaVuSans-111\"/>\n      <use x=\"88.964844\" xlink:href=\"#DejaVuSans-115\"/>\n      <use x=\"141.064453\" xlink:href=\"#DejaVuSans-115\"/>\n     </g>\n    </g>\n   </g>\n   <g id=\"line2d_13\">\n    <path clip-path=\"url(#p4cd5d7c0c3)\" d=\"M 68.546307 32.201761 \nL 102.364489 114.694713 \nL 136.18267 146.348468 \nL 170.000852 187.673627 \nL 203.819034 211.881654 \nL 237.637216 221.371721 \nL 271.455398 229.874489 \nL 305.27358 218.978787 \nL 339.091761 214.15027 \nL 372.909943 178.670575 \n\" style=\"fill:none;stroke:#008000;stroke-linecap:square;stroke-width:1.5;\"/>\n   </g>\n   <g id=\"patch_3\">\n    <path d=\"M 53.328125 239.758125 \nL 53.328125 22.318125 \n\" style=\"fill:none;stroke:#000000;stroke-linecap:square;stroke-linejoin:miter;stroke-width:0.8;\"/>\n   </g>\n   <g id=\"patch_4\">\n    <path d=\"M 388.128125 239.758125 \nL 388.128125 22.318125 \n\" style=\"fill:none;stroke:#000000;stroke-linecap:square;stroke-linejoin:miter;stroke-width:0.8;\"/>\n   </g>\n   <g id=\"patch_5\">\n    <path d=\"M 53.328125 239.758125 \nL 388.128125 239.758125 \n\" style=\"fill:none;stroke:#000000;stroke-linecap:square;stroke-linejoin:miter;stroke-width:0.8;\"/>\n   </g>\n   <g id=\"patch_6\">\n    <path d=\"M 53.328125 22.318125 \nL 388.128125 22.318125 \n\" style=\"fill:none;stroke:#000000;stroke-linecap:square;stroke-linejoin:miter;stroke-width:0.8;\"/>\n   </g>\n   <g id=\"text_15\">\n    <!-- LOSS -->\n    <g transform=\"translate(205.26125 16.318125)scale(0.12 -0.12)\">\n     <defs>\n      <path d=\"M 9.8125 72.90625 \nL 19.671875 72.90625 \nL 19.671875 8.296875 \nL 55.171875 8.296875 \nL 55.171875 0 \nL 9.8125 0 \nz\n\" id=\"DejaVuSans-76\"/>\n      <path d=\"M 39.40625 66.21875 \nQ 28.65625 66.21875 22.328125 58.203125 \nQ 16.015625 50.203125 16.015625 36.375 \nQ 16.015625 22.609375 22.328125 14.59375 \nQ 28.65625 6.59375 39.40625 6.59375 \nQ 50.140625 6.59375 56.421875 14.59375 \nQ 62.703125 22.609375 62.703125 36.375 \nQ 62.703125 50.203125 56.421875 58.203125 \nQ 50.140625 66.21875 39.40625 66.21875 \nz\nM 39.40625 74.21875 \nQ 54.734375 74.21875 63.90625 63.9375 \nQ 73.09375 53.65625 73.09375 36.375 \nQ 73.09375 19.140625 63.90625 8.859375 \nQ 54.734375 -1.421875 39.40625 -1.421875 \nQ 24.03125 -1.421875 14.8125 8.828125 \nQ 5.609375 19.09375 5.609375 36.375 \nQ 5.609375 53.65625 14.8125 63.9375 \nQ 24.03125 74.21875 39.40625 74.21875 \nz\n\" id=\"DejaVuSans-79\"/>\n      <path d=\"M 53.515625 70.515625 \nL 53.515625 60.890625 \nQ 47.90625 63.578125 42.921875 64.890625 \nQ 37.9375 66.21875 33.296875 66.21875 \nQ 25.25 66.21875 20.875 63.09375 \nQ 16.5 59.96875 16.5 54.203125 \nQ 16.5 49.359375 19.40625 46.890625 \nQ 22.3125 44.4375 30.421875 42.921875 \nL 36.375 41.703125 \nQ 47.40625 39.59375 52.65625 34.296875 \nQ 57.90625 29 57.90625 20.125 \nQ 57.90625 9.515625 50.796875 4.046875 \nQ 43.703125 -1.421875 29.984375 -1.421875 \nQ 24.8125 -1.421875 18.96875 -0.25 \nQ 13.140625 0.921875 6.890625 3.21875 \nL 6.890625 13.375 \nQ 12.890625 10.015625 18.65625 8.296875 \nQ 24.421875 6.59375 29.984375 6.59375 \nQ 38.421875 6.59375 43.015625 9.90625 \nQ 47.609375 13.234375 47.609375 19.390625 \nQ 47.609375 24.75 44.3125 27.78125 \nQ 41.015625 30.8125 33.5 32.328125 \nL 27.484375 33.5 \nQ 16.453125 35.6875 11.515625 40.375 \nQ 6.59375 45.0625 6.59375 53.421875 \nQ 6.59375 63.09375 13.40625 68.65625 \nQ 20.21875 74.21875 32.171875 74.21875 \nQ 37.3125 74.21875 42.625 73.28125 \nQ 47.953125 72.359375 53.515625 70.515625 \nz\n\" id=\"DejaVuSans-83\"/>\n     </defs>\n     <use xlink:href=\"#DejaVuSans-76\"/>\n     <use x=\"52.087891\" xlink:href=\"#DejaVuSans-79\"/>\n     <use x=\"130.798828\" xlink:href=\"#DejaVuSans-83\"/>\n     <use x=\"194.275391\" xlink:href=\"#DejaVuSans-83\"/>\n    </g>\n   </g>\n   <g id=\"legend_1\">\n    <g id=\"patch_7\">\n     <path d=\"M 285.69375 44.99625 \nL 381.128125 44.99625 \nQ 383.128125 44.99625 383.128125 42.99625 \nL 383.128125 29.318125 \nQ 383.128125 27.318125 381.128125 27.318125 \nL 285.69375 27.318125 \nQ 283.69375 27.318125 283.69375 29.318125 \nL 283.69375 42.99625 \nQ 283.69375 44.99625 285.69375 44.99625 \nz\n\" style=\"fill:#ffffff;opacity:0.8;stroke:#cccccc;stroke-linejoin:miter;\"/>\n    </g>\n    <g id=\"line2d_14\">\n     <path d=\"M 287.69375 35.416562 \nL 307.69375 35.416562 \n\" style=\"fill:none;stroke:#008000;stroke-linecap:square;stroke-width:1.5;\"/>\n    </g>\n    <g id=\"line2d_15\"/>\n    <g id=\"text_16\">\n     <!-- average loss -->\n     <g transform=\"translate(315.69375 38.916562)scale(0.1 -0.1)\">\n      <defs>\n       <path d=\"M 2.984375 54.6875 \nL 12.5 54.6875 \nL 29.59375 8.796875 \nL 46.6875 54.6875 \nL 56.203125 54.6875 \nL 35.6875 0 \nL 23.484375 0 \nz\n\" id=\"DejaVuSans-118\"/>\n       <path d=\"M 45.40625 27.984375 \nQ 45.40625 37.75 41.375 43.109375 \nQ 37.359375 48.484375 30.078125 48.484375 \nQ 22.859375 48.484375 18.828125 43.109375 \nQ 14.796875 37.75 14.796875 27.984375 \nQ 14.796875 18.265625 18.828125 12.890625 \nQ 22.859375 7.515625 30.078125 7.515625 \nQ 37.359375 7.515625 41.375 12.890625 \nQ 45.40625 18.265625 45.40625 27.984375 \nz\nM 54.390625 6.78125 \nQ 54.390625 -7.171875 48.1875 -13.984375 \nQ 42 -20.796875 29.203125 -20.796875 \nQ 24.46875 -20.796875 20.265625 -20.09375 \nQ 16.0625 -19.390625 12.109375 -17.921875 \nL 12.109375 -9.1875 \nQ 16.0625 -11.328125 19.921875 -12.34375 \nQ 23.78125 -13.375 27.78125 -13.375 \nQ 36.625 -13.375 41.015625 -8.765625 \nQ 45.40625 -4.15625 45.40625 5.171875 \nL 45.40625 9.625 \nQ 42.625 4.78125 38.28125 2.390625 \nQ 33.9375 0 27.875 0 \nQ 17.828125 0 11.671875 7.65625 \nQ 5.515625 15.328125 5.515625 27.984375 \nQ 5.515625 40.671875 11.671875 48.328125 \nQ 17.828125 56 27.875 56 \nQ 33.9375 56 38.28125 53.609375 \nQ 42.625 51.21875 45.40625 46.390625 \nL 45.40625 54.6875 \nL 54.390625 54.6875 \nz\n\" id=\"DejaVuSans-103\"/>\n       <path id=\"DejaVuSans-32\"/>\n      </defs>\n      <use xlink:href=\"#DejaVuSans-97\"/>\n      <use x=\"61.279297\" xlink:href=\"#DejaVuSans-118\"/>\n      <use x=\"120.458984\" xlink:href=\"#DejaVuSans-101\"/>\n      <use x=\"181.982422\" xlink:href=\"#DejaVuSans-114\"/>\n      <use x=\"223.095703\" xlink:href=\"#DejaVuSans-97\"/>\n      <use x=\"284.375\" xlink:href=\"#DejaVuSans-103\"/>\n      <use x=\"347.851562\" xlink:href=\"#DejaVuSans-101\"/>\n      <use x=\"409.375\" xlink:href=\"#DejaVuSans-32\"/>\n      <use x=\"441.162109\" xlink:href=\"#DejaVuSans-108\"/>\n      <use x=\"468.945312\" xlink:href=\"#DejaVuSans-111\"/>\n      <use x=\"530.126953\" xlink:href=\"#DejaVuSans-115\"/>\n      <use x=\"582.226562\" xlink:href=\"#DejaVuSans-115\"/>\n     </g>\n    </g>\n   </g>\n  </g>\n </g>\n <defs>\n  <clipPath id=\"p4cd5d7c0c3\">\n   <rect height=\"217.44\" width=\"334.8\" x=\"53.328125\" y=\"22.318125\"/>\n  </clipPath>\n </defs>\n</svg>\n",
      "image/png": "[encoded data removed]"
     },
     "metadata": {
      "needs_background": "light"
     }
    }
   ],
   "source": [
    "_ = plt.plot(axis, losses, label = 'average loss', color = 'green')\n",
    "__ = plt.xlabel('iteration') \n",
    "___ = plt.ylabel('loss')\n",
    "____ = plt.title('LOSS')\n",
    "_____ = plt.legend()"
   ]
  },
  {
   "cell_type": "code",
   "execution_count": 256,
   "metadata": {},
   "outputs": [
    {
     "output_type": "display_data",
     "data": {
      "text/plain": "<Figure size 432x288 with 1 Axes>",
      "image/svg+xml": "<?xml version=\"1.0\" encoding=\"utf-8\" standalone=\"no\"?>\n<!DOCTYPE svg PUBLIC \"-//W3C//DTD SVG 1.1//EN\"\n  \"http://www.w3.org/Graphics/SVG/1.1/DTD/svg11.dtd\">\n<!-- Created with matplotlib (https://matplotlib.org/) -->\n<svg height=\"277.314375pt\" version=\"1.1\" viewBox=\"0 0 398.50625 277.314375\" width=\"398.50625pt\" xmlns=\"http://www.w3.org/2000/svg\" xmlns:xlink=\"http://www.w3.org/1999/xlink\">\n <metadata>\n  <rdf:RDF xmlns:cc=\"http://creativecommons.org/ns#\" xmlns:dc=\"http://purl.org/dc/elements/1.1/\" xmlns:rdf=\"http://www.w3.org/1999/02/22-rdf-syntax-ns#\">\n   <cc:Work>\n    <dc:type rdf:resource=\"http://purl.org/dc/dcmitype/StillImage\"/>\n    <dc:date>2021-04-13T20:53:25.771611</dc:date>\n    <dc:format>image/svg+xml</dc:format>\n    <dc:creator>\n     <cc:Agent>\n      <dc:title>Matplotlib v3.3.3, https://matplotlib.org/</dc:title>\n     </cc:Agent>\n    </dc:creator>\n   </cc:Work>\n  </rdf:RDF>\n </metadata>\n <defs>\n  <style type=\"text/css\">*{stroke-linecap:butt;stroke-linejoin:round;}</style>\n </defs>\n <g id=\"figure_1\">\n  <g id=\"patch_1\">\n   <path d=\"M 0 277.314375 \nL 398.50625 277.314375 \nL 398.50625 0 \nL 0 0 \nz\n\" style=\"fill:none;\"/>\n  </g>\n  <g id=\"axes_1\">\n   <g id=\"patch_2\">\n    <path d=\"M 56.50625 239.758125 \nL 391.30625 239.758125 \nL 391.30625 22.318125 \nL 56.50625 22.318125 \nz\n\" style=\"fill:#ffffff;\"/>\n   </g>\n   <g id=\"matplotlib.axis_1\">\n    <g id=\"xtick_1\">\n     <g id=\"line2d_1\">\n      <defs>\n       <path d=\"M 0 0 \nL 0 3.5 \n\" id=\"m135a6b0660\" style=\"stroke:#000000;stroke-width:0.8;\"/>\n      </defs>\n      <g>\n       <use style=\"stroke:#000000;stroke-width:0.8;\" x=\"105.542614\" xlink:href=\"#m135a6b0660\" y=\"239.758125\"/>\n      </g>\n     </g>\n     <g id=\"text_1\">\n      <!-- 2 -->\n      <g transform=\"translate(102.361364 254.356562)scale(0.1 -0.1)\">\n       <defs>\n        <path d=\"M 19.1875 8.296875 \nL 53.609375 8.296875 \nL 53.609375 0 \nL 7.328125 0 \nL 7.328125 8.296875 \nQ 12.9375 14.109375 22.625 23.890625 \nQ 32.328125 33.6875 34.8125 36.53125 \nQ 39.546875 41.84375 41.421875 45.53125 \nQ 43.3125 49.21875 43.3125 52.78125 \nQ 43.3125 58.59375 39.234375 62.25 \nQ 35.15625 65.921875 28.609375 65.921875 \nQ 23.96875 65.921875 18.8125 64.3125 \nQ 13.671875 62.703125 7.8125 59.421875 \nL 7.8125 69.390625 \nQ 13.765625 71.78125 18.9375 73 \nQ 24.125 74.21875 28.421875 74.21875 \nQ 39.75 74.21875 46.484375 68.546875 \nQ 53.21875 62.890625 53.21875 53.421875 \nQ 53.21875 48.921875 51.53125 44.890625 \nQ 49.859375 40.875 45.40625 35.40625 \nQ 44.1875 33.984375 37.640625 27.21875 \nQ 31.109375 20.453125 19.1875 8.296875 \nz\n\" id=\"DejaVuSans-50\"/>\n       </defs>\n       <use xlink:href=\"#DejaVuSans-50\"/>\n      </g>\n     </g>\n    </g>\n    <g id=\"xtick_2\">\n     <g id=\"line2d_2\">\n      <g>\n       <use style=\"stroke:#000000;stroke-width:0.8;\" x=\"173.178977\" xlink:href=\"#m135a6b0660\" y=\"239.758125\"/>\n      </g>\n     </g>\n     <g id=\"text_2\">\n      <!-- 4 -->\n      <g transform=\"translate(169.997727 254.356562)scale(0.1 -0.1)\">\n       <defs>\n        <path d=\"M 37.796875 64.3125 \nL 12.890625 25.390625 \nL 37.796875 25.390625 \nz\nM 35.203125 72.90625 \nL 47.609375 72.90625 \nL 47.609375 25.390625 \nL 58.015625 25.390625 \nL 58.015625 17.1875 \nL 47.609375 17.1875 \nL 47.609375 0 \nL 37.796875 0 \nL 37.796875 17.1875 \nL 4.890625 17.1875 \nL 4.890625 26.703125 \nz\n\" id=\"DejaVuSans-52\"/>\n       </defs>\n       <use xlink:href=\"#DejaVuSans-52\"/>\n      </g>\n     </g>\n    </g>\n    <g id=\"xtick_3\">\n     <g id=\"line2d_3\">\n      <g>\n       <use style=\"stroke:#000000;stroke-width:0.8;\" x=\"240.815341\" xlink:href=\"#m135a6b0660\" y=\"239.758125\"/>\n      </g>\n     </g>\n     <g id=\"text_3\">\n      <!-- 6 -->\n      <g transform=\"translate(237.634091 254.356562)scale(0.1 -0.1)\">\n       <defs>\n        <path d=\"M 33.015625 40.375 \nQ 26.375 40.375 22.484375 35.828125 \nQ 18.609375 31.296875 18.609375 23.390625 \nQ 18.609375 15.53125 22.484375 10.953125 \nQ 26.375 6.390625 33.015625 6.390625 \nQ 39.65625 6.390625 43.53125 10.953125 \nQ 47.40625 15.53125 47.40625 23.390625 \nQ 47.40625 31.296875 43.53125 35.828125 \nQ 39.65625 40.375 33.015625 40.375 \nz\nM 52.59375 71.296875 \nL 52.59375 62.3125 \nQ 48.875 64.0625 45.09375 64.984375 \nQ 41.3125 65.921875 37.59375 65.921875 \nQ 27.828125 65.921875 22.671875 59.328125 \nQ 17.53125 52.734375 16.796875 39.40625 \nQ 19.671875 43.65625 24.015625 45.921875 \nQ 28.375 48.1875 33.59375 48.1875 \nQ 44.578125 48.1875 50.953125 41.515625 \nQ 57.328125 34.859375 57.328125 23.390625 \nQ 57.328125 12.15625 50.6875 5.359375 \nQ 44.046875 -1.421875 33.015625 -1.421875 \nQ 20.359375 -1.421875 13.671875 8.265625 \nQ 6.984375 17.96875 6.984375 36.375 \nQ 6.984375 53.65625 15.1875 63.9375 \nQ 23.390625 74.21875 37.203125 74.21875 \nQ 40.921875 74.21875 44.703125 73.484375 \nQ 48.484375 72.75 52.59375 71.296875 \nz\n\" id=\"DejaVuSans-54\"/>\n       </defs>\n       <use xlink:href=\"#DejaVuSans-54\"/>\n      </g>\n     </g>\n    </g>\n    <g id=\"xtick_4\">\n     <g id=\"line2d_4\">\n      <g>\n       <use style=\"stroke:#000000;stroke-width:0.8;\" x=\"308.451705\" xlink:href=\"#m135a6b0660\" y=\"239.758125\"/>\n      </g>\n     </g>\n     <g id=\"text_4\">\n      <!-- 8 -->\n      <g transform=\"translate(305.270455 254.356562)scale(0.1 -0.1)\">\n       <defs>\n        <path d=\"M 31.78125 34.625 \nQ 24.75 34.625 20.71875 30.859375 \nQ 16.703125 27.09375 16.703125 20.515625 \nQ 16.703125 13.921875 20.71875 10.15625 \nQ 24.75 6.390625 31.78125 6.390625 \nQ 38.8125 6.390625 42.859375 10.171875 \nQ 46.921875 13.96875 46.921875 20.515625 \nQ 46.921875 27.09375 42.890625 30.859375 \nQ 38.875 34.625 31.78125 34.625 \nz\nM 21.921875 38.8125 \nQ 15.578125 40.375 12.03125 44.71875 \nQ 8.5 49.078125 8.5 55.328125 \nQ 8.5 64.0625 14.71875 69.140625 \nQ 20.953125 74.21875 31.78125 74.21875 \nQ 42.671875 74.21875 48.875 69.140625 \nQ 55.078125 64.0625 55.078125 55.328125 \nQ 55.078125 49.078125 51.53125 44.71875 \nQ 48 40.375 41.703125 38.8125 \nQ 48.828125 37.15625 52.796875 32.3125 \nQ 56.78125 27.484375 56.78125 20.515625 \nQ 56.78125 9.90625 50.3125 4.234375 \nQ 43.84375 -1.421875 31.78125 -1.421875 \nQ 19.734375 -1.421875 13.25 4.234375 \nQ 6.78125 9.90625 6.78125 20.515625 \nQ 6.78125 27.484375 10.78125 32.3125 \nQ 14.796875 37.15625 21.921875 38.8125 \nz\nM 18.3125 54.390625 \nQ 18.3125 48.734375 21.84375 45.5625 \nQ 25.390625 42.390625 31.78125 42.390625 \nQ 38.140625 42.390625 41.71875 45.5625 \nQ 45.3125 48.734375 45.3125 54.390625 \nQ 45.3125 60.0625 41.71875 63.234375 \nQ 38.140625 66.40625 31.78125 66.40625 \nQ 25.390625 66.40625 21.84375 63.234375 \nQ 18.3125 60.0625 18.3125 54.390625 \nz\n\" id=\"DejaVuSans-56\"/>\n       </defs>\n       <use xlink:href=\"#DejaVuSans-56\"/>\n      </g>\n     </g>\n    </g>\n    <g id=\"xtick_5\">\n     <g id=\"line2d_5\">\n      <g>\n       <use style=\"stroke:#000000;stroke-width:0.8;\" x=\"376.088068\" xlink:href=\"#m135a6b0660\" y=\"239.758125\"/>\n      </g>\n     </g>\n     <g id=\"text_5\">\n      <!-- 10 -->\n      <g transform=\"translate(369.725568 254.356562)scale(0.1 -0.1)\">\n       <defs>\n        <path d=\"M 12.40625 8.296875 \nL 28.515625 8.296875 \nL 28.515625 63.921875 \nL 10.984375 60.40625 \nL 10.984375 69.390625 \nL 28.421875 72.90625 \nL 38.28125 72.90625 \nL 38.28125 8.296875 \nL 54.390625 8.296875 \nL 54.390625 0 \nL 12.40625 0 \nz\n\" id=\"DejaVuSans-49\"/>\n        <path d=\"M 31.78125 66.40625 \nQ 24.171875 66.40625 20.328125 58.90625 \nQ 16.5 51.421875 16.5 36.375 \nQ 16.5 21.390625 20.328125 13.890625 \nQ 24.171875 6.390625 31.78125 6.390625 \nQ 39.453125 6.390625 43.28125 13.890625 \nQ 47.125 21.390625 47.125 36.375 \nQ 47.125 51.421875 43.28125 58.90625 \nQ 39.453125 66.40625 31.78125 66.40625 \nz\nM 31.78125 74.21875 \nQ 44.046875 74.21875 50.515625 64.515625 \nQ 56.984375 54.828125 56.984375 36.375 \nQ 56.984375 17.96875 50.515625 8.265625 \nQ 44.046875 -1.421875 31.78125 -1.421875 \nQ 19.53125 -1.421875 13.0625 8.265625 \nQ 6.59375 17.96875 6.59375 36.375 \nQ 6.59375 54.828125 13.0625 64.515625 \nQ 19.53125 74.21875 31.78125 74.21875 \nz\n\" id=\"DejaVuSans-48\"/>\n       </defs>\n       <use xlink:href=\"#DejaVuSans-49\"/>\n       <use x=\"63.623047\" xlink:href=\"#DejaVuSans-48\"/>\n      </g>\n     </g>\n    </g>\n    <g id=\"text_6\">\n     <!-- iteration -->\n     <g transform=\"translate(202.783594 268.034687)scale(0.1 -0.1)\">\n      <defs>\n       <path d=\"M 9.421875 54.6875 \nL 18.40625 54.6875 \nL 18.40625 0 \nL 9.421875 0 \nz\nM 9.421875 75.984375 \nL 18.40625 75.984375 \nL 18.40625 64.59375 \nL 9.421875 64.59375 \nz\n\" id=\"DejaVuSans-105\"/>\n       <path d=\"M 18.3125 70.21875 \nL 18.3125 54.6875 \nL 36.8125 54.6875 \nL 36.8125 47.703125 \nL 18.3125 47.703125 \nL 18.3125 18.015625 \nQ 18.3125 11.328125 20.140625 9.421875 \nQ 21.96875 7.515625 27.59375 7.515625 \nL 36.8125 7.515625 \nL 36.8125 0 \nL 27.59375 0 \nQ 17.1875 0 13.234375 3.875 \nQ 9.28125 7.765625 9.28125 18.015625 \nL 9.28125 47.703125 \nL 2.6875 47.703125 \nL 2.6875 54.6875 \nL 9.28125 54.6875 \nL 9.28125 70.21875 \nz\n\" id=\"DejaVuSans-116\"/>\n       <path d=\"M 56.203125 29.59375 \nL 56.203125 25.203125 \nL 14.890625 25.203125 \nQ 15.484375 15.921875 20.484375 11.0625 \nQ 25.484375 6.203125 34.421875 6.203125 \nQ 39.59375 6.203125 44.453125 7.46875 \nQ 49.3125 8.734375 54.109375 11.28125 \nL 54.109375 2.78125 \nQ 49.265625 0.734375 44.1875 -0.34375 \nQ 39.109375 -1.421875 33.890625 -1.421875 \nQ 20.796875 -1.421875 13.15625 6.1875 \nQ 5.515625 13.8125 5.515625 26.8125 \nQ 5.515625 40.234375 12.765625 48.109375 \nQ 20.015625 56 32.328125 56 \nQ 43.359375 56 49.78125 48.890625 \nQ 56.203125 41.796875 56.203125 29.59375 \nz\nM 47.21875 32.234375 \nQ 47.125 39.59375 43.09375 43.984375 \nQ 39.0625 48.390625 32.421875 48.390625 \nQ 24.90625 48.390625 20.390625 44.140625 \nQ 15.875 39.890625 15.1875 32.171875 \nz\n\" id=\"DejaVuSans-101\"/>\n       <path d=\"M 41.109375 46.296875 \nQ 39.59375 47.171875 37.8125 47.578125 \nQ 36.03125 48 33.890625 48 \nQ 26.265625 48 22.1875 43.046875 \nQ 18.109375 38.09375 18.109375 28.8125 \nL 18.109375 0 \nL 9.078125 0 \nL 9.078125 54.6875 \nL 18.109375 54.6875 \nL 18.109375 46.1875 \nQ 20.953125 51.171875 25.484375 53.578125 \nQ 30.03125 56 36.53125 56 \nQ 37.453125 56 38.578125 55.875 \nQ 39.703125 55.765625 41.0625 55.515625 \nz\n\" id=\"DejaVuSans-114\"/>\n       <path d=\"M 34.28125 27.484375 \nQ 23.390625 27.484375 19.1875 25 \nQ 14.984375 22.515625 14.984375 16.5 \nQ 14.984375 11.71875 18.140625 8.90625 \nQ 21.296875 6.109375 26.703125 6.109375 \nQ 34.1875 6.109375 38.703125 11.40625 \nQ 43.21875 16.703125 43.21875 25.484375 \nL 43.21875 27.484375 \nz\nM 52.203125 31.203125 \nL 52.203125 0 \nL 43.21875 0 \nL 43.21875 8.296875 \nQ 40.140625 3.328125 35.546875 0.953125 \nQ 30.953125 -1.421875 24.3125 -1.421875 \nQ 15.921875 -1.421875 10.953125 3.296875 \nQ 6 8.015625 6 15.921875 \nQ 6 25.140625 12.171875 29.828125 \nQ 18.359375 34.515625 30.609375 34.515625 \nL 43.21875 34.515625 \nL 43.21875 35.40625 \nQ 43.21875 41.609375 39.140625 45 \nQ 35.0625 48.390625 27.6875 48.390625 \nQ 23 48.390625 18.546875 47.265625 \nQ 14.109375 46.140625 10.015625 43.890625 \nL 10.015625 52.203125 \nQ 14.9375 54.109375 19.578125 55.046875 \nQ 24.21875 56 28.609375 56 \nQ 40.484375 56 46.34375 49.84375 \nQ 52.203125 43.703125 52.203125 31.203125 \nz\n\" id=\"DejaVuSans-97\"/>\n       <path d=\"M 30.609375 48.390625 \nQ 23.390625 48.390625 19.1875 42.75 \nQ 14.984375 37.109375 14.984375 27.296875 \nQ 14.984375 17.484375 19.15625 11.84375 \nQ 23.34375 6.203125 30.609375 6.203125 \nQ 37.796875 6.203125 41.984375 11.859375 \nQ 46.1875 17.53125 46.1875 27.296875 \nQ 46.1875 37.015625 41.984375 42.703125 \nQ 37.796875 48.390625 30.609375 48.390625 \nz\nM 30.609375 56 \nQ 42.328125 56 49.015625 48.375 \nQ 55.71875 40.765625 55.71875 27.296875 \nQ 55.71875 13.875 49.015625 6.21875 \nQ 42.328125 -1.421875 30.609375 -1.421875 \nQ 18.84375 -1.421875 12.171875 6.21875 \nQ 5.515625 13.875 5.515625 27.296875 \nQ 5.515625 40.765625 12.171875 48.375 \nQ 18.84375 56 30.609375 56 \nz\n\" id=\"DejaVuSans-111\"/>\n       <path d=\"M 54.890625 33.015625 \nL 54.890625 0 \nL 45.90625 0 \nL 45.90625 32.71875 \nQ 45.90625 40.484375 42.875 44.328125 \nQ 39.84375 48.1875 33.796875 48.1875 \nQ 26.515625 48.1875 22.3125 43.546875 \nQ 18.109375 38.921875 18.109375 30.90625 \nL 18.109375 0 \nL 9.078125 0 \nL 9.078125 54.6875 \nL 18.109375 54.6875 \nL 18.109375 46.1875 \nQ 21.34375 51.125 25.703125 53.5625 \nQ 30.078125 56 35.796875 56 \nQ 45.21875 56 50.046875 50.171875 \nQ 54.890625 44.34375 54.890625 33.015625 \nz\n\" id=\"DejaVuSans-110\"/>\n      </defs>\n      <use xlink:href=\"#DejaVuSans-105\"/>\n      <use x=\"27.783203\" xlink:href=\"#DejaVuSans-116\"/>\n      <use x=\"66.992188\" xlink:href=\"#DejaVuSans-101\"/>\n      <use x=\"128.515625\" xlink:href=\"#DejaVuSans-114\"/>\n      <use x=\"169.628906\" xlink:href=\"#DejaVuSans-97\"/>\n      <use x=\"230.908203\" xlink:href=\"#DejaVuSans-116\"/>\n      <use x=\"270.117188\" xlink:href=\"#DejaVuSans-105\"/>\n      <use x=\"297.900391\" xlink:href=\"#DejaVuSans-111\"/>\n      <use x=\"359.082031\" xlink:href=\"#DejaVuSans-110\"/>\n     </g>\n    </g>\n   </g>\n   <g id=\"matplotlib.axis_2\">\n    <g id=\"ytick_1\">\n     <g id=\"line2d_6\">\n      <defs>\n       <path d=\"M 0 0 \nL -3.5 0 \n\" id=\"maa3eb74401\" style=\"stroke:#000000;stroke-width:0.8;\"/>\n      </defs>\n      <g>\n       <use style=\"stroke:#000000;stroke-width:0.8;\" x=\"56.50625\" xlink:href=\"#maa3eb74401\" y=\"211.795396\"/>\n      </g>\n     </g>\n     <g id=\"text_7\">\n      <!-- 0.975 -->\n      <g transform=\"translate(20.878125 215.594615)scale(0.1 -0.1)\">\n       <defs>\n        <path d=\"M 10.6875 12.40625 \nL 21 12.40625 \nL 21 0 \nL 10.6875 0 \nz\n\" id=\"DejaVuSans-46\"/>\n        <path d=\"M 10.984375 1.515625 \nL 10.984375 10.5 \nQ 14.703125 8.734375 18.5 7.8125 \nQ 22.3125 6.890625 25.984375 6.890625 \nQ 35.75 6.890625 40.890625 13.453125 \nQ 46.046875 20.015625 46.78125 33.40625 \nQ 43.953125 29.203125 39.59375 26.953125 \nQ 35.25 24.703125 29.984375 24.703125 \nQ 19.046875 24.703125 12.671875 31.3125 \nQ 6.296875 37.9375 6.296875 49.421875 \nQ 6.296875 60.640625 12.9375 67.421875 \nQ 19.578125 74.21875 30.609375 74.21875 \nQ 43.265625 74.21875 49.921875 64.515625 \nQ 56.59375 54.828125 56.59375 36.375 \nQ 56.59375 19.140625 48.40625 8.859375 \nQ 40.234375 -1.421875 26.421875 -1.421875 \nQ 22.703125 -1.421875 18.890625 -0.6875 \nQ 15.09375 0.046875 10.984375 1.515625 \nz\nM 30.609375 32.421875 \nQ 37.25 32.421875 41.125 36.953125 \nQ 45.015625 41.5 45.015625 49.421875 \nQ 45.015625 57.28125 41.125 61.84375 \nQ 37.25 66.40625 30.609375 66.40625 \nQ 23.96875 66.40625 20.09375 61.84375 \nQ 16.21875 57.28125 16.21875 49.421875 \nQ 16.21875 41.5 20.09375 36.953125 \nQ 23.96875 32.421875 30.609375 32.421875 \nz\n\" id=\"DejaVuSans-57\"/>\n        <path d=\"M 8.203125 72.90625 \nL 55.078125 72.90625 \nL 55.078125 68.703125 \nL 28.609375 0 \nL 18.3125 0 \nL 43.21875 64.59375 \nL 8.203125 64.59375 \nz\n\" id=\"DejaVuSans-55\"/>\n        <path d=\"M 10.796875 72.90625 \nL 49.515625 72.90625 \nL 49.515625 64.59375 \nL 19.828125 64.59375 \nL 19.828125 46.734375 \nQ 21.96875 47.46875 24.109375 47.828125 \nQ 26.265625 48.1875 28.421875 48.1875 \nQ 40.625 48.1875 47.75 41.5 \nQ 54.890625 34.8125 54.890625 23.390625 \nQ 54.890625 11.625 47.5625 5.09375 \nQ 40.234375 -1.421875 26.90625 -1.421875 \nQ 22.3125 -1.421875 17.546875 -0.640625 \nQ 12.796875 0.140625 7.71875 1.703125 \nL 7.71875 11.625 \nQ 12.109375 9.234375 16.796875 8.0625 \nQ 21.484375 6.890625 26.703125 6.890625 \nQ 35.15625 6.890625 40.078125 11.328125 \nQ 45.015625 15.765625 45.015625 23.390625 \nQ 45.015625 31 40.078125 35.4375 \nQ 35.15625 39.890625 26.703125 39.890625 \nQ 22.75 39.890625 18.8125 39.015625 \nQ 14.890625 38.140625 10.796875 36.28125 \nz\n\" id=\"DejaVuSans-53\"/>\n       </defs>\n       <use xlink:href=\"#DejaVuSans-48\"/>\n       <use x=\"63.623047\" xlink:href=\"#DejaVuSans-46\"/>\n       <use x=\"95.410156\" xlink:href=\"#DejaVuSans-57\"/>\n       <use x=\"159.033203\" xlink:href=\"#DejaVuSans-55\"/>\n       <use x=\"222.65625\" xlink:href=\"#DejaVuSans-53\"/>\n      </g>\n     </g>\n    </g>\n    <g id=\"ytick_2\">\n     <g id=\"line2d_7\">\n      <g>\n       <use style=\"stroke:#000000;stroke-width:0.8;\" x=\"56.50625\" xlink:href=\"#maa3eb74401\" y=\"175.876669\"/>\n      </g>\n     </g>\n     <g id=\"text_8\">\n      <!-- 0.980 -->\n      <g transform=\"translate(20.878125 179.675888)scale(0.1 -0.1)\">\n       <use xlink:href=\"#DejaVuSans-48\"/>\n       <use x=\"63.623047\" xlink:href=\"#DejaVuSans-46\"/>\n       <use x=\"95.410156\" xlink:href=\"#DejaVuSans-57\"/>\n       <use x=\"159.033203\" xlink:href=\"#DejaVuSans-56\"/>\n       <use x=\"222.65625\" xlink:href=\"#DejaVuSans-48\"/>\n      </g>\n     </g>\n    </g>\n    <g id=\"ytick_3\">\n     <g id=\"line2d_8\">\n      <g>\n       <use style=\"stroke:#000000;stroke-width:0.8;\" x=\"56.50625\" xlink:href=\"#maa3eb74401\" y=\"139.957942\"/>\n      </g>\n     </g>\n     <g id=\"text_9\">\n      <!-- 0.985 -->\n      <g transform=\"translate(20.878125 143.757161)scale(0.1 -0.1)\">\n       <use xlink:href=\"#DejaVuSans-48\"/>\n       <use x=\"63.623047\" xlink:href=\"#DejaVuSans-46\"/>\n       <use x=\"95.410156\" xlink:href=\"#DejaVuSans-57\"/>\n       <use x=\"159.033203\" xlink:href=\"#DejaVuSans-56\"/>\n       <use x=\"222.65625\" xlink:href=\"#DejaVuSans-53\"/>\n      </g>\n     </g>\n    </g>\n    <g id=\"ytick_4\">\n     <g id=\"line2d_9\">\n      <g>\n       <use style=\"stroke:#000000;stroke-width:0.8;\" x=\"56.50625\" xlink:href=\"#maa3eb74401\" y=\"104.039215\"/>\n      </g>\n     </g>\n     <g id=\"text_10\">\n      <!-- 0.990 -->\n      <g transform=\"translate(20.878125 107.838434)scale(0.1 -0.1)\">\n       <use xlink:href=\"#DejaVuSans-48\"/>\n       <use x=\"63.623047\" xlink:href=\"#DejaVuSans-46\"/>\n       <use x=\"95.410156\" xlink:href=\"#DejaVuSans-57\"/>\n       <use x=\"159.033203\" xlink:href=\"#DejaVuSans-57\"/>\n       <use x=\"222.65625\" xlink:href=\"#DejaVuSans-48\"/>\n      </g>\n     </g>\n    </g>\n    <g id=\"ytick_5\">\n     <g id=\"line2d_10\">\n      <g>\n       <use style=\"stroke:#000000;stroke-width:0.8;\" x=\"56.50625\" xlink:href=\"#maa3eb74401\" y=\"68.120488\"/>\n      </g>\n     </g>\n     <g id=\"text_11\">\n      <!-- 0.995 -->\n      <g transform=\"translate(20.878125 71.919707)scale(0.1 -0.1)\">\n       <use xlink:href=\"#DejaVuSans-48\"/>\n       <use x=\"63.623047\" xlink:href=\"#DejaVuSans-46\"/>\n       <use x=\"95.410156\" xlink:href=\"#DejaVuSans-57\"/>\n       <use x=\"159.033203\" xlink:href=\"#DejaVuSans-57\"/>\n       <use x=\"222.65625\" xlink:href=\"#DejaVuSans-53\"/>\n      </g>\n     </g>\n    </g>\n    <g id=\"ytick_6\">\n     <g id=\"line2d_11\">\n      <g>\n       <use style=\"stroke:#000000;stroke-width:0.8;\" x=\"56.50625\" xlink:href=\"#maa3eb74401\" y=\"32.201761\"/>\n      </g>\n     </g>\n     <g id=\"text_12\">\n      <!-- 1.000 -->\n      <g transform=\"translate(20.878125 36.00098)scale(0.1 -0.1)\">\n       <use xlink:href=\"#DejaVuSans-49\"/>\n       <use x=\"63.623047\" xlink:href=\"#DejaVuSans-46\"/>\n       <use x=\"95.410156\" xlink:href=\"#DejaVuSans-48\"/>\n       <use x=\"159.033203\" xlink:href=\"#DejaVuSans-48\"/>\n       <use x=\"222.65625\" xlink:href=\"#DejaVuSans-48\"/>\n      </g>\n     </g>\n    </g>\n    <g id=\"text_13\">\n     <!-- accuracy -->\n     <g transform=\"translate(14.798437 153.5975)rotate(-90)scale(0.1 -0.1)\">\n      <defs>\n       <path d=\"M 48.78125 52.59375 \nL 48.78125 44.1875 \nQ 44.96875 46.296875 41.140625 47.34375 \nQ 37.3125 48.390625 33.40625 48.390625 \nQ 24.65625 48.390625 19.8125 42.84375 \nQ 14.984375 37.3125 14.984375 27.296875 \nQ 14.984375 17.28125 19.8125 11.734375 \nQ 24.65625 6.203125 33.40625 6.203125 \nQ 37.3125 6.203125 41.140625 7.25 \nQ 44.96875 8.296875 48.78125 10.40625 \nL 48.78125 2.09375 \nQ 45.015625 0.34375 40.984375 -0.53125 \nQ 36.96875 -1.421875 32.421875 -1.421875 \nQ 20.0625 -1.421875 12.78125 6.34375 \nQ 5.515625 14.109375 5.515625 27.296875 \nQ 5.515625 40.671875 12.859375 48.328125 \nQ 20.21875 56 33.015625 56 \nQ 37.15625 56 41.109375 55.140625 \nQ 45.0625 54.296875 48.78125 52.59375 \nz\n\" id=\"DejaVuSans-99\"/>\n       <path d=\"M 8.5 21.578125 \nL 8.5 54.6875 \nL 17.484375 54.6875 \nL 17.484375 21.921875 \nQ 17.484375 14.15625 20.5 10.265625 \nQ 23.53125 6.390625 29.59375 6.390625 \nQ 36.859375 6.390625 41.078125 11.03125 \nQ 45.3125 15.671875 45.3125 23.6875 \nL 45.3125 54.6875 \nL 54.296875 54.6875 \nL 54.296875 0 \nL 45.3125 0 \nL 45.3125 8.40625 \nQ 42.046875 3.421875 37.71875 1 \nQ 33.40625 -1.421875 27.6875 -1.421875 \nQ 18.265625 -1.421875 13.375 4.4375 \nQ 8.5 10.296875 8.5 21.578125 \nz\nM 31.109375 56 \nz\n\" id=\"DejaVuSans-117\"/>\n       <path d=\"M 32.171875 -5.078125 \nQ 28.375 -14.84375 24.75 -17.8125 \nQ 21.140625 -20.796875 15.09375 -20.796875 \nL 7.90625 -20.796875 \nL 7.90625 -13.28125 \nL 13.1875 -13.28125 \nQ 16.890625 -13.28125 18.9375 -11.515625 \nQ 21 -9.765625 23.484375 -3.21875 \nL 25.09375 0.875 \nL 2.984375 54.6875 \nL 12.5 54.6875 \nL 29.59375 11.921875 \nL 46.6875 54.6875 \nL 56.203125 54.6875 \nz\n\" id=\"DejaVuSans-121\"/>\n      </defs>\n      <use xlink:href=\"#DejaVuSans-97\"/>\n      <use x=\"61.279297\" xlink:href=\"#DejaVuSans-99\"/>\n      <use x=\"116.259766\" xlink:href=\"#DejaVuSans-99\"/>\n      <use x=\"171.240234\" xlink:href=\"#DejaVuSans-117\"/>\n      <use x=\"234.619141\" xlink:href=\"#DejaVuSans-114\"/>\n      <use x=\"275.732422\" xlink:href=\"#DejaVuSans-97\"/>\n      <use x=\"337.011719\" xlink:href=\"#DejaVuSans-99\"/>\n      <use x=\"391.992188\" xlink:href=\"#DejaVuSans-121\"/>\n     </g>\n    </g>\n   </g>\n   <g id=\"line2d_12\">\n    <path clip-path=\"url(#pd20b3cba4e)\" d=\"M 71.724432 32.201761 \nL 105.542614 32.201761 \nL 139.360795 32.201761 \nL 173.178977 32.201761 \nL 206.997159 32.201761 \nL 240.815341 32.201761 \nL 274.633523 32.201761 \nL 308.451705 32.201761 \nL 342.269886 32.201761 \nL 376.088068 32.201761 \n\" style=\"fill:none;stroke:#000000;stroke-dasharray:5.55,2.4;stroke-dashoffset:0;stroke-width:1.5;\"/>\n   </g>\n   <g id=\"line2d_13\">\n    <path clip-path=\"url(#pd20b3cba4e)\" d=\"M 71.724432 229.874489 \nL 105.542614 182.461769 \nL 139.360795 168.692924 \nL 173.178977 144.268189 \nL 206.997159 128.942866 \nL 240.815341 121.998579 \nL 274.633523 121.87885 \nL 308.451705 127.985033 \nL 342.269886 130.379615 \nL 376.088068 150.853289 \n\" style=\"fill:none;stroke:#ff0000;stroke-linecap:square;stroke-width:1.5;\"/>\n   </g>\n   <g id=\"patch_3\">\n    <path d=\"M 56.50625 239.758125 \nL 56.50625 22.318125 \n\" style=\"fill:none;stroke:#000000;stroke-linecap:square;stroke-linejoin:miter;stroke-width:0.8;\"/>\n   </g>\n   <g id=\"patch_4\">\n    <path d=\"M 391.30625 239.758125 \nL 391.30625 22.318125 \n\" style=\"fill:none;stroke:#000000;stroke-linecap:square;stroke-linejoin:miter;stroke-width:0.8;\"/>\n   </g>\n   <g id=\"patch_5\">\n    <path d=\"M 56.50625 239.758125 \nL 391.30625 239.758125 \n\" style=\"fill:none;stroke:#000000;stroke-linecap:square;stroke-linejoin:miter;stroke-width:0.8;\"/>\n   </g>\n   <g id=\"patch_6\">\n    <path d=\"M 56.50625 22.318125 \nL 391.30625 22.318125 \n\" style=\"fill:none;stroke:#000000;stroke-linecap:square;stroke-linejoin:miter;stroke-width:0.8;\"/>\n   </g>\n   <g id=\"text_14\">\n    <!-- ACCURACY -->\n    <g transform=\"translate(191.458438 16.318125)scale(0.12 -0.12)\">\n     <defs>\n      <path d=\"M 34.1875 63.1875 \nL 20.796875 26.90625 \nL 47.609375 26.90625 \nz\nM 28.609375 72.90625 \nL 39.796875 72.90625 \nL 67.578125 0 \nL 57.328125 0 \nL 50.6875 18.703125 \nL 17.828125 18.703125 \nL 11.1875 0 \nL 0.78125 0 \nz\n\" id=\"DejaVuSans-65\"/>\n      <path d=\"M 64.40625 67.28125 \nL 64.40625 56.890625 \nQ 59.421875 61.53125 53.78125 63.8125 \nQ 48.140625 66.109375 41.796875 66.109375 \nQ 29.296875 66.109375 22.65625 58.46875 \nQ 16.015625 50.828125 16.015625 36.375 \nQ 16.015625 21.96875 22.65625 14.328125 \nQ 29.296875 6.6875 41.796875 6.6875 \nQ 48.140625 6.6875 53.78125 8.984375 \nQ 59.421875 11.28125 64.40625 15.921875 \nL 64.40625 5.609375 \nQ 59.234375 2.09375 53.4375 0.328125 \nQ 47.65625 -1.421875 41.21875 -1.421875 \nQ 24.65625 -1.421875 15.125 8.703125 \nQ 5.609375 18.84375 5.609375 36.375 \nQ 5.609375 53.953125 15.125 64.078125 \nQ 24.65625 74.21875 41.21875 74.21875 \nQ 47.75 74.21875 53.53125 72.484375 \nQ 59.328125 70.75 64.40625 67.28125 \nz\n\" id=\"DejaVuSans-67\"/>\n      <path d=\"M 8.6875 72.90625 \nL 18.609375 72.90625 \nL 18.609375 28.609375 \nQ 18.609375 16.890625 22.84375 11.734375 \nQ 27.09375 6.59375 36.625 6.59375 \nQ 46.09375 6.59375 50.34375 11.734375 \nQ 54.59375 16.890625 54.59375 28.609375 \nL 54.59375 72.90625 \nL 64.5 72.90625 \nL 64.5 27.390625 \nQ 64.5 13.140625 57.4375 5.859375 \nQ 50.390625 -1.421875 36.625 -1.421875 \nQ 22.796875 -1.421875 15.734375 5.859375 \nQ 8.6875 13.140625 8.6875 27.390625 \nz\n\" id=\"DejaVuSans-85\"/>\n      <path d=\"M 44.390625 34.1875 \nQ 47.5625 33.109375 50.5625 29.59375 \nQ 53.5625 26.078125 56.59375 19.921875 \nL 66.609375 0 \nL 56 0 \nL 46.6875 18.703125 \nQ 43.0625 26.03125 39.671875 28.421875 \nQ 36.28125 30.8125 30.421875 30.8125 \nL 19.671875 30.8125 \nL 19.671875 0 \nL 9.8125 0 \nL 9.8125 72.90625 \nL 32.078125 72.90625 \nQ 44.578125 72.90625 50.734375 67.671875 \nQ 56.890625 62.453125 56.890625 51.90625 \nQ 56.890625 45.015625 53.6875 40.46875 \nQ 50.484375 35.9375 44.390625 34.1875 \nz\nM 19.671875 64.796875 \nL 19.671875 38.921875 \nL 32.078125 38.921875 \nQ 39.203125 38.921875 42.84375 42.21875 \nQ 46.484375 45.515625 46.484375 51.90625 \nQ 46.484375 58.296875 42.84375 61.546875 \nQ 39.203125 64.796875 32.078125 64.796875 \nz\n\" id=\"DejaVuSans-82\"/>\n      <path d=\"M -0.203125 72.90625 \nL 10.40625 72.90625 \nL 30.609375 42.921875 \nL 50.6875 72.90625 \nL 61.28125 72.90625 \nL 35.5 34.71875 \nL 35.5 0 \nL 25.59375 0 \nL 25.59375 34.71875 \nz\n\" id=\"DejaVuSans-89\"/>\n     </defs>\n     <use xlink:href=\"#DejaVuSans-65\"/>\n     <use x=\"66.658203\" xlink:href=\"#DejaVuSans-67\"/>\n     <use x=\"136.482422\" xlink:href=\"#DejaVuSans-67\"/>\n     <use x=\"206.306641\" xlink:href=\"#DejaVuSans-85\"/>\n     <use x=\"279.5\" xlink:href=\"#DejaVuSans-82\"/>\n     <use x=\"344.982422\" xlink:href=\"#DejaVuSans-65\"/>\n     <use x=\"411.640625\" xlink:href=\"#DejaVuSans-67\"/>\n     <use x=\"479.714844\" xlink:href=\"#DejaVuSans-89\"/>\n    </g>\n   </g>\n   <g id=\"legend_1\">\n    <g id=\"patch_7\">\n     <path d=\"M 307.1875 234.758125 \nL 384.30625 234.758125 \nQ 386.30625 234.758125 386.30625 232.758125 \nL 386.30625 219.08 \nQ 386.30625 217.08 384.30625 217.08 \nL 307.1875 217.08 \nQ 305.1875 217.08 305.1875 219.08 \nL 305.1875 232.758125 \nQ 305.1875 234.758125 307.1875 234.758125 \nz\n\" style=\"fill:#ffffff;opacity:0.8;stroke:#cccccc;stroke-linejoin:miter;\"/>\n    </g>\n    <g id=\"line2d_14\">\n     <path d=\"M 309.1875 225.178437 \nL 329.1875 225.178437 \n\" style=\"fill:none;stroke:#ff0000;stroke-linecap:square;stroke-width:1.5;\"/>\n    </g>\n    <g id=\"line2d_15\"/>\n    <g id=\"text_15\">\n     <!-- accuracy -->\n     <g transform=\"translate(337.1875 228.678437)scale(0.1 -0.1)\">\n      <use xlink:href=\"#DejaVuSans-97\"/>\n      <use x=\"61.279297\" xlink:href=\"#DejaVuSans-99\"/>\n      <use x=\"116.259766\" xlink:href=\"#DejaVuSans-99\"/>\n      <use x=\"171.240234\" xlink:href=\"#DejaVuSans-117\"/>\n      <use x=\"234.619141\" xlink:href=\"#DejaVuSans-114\"/>\n      <use x=\"275.732422\" xlink:href=\"#DejaVuSans-97\"/>\n      <use x=\"337.011719\" xlink:href=\"#DejaVuSans-99\"/>\n      <use x=\"391.992188\" xlink:href=\"#DejaVuSans-121\"/>\n     </g>\n    </g>\n   </g>\n  </g>\n </g>\n <defs>\n  <clipPath id=\"pd20b3cba4e\">\n   <rect height=\"217.44\" width=\"334.8\" x=\"56.50625\" y=\"22.318125\"/>\n  </clipPath>\n </defs>\n</svg>\n",
      "image/png": "[encoded data removed]"
     },
     "metadata": {
      "needs_background": "light"
     }
    }
   ],
   "source": [
    "_ = plt.plot(axis, one, linestyle = 'dashed', color = 'black')\n",
    "_ = plt.plot(axis, accuracies, label = 'accuracy', color = 'red')\n",
    "__ = plt.xlabel('iteration') \n",
    "___ = plt.ylabel('accuracy')\n",
    "____ = plt.title('ACCURACY')\n",
    "_____ = plt.legend()"
   ]
  },
  {
   "source": [
    "**Observation:** It is possible to notice that pruning to much decreases performaces."
   ],
   "cell_type": "markdown",
   "metadata": {}
  },
  {
   "source": [
    "## Pruning with lower pruning rate"
   ],
   "cell_type": "markdown",
   "metadata": {}
  },
  {
   "source": [
    "Given the last observation, we now try to prune with lower pruning rate."
   ],
   "cell_type": "markdown",
   "metadata": {}
  },
  {
   "cell_type": "code",
   "execution_count": 30,
   "metadata": {},
   "outputs": [],
   "source": [
    "layers = [\n",
    "    {\"n_in\": 784, \"n_out\": 16, \"batchnorm\": False},\n",
    "    {\"n_out\": 32, \"batchnorm\": True},\n",
    "    {\"n_out\": 64, \"batchnorm\": True},\n",
    "    {\"n_out\": 10, \"batchnorm\": True}\n",
    "]\n",
    "net = architectures.MLPCustom(layers)"
   ]
  },
  {
   "cell_type": "code",
   "execution_count": 31,
   "metadata": {},
   "outputs": [],
   "source": [
    "trainloader, testloader, _, _ = mnist.get_data()\n",
    "loss_fn = torch.nn.CrossEntropyLoss()"
   ]
  },
  {
   "cell_type": "code",
   "execution_count": 32,
   "metadata": {},
   "outputs": [
    {
     "output_type": "stream",
     "name": "stdout",
     "text": [
      "TESTING - loss 7349.624578475952 - performance 0.9631333333333333\n"
     ]
    },
    {
     "output_type": "execute_result",
     "data": {
      "text/plain": [
       "(7349.624578475952, 0.9631333333333333)"
      ]
     },
     "metadata": {},
     "execution_count": 32
    }
   ],
   "source": [
    "# load pretrained model\n",
    "state_dict = torch.load(\"models_push/mlp_custom_mnist/mlp_custom_mnist.pt\")\n",
    "net.load_state_dict(state_dict)\n",
    "train.test_model(net, testloader, loss_fn=loss_fn)"
   ]
  },
  {
   "cell_type": "code",
   "execution_count": 33,
   "metadata": {},
   "outputs": [],
   "source": [
    "learning_rate = 0.01\n",
    "num_epochs = 15\n",
    "optimizer = torch.optim.Adam(net.parameters(), lr = learning_rate)"
   ]
  },
  {
   "cell_type": "code",
   "execution_count": 34,
   "metadata": {},
   "outputs": [],
   "source": [
    "pruning_rate = 0.05\n",
    "mask, pars_to_prune = magnitude_pruning(net, pruning_rate)"
   ]
  },
  {
   "cell_type": "code",
   "execution_count": 35,
   "metadata": {},
   "outputs": [
    {
     "output_type": "stream",
     "name": "stdout",
     "text": [
      "zeros in first mask:  793\n"
     ]
    }
   ],
   "source": [
    "# counting of zeros at the \"starting point\" mask\n",
    "zeros_mask_first = 0\n",
    "for m in mask:\n",
    "    zeros_mask_first += count_zeros(m)\n",
    "print('zeros in first mask: ', zeros_mask_first)"
   ]
  },
  {
   "cell_type": "code",
   "execution_count": 36,
   "metadata": {},
   "outputs": [
    {
     "output_type": "stream",
     "name": "stdout",
     "text": [
      "Epoch 1 --- learning rate 0.01000\n",
      "Epoch 1 completed. Loss - total: 13109.16258096695 - average: 0.21848604301611582; Performance: 0.93255\n",
      "Epoch 2 --- learning rate 0.01000\n",
      "Epoch 2 completed. Loss - total: 9410.602283000946 - average: 0.1568433713833491; Performance: 0.95165\n",
      "Epoch 3 --- learning rate 0.01000\n",
      "Epoch 3 completed. Loss - total: 8245.936553001404 - average: 0.13743227588335674; Performance: 0.9572666666666667\n",
      "Epoch 4 --- learning rate 0.01000\n",
      "Epoch 4 completed. Loss - total: 7210.423550367355 - average: 0.12017372583945592; Performance: 0.9617666666666667\n",
      "Epoch 5 --- learning rate 0.01000\n",
      "Epoch 5 completed. Loss - total: 6673.47869849205 - average: 0.1112246449748675; Performance: 0.9651\n",
      "Epoch 6 --- learning rate 0.01000\n",
      "Epoch 6 completed. Loss - total: 6263.219788551331 - average: 0.1043869964758555; Performance: 0.9673\n",
      "Epoch 7 --- learning rate 0.01000\n",
      "Epoch 7 completed. Loss - total: 5953.393025398254 - average: 0.09922321708997091; Performance: 0.9681833333333333\n",
      "Epoch 8 --- learning rate 0.01000\n",
      "Epoch 8 completed. Loss - total: 5698.351965904236 - average: 0.0949725327650706; Performance: 0.96995\n",
      "Epoch 9 --- learning rate 0.01000\n",
      "Epoch 9 completed. Loss - total: 5385.022655427456 - average: 0.08975037759045759; Performance: 0.97125\n",
      "Epoch 10 --- learning rate 0.01000\n",
      "Epoch 10 completed. Loss - total: 5125.563920259476 - average: 0.08542606533765792; Performance: 0.97115\n",
      "Epoch 11 --- learning rate 0.01000\n",
      "Epoch 11 completed. Loss - total: 4924.44601392746 - average: 0.08207410023212433; Performance: 0.9734166666666667\n",
      "Epoch 12 --- learning rate 0.01000\n",
      "Epoch 12 completed. Loss - total: 4780.392597436905 - average: 0.07967320995728175; Performance: 0.9735166666666667\n",
      "Epoch 13 --- learning rate 0.01000\n",
      "Epoch 13 completed. Loss - total: 4599.984525442123 - average: 0.07666640875736873; Performance: 0.9755166666666667\n",
      "Epoch 14 --- learning rate 0.01000\n",
      "Epoch 14 completed. Loss - total: 4487.844092965126 - average: 0.07479740154941877; Performance: 0.9752833333333333\n",
      "Epoch 15 --- learning rate 0.01000\n",
      "Epoch 15 completed. Loss - total: 4182.525633811951 - average: 0.0697087605635325; Performance: 0.9773\n",
      "zeros in last mask:  1546\n",
      "Iteration 1 completed\n",
      "----------------------\n",
      "Epoch 1 --- learning rate 0.01000\n",
      "Epoch 1 completed. Loss - total: 4306.1843156814575 - average: 0.07176973859469096; Performance: 0.9755333333333334\n",
      "Epoch 2 --- learning rate 0.01000\n",
      "Epoch 2 completed. Loss - total: 4110.318442702293 - average: 0.06850530737837156; Performance: 0.9770166666666666\n",
      "Epoch 3 --- learning rate 0.01000\n",
      "Epoch 3 completed. Loss - total: 3956.2005603313446 - average: 0.06593667600552242; Performance: 0.9776666666666667\n",
      "Epoch 4 --- learning rate 0.01000\n",
      "Epoch 4 completed. Loss - total: 3701.4977725744247 - average: 0.06169162954290708; Performance: 0.97915\n",
      "Epoch 5 --- learning rate 0.01000\n",
      "Epoch 5 completed. Loss - total: 3803.655706882477 - average: 0.06339426178137461; Performance: 0.9788666666666667\n",
      "Epoch 6 --- learning rate 0.01000\n",
      "Epoch 6 completed. Loss - total: 3540.50490295887 - average: 0.0590084150493145; Performance: 0.9805666666666667\n",
      "Epoch 7 --- learning rate 0.01000\n",
      "Epoch 7 completed. Loss - total: 3565.678347349167 - average: 0.05942797245581945; Performance: 0.9800166666666666\n",
      "Epoch 8 --- learning rate 0.01000\n",
      "Epoch 8 completed. Loss - total: 3494.0814797878265 - average: 0.05823469132979711; Performance: 0.9801\n",
      "Epoch 9 --- learning rate 0.01000\n",
      "Epoch 9 completed. Loss - total: 3550.5400047302246 - average: 0.059175666745503744; Performance: 0.9800666666666666\n",
      "Epoch 10 --- learning rate 0.01000\n",
      "Epoch 10 completed. Loss - total: 3432.8090360164642 - average: 0.057213483933607735; Performance: 0.9806333333333334\n",
      "Epoch 11 --- learning rate 0.01000\n",
      "Epoch 11 completed. Loss - total: 3206.604609966278 - average: 0.053443410166104634; Performance: 0.9817833333333333\n",
      "Epoch 12 --- learning rate 0.01000\n",
      "Epoch 12 completed. Loss - total: 3041.743178844452 - average: 0.05069571964740753; Performance: 0.98265\n",
      "Epoch 13 --- learning rate 0.01000\n",
      "Epoch 13 completed. Loss - total: 3008.482998251915 - average: 0.05014138330419858; Performance: 0.9829333333333333\n",
      "Epoch 14 --- learning rate 0.01000\n",
      "Epoch 14 completed. Loss - total: 3091.6070013046265 - average: 0.051526783355077106; Performance: 0.9813\n",
      "Epoch 15 --- learning rate 0.01000\n",
      "Epoch 15 completed. Loss - total: 3127.3178375959396 - average: 0.05212196395993233; Performance: 0.9820833333333333\n",
      "zeros in last mask:  1942\n",
      "Iteration 2 completed\n",
      "----------------------\n",
      "Epoch 1 --- learning rate 0.01000\n",
      "Epoch 1 completed. Loss - total: 2991.7368342876434 - average: 0.04986228057146072; Performance: 0.9826666666666667\n",
      "Epoch 2 --- learning rate 0.01000\n",
      "Epoch 2 completed. Loss - total: 2766.9369716644287 - average: 0.04611561619440715; Performance: 0.9839833333333333\n",
      "Epoch 3 --- learning rate 0.01000\n",
      "Epoch 3 completed. Loss - total: 2863.510725736618 - average: 0.04772517876227697; Performance: 0.9837166666666667\n",
      "Epoch 4 --- learning rate 0.01000\n",
      "Epoch 4 completed. Loss - total: 2811.4016201496124 - average: 0.046856693669160204; Performance: 0.9839\n",
      "Epoch 5 --- learning rate 0.01000\n",
      "Epoch 5 completed. Loss - total: 2683.159875690937 - average: 0.044719331261515616; Performance: 0.9846166666666667\n",
      "Epoch 6 --- learning rate 0.01000\n",
      "Epoch 6 completed. Loss - total: 2683.060264289379 - average: 0.044717671071489655; Performance: 0.9848166666666667\n",
      "Epoch 7 --- learning rate 0.01000\n",
      "Epoch 7 completed. Loss - total: 2584.2968368530273 - average: 0.043071613947550456; Performance: 0.9849333333333333\n",
      "Epoch 8 --- learning rate 0.01000\n",
      "Epoch 8 completed. Loss - total: 2656.4943886995316 - average: 0.04427490647832553; Performance: 0.9851333333333333\n",
      "Epoch 9 --- learning rate 0.01000\n",
      "Epoch 9 completed. Loss - total: 2601.348351120949 - average: 0.043355805852015816; Performance: 0.98525\n",
      "Epoch 10 --- learning rate 0.01000\n",
      "Epoch 10 completed. Loss - total: 2469.408739387989 - average: 0.04115681232313315; Performance: 0.98595\n",
      "Epoch 11 --- learning rate 0.01000\n",
      "Epoch 11 completed. Loss - total: 2445.837925553322 - average: 0.0407639654258887; Performance: 0.9861166666666666\n",
      "Epoch 12 --- learning rate 0.01000\n",
      "Epoch 12 completed. Loss - total: 2432.360758662224 - average: 0.04053934597770373; Performance: 0.9859166666666667\n",
      "Epoch 13 --- learning rate 0.01000\n",
      "Epoch 13 completed. Loss - total: 2455.741292119026 - average: 0.040929021535317106; Performance: 0.9857\n",
      "Epoch 14 --- learning rate 0.01000\n",
      "Epoch 14 completed. Loss - total: 2342.085376381874 - average: 0.03903475627303123; Performance: 0.9862\n",
      "Epoch 15 --- learning rate 0.01000\n",
      "Epoch 15 completed. Loss - total: 2345.4598140716553 - average: 0.039090996901194254; Performance: 0.9860166666666667\n",
      "zeros in last mask:  2412\n",
      "Iteration 3 completed\n",
      "----------------------\n",
      "Epoch 1 --- learning rate 0.01000\n",
      "Epoch 1 completed. Loss - total: 2349.831971049309 - average: 0.03916386618415515; Performance: 0.9864166666666667\n",
      "Epoch 2 --- learning rate 0.01000\n",
      "Epoch 2 completed. Loss - total: 2281.1118549108505 - average: 0.03801853091518084; Performance: 0.9867666666666667\n",
      "Epoch 3 --- learning rate 0.01000\n",
      "Epoch 3 completed. Loss - total: 2392.3572705984116 - average: 0.03987262117664019; Performance: 0.9858666666666667\n",
      "Epoch 4 --- learning rate 0.01000\n",
      "Epoch 4 completed. Loss - total: 2150.780044198036 - average: 0.03584633406996727; Performance: 0.9877333333333334\n",
      "Epoch 5 --- learning rate 0.01000\n",
      "Epoch 5 completed. Loss - total: 2205.9758670330048 - average: 0.036766264450550076; Performance: 0.9869833333333333\n",
      "Epoch 6 --- learning rate 0.01000\n",
      "Epoch 6 completed. Loss - total: 2202.533867955208 - average: 0.036708897799253466; Performance: 0.9874333333333334\n",
      "Epoch 7 --- learning rate 0.01000\n",
      "Epoch 7 completed. Loss - total: 2030.1986865401268 - average: 0.03383664477566878; Performance: 0.9881666666666666\n",
      "Epoch 8 --- learning rate 0.01000\n",
      "Epoch 8 completed. Loss - total: 2122.441576242447 - average: 0.035374026270707445; Performance: 0.9878\n",
      "Epoch 9 --- learning rate 0.01000\n",
      "Epoch 9 completed. Loss - total: 1987.9444335103035 - average: 0.033132407225171724; Performance: 0.98835\n",
      "Epoch 10 --- learning rate 0.01000\n",
      "Epoch 10 completed. Loss - total: 2098.0247631669044 - average: 0.034967079386115076; Performance: 0.9876666666666667\n",
      "Epoch 11 --- learning rate 0.01000\n",
      "Epoch 11 completed. Loss - total: 2197.929663181305 - average: 0.03663216105302175; Performance: 0.9872333333333333\n",
      "Epoch 12 --- learning rate 0.01000\n",
      "Epoch 12 completed. Loss - total: 1899.9387626945972 - average: 0.031665646044909956; Performance: 0.98905\n",
      "Epoch 13 --- learning rate 0.01000\n",
      "Epoch 13 completed. Loss - total: 2035.382587134838 - average: 0.03392304311891397; Performance: 0.9877333333333334\n",
      "Epoch 14 --- learning rate 0.01000\n",
      "Epoch 14 completed. Loss - total: 2053.4734510183334 - average: 0.034224557516972225; Performance: 0.988\n",
      "Epoch 15 --- learning rate 0.01000\n",
      "Epoch 15 completed. Loss - total: 1881.8703001737595 - average: 0.03136450500289599; Performance: 0.9886166666666667\n",
      "zeros in last mask:  2802\n",
      "Iteration 4 completed\n",
      "----------------------\n",
      "Epoch 1 --- learning rate 0.01000\n",
      "Epoch 1 completed. Loss - total: 1926.0599133968353 - average: 0.03210099855661392; Performance: 0.9886333333333334\n",
      "Epoch 2 --- learning rate 0.01000\n",
      "Epoch 2 completed. Loss - total: 1949.3853297829628 - average: 0.032489755496382715; Performance: 0.9886666666666667\n",
      "Epoch 3 --- learning rate 0.01000\n",
      "Epoch 3 completed. Loss - total: 1896.1040443181992 - average: 0.031601734071969985; Performance: 0.9889833333333333\n",
      "Epoch 4 --- learning rate 0.01000\n",
      "Epoch 4 completed. Loss - total: 1851.5683950185776 - average: 0.030859473250309626; Performance: 0.9890833333333333\n",
      "Epoch 5 --- learning rate 0.01000\n",
      "Epoch 5 completed. Loss - total: 1833.7633836567402 - average: 0.03056272306094567; Performance: 0.9887333333333334\n",
      "Epoch 6 --- learning rate 0.01000\n",
      "Epoch 6 completed. Loss - total: 1678.459037847817 - average: 0.027974317297463615; Performance: 0.9898666666666667\n",
      "Epoch 7 --- learning rate 0.01000\n",
      "Epoch 7 completed. Loss - total: 1840.09494805336 - average: 0.030668249134222666; Performance: 0.9891833333333333\n",
      "Epoch 8 --- learning rate 0.01000\n",
      "Epoch 8 completed. Loss - total: 1858.582109004259 - average: 0.030976368483404317; Performance: 0.9894333333333334\n",
      "Epoch 9 --- learning rate 0.01000\n",
      "Epoch 9 completed. Loss - total: 1847.3046006560326 - average: 0.030788410010933877; Performance: 0.9896666666666667\n",
      "Epoch 10 --- learning rate 0.01000\n",
      "Epoch 10 completed. Loss - total: 1728.3488917946815 - average: 0.028805814863244694; Performance: 0.9894666666666667\n",
      "Epoch 11 --- learning rate 0.01000\n",
      "Epoch 11 completed. Loss - total: 1680.4023909568787 - average: 0.028006706515947978; Performance: 0.9903666666666666\n",
      "Epoch 12 --- learning rate 0.01000\n",
      "Epoch 12 completed. Loss - total: 1721.9712520837784 - average: 0.02869952086806297; Performance: 0.9899666666666667\n",
      "Epoch 13 --- learning rate 0.01000\n",
      "Epoch 13 completed. Loss - total: 1612.6772284209728 - average: 0.026877953807016214; Performance: 0.9905666666666667\n",
      "Epoch 14 --- learning rate 0.01000\n",
      "Epoch 14 completed. Loss - total: 1734.9141308963299 - average: 0.028915235514938832; Performance: 0.9897\n",
      "Epoch 15 --- learning rate 0.01000\n",
      "Epoch 15 completed. Loss - total: 1560.081344395876 - average: 0.026001355739931266; Performance: 0.9905666666666667\n",
      "zeros in last mask:  3260\n",
      "Iteration 5 completed\n",
      "----------------------\n",
      "Epoch 1 --- learning rate 0.01000\n",
      "Epoch 1 completed. Loss - total: 1508.1299673318863 - average: 0.025135499455531438; Performance: 0.9911166666666666\n",
      "Epoch 2 --- learning rate 0.01000\n",
      "Epoch 2 completed. Loss - total: 1564.9158716797829 - average: 0.02608193119466305; Performance: 0.9903833333333333\n",
      "Epoch 3 --- learning rate 0.01000\n",
      "Epoch 3 completed. Loss - total: 1618.8733701109886 - average: 0.026981222835183144; Performance: 0.9909333333333333\n",
      "Epoch 4 --- learning rate 0.01000\n",
      "Epoch 4 completed. Loss - total: 1661.7074747085571 - average: 0.027695124578475953; Performance: 0.99035\n",
      "Epoch 5 --- learning rate 0.01000\n",
      "Epoch 5 completed. Loss - total: 1680.6665807366371 - average: 0.028011109678943952; Performance: 0.99025\n",
      "Epoch 6 --- learning rate 0.01000\n",
      "Epoch 6 completed. Loss - total: 1414.1939132511616 - average: 0.023569898554186026; Performance: 0.9915166666666667\n",
      "Epoch 7 --- learning rate 0.01000\n",
      "Epoch 7 completed. Loss - total: 1492.8175919055939 - average: 0.024880293198426565; Performance: 0.99115\n",
      "Epoch 8 --- learning rate 0.01000\n",
      "Epoch 8 completed. Loss - total: 1547.0032265484333 - average: 0.025783387109140556; Performance: 0.99105\n",
      "Epoch 9 --- learning rate 0.01000\n",
      "Epoch 9 completed. Loss - total: 1463.3582043349743 - average: 0.024389303405582905; Performance: 0.9915333333333334\n",
      "Epoch 10 --- learning rate 0.01000\n",
      "Epoch 10 completed. Loss - total: 1566.8471915125847 - average: 0.02611411985854308; Performance: 0.9911166666666666\n",
      "Epoch 11 --- learning rate 0.01000\n",
      "Epoch 11 completed. Loss - total: 1639.6035895347595 - average: 0.027326726492245993; Performance: 0.9906833333333334\n",
      "Epoch 12 --- learning rate 0.01000\n",
      "Epoch 12 completed. Loss - total: 1568.5796563327312 - average: 0.026142994272212186; Performance: 0.9904666666666667\n",
      "Epoch 13 --- learning rate 0.01000\n",
      "Epoch 13 completed. Loss - total: 1515.9370175004005 - average: 0.02526561695834001; Performance: 0.9913166666666666\n",
      "Epoch 14 --- learning rate 0.01000\n",
      "Epoch 14 completed. Loss - total: 1377.4836587309837 - average: 0.02295806097884973; Performance: 0.99175\n",
      "Epoch 15 --- learning rate 0.01000\n",
      "Epoch 15 completed. Loss - total: 1560.9048862308264 - average: 0.02601508143718044; Performance: 0.9907\n",
      "zeros in last mask:  3681\n",
      "Iteration 6 completed\n",
      "----------------------\n",
      "Epoch 1 --- learning rate 0.01000\n",
      "Epoch 1 completed. Loss - total: 1440.1268840134144 - average: 0.024002114733556908; Performance: 0.9914666666666667\n",
      "Epoch 2 --- learning rate 0.01000\n",
      "Epoch 2 completed. Loss - total: 1370.7312054634094 - average: 0.022845520091056823; Performance: 0.9922833333333333\n",
      "Epoch 3 --- learning rate 0.01000\n",
      "Epoch 3 completed. Loss - total: 1293.3674946725368 - average: 0.021556124911208948; Performance: 0.9922666666666666\n",
      "Epoch 4 --- learning rate 0.01000\n",
      "Epoch 4 completed. Loss - total: 1378.7463745772839 - average: 0.022979106242954732; Performance: 0.9917666666666667\n",
      "Epoch 5 --- learning rate 0.01000\n",
      "Epoch 5 completed. Loss - total: 1386.6560119390488 - average: 0.02311093353231748; Performance: 0.9919166666666667\n",
      "Epoch 6 --- learning rate 0.01000\n",
      "Epoch 6 completed. Loss - total: 1436.2423322200775 - average: 0.02393737220366796; Performance: 0.9912666666666666\n",
      "Epoch 7 --- learning rate 0.01000\n",
      "Epoch 7 completed. Loss - total: 1463.3868810124695 - average: 0.024389781350207824; Performance: 0.9916166666666667\n",
      "Epoch 8 --- learning rate 0.01000\n",
      "Epoch 8 completed. Loss - total: 1255.1091203093529 - average: 0.020918485338489213; Performance: 0.9926\n",
      "Epoch 9 --- learning rate 0.01000\n",
      "Epoch 9 completed. Loss - total: 1336.5469347387552 - average: 0.02227578224564592; Performance: 0.992\n",
      "Epoch 10 --- learning rate 0.01000\n",
      "Epoch 10 completed. Loss - total: 1351.1818002462387 - average: 0.022519696670770646; Performance: 0.9918666666666667\n",
      "Epoch 11 --- learning rate 0.01000\n",
      "Epoch 11 completed. Loss - total: 1370.080908536911 - average: 0.02283468180894852; Performance: 0.99185\n",
      "Epoch 12 --- learning rate 0.01000\n",
      "Epoch 12 completed. Loss - total: 1440.2714611291885 - average: 0.024004524352153143; Performance: 0.9913666666666666\n",
      "Epoch 13 --- learning rate 0.01000\n",
      "Epoch 13 completed. Loss - total: 1207.3379456102848 - average: 0.020122299093504745; Performance: 0.9931166666666666\n",
      "Epoch 14 --- learning rate 0.01000\n",
      "Epoch 14 completed. Loss - total: 1495.5712225437164 - average: 0.024926187042395274; Performance: 0.9913\n",
      "Epoch 15 --- learning rate 0.01000\n",
      "Epoch 15 completed. Loss - total: 1521.2823223546147 - average: 0.025354705372576912; Performance: 0.9910333333333333\n",
      "zeros in last mask:  3958\n",
      "Iteration 7 completed\n",
      "----------------------\n",
      "Epoch 1 --- learning rate 0.01000\n",
      "Epoch 1 completed. Loss - total: 1255.1295192837715 - average: 0.020918825321396193; Performance: 0.9926333333333334\n",
      "Epoch 2 --- learning rate 0.01000\n",
      "Epoch 2 completed. Loss - total: 1228.204546570778 - average: 0.020470075776179632; Performance: 0.9925166666666667\n",
      "Epoch 3 --- learning rate 0.01000\n",
      "Epoch 3 completed. Loss - total: 1137.4043150693178 - average: 0.018956738584488632; Performance: 0.99345\n",
      "Epoch 4 --- learning rate 0.01000\n",
      "Epoch 4 completed. Loss - total: 1446.9045689105988 - average: 0.024115076148509978; Performance: 0.9917666666666667\n",
      "Epoch 5 --- learning rate 0.01000\n",
      "Epoch 5 completed. Loss - total: 1274.1627963483334 - average: 0.021236046605805557; Performance: 0.99265\n",
      "Epoch 6 --- learning rate 0.01000\n",
      "Epoch 6 completed. Loss - total: 1238.474370881915 - average: 0.020641239514698585; Performance: 0.9924166666666666\n",
      "Epoch 7 --- learning rate 0.01000\n",
      "Epoch 7 completed. Loss - total: 1082.1303731650114 - average: 0.018035506219416856; Performance: 0.9938333333333333\n",
      "Epoch 8 --- learning rate 0.01000\n",
      "Epoch 8 completed. Loss - total: 1242.6244639456272 - average: 0.02071040773242712; Performance: 0.9925833333333334\n",
      "Epoch 9 --- learning rate 0.01000\n",
      "Epoch 9 completed. Loss - total: 1080.1854331344366 - average: 0.01800309055224061; Performance: 0.9931\n",
      "Epoch 10 --- learning rate 0.01000\n",
      "Epoch 10 completed. Loss - total: 1260.2984381318092 - average: 0.021004973968863486; Performance: 0.9921833333333333\n",
      "Epoch 11 --- learning rate 0.01000\n",
      "Epoch 11 completed. Loss - total: 1233.1798311769962 - average: 0.02055299718628327; Performance: 0.9924\n",
      "Epoch 12 --- learning rate 0.01000\n",
      "Epoch 12 completed. Loss - total: 1032.1546408981085 - average: 0.017202577348301808; Performance: 0.9942\n",
      "Epoch 13 --- learning rate 0.01000\n",
      "Epoch 13 completed. Loss - total: 1382.4017592072487 - average: 0.023040029320120812; Performance: 0.99145\n",
      "Epoch 14 --- learning rate 0.01000\n",
      "Epoch 14 completed. Loss - total: 1286.1255203783512 - average: 0.021435425339639186; Performance: 0.9927833333333334\n",
      "Epoch 15 --- learning rate 0.01000\n",
      "Epoch 15 completed. Loss - total: 1389.150296419859 - average: 0.02315250494033098; Performance: 0.9921166666666666\n",
      "zeros in last mask:  4289\n",
      "Iteration 8 completed\n",
      "----------------------\n",
      "Epoch 1 --- learning rate 0.01000\n",
      "Epoch 1 completed. Loss - total: 1217.586776331067 - average: 0.020293112938851117; Performance: 0.9932333333333333\n",
      "Epoch 2 --- learning rate 0.01000\n",
      "Epoch 2 completed. Loss - total: 1119.2441218346357 - average: 0.01865406869724393; Performance: 0.9933\n",
      "Epoch 3 --- learning rate 0.01000\n",
      "Epoch 3 completed. Loss - total: 1152.5528179109097 - average: 0.019209213631848493; Performance: 0.9931\n",
      "Epoch 4 --- learning rate 0.01000\n",
      "Epoch 4 completed. Loss - total: 1111.4975832626224 - average: 0.018524959721043704; Performance: 0.99335\n",
      "Epoch 5 --- learning rate 0.01000\n",
      "Epoch 5 completed. Loss - total: 1099.2880763709545 - average: 0.018321467939515907; Performance: 0.9933\n",
      "Epoch 6 --- learning rate 0.01000\n",
      "Epoch 6 completed. Loss - total: 1253.0769474059343 - average: 0.020884615790098905; Performance: 0.9925666666666667\n",
      "Epoch 7 --- learning rate 0.01000\n",
      "Epoch 7 completed. Loss - total: 1200.8612601533532 - average: 0.02001435433588922; Performance: 0.9925666666666667\n",
      "Epoch 8 --- learning rate 0.01000\n",
      "Epoch 8 completed. Loss - total: 1080.7229932136834 - average: 0.018012049886894723; Performance: 0.9937333333333334\n",
      "Epoch 9 --- learning rate 0.01000\n",
      "Epoch 9 completed. Loss - total: 1036.486670896411 - average: 0.017274777848273516; Performance: 0.99395\n",
      "Epoch 10 --- learning rate 0.01000\n",
      "Epoch 10 completed. Loss - total: 1079.6945808827877 - average: 0.017994909681379796; Performance: 0.9936333333333334\n",
      "Epoch 11 --- learning rate 0.01000\n",
      "Epoch 11 completed. Loss - total: 1426.3231245875359 - average: 0.02377205207645893; Performance: 0.99185\n",
      "Epoch 12 --- learning rate 0.01000\n",
      "Epoch 12 completed. Loss - total: 1174.2403341680765 - average: 0.01957067223613461; Performance: 0.9928666666666667\n",
      "Epoch 13 --- learning rate 0.01000\n",
      "Epoch 13 completed. Loss - total: 1086.6180136352777 - average: 0.018110300227254628; Performance: 0.9936166666666667\n",
      "Epoch 14 --- learning rate 0.01000\n",
      "Epoch 14 completed. Loss - total: 1055.0482055544853 - average: 0.017584136759241423; Performance: 0.9936166666666667\n",
      "Epoch 15 --- learning rate 0.01000\n",
      "Epoch 15 completed. Loss - total: 954.0815327316523 - average: 0.01590135887886087; Performance: 0.9944666666666667\n",
      "zeros in last mask:  4553\n",
      "Iteration 9 completed\n",
      "----------------------\n",
      "Epoch 1 --- learning rate 0.01000\n",
      "Epoch 1 completed. Loss - total: 1114.218626499176 - average: 0.018570310441652933; Performance: 0.99325\n",
      "Epoch 2 --- learning rate 0.01000\n",
      "Epoch 2 completed. Loss - total: 1055.2771124243736 - average: 0.01758795187373956; Performance: 0.9939333333333333\n",
      "Epoch 3 --- learning rate 0.01000\n",
      "Epoch 3 completed. Loss - total: 1038.6420289576054 - average: 0.017310700482626756; Performance: 0.9937666666666667\n",
      "Epoch 4 --- learning rate 0.01000\n",
      "Epoch 4 completed. Loss - total: 1147.4086856767535 - average: 0.01912347809461256; Performance: 0.9934333333333333\n",
      "Epoch 5 --- learning rate 0.01000\n",
      "Epoch 5 completed. Loss - total: 1051.0670201480389 - average: 0.01751778366913398; Performance: 0.9938666666666667\n",
      "Epoch 6 --- learning rate 0.01000\n",
      "Epoch 6 completed. Loss - total: 968.3281020969152 - average: 0.016138801701615253; Performance: 0.9943\n",
      "Epoch 7 --- learning rate 0.01000\n",
      "Epoch 7 completed. Loss - total: 952.3786807358265 - average: 0.015872978012263776; Performance: 0.9944333333333333\n",
      "Epoch 8 --- learning rate 0.01000\n",
      "Epoch 8 completed. Loss - total: 1050.0144534483552 - average: 0.01750024089080592; Performance: 0.9939833333333333\n",
      "Epoch 9 --- learning rate 0.01000\n",
      "Epoch 9 completed. Loss - total: 1208.8501329272985 - average: 0.020147502215454974; Performance: 0.9928666666666667\n",
      "Epoch 10 --- learning rate 0.01000\n",
      "Epoch 10 completed. Loss - total: 961.5311069712043 - average: 0.016025518449520073; Performance: 0.9944\n",
      "Epoch 11 --- learning rate 0.01000\n",
      "Epoch 11 completed. Loss - total: 941.5277125835419 - average: 0.01569212854305903; Performance: 0.99455\n",
      "Epoch 12 --- learning rate 0.01000\n",
      "Epoch 12 completed. Loss - total: 986.7450313195586 - average: 0.016445750521992642; Performance: 0.9940833333333333\n",
      "Epoch 13 --- learning rate 0.01000\n",
      "Epoch 13 completed. Loss - total: 1085.4250318855047 - average: 0.018090417198091745; Performance: 0.994\n",
      "Epoch 14 --- learning rate 0.01000\n",
      "Epoch 14 completed. Loss - total: 1079.3534231111407 - average: 0.017989223718519014; Performance: 0.9938833333333333\n",
      "Epoch 15 --- learning rate 0.01000\n",
      "Epoch 15 completed. Loss - total: 1180.5153383612633 - average: 0.019675255639354388; Performance: 0.99275\n",
      "zeros in last mask:  4867\n",
      "Iteration 10 completed\n",
      "----------------------\n",
      "Epoch 1 --- learning rate 0.01000\n",
      "Epoch 1 completed. Loss - total: 1062.9762783199549 - average: 0.01771627130533258; Performance: 0.9941333333333333\n",
      "Epoch 2 --- learning rate 0.01000\n",
      "Epoch 2 completed. Loss - total: 878.0857100151479 - average: 0.014634761833585799; Performance: 0.9947166666666667\n",
      "Epoch 3 --- learning rate 0.01000\n",
      "Epoch 3 completed. Loss - total: 919.4240148738027 - average: 0.015323733581230044; Performance: 0.9947\n",
      "Epoch 4 --- learning rate 0.01000\n",
      "Epoch 4 completed. Loss - total: 1176.7189275622368 - average: 0.01961198212603728; Performance: 0.9928333333333333\n",
      "Epoch 5 --- learning rate 0.01000\n",
      "Epoch 5 completed. Loss - total: 1043.0809544175863 - average: 0.01738468257362644; Performance: 0.9938833333333333\n",
      "Epoch 6 --- learning rate 0.01000\n",
      "Epoch 6 completed. Loss - total: 928.073745302856 - average: 0.0154678957550476; Performance: 0.9943166666666666\n",
      "Epoch 7 --- learning rate 0.01000\n",
      "Epoch 7 completed. Loss - total: 874.1699452698231 - average: 0.014569499087830385; Performance: 0.99465\n",
      "Epoch 8 --- learning rate 0.01000\n",
      "Epoch 8 completed. Loss - total: 918.0178798735142 - average: 0.015300297997891904; Performance: 0.9949833333333333\n",
      "Epoch 9 --- learning rate 0.01000\n",
      "Epoch 9 completed. Loss - total: 913.3889406882226 - average: 0.015223149011470377; Performance: 0.9947166666666667\n",
      "Epoch 10 --- learning rate 0.01000\n",
      "Epoch 10 completed. Loss - total: 1136.0552831888199 - average: 0.018934254719813665; Performance: 0.9933333333333333\n",
      "Epoch 11 --- learning rate 0.01000\n",
      "Epoch 11 completed. Loss - total: 1043.6317016333342 - average: 0.0173938616938889; Performance: 0.9939333333333333\n",
      "Epoch 12 --- learning rate 0.01000\n",
      "Epoch 12 completed. Loss - total: 980.2204867303371 - average: 0.016337008112172285; Performance: 0.9939333333333333\n",
      "Epoch 13 --- learning rate 0.01000\n",
      "Epoch 13 completed. Loss - total: 905.4572938978672 - average: 0.015090954898297787; Performance: 0.9944333333333333\n",
      "Epoch 14 --- learning rate 0.01000\n",
      "Epoch 14 completed. Loss - total: 983.6347840130329 - average: 0.016393913066883883; Performance: 0.9939833333333333\n",
      "Epoch 15 --- learning rate 0.01000\n",
      "Epoch 15 completed. Loss - total: 841.6627660989761 - average: 0.01402771276831627; Performance: 0.9947\n",
      "zeros in last mask:  5118\n",
      "Iteration 11 completed\n",
      "----------------------\n",
      "Epoch 1 --- learning rate 0.01000\n",
      "Epoch 1 completed. Loss - total: 986.9480116814375 - average: 0.01644913352802396; Performance: 0.9941\n",
      "Epoch 2 --- learning rate 0.01000\n",
      "Epoch 2 completed. Loss - total: 1050.6799108237028 - average: 0.017511331847061714; Performance: 0.9941333333333333\n",
      "Epoch 3 --- learning rate 0.01000\n",
      "Epoch 3 completed. Loss - total: 946.6723051294684 - average: 0.015777871752157807; Performance: 0.9949\n",
      "Epoch 4 --- learning rate 0.01000\n",
      "Epoch 4 completed. Loss - total: 811.165626976639 - average: 0.013519427116277316; Performance: 0.9951333333333333\n",
      "Epoch 5 --- learning rate 0.01000\n",
      "Epoch 5 completed. Loss - total: 955.4414382874966 - average: 0.015924023971458277; Performance: 0.9943333333333333\n",
      "Epoch 6 --- learning rate 0.01000\n",
      "Epoch 6 completed. Loss - total: 1001.2383898198605 - average: 0.016687306496997675; Performance: 0.9942333333333333\n",
      "Epoch 7 --- learning rate 0.01000\n",
      "Epoch 7 completed. Loss - total: 878.5032834615558 - average: 0.01464172139102593; Performance: 0.9948666666666667\n",
      "Epoch 8 --- learning rate 0.01000\n",
      "Epoch 8 completed. Loss - total: 947.5879906117916 - average: 0.015793133176863195; Performance: 0.9947166666666667\n",
      "Epoch 9 --- learning rate 0.01000\n",
      "Epoch 9 completed. Loss - total: 930.4337881207466 - average: 0.015507229802012443; Performance: 0.99455\n",
      "Epoch 10 --- learning rate 0.01000\n",
      "Epoch 10 completed. Loss - total: 1024.4202734716237 - average: 0.017073671224527062; Performance: 0.9940166666666667\n",
      "Epoch 11 --- learning rate 0.01000\n",
      "Epoch 11 completed. Loss - total: 805.5928706973791 - average: 0.013426547844956319; Performance: 0.9953666666666666\n",
      "Epoch 12 --- learning rate 0.01000\n",
      "Epoch 12 completed. Loss - total: 827.457489727065 - average: 0.013790958162117749; Performance: 0.9951666666666666\n",
      "Epoch 13 --- learning rate 0.01000\n",
      "Epoch 13 completed. Loss - total: 886.9564705342054 - average: 0.014782607842236757; Performance: 0.9950333333333333\n",
      "Epoch 14 --- learning rate 0.01000\n",
      "Epoch 14 completed. Loss - total: 1094.223303630948 - average: 0.018237055060515803; Performance: 0.99365\n",
      "Epoch 15 --- learning rate 0.01000\n",
      "Epoch 15 completed. Loss - total: 935.8086022473872 - average: 0.015596810037456452; Performance: 0.9948\n",
      "zeros in last mask:  5416\n",
      "Iteration 12 completed\n",
      "----------------------\n",
      "Epoch 1 --- learning rate 0.01000\n",
      "Epoch 1 completed. Loss - total: 907.7108622044325 - average: 0.015128514370073875; Performance: 0.99475\n",
      "Epoch 2 --- learning rate 0.01000\n",
      "Epoch 2 completed. Loss - total: 942.2571906074882 - average: 0.0157042865101248; Performance: 0.99435\n",
      "Epoch 3 --- learning rate 0.01000\n",
      "Epoch 3 completed. Loss - total: 807.8294286504388 - average: 0.013463823810840646; Performance: 0.9948833333333333\n",
      "Epoch 4 --- learning rate 0.01000\n",
      "Epoch 4 completed. Loss - total: 814.2072675675154 - average: 0.013570121126125257; Performance: 0.9951666666666666\n",
      "Epoch 5 --- learning rate 0.01000\n",
      "Epoch 5 completed. Loss - total: 962.056209243834 - average: 0.0160342701540639; Performance: 0.9942333333333333\n",
      "Epoch 6 --- learning rate 0.01000\n",
      "Epoch 6 completed. Loss - total: 937.3939415700734 - average: 0.015623232359501223; Performance: 0.99455\n",
      "Epoch 7 --- learning rate 0.01000\n",
      "Epoch 7 completed. Loss - total: 921.2369835115969 - average: 0.015353949725193283; Performance: 0.9945\n",
      "Epoch 8 --- learning rate 0.01000\n",
      "Epoch 8 completed. Loss - total: 848.4464161619544 - average: 0.01414077360269924; Performance: 0.9953833333333333\n",
      "Epoch 9 --- learning rate 0.01000\n",
      "Epoch 9 completed. Loss - total: 719.8639155775309 - average: 0.011997731926292181; Performance: 0.9959333333333333\n",
      "Epoch 10 --- learning rate 0.01000\n",
      "Epoch 10 completed. Loss - total: 820.0340080335736 - average: 0.013667233467226227; Performance: 0.9951333333333333\n",
      "Epoch 11 --- learning rate 0.01000\n",
      "Epoch 11 completed. Loss - total: 907.8645606935024 - average: 0.015131076011558374; Performance: 0.9944833333333334\n",
      "Epoch 12 --- learning rate 0.01000\n",
      "Epoch 12 completed. Loss - total: 901.3021136522293 - average: 0.015021701894203822; Performance: 0.9946\n",
      "Epoch 13 --- learning rate 0.01000\n",
      "Epoch 13 completed. Loss - total: 925.5268277451396 - average: 0.01542544712908566; Performance: 0.9946833333333334\n",
      "Epoch 14 --- learning rate 0.01000\n",
      "Epoch 14 completed. Loss - total: 788.6188326943666 - average: 0.013143647211572776; Performance: 0.9953\n",
      "Epoch 15 --- learning rate 0.01000\n",
      "Epoch 15 completed. Loss - total: 769.1086607202888 - average: 0.012818477678671478; Performance: 0.9955\n",
      "zeros in last mask:  5655\n",
      "Iteration 13 completed\n",
      "----------------------\n",
      "Epoch 1 --- learning rate 0.01000\n",
      "Epoch 1 completed. Loss - total: 840.9269865527749 - average: 0.014015449775879582; Performance: 0.99515\n",
      "Epoch 2 --- learning rate 0.01000\n",
      "Epoch 2 completed. Loss - total: 930.0118647739291 - average: 0.015500197746232153; Performance: 0.99455\n",
      "Epoch 3 --- learning rate 0.01000\n",
      "Epoch 3 completed. Loss - total: 785.765744317323 - average: 0.01309609573862205; Performance: 0.9952833333333333\n",
      "Epoch 4 --- learning rate 0.01000\n",
      "Epoch 4 completed. Loss - total: 929.4559560716152 - average: 0.015490932601193587; Performance: 0.9950833333333333\n",
      "Epoch 5 --- learning rate 0.01000\n",
      "Epoch 5 completed. Loss - total: 1025.587333753705 - average: 0.017093122229228416; Performance: 0.9943333333333333\n",
      "Epoch 6 --- learning rate 0.01000\n",
      "Epoch 6 completed. Loss - total: 908.5927806049585 - average: 0.015143213010082642; Performance: 0.9948\n",
      "Epoch 7 --- learning rate 0.01000\n",
      "Epoch 7 completed. Loss - total: 910.6165687404573 - average: 0.015176942812340955; Performance: 0.9947833333333334\n",
      "Epoch 8 --- learning rate 0.01000\n",
      "Epoch 8 completed. Loss - total: 738.8436056450009 - average: 0.012314060094083349; Performance: 0.9957666666666667\n",
      "Epoch 9 --- learning rate 0.01000\n",
      "Epoch 9 completed. Loss - total: 767.4269865825772 - average: 0.012790449776376287; Performance: 0.9955666666666667\n",
      "Epoch 10 --- learning rate 0.01000\n",
      "Epoch 10 completed. Loss - total: 849.4451840594411 - average: 0.014157419734324017; Performance: 0.9949\n",
      "Epoch 11 --- learning rate 0.01000\n",
      "Epoch 11 completed. Loss - total: 801.0881605893373 - average: 0.013351469343155623; Performance: 0.99535\n",
      "Epoch 12 --- learning rate 0.01000\n",
      "Epoch 12 completed. Loss - total: 854.201139703393 - average: 0.014236685661723217; Performance: 0.9945666666666667\n",
      "Epoch 13 --- learning rate 0.01000\n",
      "Epoch 13 completed. Loss - total: 768.2748695015907 - average: 0.012804581158359845; Performance: 0.9953666666666666\n",
      "Epoch 14 --- learning rate 0.01000\n",
      "Epoch 14 completed. Loss - total: 842.3753615655005 - average: 0.014039589359425009; Performance: 0.9950166666666667\n",
      "Epoch 15 --- learning rate 0.01000\n",
      "Epoch 15 completed. Loss - total: 763.1076343357563 - average: 0.012718460572262604; Performance: 0.9953333333333333\n",
      "zeros in last mask:  5938\n",
      "Iteration 14 completed\n",
      "----------------------\n",
      "Epoch 1 --- learning rate 0.01000\n",
      "Epoch 1 completed. Loss - total: 947.1608742065728 - average: 0.015786014570109547; Performance: 0.9949\n",
      "Epoch 2 --- learning rate 0.01000\n",
      "Epoch 2 completed. Loss - total: 870.1565099880099 - average: 0.014502608499800165; Performance: 0.9953166666666666\n",
      "Epoch 3 --- learning rate 0.01000\n",
      "Epoch 3 completed. Loss - total: 841.652841411531 - average: 0.01402754735685885; Performance: 0.9953833333333333\n",
      "Epoch 4 --- learning rate 0.01000\n",
      "Epoch 4 completed. Loss - total: 741.9400280117989 - average: 0.01236566713352998; Performance: 0.9955\n",
      "Epoch 5 --- learning rate 0.01000\n",
      "Epoch 5 completed. Loss - total: 753.383644124493 - average: 0.012556394068741551; Performance: 0.99535\n",
      "Epoch 6 --- learning rate 0.01000\n",
      "Epoch 6 completed. Loss - total: 802.9814575314522 - average: 0.013383024292190869; Performance: 0.9952833333333333\n",
      "Epoch 7 --- learning rate 0.01000\n",
      "Epoch 7 completed. Loss - total: 938.2204188555479 - average: 0.015637006980925797; Performance: 0.9950333333333333\n",
      "Epoch 8 --- learning rate 0.01000\n",
      "Epoch 8 completed. Loss - total: 763.7051625605673 - average: 0.012728419376009454; Performance: 0.99555\n",
      "Epoch 9 --- learning rate 0.01000\n",
      "Epoch 9 completed. Loss - total: 810.3608196489513 - average: 0.013506013660815854; Performance: 0.9954166666666666\n",
      "Epoch 10 --- learning rate 0.01000\n",
      "Epoch 10 completed. Loss - total: 705.4472333416343 - average: 0.011757453889027238; Performance: 0.9958166666666667\n",
      "Epoch 11 --- learning rate 0.01000\n",
      "Epoch 11 completed. Loss - total: 784.3486240021884 - average: 0.01307247706670314; Performance: 0.99535\n",
      "Epoch 12 --- learning rate 0.01000\n",
      "Epoch 12 completed. Loss - total: 782.3980468958616 - average: 0.013039967448264361; Performance: 0.9955\n",
      "Epoch 13 --- learning rate 0.01000\n",
      "Epoch 13 completed. Loss - total: 798.8034054674208 - average: 0.013313390091123681; Performance: 0.9952166666666666\n",
      "Epoch 14 --- learning rate 0.01000\n",
      "Epoch 14 completed. Loss - total: 713.676720187068 - average: 0.0118946120031178; Performance: 0.9958\n",
      "Epoch 15 --- learning rate 0.01000\n",
      "Epoch 15 completed. Loss - total: 785.1233768202364 - average: 0.013085389613670607; Performance: 0.9950833333333333\n",
      "zeros in last mask:  6165\n",
      "Iteration 15 completed\n",
      "----------------------\n"
     ]
    }
   ],
   "source": [
    "losses = []\n",
    "accuracies = []\n",
    "iterations = 15\n",
    "mask_last = None\n",
    "for i in range(iterations):\n",
    "    l, a = train_model(net, trainloader, loss_fn, optimizer, num_epochs, mask=mask, pars_to_prune=pars_to_prune)\n",
    "    losses.append(l)\n",
    "    accuracies.append(a)\n",
    "    mask, pars_to_prune = magnitude_pruning(net, pruning_rate, old_mask=mask)\n",
    "    mask_last = mask\n",
    "    zeros_mask_last = 0\n",
    "    for m in mask_last:\n",
    "        zeros_mask_last += count_zeros(m)\n",
    "    print('zeros in last mask: ', zeros_mask_last)\n",
    "    print('Iteration {} completed'.format(i+1))\n",
    "    print('----------------------')"
   ]
  },
  {
   "cell_type": "code",
   "execution_count": 40,
   "metadata": {},
   "outputs": [],
   "source": [
    "import matplotlib.pyplot as plt"
   ]
  },
  {
   "cell_type": "code",
   "execution_count": 41,
   "metadata": {},
   "outputs": [],
   "source": [
    "axis = [i+1 for i in range(iterations)]\n",
    "one = [1 for i in range(iterations)]\n",
    "zero = [0 for i in range(iterations)]"
   ]
  },
  {
   "cell_type": "code",
   "execution_count": 42,
   "metadata": {},
   "outputs": [
    {
     "output_type": "display_data",
     "data": {
      "text/plain": "<Figure size 432x288 with 1 Axes>",
      "image/svg+xml": "<?xml version=\"1.0\" encoding=\"utf-8\" standalone=\"no\"?>\n<!DOCTYPE svg PUBLIC \"-//W3C//DTD SVG 1.1//EN\"\n  \"http://www.w3.org/Graphics/SVG/1.1/DTD/svg11.dtd\">\n<!-- Created with matplotlib (https://matplotlib.org/) -->\n<svg height=\"277.314375pt\" version=\"1.1\" viewBox=\"0 0 395.328125 277.314375\" width=\"395.328125pt\" xmlns=\"http://www.w3.org/2000/svg\" xmlns:xlink=\"http://www.w3.org/1999/xlink\">\n <metadata>\n  <rdf:RDF xmlns:cc=\"http://creativecommons.org/ns#\" xmlns:dc=\"http://purl.org/dc/elements/1.1/\" xmlns:rdf=\"http://www.w3.org/1999/02/22-rdf-syntax-ns#\">\n   <cc:Work>\n    <dc:type rdf:resource=\"http://purl.org/dc/dcmitype/StillImage\"/>\n    <dc:date>2021-04-13T22:09:59.842471</dc:date>\n    <dc:format>image/svg+xml</dc:format>\n    <dc:creator>\n     <cc:Agent>\n      <dc:title>Matplotlib v3.3.3, https://matplotlib.org/</dc:title>\n     </cc:Agent>\n    </dc:creator>\n   </cc:Work>\n  </rdf:RDF>\n </metadata>\n <defs>\n  <style type=\"text/css\">*{stroke-linecap:butt;stroke-linejoin:round;}</style>\n </defs>\n <g id=\"figure_1\">\n  <g id=\"patch_1\">\n   <path d=\"M 0 277.314375 \nL 395.328125 277.314375 \nL 395.328125 0 \nL 0 0 \nz\n\" style=\"fill:none;\"/>\n  </g>\n  <g id=\"axes_1\">\n   <g id=\"patch_2\">\n    <path d=\"M 53.328125 239.758125 \nL 388.128125 239.758125 \nL 388.128125 22.318125 \nL 53.328125 22.318125 \nz\n\" style=\"fill:#ffffff;\"/>\n   </g>\n   <g id=\"matplotlib.axis_1\">\n    <g id=\"xtick_1\">\n     <g id=\"line2d_1\">\n      <defs>\n       <path d=\"M 0 0 \nL 0 3.5 \n\" id=\"mf33db7cb84\" style=\"stroke:#000000;stroke-width:0.8;\"/>\n      </defs>\n      <g>\n       <use style=\"stroke:#000000;stroke-width:0.8;\" x=\"90.286567\" xlink:href=\"#mf33db7cb84\" y=\"239.758125\"/>\n      </g>\n     </g>\n     <g id=\"text_1\">\n      <!-- 2 -->\n      <g transform=\"translate(87.105317 254.356562)scale(0.1 -0.1)\">\n       <defs>\n        <path d=\"M 19.1875 8.296875 \nL 53.609375 8.296875 \nL 53.609375 0 \nL 7.328125 0 \nL 7.328125 8.296875 \nQ 12.9375 14.109375 22.625 23.890625 \nQ 32.328125 33.6875 34.8125 36.53125 \nQ 39.546875 41.84375 41.421875 45.53125 \nQ 43.3125 49.21875 43.3125 52.78125 \nQ 43.3125 58.59375 39.234375 62.25 \nQ 35.15625 65.921875 28.609375 65.921875 \nQ 23.96875 65.921875 18.8125 64.3125 \nQ 13.671875 62.703125 7.8125 59.421875 \nL 7.8125 69.390625 \nQ 13.765625 71.78125 18.9375 73 \nQ 24.125 74.21875 28.421875 74.21875 \nQ 39.75 74.21875 46.484375 68.546875 \nQ 53.21875 62.890625 53.21875 53.421875 \nQ 53.21875 48.921875 51.53125 44.890625 \nQ 49.859375 40.875 45.40625 35.40625 \nQ 44.1875 33.984375 37.640625 27.21875 \nQ 31.109375 20.453125 19.1875 8.296875 \nz\n\" id=\"DejaVuSans-50\"/>\n       </defs>\n       <use xlink:href=\"#DejaVuSans-50\"/>\n      </g>\n     </g>\n    </g>\n    <g id=\"xtick_2\">\n     <g id=\"line2d_2\">\n      <g>\n       <use style=\"stroke:#000000;stroke-width:0.8;\" x=\"133.767086\" xlink:href=\"#mf33db7cb84\" y=\"239.758125\"/>\n      </g>\n     </g>\n     <g id=\"text_2\">\n      <!-- 4 -->\n      <g transform=\"translate(130.585836 254.356562)scale(0.1 -0.1)\">\n       <defs>\n        <path d=\"M 37.796875 64.3125 \nL 12.890625 25.390625 \nL 37.796875 25.390625 \nz\nM 35.203125 72.90625 \nL 47.609375 72.90625 \nL 47.609375 25.390625 \nL 58.015625 25.390625 \nL 58.015625 17.1875 \nL 47.609375 17.1875 \nL 47.609375 0 \nL 37.796875 0 \nL 37.796875 17.1875 \nL 4.890625 17.1875 \nL 4.890625 26.703125 \nz\n\" id=\"DejaVuSans-52\"/>\n       </defs>\n       <use xlink:href=\"#DejaVuSans-52\"/>\n      </g>\n     </g>\n    </g>\n    <g id=\"xtick_3\">\n     <g id=\"line2d_3\">\n      <g>\n       <use style=\"stroke:#000000;stroke-width:0.8;\" x=\"177.247606\" xlink:href=\"#mf33db7cb84\" y=\"239.758125\"/>\n      </g>\n     </g>\n     <g id=\"text_3\">\n      <!-- 6 -->\n      <g transform=\"translate(174.066356 254.356562)scale(0.1 -0.1)\">\n       <defs>\n        <path d=\"M 33.015625 40.375 \nQ 26.375 40.375 22.484375 35.828125 \nQ 18.609375 31.296875 18.609375 23.390625 \nQ 18.609375 15.53125 22.484375 10.953125 \nQ 26.375 6.390625 33.015625 6.390625 \nQ 39.65625 6.390625 43.53125 10.953125 \nQ 47.40625 15.53125 47.40625 23.390625 \nQ 47.40625 31.296875 43.53125 35.828125 \nQ 39.65625 40.375 33.015625 40.375 \nz\nM 52.59375 71.296875 \nL 52.59375 62.3125 \nQ 48.875 64.0625 45.09375 64.984375 \nQ 41.3125 65.921875 37.59375 65.921875 \nQ 27.828125 65.921875 22.671875 59.328125 \nQ 17.53125 52.734375 16.796875 39.40625 \nQ 19.671875 43.65625 24.015625 45.921875 \nQ 28.375 48.1875 33.59375 48.1875 \nQ 44.578125 48.1875 50.953125 41.515625 \nQ 57.328125 34.859375 57.328125 23.390625 \nQ 57.328125 12.15625 50.6875 5.359375 \nQ 44.046875 -1.421875 33.015625 -1.421875 \nQ 20.359375 -1.421875 13.671875 8.265625 \nQ 6.984375 17.96875 6.984375 36.375 \nQ 6.984375 53.65625 15.1875 63.9375 \nQ 23.390625 74.21875 37.203125 74.21875 \nQ 40.921875 74.21875 44.703125 73.484375 \nQ 48.484375 72.75 52.59375 71.296875 \nz\n\" id=\"DejaVuSans-54\"/>\n       </defs>\n       <use xlink:href=\"#DejaVuSans-54\"/>\n      </g>\n     </g>\n    </g>\n    <g id=\"xtick_4\">\n     <g id=\"line2d_4\">\n      <g>\n       <use style=\"stroke:#000000;stroke-width:0.8;\" x=\"220.728125\" xlink:href=\"#mf33db7cb84\" y=\"239.758125\"/>\n      </g>\n     </g>\n     <g id=\"text_4\">\n      <!-- 8 -->\n      <g transform=\"translate(217.546875 254.356562)scale(0.1 -0.1)\">\n       <defs>\n        <path d=\"M 31.78125 34.625 \nQ 24.75 34.625 20.71875 30.859375 \nQ 16.703125 27.09375 16.703125 20.515625 \nQ 16.703125 13.921875 20.71875 10.15625 \nQ 24.75 6.390625 31.78125 6.390625 \nQ 38.8125 6.390625 42.859375 10.171875 \nQ 46.921875 13.96875 46.921875 20.515625 \nQ 46.921875 27.09375 42.890625 30.859375 \nQ 38.875 34.625 31.78125 34.625 \nz\nM 21.921875 38.8125 \nQ 15.578125 40.375 12.03125 44.71875 \nQ 8.5 49.078125 8.5 55.328125 \nQ 8.5 64.0625 14.71875 69.140625 \nQ 20.953125 74.21875 31.78125 74.21875 \nQ 42.671875 74.21875 48.875 69.140625 \nQ 55.078125 64.0625 55.078125 55.328125 \nQ 55.078125 49.078125 51.53125 44.71875 \nQ 48 40.375 41.703125 38.8125 \nQ 48.828125 37.15625 52.796875 32.3125 \nQ 56.78125 27.484375 56.78125 20.515625 \nQ 56.78125 9.90625 50.3125 4.234375 \nQ 43.84375 -1.421875 31.78125 -1.421875 \nQ 19.734375 -1.421875 13.25 4.234375 \nQ 6.78125 9.90625 6.78125 20.515625 \nQ 6.78125 27.484375 10.78125 32.3125 \nQ 14.796875 37.15625 21.921875 38.8125 \nz\nM 18.3125 54.390625 \nQ 18.3125 48.734375 21.84375 45.5625 \nQ 25.390625 42.390625 31.78125 42.390625 \nQ 38.140625 42.390625 41.71875 45.5625 \nQ 45.3125 48.734375 45.3125 54.390625 \nQ 45.3125 60.0625 41.71875 63.234375 \nQ 38.140625 66.40625 31.78125 66.40625 \nQ 25.390625 66.40625 21.84375 63.234375 \nQ 18.3125 60.0625 18.3125 54.390625 \nz\n\" id=\"DejaVuSans-56\"/>\n       </defs>\n       <use xlink:href=\"#DejaVuSans-56\"/>\n      </g>\n     </g>\n    </g>\n    <g id=\"xtick_5\">\n     <g id=\"line2d_5\">\n      <g>\n       <use style=\"stroke:#000000;stroke-width:0.8;\" x=\"264.208644\" xlink:href=\"#mf33db7cb84\" y=\"239.758125\"/>\n      </g>\n     </g>\n     <g id=\"text_5\">\n      <!-- 10 -->\n      <g transform=\"translate(257.846144 254.356562)scale(0.1 -0.1)\">\n       <defs>\n        <path d=\"M 12.40625 8.296875 \nL 28.515625 8.296875 \nL 28.515625 63.921875 \nL 10.984375 60.40625 \nL 10.984375 69.390625 \nL 28.421875 72.90625 \nL 38.28125 72.90625 \nL 38.28125 8.296875 \nL 54.390625 8.296875 \nL 54.390625 0 \nL 12.40625 0 \nz\n\" id=\"DejaVuSans-49\"/>\n        <path d=\"M 31.78125 66.40625 \nQ 24.171875 66.40625 20.328125 58.90625 \nQ 16.5 51.421875 16.5 36.375 \nQ 16.5 21.390625 20.328125 13.890625 \nQ 24.171875 6.390625 31.78125 6.390625 \nQ 39.453125 6.390625 43.28125 13.890625 \nQ 47.125 21.390625 47.125 36.375 \nQ 47.125 51.421875 43.28125 58.90625 \nQ 39.453125 66.40625 31.78125 66.40625 \nz\nM 31.78125 74.21875 \nQ 44.046875 74.21875 50.515625 64.515625 \nQ 56.984375 54.828125 56.984375 36.375 \nQ 56.984375 17.96875 50.515625 8.265625 \nQ 44.046875 -1.421875 31.78125 -1.421875 \nQ 19.53125 -1.421875 13.0625 8.265625 \nQ 6.59375 17.96875 6.59375 36.375 \nQ 6.59375 54.828125 13.0625 64.515625 \nQ 19.53125 74.21875 31.78125 74.21875 \nz\n\" id=\"DejaVuSans-48\"/>\n       </defs>\n       <use xlink:href=\"#DejaVuSans-49\"/>\n       <use x=\"63.623047\" xlink:href=\"#DejaVuSans-48\"/>\n      </g>\n     </g>\n    </g>\n    <g id=\"xtick_6\">\n     <g id=\"line2d_6\">\n      <g>\n       <use style=\"stroke:#000000;stroke-width:0.8;\" x=\"307.689164\" xlink:href=\"#mf33db7cb84\" y=\"239.758125\"/>\n      </g>\n     </g>\n     <g id=\"text_6\">\n      <!-- 12 -->\n      <g transform=\"translate(301.326664 254.356562)scale(0.1 -0.1)\">\n       <use xlink:href=\"#DejaVuSans-49\"/>\n       <use x=\"63.623047\" xlink:href=\"#DejaVuSans-50\"/>\n      </g>\n     </g>\n    </g>\n    <g id=\"xtick_7\">\n     <g id=\"line2d_7\">\n      <g>\n       <use style=\"stroke:#000000;stroke-width:0.8;\" x=\"351.169683\" xlink:href=\"#mf33db7cb84\" y=\"239.758125\"/>\n      </g>\n     </g>\n     <g id=\"text_7\">\n      <!-- 14 -->\n      <g transform=\"translate(344.807183 254.356562)scale(0.1 -0.1)\">\n       <use xlink:href=\"#DejaVuSans-49\"/>\n       <use x=\"63.623047\" xlink:href=\"#DejaVuSans-52\"/>\n      </g>\n     </g>\n    </g>\n    <g id=\"text_8\">\n     <!-- iteration -->\n     <g transform=\"translate(199.605469 268.034687)scale(0.1 -0.1)\">\n      <defs>\n       <path d=\"M 9.421875 54.6875 \nL 18.40625 54.6875 \nL 18.40625 0 \nL 9.421875 0 \nz\nM 9.421875 75.984375 \nL 18.40625 75.984375 \nL 18.40625 64.59375 \nL 9.421875 64.59375 \nz\n\" id=\"DejaVuSans-105\"/>\n       <path d=\"M 18.3125 70.21875 \nL 18.3125 54.6875 \nL 36.8125 54.6875 \nL 36.8125 47.703125 \nL 18.3125 47.703125 \nL 18.3125 18.015625 \nQ 18.3125 11.328125 20.140625 9.421875 \nQ 21.96875 7.515625 27.59375 7.515625 \nL 36.8125 7.515625 \nL 36.8125 0 \nL 27.59375 0 \nQ 17.1875 0 13.234375 3.875 \nQ 9.28125 7.765625 9.28125 18.015625 \nL 9.28125 47.703125 \nL 2.6875 47.703125 \nL 2.6875 54.6875 \nL 9.28125 54.6875 \nL 9.28125 70.21875 \nz\n\" id=\"DejaVuSans-116\"/>\n       <path d=\"M 56.203125 29.59375 \nL 56.203125 25.203125 \nL 14.890625 25.203125 \nQ 15.484375 15.921875 20.484375 11.0625 \nQ 25.484375 6.203125 34.421875 6.203125 \nQ 39.59375 6.203125 44.453125 7.46875 \nQ 49.3125 8.734375 54.109375 11.28125 \nL 54.109375 2.78125 \nQ 49.265625 0.734375 44.1875 -0.34375 \nQ 39.109375 -1.421875 33.890625 -1.421875 \nQ 20.796875 -1.421875 13.15625 6.1875 \nQ 5.515625 13.8125 5.515625 26.8125 \nQ 5.515625 40.234375 12.765625 48.109375 \nQ 20.015625 56 32.328125 56 \nQ 43.359375 56 49.78125 48.890625 \nQ 56.203125 41.796875 56.203125 29.59375 \nz\nM 47.21875 32.234375 \nQ 47.125 39.59375 43.09375 43.984375 \nQ 39.0625 48.390625 32.421875 48.390625 \nQ 24.90625 48.390625 20.390625 44.140625 \nQ 15.875 39.890625 15.1875 32.171875 \nz\n\" id=\"DejaVuSans-101\"/>\n       <path d=\"M 41.109375 46.296875 \nQ 39.59375 47.171875 37.8125 47.578125 \nQ 36.03125 48 33.890625 48 \nQ 26.265625 48 22.1875 43.046875 \nQ 18.109375 38.09375 18.109375 28.8125 \nL 18.109375 0 \nL 9.078125 0 \nL 9.078125 54.6875 \nL 18.109375 54.6875 \nL 18.109375 46.1875 \nQ 20.953125 51.171875 25.484375 53.578125 \nQ 30.03125 56 36.53125 56 \nQ 37.453125 56 38.578125 55.875 \nQ 39.703125 55.765625 41.0625 55.515625 \nz\n\" id=\"DejaVuSans-114\"/>\n       <path d=\"M 34.28125 27.484375 \nQ 23.390625 27.484375 19.1875 25 \nQ 14.984375 22.515625 14.984375 16.5 \nQ 14.984375 11.71875 18.140625 8.90625 \nQ 21.296875 6.109375 26.703125 6.109375 \nQ 34.1875 6.109375 38.703125 11.40625 \nQ 43.21875 16.703125 43.21875 25.484375 \nL 43.21875 27.484375 \nz\nM 52.203125 31.203125 \nL 52.203125 0 \nL 43.21875 0 \nL 43.21875 8.296875 \nQ 40.140625 3.328125 35.546875 0.953125 \nQ 30.953125 -1.421875 24.3125 -1.421875 \nQ 15.921875 -1.421875 10.953125 3.296875 \nQ 6 8.015625 6 15.921875 \nQ 6 25.140625 12.171875 29.828125 \nQ 18.359375 34.515625 30.609375 34.515625 \nL 43.21875 34.515625 \nL 43.21875 35.40625 \nQ 43.21875 41.609375 39.140625 45 \nQ 35.0625 48.390625 27.6875 48.390625 \nQ 23 48.390625 18.546875 47.265625 \nQ 14.109375 46.140625 10.015625 43.890625 \nL 10.015625 52.203125 \nQ 14.9375 54.109375 19.578125 55.046875 \nQ 24.21875 56 28.609375 56 \nQ 40.484375 56 46.34375 49.84375 \nQ 52.203125 43.703125 52.203125 31.203125 \nz\n\" id=\"DejaVuSans-97\"/>\n       <path d=\"M 30.609375 48.390625 \nQ 23.390625 48.390625 19.1875 42.75 \nQ 14.984375 37.109375 14.984375 27.296875 \nQ 14.984375 17.484375 19.15625 11.84375 \nQ 23.34375 6.203125 30.609375 6.203125 \nQ 37.796875 6.203125 41.984375 11.859375 \nQ 46.1875 17.53125 46.1875 27.296875 \nQ 46.1875 37.015625 41.984375 42.703125 \nQ 37.796875 48.390625 30.609375 48.390625 \nz\nM 30.609375 56 \nQ 42.328125 56 49.015625 48.375 \nQ 55.71875 40.765625 55.71875 27.296875 \nQ 55.71875 13.875 49.015625 6.21875 \nQ 42.328125 -1.421875 30.609375 -1.421875 \nQ 18.84375 -1.421875 12.171875 6.21875 \nQ 5.515625 13.875 5.515625 27.296875 \nQ 5.515625 40.765625 12.171875 48.375 \nQ 18.84375 56 30.609375 56 \nz\n\" id=\"DejaVuSans-111\"/>\n       <path d=\"M 54.890625 33.015625 \nL 54.890625 0 \nL 45.90625 0 \nL 45.90625 32.71875 \nQ 45.90625 40.484375 42.875 44.328125 \nQ 39.84375 48.1875 33.796875 48.1875 \nQ 26.515625 48.1875 22.3125 43.546875 \nQ 18.109375 38.921875 18.109375 30.90625 \nL 18.109375 0 \nL 9.078125 0 \nL 9.078125 54.6875 \nL 18.109375 54.6875 \nL 18.109375 46.1875 \nQ 21.34375 51.125 25.703125 53.5625 \nQ 30.078125 56 35.796875 56 \nQ 45.21875 56 50.046875 50.171875 \nQ 54.890625 44.34375 54.890625 33.015625 \nz\n\" id=\"DejaVuSans-110\"/>\n      </defs>\n      <use xlink:href=\"#DejaVuSans-105\"/>\n      <use x=\"27.783203\" xlink:href=\"#DejaVuSans-116\"/>\n      <use x=\"66.992188\" xlink:href=\"#DejaVuSans-101\"/>\n      <use x=\"128.515625\" xlink:href=\"#DejaVuSans-114\"/>\n      <use x=\"169.628906\" xlink:href=\"#DejaVuSans-97\"/>\n      <use x=\"230.908203\" xlink:href=\"#DejaVuSans-116\"/>\n      <use x=\"270.117188\" xlink:href=\"#DejaVuSans-105\"/>\n      <use x=\"297.900391\" xlink:href=\"#DejaVuSans-111\"/>\n      <use x=\"359.082031\" xlink:href=\"#DejaVuSans-110\"/>\n     </g>\n    </g>\n   </g>\n   <g id=\"matplotlib.axis_2\">\n    <g id=\"ytick_1\">\n     <g id=\"line2d_8\">\n      <defs>\n       <path d=\"M 0 0 \nL -3.5 0 \n\" id=\"m7fcc56cf73\" style=\"stroke:#000000;stroke-width:0.8;\"/>\n      </defs>\n      <g>\n       <use style=\"stroke:#000000;stroke-width:0.8;\" x=\"53.328125\" xlink:href=\"#m7fcc56cf73\" y=\"216.180006\"/>\n      </g>\n     </g>\n     <g id=\"text_9\">\n      <!-- 1000 -->\n      <g transform=\"translate(20.878125 219.979225)scale(0.1 -0.1)\">\n       <use xlink:href=\"#DejaVuSans-49\"/>\n       <use x=\"63.623047\" xlink:href=\"#DejaVuSans-48\"/>\n       <use x=\"127.246094\" xlink:href=\"#DejaVuSans-48\"/>\n       <use x=\"190.869141\" xlink:href=\"#DejaVuSans-48\"/>\n      </g>\n     </g>\n    </g>\n    <g id=\"ytick_2\">\n     <g id=\"line2d_9\">\n      <g>\n       <use style=\"stroke:#000000;stroke-width:0.8;\" x=\"53.328125\" xlink:href=\"#m7fcc56cf73\" y=\"187.275566\"/>\n      </g>\n     </g>\n     <g id=\"text_10\">\n      <!-- 1500 -->\n      <g transform=\"translate(20.878125 191.074785)scale(0.1 -0.1)\">\n       <defs>\n        <path d=\"M 10.796875 72.90625 \nL 49.515625 72.90625 \nL 49.515625 64.59375 \nL 19.828125 64.59375 \nL 19.828125 46.734375 \nQ 21.96875 47.46875 24.109375 47.828125 \nQ 26.265625 48.1875 28.421875 48.1875 \nQ 40.625 48.1875 47.75 41.5 \nQ 54.890625 34.8125 54.890625 23.390625 \nQ 54.890625 11.625 47.5625 5.09375 \nQ 40.234375 -1.421875 26.90625 -1.421875 \nQ 22.3125 -1.421875 17.546875 -0.640625 \nQ 12.796875 0.140625 7.71875 1.703125 \nL 7.71875 11.625 \nQ 12.109375 9.234375 16.796875 8.0625 \nQ 21.484375 6.890625 26.703125 6.890625 \nQ 35.15625 6.890625 40.078125 11.328125 \nQ 45.015625 15.765625 45.015625 23.390625 \nQ 45.015625 31 40.078125 35.4375 \nQ 35.15625 39.890625 26.703125 39.890625 \nQ 22.75 39.890625 18.8125 39.015625 \nQ 14.890625 38.140625 10.796875 36.28125 \nz\n\" id=\"DejaVuSans-53\"/>\n       </defs>\n       <use xlink:href=\"#DejaVuSans-49\"/>\n       <use x=\"63.623047\" xlink:href=\"#DejaVuSans-53\"/>\n       <use x=\"127.246094\" xlink:href=\"#DejaVuSans-48\"/>\n       <use x=\"190.869141\" xlink:href=\"#DejaVuSans-48\"/>\n      </g>\n     </g>\n    </g>\n    <g id=\"ytick_3\">\n     <g id=\"line2d_10\">\n      <g>\n       <use style=\"stroke:#000000;stroke-width:0.8;\" x=\"53.328125\" xlink:href=\"#m7fcc56cf73\" y=\"158.371125\"/>\n      </g>\n     </g>\n     <g id=\"text_11\">\n      <!-- 2000 -->\n      <g transform=\"translate(20.878125 162.170344)scale(0.1 -0.1)\">\n       <use xlink:href=\"#DejaVuSans-50\"/>\n       <use x=\"63.623047\" xlink:href=\"#DejaVuSans-48\"/>\n       <use x=\"127.246094\" xlink:href=\"#DejaVuSans-48\"/>\n       <use x=\"190.869141\" xlink:href=\"#DejaVuSans-48\"/>\n      </g>\n     </g>\n    </g>\n    <g id=\"ytick_4\">\n     <g id=\"line2d_11\">\n      <g>\n       <use style=\"stroke:#000000;stroke-width:0.8;\" x=\"53.328125\" xlink:href=\"#m7fcc56cf73\" y=\"129.466685\"/>\n      </g>\n     </g>\n     <g id=\"text_12\">\n      <!-- 2500 -->\n      <g transform=\"translate(20.878125 133.265904)scale(0.1 -0.1)\">\n       <use xlink:href=\"#DejaVuSans-50\"/>\n       <use x=\"63.623047\" xlink:href=\"#DejaVuSans-53\"/>\n       <use x=\"127.246094\" xlink:href=\"#DejaVuSans-48\"/>\n       <use x=\"190.869141\" xlink:href=\"#DejaVuSans-48\"/>\n      </g>\n     </g>\n    </g>\n    <g id=\"ytick_5\">\n     <g id=\"line2d_12\">\n      <g>\n       <use style=\"stroke:#000000;stroke-width:0.8;\" x=\"53.328125\" xlink:href=\"#m7fcc56cf73\" y=\"100.562245\"/>\n      </g>\n     </g>\n     <g id=\"text_13\">\n      <!-- 3000 -->\n      <g transform=\"translate(20.878125 104.361463)scale(0.1 -0.1)\">\n       <defs>\n        <path d=\"M 40.578125 39.3125 \nQ 47.65625 37.796875 51.625 33 \nQ 55.609375 28.21875 55.609375 21.1875 \nQ 55.609375 10.40625 48.1875 4.484375 \nQ 40.765625 -1.421875 27.09375 -1.421875 \nQ 22.515625 -1.421875 17.65625 -0.515625 \nQ 12.796875 0.390625 7.625 2.203125 \nL 7.625 11.71875 \nQ 11.71875 9.328125 16.59375 8.109375 \nQ 21.484375 6.890625 26.8125 6.890625 \nQ 36.078125 6.890625 40.9375 10.546875 \nQ 45.796875 14.203125 45.796875 21.1875 \nQ 45.796875 27.640625 41.28125 31.265625 \nQ 36.765625 34.90625 28.71875 34.90625 \nL 20.21875 34.90625 \nL 20.21875 43.015625 \nL 29.109375 43.015625 \nQ 36.375 43.015625 40.234375 45.921875 \nQ 44.09375 48.828125 44.09375 54.296875 \nQ 44.09375 59.90625 40.109375 62.90625 \nQ 36.140625 65.921875 28.71875 65.921875 \nQ 24.65625 65.921875 20.015625 65.03125 \nQ 15.375 64.15625 9.8125 62.3125 \nL 9.8125 71.09375 \nQ 15.4375 72.65625 20.34375 73.4375 \nQ 25.25 74.21875 29.59375 74.21875 \nQ 40.828125 74.21875 47.359375 69.109375 \nQ 53.90625 64.015625 53.90625 55.328125 \nQ 53.90625 49.265625 50.4375 45.09375 \nQ 46.96875 40.921875 40.578125 39.3125 \nz\n\" id=\"DejaVuSans-51\"/>\n       </defs>\n       <use xlink:href=\"#DejaVuSans-51\"/>\n       <use x=\"63.623047\" xlink:href=\"#DejaVuSans-48\"/>\n       <use x=\"127.246094\" xlink:href=\"#DejaVuSans-48\"/>\n       <use x=\"190.869141\" xlink:href=\"#DejaVuSans-48\"/>\n      </g>\n     </g>\n    </g>\n    <g id=\"ytick_6\">\n     <g id=\"line2d_13\">\n      <g>\n       <use style=\"stroke:#000000;stroke-width:0.8;\" x=\"53.328125\" xlink:href=\"#m7fcc56cf73\" y=\"71.657804\"/>\n      </g>\n     </g>\n     <g id=\"text_14\">\n      <!-- 3500 -->\n      <g transform=\"translate(20.878125 75.457023)scale(0.1 -0.1)\">\n       <use xlink:href=\"#DejaVuSans-51\"/>\n       <use x=\"63.623047\" xlink:href=\"#DejaVuSans-53\"/>\n       <use x=\"127.246094\" xlink:href=\"#DejaVuSans-48\"/>\n       <use x=\"190.869141\" xlink:href=\"#DejaVuSans-48\"/>\n      </g>\n     </g>\n    </g>\n    <g id=\"ytick_7\">\n     <g id=\"line2d_14\">\n      <g>\n       <use style=\"stroke:#000000;stroke-width:0.8;\" x=\"53.328125\" xlink:href=\"#m7fcc56cf73\" y=\"42.753364\"/>\n      </g>\n     </g>\n     <g id=\"text_15\">\n      <!-- 4000 -->\n      <g transform=\"translate(20.878125 46.552583)scale(0.1 -0.1)\">\n       <use xlink:href=\"#DejaVuSans-52\"/>\n       <use x=\"63.623047\" xlink:href=\"#DejaVuSans-48\"/>\n       <use x=\"127.246094\" xlink:href=\"#DejaVuSans-48\"/>\n       <use x=\"190.869141\" xlink:href=\"#DejaVuSans-48\"/>\n      </g>\n     </g>\n    </g>\n    <g id=\"text_16\">\n     <!-- loss -->\n     <g transform=\"translate(14.798438 140.695937)rotate(-90)scale(0.1 -0.1)\">\n      <defs>\n       <path d=\"M 9.421875 75.984375 \nL 18.40625 75.984375 \nL 18.40625 0 \nL 9.421875 0 \nz\n\" id=\"DejaVuSans-108\"/>\n       <path d=\"M 44.28125 53.078125 \nL 44.28125 44.578125 \nQ 40.484375 46.53125 36.375 47.5 \nQ 32.28125 48.484375 27.875 48.484375 \nQ 21.1875 48.484375 17.84375 46.4375 \nQ 14.5 44.390625 14.5 40.28125 \nQ 14.5 37.15625 16.890625 35.375 \nQ 19.28125 33.59375 26.515625 31.984375 \nL 29.59375 31.296875 \nQ 39.15625 29.25 43.1875 25.515625 \nQ 47.21875 21.78125 47.21875 15.09375 \nQ 47.21875 7.46875 41.1875 3.015625 \nQ 35.15625 -1.421875 24.609375 -1.421875 \nQ 20.21875 -1.421875 15.453125 -0.5625 \nQ 10.6875 0.296875 5.421875 2 \nL 5.421875 11.28125 \nQ 10.40625 8.6875 15.234375 7.390625 \nQ 20.0625 6.109375 24.8125 6.109375 \nQ 31.15625 6.109375 34.5625 8.28125 \nQ 37.984375 10.453125 37.984375 14.40625 \nQ 37.984375 18.0625 35.515625 20.015625 \nQ 33.0625 21.96875 24.703125 23.78125 \nL 21.578125 24.515625 \nQ 13.234375 26.265625 9.515625 29.90625 \nQ 5.8125 33.546875 5.8125 39.890625 \nQ 5.8125 47.609375 11.28125 51.796875 \nQ 16.75 56 26.8125 56 \nQ 31.78125 56 36.171875 55.265625 \nQ 40.578125 54.546875 44.28125 53.078125 \nz\n\" id=\"DejaVuSans-115\"/>\n      </defs>\n      <use xlink:href=\"#DejaVuSans-108\"/>\n      <use x=\"27.783203\" xlink:href=\"#DejaVuSans-111\"/>\n      <use x=\"88.964844\" xlink:href=\"#DejaVuSans-115\"/>\n      <use x=\"141.064453\" xlink:href=\"#DejaVuSans-115\"/>\n     </g>\n    </g>\n   </g>\n   <g id=\"line2d_15\">\n    <path clip-path=\"url(#pfcb5db5611)\" d=\"M 68.546307 32.201761 \nL 90.286567 93.202143 \nL 112.026826 138.40048 \nL 133.767086 165.200071 \nL 155.507346 183.80233 \nL 177.247606 183.754722 \nL 198.987865 186.045259 \nL 220.728125 193.683663 \nL 242.468385 218.834501 \nL 264.208644 205.744616 \nL 285.948904 225.333304 \nL 307.689164 219.890839 \nL 329.429424 229.527576 \nL 351.169683 229.874489 \nL 372.909943 228.601783 \n\" style=\"fill:none;stroke:#008000;stroke-linecap:square;stroke-width:1.5;\"/>\n   </g>\n   <g id=\"patch_3\">\n    <path d=\"M 53.328125 239.758125 \nL 53.328125 22.318125 \n\" style=\"fill:none;stroke:#000000;stroke-linecap:square;stroke-linejoin:miter;stroke-width:0.8;\"/>\n   </g>\n   <g id=\"patch_4\">\n    <path d=\"M 388.128125 239.758125 \nL 388.128125 22.318125 \n\" style=\"fill:none;stroke:#000000;stroke-linecap:square;stroke-linejoin:miter;stroke-width:0.8;\"/>\n   </g>\n   <g id=\"patch_5\">\n    <path d=\"M 53.328125 239.758125 \nL 388.128125 239.758125 \n\" style=\"fill:none;stroke:#000000;stroke-linecap:square;stroke-linejoin:miter;stroke-width:0.8;\"/>\n   </g>\n   <g id=\"patch_6\">\n    <path d=\"M 53.328125 22.318125 \nL 388.128125 22.318125 \n\" style=\"fill:none;stroke:#000000;stroke-linecap:square;stroke-linejoin:miter;stroke-width:0.8;\"/>\n   </g>\n   <g id=\"text_17\">\n    <!-- LOSS -->\n    <g transform=\"translate(205.26125 16.318125)scale(0.12 -0.12)\">\n     <defs>\n      <path d=\"M 9.8125 72.90625 \nL 19.671875 72.90625 \nL 19.671875 8.296875 \nL 55.171875 8.296875 \nL 55.171875 0 \nL 9.8125 0 \nz\n\" id=\"DejaVuSans-76\"/>\n      <path d=\"M 39.40625 66.21875 \nQ 28.65625 66.21875 22.328125 58.203125 \nQ 16.015625 50.203125 16.015625 36.375 \nQ 16.015625 22.609375 22.328125 14.59375 \nQ 28.65625 6.59375 39.40625 6.59375 \nQ 50.140625 6.59375 56.421875 14.59375 \nQ 62.703125 22.609375 62.703125 36.375 \nQ 62.703125 50.203125 56.421875 58.203125 \nQ 50.140625 66.21875 39.40625 66.21875 \nz\nM 39.40625 74.21875 \nQ 54.734375 74.21875 63.90625 63.9375 \nQ 73.09375 53.65625 73.09375 36.375 \nQ 73.09375 19.140625 63.90625 8.859375 \nQ 54.734375 -1.421875 39.40625 -1.421875 \nQ 24.03125 -1.421875 14.8125 8.828125 \nQ 5.609375 19.09375 5.609375 36.375 \nQ 5.609375 53.65625 14.8125 63.9375 \nQ 24.03125 74.21875 39.40625 74.21875 \nz\n\" id=\"DejaVuSans-79\"/>\n      <path d=\"M 53.515625 70.515625 \nL 53.515625 60.890625 \nQ 47.90625 63.578125 42.921875 64.890625 \nQ 37.9375 66.21875 33.296875 66.21875 \nQ 25.25 66.21875 20.875 63.09375 \nQ 16.5 59.96875 16.5 54.203125 \nQ 16.5 49.359375 19.40625 46.890625 \nQ 22.3125 44.4375 30.421875 42.921875 \nL 36.375 41.703125 \nQ 47.40625 39.59375 52.65625 34.296875 \nQ 57.90625 29 57.90625 20.125 \nQ 57.90625 9.515625 50.796875 4.046875 \nQ 43.703125 -1.421875 29.984375 -1.421875 \nQ 24.8125 -1.421875 18.96875 -0.25 \nQ 13.140625 0.921875 6.890625 3.21875 \nL 6.890625 13.375 \nQ 12.890625 10.015625 18.65625 8.296875 \nQ 24.421875 6.59375 29.984375 6.59375 \nQ 38.421875 6.59375 43.015625 9.90625 \nQ 47.609375 13.234375 47.609375 19.390625 \nQ 47.609375 24.75 44.3125 27.78125 \nQ 41.015625 30.8125 33.5 32.328125 \nL 27.484375 33.5 \nQ 16.453125 35.6875 11.515625 40.375 \nQ 6.59375 45.0625 6.59375 53.421875 \nQ 6.59375 63.09375 13.40625 68.65625 \nQ 20.21875 74.21875 32.171875 74.21875 \nQ 37.3125 74.21875 42.625 73.28125 \nQ 47.953125 72.359375 53.515625 70.515625 \nz\n\" id=\"DejaVuSans-83\"/>\n     </defs>\n     <use xlink:href=\"#DejaVuSans-76\"/>\n     <use x=\"52.087891\" xlink:href=\"#DejaVuSans-79\"/>\n     <use x=\"130.798828\" xlink:href=\"#DejaVuSans-83\"/>\n     <use x=\"194.275391\" xlink:href=\"#DejaVuSans-83\"/>\n    </g>\n   </g>\n   <g id=\"legend_1\">\n    <g id=\"patch_7\">\n     <path d=\"M 285.69375 44.99625 \nL 381.128125 44.99625 \nQ 383.128125 44.99625 383.128125 42.99625 \nL 383.128125 29.318125 \nQ 383.128125 27.318125 381.128125 27.318125 \nL 285.69375 27.318125 \nQ 283.69375 27.318125 283.69375 29.318125 \nL 283.69375 42.99625 \nQ 283.69375 44.99625 285.69375 44.99625 \nz\n\" style=\"fill:#ffffff;opacity:0.8;stroke:#cccccc;stroke-linejoin:miter;\"/>\n    </g>\n    <g id=\"line2d_16\">\n     <path d=\"M 287.69375 35.416562 \nL 307.69375 35.416562 \n\" style=\"fill:none;stroke:#008000;stroke-linecap:square;stroke-width:1.5;\"/>\n    </g>\n    <g id=\"line2d_17\"/>\n    <g id=\"text_18\">\n     <!-- average loss -->\n     <g transform=\"translate(315.69375 38.916562)scale(0.1 -0.1)\">\n      <defs>\n       <path d=\"M 2.984375 54.6875 \nL 12.5 54.6875 \nL 29.59375 8.796875 \nL 46.6875 54.6875 \nL 56.203125 54.6875 \nL 35.6875 0 \nL 23.484375 0 \nz\n\" id=\"DejaVuSans-118\"/>\n       <path d=\"M 45.40625 27.984375 \nQ 45.40625 37.75 41.375 43.109375 \nQ 37.359375 48.484375 30.078125 48.484375 \nQ 22.859375 48.484375 18.828125 43.109375 \nQ 14.796875 37.75 14.796875 27.984375 \nQ 14.796875 18.265625 18.828125 12.890625 \nQ 22.859375 7.515625 30.078125 7.515625 \nQ 37.359375 7.515625 41.375 12.890625 \nQ 45.40625 18.265625 45.40625 27.984375 \nz\nM 54.390625 6.78125 \nQ 54.390625 -7.171875 48.1875 -13.984375 \nQ 42 -20.796875 29.203125 -20.796875 \nQ 24.46875 -20.796875 20.265625 -20.09375 \nQ 16.0625 -19.390625 12.109375 -17.921875 \nL 12.109375 -9.1875 \nQ 16.0625 -11.328125 19.921875 -12.34375 \nQ 23.78125 -13.375 27.78125 -13.375 \nQ 36.625 -13.375 41.015625 -8.765625 \nQ 45.40625 -4.15625 45.40625 5.171875 \nL 45.40625 9.625 \nQ 42.625 4.78125 38.28125 2.390625 \nQ 33.9375 0 27.875 0 \nQ 17.828125 0 11.671875 7.65625 \nQ 5.515625 15.328125 5.515625 27.984375 \nQ 5.515625 40.671875 11.671875 48.328125 \nQ 17.828125 56 27.875 56 \nQ 33.9375 56 38.28125 53.609375 \nQ 42.625 51.21875 45.40625 46.390625 \nL 45.40625 54.6875 \nL 54.390625 54.6875 \nz\n\" id=\"DejaVuSans-103\"/>\n       <path id=\"DejaVuSans-32\"/>\n      </defs>\n      <use xlink:href=\"#DejaVuSans-97\"/>\n      <use x=\"61.279297\" xlink:href=\"#DejaVuSans-118\"/>\n      <use x=\"120.458984\" xlink:href=\"#DejaVuSans-101\"/>\n      <use x=\"181.982422\" xlink:href=\"#DejaVuSans-114\"/>\n      <use x=\"223.095703\" xlink:href=\"#DejaVuSans-97\"/>\n      <use x=\"284.375\" xlink:href=\"#DejaVuSans-103\"/>\n      <use x=\"347.851562\" xlink:href=\"#DejaVuSans-101\"/>\n      <use x=\"409.375\" xlink:href=\"#DejaVuSans-32\"/>\n      <use x=\"441.162109\" xlink:href=\"#DejaVuSans-108\"/>\n      <use x=\"468.945312\" xlink:href=\"#DejaVuSans-111\"/>\n      <use x=\"530.126953\" xlink:href=\"#DejaVuSans-115\"/>\n      <use x=\"582.226562\" xlink:href=\"#DejaVuSans-115\"/>\n     </g>\n    </g>\n   </g>\n  </g>\n </g>\n <defs>\n  <clipPath id=\"pfcb5db5611\">\n   <rect height=\"217.44\" width=\"334.8\" x=\"53.328125\" y=\"22.318125\"/>\n  </clipPath>\n </defs>\n</svg>\n",
      "image/png": "[encoded data removed]"
     },
     "metadata": {
      "needs_background": "light"
     }
    }
   ],
   "source": [
    "_ = plt.plot(axis, losses, label = 'average loss', color = 'green')\n",
    "__ = plt.xlabel('iteration') \n",
    "___ = plt.ylabel('loss')\n",
    "____ = plt.title('LOSS')\n",
    "_____ = plt.legend()"
   ]
  },
  {
   "cell_type": "code",
   "execution_count": 43,
   "metadata": {},
   "outputs": [
    {
     "output_type": "display_data",
     "data": {
      "text/plain": "<Figure size 432x288 with 1 Axes>",
      "image/svg+xml": "<?xml version=\"1.0\" encoding=\"utf-8\" standalone=\"no\"?>\n<!DOCTYPE svg PUBLIC \"-//W3C//DTD SVG 1.1//EN\"\n  \"http://www.w3.org/Graphics/SVG/1.1/DTD/svg11.dtd\">\n<!-- Created with matplotlib (https://matplotlib.org/) -->\n<svg height=\"277.314375pt\" version=\"1.1\" viewBox=\"0 0 398.50625 277.314375\" width=\"398.50625pt\" xmlns=\"http://www.w3.org/2000/svg\" xmlns:xlink=\"http://www.w3.org/1999/xlink\">\n <metadata>\n  <rdf:RDF xmlns:cc=\"http://creativecommons.org/ns#\" xmlns:dc=\"http://purl.org/dc/elements/1.1/\" xmlns:rdf=\"http://www.w3.org/1999/02/22-rdf-syntax-ns#\">\n   <cc:Work>\n    <dc:type rdf:resource=\"http://purl.org/dc/dcmitype/StillImage\"/>\n    <dc:date>2021-04-13T22:10:17.426628</dc:date>\n    <dc:format>image/svg+xml</dc:format>\n    <dc:creator>\n     <cc:Agent>\n      <dc:title>Matplotlib v3.3.3, https://matplotlib.org/</dc:title>\n     </cc:Agent>\n    </dc:creator>\n   </cc:Work>\n  </rdf:RDF>\n </metadata>\n <defs>\n  <style type=\"text/css\">*{stroke-linecap:butt;stroke-linejoin:round;}</style>\n </defs>\n <g id=\"figure_1\">\n  <g id=\"patch_1\">\n   <path d=\"M 0 277.314375 \nL 398.50625 277.314375 \nL 398.50625 0 \nL 0 0 \nz\n\" style=\"fill:none;\"/>\n  </g>\n  <g id=\"axes_1\">\n   <g id=\"patch_2\">\n    <path d=\"M 56.50625 239.758125 \nL 391.30625 239.758125 \nL 391.30625 22.318125 \nL 56.50625 22.318125 \nz\n\" style=\"fill:#ffffff;\"/>\n   </g>\n   <g id=\"matplotlib.axis_1\">\n    <g id=\"xtick_1\">\n     <g id=\"line2d_1\">\n      <defs>\n       <path d=\"M 0 0 \nL 0 3.5 \n\" id=\"m4f7318628c\" style=\"stroke:#000000;stroke-width:0.8;\"/>\n      </defs>\n      <g>\n       <use style=\"stroke:#000000;stroke-width:0.8;\" x=\"93.464692\" xlink:href=\"#m4f7318628c\" y=\"239.758125\"/>\n      </g>\n     </g>\n     <g id=\"text_1\">\n      <!-- 2 -->\n      <g transform=\"translate(90.283442 254.356562)scale(0.1 -0.1)\">\n       <defs>\n        <path d=\"M 19.1875 8.296875 \nL 53.609375 8.296875 \nL 53.609375 0 \nL 7.328125 0 \nL 7.328125 8.296875 \nQ 12.9375 14.109375 22.625 23.890625 \nQ 32.328125 33.6875 34.8125 36.53125 \nQ 39.546875 41.84375 41.421875 45.53125 \nQ 43.3125 49.21875 43.3125 52.78125 \nQ 43.3125 58.59375 39.234375 62.25 \nQ 35.15625 65.921875 28.609375 65.921875 \nQ 23.96875 65.921875 18.8125 64.3125 \nQ 13.671875 62.703125 7.8125 59.421875 \nL 7.8125 69.390625 \nQ 13.765625 71.78125 18.9375 73 \nQ 24.125 74.21875 28.421875 74.21875 \nQ 39.75 74.21875 46.484375 68.546875 \nQ 53.21875 62.890625 53.21875 53.421875 \nQ 53.21875 48.921875 51.53125 44.890625 \nQ 49.859375 40.875 45.40625 35.40625 \nQ 44.1875 33.984375 37.640625 27.21875 \nQ 31.109375 20.453125 19.1875 8.296875 \nz\n\" id=\"DejaVuSans-50\"/>\n       </defs>\n       <use xlink:href=\"#DejaVuSans-50\"/>\n      </g>\n     </g>\n    </g>\n    <g id=\"xtick_2\">\n     <g id=\"line2d_2\">\n      <g>\n       <use style=\"stroke:#000000;stroke-width:0.8;\" x=\"136.945211\" xlink:href=\"#m4f7318628c\" y=\"239.758125\"/>\n      </g>\n     </g>\n     <g id=\"text_2\">\n      <!-- 4 -->\n      <g transform=\"translate(133.763961 254.356562)scale(0.1 -0.1)\">\n       <defs>\n        <path d=\"M 37.796875 64.3125 \nL 12.890625 25.390625 \nL 37.796875 25.390625 \nz\nM 35.203125 72.90625 \nL 47.609375 72.90625 \nL 47.609375 25.390625 \nL 58.015625 25.390625 \nL 58.015625 17.1875 \nL 47.609375 17.1875 \nL 47.609375 0 \nL 37.796875 0 \nL 37.796875 17.1875 \nL 4.890625 17.1875 \nL 4.890625 26.703125 \nz\n\" id=\"DejaVuSans-52\"/>\n       </defs>\n       <use xlink:href=\"#DejaVuSans-52\"/>\n      </g>\n     </g>\n    </g>\n    <g id=\"xtick_3\">\n     <g id=\"line2d_3\">\n      <g>\n       <use style=\"stroke:#000000;stroke-width:0.8;\" x=\"180.425731\" xlink:href=\"#m4f7318628c\" y=\"239.758125\"/>\n      </g>\n     </g>\n     <g id=\"text_3\">\n      <!-- 6 -->\n      <g transform=\"translate(177.244481 254.356562)scale(0.1 -0.1)\">\n       <defs>\n        <path d=\"M 33.015625 40.375 \nQ 26.375 40.375 22.484375 35.828125 \nQ 18.609375 31.296875 18.609375 23.390625 \nQ 18.609375 15.53125 22.484375 10.953125 \nQ 26.375 6.390625 33.015625 6.390625 \nQ 39.65625 6.390625 43.53125 10.953125 \nQ 47.40625 15.53125 47.40625 23.390625 \nQ 47.40625 31.296875 43.53125 35.828125 \nQ 39.65625 40.375 33.015625 40.375 \nz\nM 52.59375 71.296875 \nL 52.59375 62.3125 \nQ 48.875 64.0625 45.09375 64.984375 \nQ 41.3125 65.921875 37.59375 65.921875 \nQ 27.828125 65.921875 22.671875 59.328125 \nQ 17.53125 52.734375 16.796875 39.40625 \nQ 19.671875 43.65625 24.015625 45.921875 \nQ 28.375 48.1875 33.59375 48.1875 \nQ 44.578125 48.1875 50.953125 41.515625 \nQ 57.328125 34.859375 57.328125 23.390625 \nQ 57.328125 12.15625 50.6875 5.359375 \nQ 44.046875 -1.421875 33.015625 -1.421875 \nQ 20.359375 -1.421875 13.671875 8.265625 \nQ 6.984375 17.96875 6.984375 36.375 \nQ 6.984375 53.65625 15.1875 63.9375 \nQ 23.390625 74.21875 37.203125 74.21875 \nQ 40.921875 74.21875 44.703125 73.484375 \nQ 48.484375 72.75 52.59375 71.296875 \nz\n\" id=\"DejaVuSans-54\"/>\n       </defs>\n       <use xlink:href=\"#DejaVuSans-54\"/>\n      </g>\n     </g>\n    </g>\n    <g id=\"xtick_4\">\n     <g id=\"line2d_4\">\n      <g>\n       <use style=\"stroke:#000000;stroke-width:0.8;\" x=\"223.90625\" xlink:href=\"#m4f7318628c\" y=\"239.758125\"/>\n      </g>\n     </g>\n     <g id=\"text_4\">\n      <!-- 8 -->\n      <g transform=\"translate(220.725 254.356562)scale(0.1 -0.1)\">\n       <defs>\n        <path d=\"M 31.78125 34.625 \nQ 24.75 34.625 20.71875 30.859375 \nQ 16.703125 27.09375 16.703125 20.515625 \nQ 16.703125 13.921875 20.71875 10.15625 \nQ 24.75 6.390625 31.78125 6.390625 \nQ 38.8125 6.390625 42.859375 10.171875 \nQ 46.921875 13.96875 46.921875 20.515625 \nQ 46.921875 27.09375 42.890625 30.859375 \nQ 38.875 34.625 31.78125 34.625 \nz\nM 21.921875 38.8125 \nQ 15.578125 40.375 12.03125 44.71875 \nQ 8.5 49.078125 8.5 55.328125 \nQ 8.5 64.0625 14.71875 69.140625 \nQ 20.953125 74.21875 31.78125 74.21875 \nQ 42.671875 74.21875 48.875 69.140625 \nQ 55.078125 64.0625 55.078125 55.328125 \nQ 55.078125 49.078125 51.53125 44.71875 \nQ 48 40.375 41.703125 38.8125 \nQ 48.828125 37.15625 52.796875 32.3125 \nQ 56.78125 27.484375 56.78125 20.515625 \nQ 56.78125 9.90625 50.3125 4.234375 \nQ 43.84375 -1.421875 31.78125 -1.421875 \nQ 19.734375 -1.421875 13.25 4.234375 \nQ 6.78125 9.90625 6.78125 20.515625 \nQ 6.78125 27.484375 10.78125 32.3125 \nQ 14.796875 37.15625 21.921875 38.8125 \nz\nM 18.3125 54.390625 \nQ 18.3125 48.734375 21.84375 45.5625 \nQ 25.390625 42.390625 31.78125 42.390625 \nQ 38.140625 42.390625 41.71875 45.5625 \nQ 45.3125 48.734375 45.3125 54.390625 \nQ 45.3125 60.0625 41.71875 63.234375 \nQ 38.140625 66.40625 31.78125 66.40625 \nQ 25.390625 66.40625 21.84375 63.234375 \nQ 18.3125 60.0625 18.3125 54.390625 \nz\n\" id=\"DejaVuSans-56\"/>\n       </defs>\n       <use xlink:href=\"#DejaVuSans-56\"/>\n      </g>\n     </g>\n    </g>\n    <g id=\"xtick_5\">\n     <g id=\"line2d_5\">\n      <g>\n       <use style=\"stroke:#000000;stroke-width:0.8;\" x=\"267.386769\" xlink:href=\"#m4f7318628c\" y=\"239.758125\"/>\n      </g>\n     </g>\n     <g id=\"text_5\">\n      <!-- 10 -->\n      <g transform=\"translate(261.024269 254.356562)scale(0.1 -0.1)\">\n       <defs>\n        <path d=\"M 12.40625 8.296875 \nL 28.515625 8.296875 \nL 28.515625 63.921875 \nL 10.984375 60.40625 \nL 10.984375 69.390625 \nL 28.421875 72.90625 \nL 38.28125 72.90625 \nL 38.28125 8.296875 \nL 54.390625 8.296875 \nL 54.390625 0 \nL 12.40625 0 \nz\n\" id=\"DejaVuSans-49\"/>\n        <path d=\"M 31.78125 66.40625 \nQ 24.171875 66.40625 20.328125 58.90625 \nQ 16.5 51.421875 16.5 36.375 \nQ 16.5 21.390625 20.328125 13.890625 \nQ 24.171875 6.390625 31.78125 6.390625 \nQ 39.453125 6.390625 43.28125 13.890625 \nQ 47.125 21.390625 47.125 36.375 \nQ 47.125 51.421875 43.28125 58.90625 \nQ 39.453125 66.40625 31.78125 66.40625 \nz\nM 31.78125 74.21875 \nQ 44.046875 74.21875 50.515625 64.515625 \nQ 56.984375 54.828125 56.984375 36.375 \nQ 56.984375 17.96875 50.515625 8.265625 \nQ 44.046875 -1.421875 31.78125 -1.421875 \nQ 19.53125 -1.421875 13.0625 8.265625 \nQ 6.59375 17.96875 6.59375 36.375 \nQ 6.59375 54.828125 13.0625 64.515625 \nQ 19.53125 74.21875 31.78125 74.21875 \nz\n\" id=\"DejaVuSans-48\"/>\n       </defs>\n       <use xlink:href=\"#DejaVuSans-49\"/>\n       <use x=\"63.623047\" xlink:href=\"#DejaVuSans-48\"/>\n      </g>\n     </g>\n    </g>\n    <g id=\"xtick_6\">\n     <g id=\"line2d_6\">\n      <g>\n       <use style=\"stroke:#000000;stroke-width:0.8;\" x=\"310.867289\" xlink:href=\"#m4f7318628c\" y=\"239.758125\"/>\n      </g>\n     </g>\n     <g id=\"text_6\">\n      <!-- 12 -->\n      <g transform=\"translate(304.504789 254.356562)scale(0.1 -0.1)\">\n       <use xlink:href=\"#DejaVuSans-49\"/>\n       <use x=\"63.623047\" xlink:href=\"#DejaVuSans-50\"/>\n      </g>\n     </g>\n    </g>\n    <g id=\"xtick_7\">\n     <g id=\"line2d_7\">\n      <g>\n       <use style=\"stroke:#000000;stroke-width:0.8;\" x=\"354.347808\" xlink:href=\"#m4f7318628c\" y=\"239.758125\"/>\n      </g>\n     </g>\n     <g id=\"text_7\">\n      <!-- 14 -->\n      <g transform=\"translate(347.985308 254.356562)scale(0.1 -0.1)\">\n       <use xlink:href=\"#DejaVuSans-49\"/>\n       <use x=\"63.623047\" xlink:href=\"#DejaVuSans-52\"/>\n      </g>\n     </g>\n    </g>\n    <g id=\"text_8\">\n     <!-- iteration -->\n     <g transform=\"translate(202.783594 268.034687)scale(0.1 -0.1)\">\n      <defs>\n       <path d=\"M 9.421875 54.6875 \nL 18.40625 54.6875 \nL 18.40625 0 \nL 9.421875 0 \nz\nM 9.421875 75.984375 \nL 18.40625 75.984375 \nL 18.40625 64.59375 \nL 9.421875 64.59375 \nz\n\" id=\"DejaVuSans-105\"/>\n       <path d=\"M 18.3125 70.21875 \nL 18.3125 54.6875 \nL 36.8125 54.6875 \nL 36.8125 47.703125 \nL 18.3125 47.703125 \nL 18.3125 18.015625 \nQ 18.3125 11.328125 20.140625 9.421875 \nQ 21.96875 7.515625 27.59375 7.515625 \nL 36.8125 7.515625 \nL 36.8125 0 \nL 27.59375 0 \nQ 17.1875 0 13.234375 3.875 \nQ 9.28125 7.765625 9.28125 18.015625 \nL 9.28125 47.703125 \nL 2.6875 47.703125 \nL 2.6875 54.6875 \nL 9.28125 54.6875 \nL 9.28125 70.21875 \nz\n\" id=\"DejaVuSans-116\"/>\n       <path d=\"M 56.203125 29.59375 \nL 56.203125 25.203125 \nL 14.890625 25.203125 \nQ 15.484375 15.921875 20.484375 11.0625 \nQ 25.484375 6.203125 34.421875 6.203125 \nQ 39.59375 6.203125 44.453125 7.46875 \nQ 49.3125 8.734375 54.109375 11.28125 \nL 54.109375 2.78125 \nQ 49.265625 0.734375 44.1875 -0.34375 \nQ 39.109375 -1.421875 33.890625 -1.421875 \nQ 20.796875 -1.421875 13.15625 6.1875 \nQ 5.515625 13.8125 5.515625 26.8125 \nQ 5.515625 40.234375 12.765625 48.109375 \nQ 20.015625 56 32.328125 56 \nQ 43.359375 56 49.78125 48.890625 \nQ 56.203125 41.796875 56.203125 29.59375 \nz\nM 47.21875 32.234375 \nQ 47.125 39.59375 43.09375 43.984375 \nQ 39.0625 48.390625 32.421875 48.390625 \nQ 24.90625 48.390625 20.390625 44.140625 \nQ 15.875 39.890625 15.1875 32.171875 \nz\n\" id=\"DejaVuSans-101\"/>\n       <path d=\"M 41.109375 46.296875 \nQ 39.59375 47.171875 37.8125 47.578125 \nQ 36.03125 48 33.890625 48 \nQ 26.265625 48 22.1875 43.046875 \nQ 18.109375 38.09375 18.109375 28.8125 \nL 18.109375 0 \nL 9.078125 0 \nL 9.078125 54.6875 \nL 18.109375 54.6875 \nL 18.109375 46.1875 \nQ 20.953125 51.171875 25.484375 53.578125 \nQ 30.03125 56 36.53125 56 \nQ 37.453125 56 38.578125 55.875 \nQ 39.703125 55.765625 41.0625 55.515625 \nz\n\" id=\"DejaVuSans-114\"/>\n       <path d=\"M 34.28125 27.484375 \nQ 23.390625 27.484375 19.1875 25 \nQ 14.984375 22.515625 14.984375 16.5 \nQ 14.984375 11.71875 18.140625 8.90625 \nQ 21.296875 6.109375 26.703125 6.109375 \nQ 34.1875 6.109375 38.703125 11.40625 \nQ 43.21875 16.703125 43.21875 25.484375 \nL 43.21875 27.484375 \nz\nM 52.203125 31.203125 \nL 52.203125 0 \nL 43.21875 0 \nL 43.21875 8.296875 \nQ 40.140625 3.328125 35.546875 0.953125 \nQ 30.953125 -1.421875 24.3125 -1.421875 \nQ 15.921875 -1.421875 10.953125 3.296875 \nQ 6 8.015625 6 15.921875 \nQ 6 25.140625 12.171875 29.828125 \nQ 18.359375 34.515625 30.609375 34.515625 \nL 43.21875 34.515625 \nL 43.21875 35.40625 \nQ 43.21875 41.609375 39.140625 45 \nQ 35.0625 48.390625 27.6875 48.390625 \nQ 23 48.390625 18.546875 47.265625 \nQ 14.109375 46.140625 10.015625 43.890625 \nL 10.015625 52.203125 \nQ 14.9375 54.109375 19.578125 55.046875 \nQ 24.21875 56 28.609375 56 \nQ 40.484375 56 46.34375 49.84375 \nQ 52.203125 43.703125 52.203125 31.203125 \nz\n\" id=\"DejaVuSans-97\"/>\n       <path d=\"M 30.609375 48.390625 \nQ 23.390625 48.390625 19.1875 42.75 \nQ 14.984375 37.109375 14.984375 27.296875 \nQ 14.984375 17.484375 19.15625 11.84375 \nQ 23.34375 6.203125 30.609375 6.203125 \nQ 37.796875 6.203125 41.984375 11.859375 \nQ 46.1875 17.53125 46.1875 27.296875 \nQ 46.1875 37.015625 41.984375 42.703125 \nQ 37.796875 48.390625 30.609375 48.390625 \nz\nM 30.609375 56 \nQ 42.328125 56 49.015625 48.375 \nQ 55.71875 40.765625 55.71875 27.296875 \nQ 55.71875 13.875 49.015625 6.21875 \nQ 42.328125 -1.421875 30.609375 -1.421875 \nQ 18.84375 -1.421875 12.171875 6.21875 \nQ 5.515625 13.875 5.515625 27.296875 \nQ 5.515625 40.765625 12.171875 48.375 \nQ 18.84375 56 30.609375 56 \nz\n\" id=\"DejaVuSans-111\"/>\n       <path d=\"M 54.890625 33.015625 \nL 54.890625 0 \nL 45.90625 0 \nL 45.90625 32.71875 \nQ 45.90625 40.484375 42.875 44.328125 \nQ 39.84375 48.1875 33.796875 48.1875 \nQ 26.515625 48.1875 22.3125 43.546875 \nQ 18.109375 38.921875 18.109375 30.90625 \nL 18.109375 0 \nL 9.078125 0 \nL 9.078125 54.6875 \nL 18.109375 54.6875 \nL 18.109375 46.1875 \nQ 21.34375 51.125 25.703125 53.5625 \nQ 30.078125 56 35.796875 56 \nQ 45.21875 56 50.046875 50.171875 \nQ 54.890625 44.34375 54.890625 33.015625 \nz\n\" id=\"DejaVuSans-110\"/>\n      </defs>\n      <use xlink:href=\"#DejaVuSans-105\"/>\n      <use x=\"27.783203\" xlink:href=\"#DejaVuSans-116\"/>\n      <use x=\"66.992188\" xlink:href=\"#DejaVuSans-101\"/>\n      <use x=\"128.515625\" xlink:href=\"#DejaVuSans-114\"/>\n      <use x=\"169.628906\" xlink:href=\"#DejaVuSans-97\"/>\n      <use x=\"230.908203\" xlink:href=\"#DejaVuSans-116\"/>\n      <use x=\"270.117188\" xlink:href=\"#DejaVuSans-105\"/>\n      <use x=\"297.900391\" xlink:href=\"#DejaVuSans-111\"/>\n      <use x=\"359.082031\" xlink:href=\"#DejaVuSans-110\"/>\n     </g>\n    </g>\n   </g>\n   <g id=\"matplotlib.axis_2\">\n    <g id=\"ytick_1\">\n     <g id=\"line2d_8\">\n      <defs>\n       <path d=\"M 0 0 \nL -3.5 0 \n\" id=\"mba4c063403\" style=\"stroke:#000000;stroke-width:0.8;\"/>\n      </defs>\n      <g>\n       <use style=\"stroke:#000000;stroke-width:0.8;\" x=\"56.50625\" xlink:href=\"#mba4c063403\" y=\"206.362755\"/>\n      </g>\n     </g>\n     <g id=\"text_9\">\n      <!-- 0.980 -->\n      <g transform=\"translate(20.878125 210.161973)scale(0.1 -0.1)\">\n       <defs>\n        <path d=\"M 10.6875 12.40625 \nL 21 12.40625 \nL 21 0 \nL 10.6875 0 \nz\n\" id=\"DejaVuSans-46\"/>\n        <path d=\"M 10.984375 1.515625 \nL 10.984375 10.5 \nQ 14.703125 8.734375 18.5 7.8125 \nQ 22.3125 6.890625 25.984375 6.890625 \nQ 35.75 6.890625 40.890625 13.453125 \nQ 46.046875 20.015625 46.78125 33.40625 \nQ 43.953125 29.203125 39.59375 26.953125 \nQ 35.25 24.703125 29.984375 24.703125 \nQ 19.046875 24.703125 12.671875 31.3125 \nQ 6.296875 37.9375 6.296875 49.421875 \nQ 6.296875 60.640625 12.9375 67.421875 \nQ 19.578125 74.21875 30.609375 74.21875 \nQ 43.265625 74.21875 49.921875 64.515625 \nQ 56.59375 54.828125 56.59375 36.375 \nQ 56.59375 19.140625 48.40625 8.859375 \nQ 40.234375 -1.421875 26.421875 -1.421875 \nQ 22.703125 -1.421875 18.890625 -0.6875 \nQ 15.09375 0.046875 10.984375 1.515625 \nz\nM 30.609375 32.421875 \nQ 37.25 32.421875 41.125 36.953125 \nQ 45.015625 41.5 45.015625 49.421875 \nQ 45.015625 57.28125 41.125 61.84375 \nQ 37.25 66.40625 30.609375 66.40625 \nQ 23.96875 66.40625 20.09375 61.84375 \nQ 16.21875 57.28125 16.21875 49.421875 \nQ 16.21875 41.5 20.09375 36.953125 \nQ 23.96875 32.421875 30.609375 32.421875 \nz\n\" id=\"DejaVuSans-57\"/>\n       </defs>\n       <use xlink:href=\"#DejaVuSans-48\"/>\n       <use x=\"63.623047\" xlink:href=\"#DejaVuSans-46\"/>\n       <use x=\"95.410156\" xlink:href=\"#DejaVuSans-57\"/>\n       <use x=\"159.033203\" xlink:href=\"#DejaVuSans-56\"/>\n       <use x=\"222.65625\" xlink:href=\"#DejaVuSans-48\"/>\n      </g>\n     </g>\n    </g>\n    <g id=\"ytick_2\">\n     <g id=\"line2d_9\">\n      <g>\n       <use style=\"stroke:#000000;stroke-width:0.8;\" x=\"56.50625\" xlink:href=\"#mba4c063403\" y=\"162.822506\"/>\n      </g>\n     </g>\n     <g id=\"text_10\">\n      <!-- 0.985 -->\n      <g transform=\"translate(20.878125 166.621725)scale(0.1 -0.1)\">\n       <defs>\n        <path d=\"M 10.796875 72.90625 \nL 49.515625 72.90625 \nL 49.515625 64.59375 \nL 19.828125 64.59375 \nL 19.828125 46.734375 \nQ 21.96875 47.46875 24.109375 47.828125 \nQ 26.265625 48.1875 28.421875 48.1875 \nQ 40.625 48.1875 47.75 41.5 \nQ 54.890625 34.8125 54.890625 23.390625 \nQ 54.890625 11.625 47.5625 5.09375 \nQ 40.234375 -1.421875 26.90625 -1.421875 \nQ 22.3125 -1.421875 17.546875 -0.640625 \nQ 12.796875 0.140625 7.71875 1.703125 \nL 7.71875 11.625 \nQ 12.109375 9.234375 16.796875 8.0625 \nQ 21.484375 6.890625 26.703125 6.890625 \nQ 35.15625 6.890625 40.078125 11.328125 \nQ 45.015625 15.765625 45.015625 23.390625 \nQ 45.015625 31 40.078125 35.4375 \nQ 35.15625 39.890625 26.703125 39.890625 \nQ 22.75 39.890625 18.8125 39.015625 \nQ 14.890625 38.140625 10.796875 36.28125 \nz\n\" id=\"DejaVuSans-53\"/>\n       </defs>\n       <use xlink:href=\"#DejaVuSans-48\"/>\n       <use x=\"63.623047\" xlink:href=\"#DejaVuSans-46\"/>\n       <use x=\"95.410156\" xlink:href=\"#DejaVuSans-57\"/>\n       <use x=\"159.033203\" xlink:href=\"#DejaVuSans-56\"/>\n       <use x=\"222.65625\" xlink:href=\"#DejaVuSans-53\"/>\n      </g>\n     </g>\n    </g>\n    <g id=\"ytick_3\">\n     <g id=\"line2d_10\">\n      <g>\n       <use style=\"stroke:#000000;stroke-width:0.8;\" x=\"56.50625\" xlink:href=\"#mba4c063403\" y=\"119.282258\"/>\n      </g>\n     </g>\n     <g id=\"text_11\">\n      <!-- 0.990 -->\n      <g transform=\"translate(20.878125 123.081477)scale(0.1 -0.1)\">\n       <use xlink:href=\"#DejaVuSans-48\"/>\n       <use x=\"63.623047\" xlink:href=\"#DejaVuSans-46\"/>\n       <use x=\"95.410156\" xlink:href=\"#DejaVuSans-57\"/>\n       <use x=\"159.033203\" xlink:href=\"#DejaVuSans-57\"/>\n       <use x=\"222.65625\" xlink:href=\"#DejaVuSans-48\"/>\n      </g>\n     </g>\n    </g>\n    <g id=\"ytick_4\">\n     <g id=\"line2d_11\">\n      <g>\n       <use style=\"stroke:#000000;stroke-width:0.8;\" x=\"56.50625\" xlink:href=\"#mba4c063403\" y=\"75.74201\"/>\n      </g>\n     </g>\n     <g id=\"text_12\">\n      <!-- 0.995 -->\n      <g transform=\"translate(20.878125 79.541228)scale(0.1 -0.1)\">\n       <use xlink:href=\"#DejaVuSans-48\"/>\n       <use x=\"63.623047\" xlink:href=\"#DejaVuSans-46\"/>\n       <use x=\"95.410156\" xlink:href=\"#DejaVuSans-57\"/>\n       <use x=\"159.033203\" xlink:href=\"#DejaVuSans-57\"/>\n       <use x=\"222.65625\" xlink:href=\"#DejaVuSans-53\"/>\n      </g>\n     </g>\n    </g>\n    <g id=\"ytick_5\">\n     <g id=\"line2d_12\">\n      <g>\n       <use style=\"stroke:#000000;stroke-width:0.8;\" x=\"56.50625\" xlink:href=\"#mba4c063403\" y=\"32.201761\"/>\n      </g>\n     </g>\n     <g id=\"text_13\">\n      <!-- 1.000 -->\n      <g transform=\"translate(20.878125 36.00098)scale(0.1 -0.1)\">\n       <use xlink:href=\"#DejaVuSans-49\"/>\n       <use x=\"63.623047\" xlink:href=\"#DejaVuSans-46\"/>\n       <use x=\"95.410156\" xlink:href=\"#DejaVuSans-48\"/>\n       <use x=\"159.033203\" xlink:href=\"#DejaVuSans-48\"/>\n       <use x=\"222.65625\" xlink:href=\"#DejaVuSans-48\"/>\n      </g>\n     </g>\n    </g>\n    <g id=\"text_14\">\n     <!-- accuracy -->\n     <g transform=\"translate(14.798437 153.5975)rotate(-90)scale(0.1 -0.1)\">\n      <defs>\n       <path d=\"M 48.78125 52.59375 \nL 48.78125 44.1875 \nQ 44.96875 46.296875 41.140625 47.34375 \nQ 37.3125 48.390625 33.40625 48.390625 \nQ 24.65625 48.390625 19.8125 42.84375 \nQ 14.984375 37.3125 14.984375 27.296875 \nQ 14.984375 17.28125 19.8125 11.734375 \nQ 24.65625 6.203125 33.40625 6.203125 \nQ 37.3125 6.203125 41.140625 7.25 \nQ 44.96875 8.296875 48.78125 10.40625 \nL 48.78125 2.09375 \nQ 45.015625 0.34375 40.984375 -0.53125 \nQ 36.96875 -1.421875 32.421875 -1.421875 \nQ 20.0625 -1.421875 12.78125 6.34375 \nQ 5.515625 14.109375 5.515625 27.296875 \nQ 5.515625 40.671875 12.859375 48.328125 \nQ 20.21875 56 33.015625 56 \nQ 37.15625 56 41.109375 55.140625 \nQ 45.0625 54.296875 48.78125 52.59375 \nz\n\" id=\"DejaVuSans-99\"/>\n       <path d=\"M 8.5 21.578125 \nL 8.5 54.6875 \nL 17.484375 54.6875 \nL 17.484375 21.921875 \nQ 17.484375 14.15625 20.5 10.265625 \nQ 23.53125 6.390625 29.59375 6.390625 \nQ 36.859375 6.390625 41.078125 11.03125 \nQ 45.3125 15.671875 45.3125 23.6875 \nL 45.3125 54.6875 \nL 54.296875 54.6875 \nL 54.296875 0 \nL 45.3125 0 \nL 45.3125 8.40625 \nQ 42.046875 3.421875 37.71875 1 \nQ 33.40625 -1.421875 27.6875 -1.421875 \nQ 18.265625 -1.421875 13.375 4.4375 \nQ 8.5 10.296875 8.5 21.578125 \nz\nM 31.109375 56 \nz\n\" id=\"DejaVuSans-117\"/>\n       <path d=\"M 32.171875 -5.078125 \nQ 28.375 -14.84375 24.75 -17.8125 \nQ 21.140625 -20.796875 15.09375 -20.796875 \nL 7.90625 -20.796875 \nL 7.90625 -13.28125 \nL 13.1875 -13.28125 \nQ 16.890625 -13.28125 18.9375 -11.515625 \nQ 21 -9.765625 23.484375 -3.21875 \nL 25.09375 0.875 \nL 2.984375 54.6875 \nL 12.5 54.6875 \nL 29.59375 11.921875 \nL 46.6875 54.6875 \nL 56.203125 54.6875 \nz\n\" id=\"DejaVuSans-121\"/>\n      </defs>\n      <use xlink:href=\"#DejaVuSans-97\"/>\n      <use x=\"61.279297\" xlink:href=\"#DejaVuSans-99\"/>\n      <use x=\"116.259766\" xlink:href=\"#DejaVuSans-99\"/>\n      <use x=\"171.240234\" xlink:href=\"#DejaVuSans-117\"/>\n      <use x=\"234.619141\" xlink:href=\"#DejaVuSans-114\"/>\n      <use x=\"275.732422\" xlink:href=\"#DejaVuSans-97\"/>\n      <use x=\"337.011719\" xlink:href=\"#DejaVuSans-99\"/>\n      <use x=\"391.992188\" xlink:href=\"#DejaVuSans-121\"/>\n     </g>\n    </g>\n   </g>\n   <g id=\"line2d_13\">\n    <path clip-path=\"url(#pd0de382be8)\" d=\"M 71.724432 32.201761 \nL 93.464692 32.201761 \nL 115.204951 32.201761 \nL 136.945211 32.201761 \nL 158.685471 32.201761 \nL 180.425731 32.201761 \nL 202.16599 32.201761 \nL 223.90625 32.201761 \nL 245.64651 32.201761 \nL 267.386769 32.201761 \nL 289.127029 32.201761 \nL 310.867289 32.201761 \nL 332.607549 32.201761 \nL 354.347808 32.201761 \nL 376.088068 32.201761 \n\" style=\"fill:none;stroke:#000000;stroke-dasharray:5.55,2.4;stroke-dashoffset:0;stroke-width:1.5;\"/>\n   </g>\n   <g id=\"line2d_14\">\n    <path clip-path=\"url(#pd0de382be8)\" d=\"M 71.724432 229.874489 \nL 93.464692 188.220984 \nL 115.204951 153.969322 \nL 136.945211 131.328393 \nL 158.685471 114.347696 \nL 180.425731 113.186623 \nL 202.16599 110.28394 \nL 223.90625 100.85022 \nL 245.64651 80.386303 \nL 267.386769 95.335121 \nL 289.127029 78.354425 \nL 310.867289 77.48362 \nL 332.607549 71.387985 \nL 354.347808 72.839326 \nL 376.088068 75.016339 \n\" style=\"fill:none;stroke:#ff0000;stroke-linecap:square;stroke-width:1.5;\"/>\n   </g>\n   <g id=\"patch_3\">\n    <path d=\"M 56.50625 239.758125 \nL 56.50625 22.318125 \n\" style=\"fill:none;stroke:#000000;stroke-linecap:square;stroke-linejoin:miter;stroke-width:0.8;\"/>\n   </g>\n   <g id=\"patch_4\">\n    <path d=\"M 391.30625 239.758125 \nL 391.30625 22.318125 \n\" style=\"fill:none;stroke:#000000;stroke-linecap:square;stroke-linejoin:miter;stroke-width:0.8;\"/>\n   </g>\n   <g id=\"patch_5\">\n    <path d=\"M 56.50625 239.758125 \nL 391.30625 239.758125 \n\" style=\"fill:none;stroke:#000000;stroke-linecap:square;stroke-linejoin:miter;stroke-width:0.8;\"/>\n   </g>\n   <g id=\"patch_6\">\n    <path d=\"M 56.50625 22.318125 \nL 391.30625 22.318125 \n\" style=\"fill:none;stroke:#000000;stroke-linecap:square;stroke-linejoin:miter;stroke-width:0.8;\"/>\n   </g>\n   <g id=\"text_15\">\n    <!-- ACCURACY -->\n    <g transform=\"translate(191.458438 16.318125)scale(0.12 -0.12)\">\n     <defs>\n      <path d=\"M 34.1875 63.1875 \nL 20.796875 26.90625 \nL 47.609375 26.90625 \nz\nM 28.609375 72.90625 \nL 39.796875 72.90625 \nL 67.578125 0 \nL 57.328125 0 \nL 50.6875 18.703125 \nL 17.828125 18.703125 \nL 11.1875 0 \nL 0.78125 0 \nz\n\" id=\"DejaVuSans-65\"/>\n      <path d=\"M 64.40625 67.28125 \nL 64.40625 56.890625 \nQ 59.421875 61.53125 53.78125 63.8125 \nQ 48.140625 66.109375 41.796875 66.109375 \nQ 29.296875 66.109375 22.65625 58.46875 \nQ 16.015625 50.828125 16.015625 36.375 \nQ 16.015625 21.96875 22.65625 14.328125 \nQ 29.296875 6.6875 41.796875 6.6875 \nQ 48.140625 6.6875 53.78125 8.984375 \nQ 59.421875 11.28125 64.40625 15.921875 \nL 64.40625 5.609375 \nQ 59.234375 2.09375 53.4375 0.328125 \nQ 47.65625 -1.421875 41.21875 -1.421875 \nQ 24.65625 -1.421875 15.125 8.703125 \nQ 5.609375 18.84375 5.609375 36.375 \nQ 5.609375 53.953125 15.125 64.078125 \nQ 24.65625 74.21875 41.21875 74.21875 \nQ 47.75 74.21875 53.53125 72.484375 \nQ 59.328125 70.75 64.40625 67.28125 \nz\n\" id=\"DejaVuSans-67\"/>\n      <path d=\"M 8.6875 72.90625 \nL 18.609375 72.90625 \nL 18.609375 28.609375 \nQ 18.609375 16.890625 22.84375 11.734375 \nQ 27.09375 6.59375 36.625 6.59375 \nQ 46.09375 6.59375 50.34375 11.734375 \nQ 54.59375 16.890625 54.59375 28.609375 \nL 54.59375 72.90625 \nL 64.5 72.90625 \nL 64.5 27.390625 \nQ 64.5 13.140625 57.4375 5.859375 \nQ 50.390625 -1.421875 36.625 -1.421875 \nQ 22.796875 -1.421875 15.734375 5.859375 \nQ 8.6875 13.140625 8.6875 27.390625 \nz\n\" id=\"DejaVuSans-85\"/>\n      <path d=\"M 44.390625 34.1875 \nQ 47.5625 33.109375 50.5625 29.59375 \nQ 53.5625 26.078125 56.59375 19.921875 \nL 66.609375 0 \nL 56 0 \nL 46.6875 18.703125 \nQ 43.0625 26.03125 39.671875 28.421875 \nQ 36.28125 30.8125 30.421875 30.8125 \nL 19.671875 30.8125 \nL 19.671875 0 \nL 9.8125 0 \nL 9.8125 72.90625 \nL 32.078125 72.90625 \nQ 44.578125 72.90625 50.734375 67.671875 \nQ 56.890625 62.453125 56.890625 51.90625 \nQ 56.890625 45.015625 53.6875 40.46875 \nQ 50.484375 35.9375 44.390625 34.1875 \nz\nM 19.671875 64.796875 \nL 19.671875 38.921875 \nL 32.078125 38.921875 \nQ 39.203125 38.921875 42.84375 42.21875 \nQ 46.484375 45.515625 46.484375 51.90625 \nQ 46.484375 58.296875 42.84375 61.546875 \nQ 39.203125 64.796875 32.078125 64.796875 \nz\n\" id=\"DejaVuSans-82\"/>\n      <path d=\"M -0.203125 72.90625 \nL 10.40625 72.90625 \nL 30.609375 42.921875 \nL 50.6875 72.90625 \nL 61.28125 72.90625 \nL 35.5 34.71875 \nL 35.5 0 \nL 25.59375 0 \nL 25.59375 34.71875 \nz\n\" id=\"DejaVuSans-89\"/>\n     </defs>\n     <use xlink:href=\"#DejaVuSans-65\"/>\n     <use x=\"66.658203\" xlink:href=\"#DejaVuSans-67\"/>\n     <use x=\"136.482422\" xlink:href=\"#DejaVuSans-67\"/>\n     <use x=\"206.306641\" xlink:href=\"#DejaVuSans-85\"/>\n     <use x=\"279.5\" xlink:href=\"#DejaVuSans-82\"/>\n     <use x=\"344.982422\" xlink:href=\"#DejaVuSans-65\"/>\n     <use x=\"411.640625\" xlink:href=\"#DejaVuSans-67\"/>\n     <use x=\"479.714844\" xlink:href=\"#DejaVuSans-89\"/>\n    </g>\n   </g>\n   <g id=\"legend_1\">\n    <g id=\"patch_7\">\n     <path d=\"M 307.1875 234.758125 \nL 384.30625 234.758125 \nQ 386.30625 234.758125 386.30625 232.758125 \nL 386.30625 219.08 \nQ 386.30625 217.08 384.30625 217.08 \nL 307.1875 217.08 \nQ 305.1875 217.08 305.1875 219.08 \nL 305.1875 232.758125 \nQ 305.1875 234.758125 307.1875 234.758125 \nz\n\" style=\"fill:#ffffff;opacity:0.8;stroke:#cccccc;stroke-linejoin:miter;\"/>\n    </g>\n    <g id=\"line2d_15\">\n     <path d=\"M 309.1875 225.178437 \nL 329.1875 225.178437 \n\" style=\"fill:none;stroke:#ff0000;stroke-linecap:square;stroke-width:1.5;\"/>\n    </g>\n    <g id=\"line2d_16\"/>\n    <g id=\"text_16\">\n     <!-- accuracy -->\n     <g transform=\"translate(337.1875 228.678437)scale(0.1 -0.1)\">\n      <use xlink:href=\"#DejaVuSans-97\"/>\n      <use x=\"61.279297\" xlink:href=\"#DejaVuSans-99\"/>\n      <use x=\"116.259766\" xlink:href=\"#DejaVuSans-99\"/>\n      <use x=\"171.240234\" xlink:href=\"#DejaVuSans-117\"/>\n      <use x=\"234.619141\" xlink:href=\"#DejaVuSans-114\"/>\n      <use x=\"275.732422\" xlink:href=\"#DejaVuSans-97\"/>\n      <use x=\"337.011719\" xlink:href=\"#DejaVuSans-99\"/>\n      <use x=\"391.992188\" xlink:href=\"#DejaVuSans-121\"/>\n     </g>\n    </g>\n   </g>\n  </g>\n </g>\n <defs>\n  <clipPath id=\"pd0de382be8\">\n   <rect height=\"217.44\" width=\"334.8\" x=\"56.50625\" y=\"22.318125\"/>\n  </clipPath>\n </defs>\n</svg>\n",
      "image/png": "[encoded data removed]"
     },
     "metadata": {
      "needs_background": "light"
     }
    }
   ],
   "source": [
    "_ = plt.plot(axis, one, linestyle = 'dashed', color = 'black')\n",
    "_ = plt.plot(axis, accuracies, label = 'accuracy', color = 'red')\n",
    "__ = plt.xlabel('iteration') \n",
    "___ = plt.ylabel('accuracy')\n",
    "____ = plt.title('ACCURACY')\n",
    "_____ = plt.legend()"
   ]
  },
  {
   "source": [
    "Now it is possible to observe better performance. Still, one can deduce that we probably have reached a maximum in the accuracy in the last steps of the pruning procedure. \n",
    "One could decrease the pruning rate and increase the number of epochs and the number of iteration to obtain better results."
   ],
   "cell_type": "markdown",
   "metadata": {}
  }
 ]
}