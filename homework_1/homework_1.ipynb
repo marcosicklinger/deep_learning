{
 "metadata": {
  "language_info": {
   "codemirror_mode": {
    "name": "ipython",
    "version": 3
   },
   "file_extension": ".py",
   "mimetype": "text/x-python",
   "name": "python",
   "nbconvert_exporter": "python",
   "pygments_lexer": "ipython3",
   "version": "3.8.5-final"
  },
  "orig_nbformat": 2,
  "kernelspec": {
   "name": "python3",
   "display_name": "Python 3",
   "language": "python"
  }
 },
 "nbformat": 4,
 "nbformat_minor": 2,
 "cells": [
  {
   "source": [
    "# Homework 1\n",
    "### Marco Sicklinger, 03/2021"
   ],
   "cell_type": "markdown",
   "metadata": {}
  },
  {
   "source": [
    "## Question 1"
   ],
   "cell_type": "markdown",
   "metadata": {}
  },
  {
   "cell_type": "code",
   "execution_count": 187,
   "metadata": {},
   "outputs": [],
   "source": [
    "import torch as pt\n",
    "import random"
   ]
  },
  {
   "source": [
    "Defining more sophisticated `print` function (the one used in the laboratory)."
   ],
   "cell_type": "markdown",
   "metadata": {}
  },
  {
   "cell_type": "code",
   "execution_count": 188,
   "metadata": {},
   "outputs": [],
   "source": [
    "def pretty_print(obj, title=None):\n",
    "    if title is not None:\n",
    "        print(title)\n",
    "    print(obj)\n",
    "    print(\"\\n\")"
   ]
  },
  {
   "source": [
    "Creating class for multi-layer perceptrons:"
   ],
   "cell_type": "markdown",
   "metadata": {}
  },
  {
   "cell_type": "code",
   "execution_count": 244,
   "metadata": {},
   "outputs": [],
   "source": [
    "class MultiLayerPerceptron(pt.nn.Module):\n",
    "\n",
    "    def __init__(self) -> mlp:\n",
    "        super().__init__()\n",
    "\n",
    "        # Create members to simulate layers\n",
    "        self._h_layer_1 = pt.nn.Linear(in_features = 5, out_features = 11, bias = False)\n",
    "        self._h_layer_2 = pt.nn.Linear(in_features = 11, out_features = 16, bias = False)\n",
    "        self._h_layer_3 = pt.nn.Linear(in_features = 16, out_features = 13, bias = False)\n",
    "        self._h_layer_4 = pt.nn.Linear(in_features = 13, out_features = 8, bias = False)\n",
    "        self._o_layer = pt.nn.Linear(in_features = 8, out_features = 4, bias = False)\n",
    "\n",
    "    def forward(self, X):\n",
    "\n",
    "        out = self._h_layer_1(X)\n",
    "        out = pt.nn.functional.relu(out)\n",
    "\n",
    "        out = self._h_layer_2(out)\n",
    "        out = pt.nn.functional.relu(out)\n",
    "\n",
    "        out = self._h_layer_3(out)\n",
    "        out = pt.nn.functional.relu(out)\n",
    "\n",
    "        out = self._h_layer_4(out)\n",
    "        out = pt.nn.functional.relu(out)\n",
    "\n",
    "        out = self._o_layer(out)\n",
    "        out = pt.nn.functional.softmax(out, dim=0)\n",
    "\n",
    "        return out\n",
    "\n",
    "        "
   ]
  },
  {
   "source": [
    "## Question 2"
   ],
   "cell_type": "markdown",
   "metadata": {}
  },
  {
   "source": [
    "Creating instance of `MultiLayerPerceptron` class:"
   ],
   "cell_type": "markdown",
   "metadata": {}
  },
  {
   "cell_type": "code",
   "execution_count": 245,
   "metadata": {},
   "outputs": [],
   "source": [
    "mlp = MultiLayerPerceptron()"
   ]
  },
  {
   "source": [
    "#### Print summary with standard method"
   ],
   "cell_type": "markdown",
   "metadata": {}
  },
  {
   "cell_type": "code",
   "execution_count": 246,
   "metadata": {},
   "outputs": [
    {
     "output_type": "stream",
     "name": "stdout",
     "text": [
      "Multi-Layer Perceptron\nMultiLayerPerceptron(\n  (_h_layer_1): Linear(in_features=5, out_features=11, bias=False)\n  (_h_layer_2): Linear(in_features=11, out_features=16, bias=False)\n  (_h_layer_3): Linear(in_features=16, out_features=13, bias=False)\n  (_h_layer_4): Linear(in_features=13, out_features=8, bias=False)\n  (_o_layer): Linear(in_features=8, out_features=4, bias=False)\n)\n\n\n"
     ]
    }
   ],
   "source": [
    "pretty_print(mlp, \"Multi-Layer Perceptron\")"
   ]
  },
  {
   "source": [
    "#### Print summary with `torchsummary.summary` "
   ],
   "cell_type": "markdown",
   "metadata": {}
  },
  {
   "cell_type": "code",
   "execution_count": 247,
   "metadata": {},
   "outputs": [],
   "source": [
    "import sys\n",
    "from torchsummary import summary"
   ]
  },
  {
   "cell_type": "code",
   "execution_count": 248,
   "metadata": {},
   "outputs": [
    {
     "output_type": "stream",
     "name": "stdout",
     "text": [
      "=================================================================\nLayer (type:depth-idx)                   Param #\n=================================================================\n├─Linear: 1-1                            55\n├─Linear: 1-2                            176\n├─Linear: 1-3                            208\n├─Linear: 1-4                            104\n├─Linear: 1-5                            32\n=================================================================\nTotal params: 575\nTrainable params: 575\nNon-trainable params: 0\n=================================================================\n"
     ]
    },
    {
     "output_type": "execute_result",
     "data": {
      "text/plain": [
       "=================================================================\n",
       "Layer (type:depth-idx)                   Param #\n",
       "=================================================================\n",
       "├─Linear: 1-1                            55\n",
       "├─Linear: 1-2                            176\n",
       "├─Linear: 1-3                            208\n",
       "├─Linear: 1-4                            104\n",
       "├─Linear: 1-5                            32\n",
       "=================================================================\n",
       "Total params: 575\n",
       "Trainable params: 575\n",
       "Non-trainable params: 0\n",
       "================================================================="
      ]
     },
     "metadata": {},
     "execution_count": 248
    }
   ],
   "source": [
    "summary(mlp)"
   ]
  },
  {
   "source": [
    "## Question 3\n",
    "\n",
    "### *No bias* case\n",
    "Since the network has a total of six layers, input and output layers included, we need five matrices to store the weights.  \n",
    "\n",
    "A first matrix $W^{(1)}$ is needed between the input and the first hidden layer. Since we have a \"5-noded\" input layer and an \"11-noded\" hidden layer, $W^{(1)}$ will be of the form\n",
    "$$\n",
    "W^{(1)}=\n",
    "\\begin{pmatrix}\n",
    "w^{(1)}_{1,1} & \\dotsm & w^{(1)}_{1,5}\\\\\n",
    "\\dotsm & \\ddots & \\dotsm\\\\\n",
    "w^{(1)}_{11,1} & \\dotsm & w^{(1)}_{11,5}\n",
    "\\end{pmatrix}\n",
    "$$\n",
    "that is a $11\\times5$ order matrix.\n",
    "\n",
    "A second matrix of weights is needed between the first and the second hidden layers: since the former belongs to $\\mathbb{R}^{11}$ and the latter to $\\mathbb{R}^{16}$, we will need a $16\\times 11$ matrix this time:\n",
    "$$\n",
    "W^{(2)}=\n",
    "\\begin{pmatrix}\n",
    "w^{(2)}_{1,1} & \\dotsm & w^{(2)}_{1,11}\\\\\n",
    "\\dotsm & \\ddots & \\dotsm\\\\\n",
    "w^{(2)}_{16,1} & \\dotsm & w^{(2)}_{16,11}\n",
    "\\end{pmatrix}\n",
    "$$\n",
    "that is a $11\\times5$ order matrix.\n",
    "\n",
    "Since hidden layers two and three belongs respectively to $\\mathbb{R}^{16}$ and $\\mathbb{R}^{13}$, now we need a $13\\times16$ order matrix:\n",
    "$$\n",
    "W^{(3)}=\n",
    "\\begin{pmatrix}\n",
    "w^{(3)}_{1,1} & \\dotsm & w^{(3)}_{1,16}\\\\\n",
    "\\dotsm & \\ddots & \\dotsm\\\\\n",
    "w^{(3)}_{13,1} & \\dotsm & w^{(3)}_{13,16}\n",
    "\\end{pmatrix}.\n",
    "$$\n",
    "\n",
    "Similar reasoning brings us to deduce that, in order to deal with the rest of the layers, we need \n",
    "$$\n",
    "W^{(4)}=\n",
    "\\begin{pmatrix}\n",
    "w^{(4)}_{1,1} & \\dotsm & w^{(4)}_{1,13}\\\\\n",
    "\\dotsm & \\ddots & \\dotsm\\\\\n",
    "w^{(4)}_{8,1} & \\dotsm & w^{(4)}_{8,13}\n",
    "\\end{pmatrix}\n",
    "$$\n",
    "$$\n",
    "W^{(5)}=\n",
    "\\begin{pmatrix}\n",
    "w^{(5)}_{1,1} & \\dotsm & w^{(5)}_{1,8}\\\\\n",
    "\\dotsm & \\ddots & \\dotsm\\\\\n",
    "w^{(5)}_{4,1} & \\dotsm & w^{(5)}_{4,8}\n",
    "\\end{pmatrix},\n",
    "$$\n",
    "that are of order $8\\times13$ and $4\\times8$, respectively.\n",
    "\n",
    "This leads to the need of a number of parameters corresponding\n",
    "$$\n",
    "N_p=11\\cdot5+16\\cdot11+13\\cdot16+8\\cdot13+4\\cdot8=575.\n",
    "$$\n",
    "\n",
    "### *Bias* case\n",
    "In this case, to the number of parameters computed for the previous case, one must add the number of biases needed for each hidden layer layer.\n",
    "\n",
    "Since the first hidden layer belongs to $\\mathbb{R}^{11}$, here we need a bias vector\n",
    "$$\n",
    "b^{(1)}=\n",
    "\\begin{pmatrix}\n",
    "b^{(1)}_{1} \\\\\n",
    "\\vdots \\\\\n",
    "b^{(1)}_{11}\n",
    "\\end{pmatrix},\n",
    "$$\n",
    "which is a $11\\times1$ vector. With a similar anrgument, the bias vectors for the rest of the hidden layers are\n",
    "$$\n",
    "b^{(2)}=\n",
    "\\begin{pmatrix}\n",
    "b^{(2)}_{1} \\\\\n",
    "\\vdots \\\\\n",
    "b^{(2)}_{16}\n",
    "\\end{pmatrix},\\,\\,\\,\\,\\,\n",
    "b^{(3)}=\n",
    "\\begin{pmatrix}\n",
    "b^{(3)}_{1} \\\\\n",
    "\\vdots \\\\\n",
    "b^{(3)}_{13}\n",
    "\\end{pmatrix},\\,\\,\\,\\,\\,\n",
    "b^{(4)}=\n",
    "\\begin{pmatrix}\n",
    "b^{(4)}_{1} \\\\\n",
    "\\vdots \\\\\n",
    "b^{(4)}_{8}\n",
    "\\end{pmatrix},\\,\\,\\,\\,\\,\n",
    "b^{(5)}=\n",
    "\\begin{pmatrix}\n",
    "b^{(5)}_{1} \\\\\n",
    "\\vdots \\\\\n",
    "b^{(5)}_{4}\n",
    "\\end{pmatrix},\n",
    "$$\n",
    "that are $16\\times1$, $13\\times1$, $8\\times1$ and $4\\times 1$ vectors, respectively.\n",
    "\n",
    "The total number of parameters needed goes to\n",
    "$$\n",
    "N_p=575+11\\cdot1+16\\cdot1+13\\cdot1+8\\cdot1+4\\cdot1=575+52=627.\n",
    "$$"
   ],
   "cell_type": "markdown",
   "metadata": {}
  },
  {
   "source": [
    "## Question 4"
   ],
   "cell_type": "markdown",
   "metadata": {}
  },
  {
   "cell_type": "code",
   "execution_count": 265,
   "metadata": {},
   "outputs": [
    {
     "output_type": "stream",
     "name": "stdout",
     "text": [
      "_h_layer_1.weight tensor([[ 0.1148,  0.3827, -0.3027, -0.4441,  0.4083],\n        [ 0.0168,  0.2687,  0.3900,  0.1731, -0.0757],\n        [ 0.1822, -0.0764,  0.1147,  0.1522,  0.0222],\n        [ 0.3545,  0.0348, -0.4051,  0.0622,  0.0350],\n        [-0.3568, -0.1167,  0.1407, -0.3823, -0.3112],\n        [ 0.2855, -0.4329,  0.1973,  0.1581,  0.2437],\n        [ 0.1127,  0.3420,  0.0895, -0.2274,  0.3915],\n        [-0.3708, -0.2194,  0.1926,  0.4246, -0.3973],\n        [ 0.2153, -0.1519, -0.3547,  0.1967, -0.2081],\n        [-0.3417,  0.1833,  0.1128,  0.3316,  0.1307],\n        [ 0.1383,  0.3527, -0.2944, -0.2982, -0.3454]])\n\n\n1-norm of tensor _h_layer_1.weight\n13.065032958984375\n\n\n2-norm of tensor _h_layer_1.weight\n1.988128900527954\n\n\n-------------------------------------------------------\n\n\n_h_layer_2.weight tensor([[-0.0708,  0.1165, -0.2328, -0.1802, -0.1626,  0.0603,  0.1962,  0.2000,\n          0.1696, -0.1901, -0.0186],\n        [-0.1429, -0.2605,  0.2971,  0.1781,  0.1482, -0.0186, -0.1482,  0.2812,\n         -0.1106, -0.1056, -0.1908],\n        [ 0.0333, -0.2101, -0.0534,  0.0850,  0.0009, -0.2422,  0.1079,  0.0625,\n         -0.2646, -0.2732, -0.0420],\n        [-0.2379,  0.0620, -0.0899,  0.0833, -0.2840, -0.2331, -0.2896,  0.2670,\n          0.0927,  0.0531,  0.0562],\n        [-0.1268, -0.1311,  0.0870,  0.2834, -0.0515,  0.2560,  0.2769,  0.1948,\n          0.1613,  0.2657, -0.1634],\n        [-0.0547,  0.1989, -0.1255,  0.1814,  0.1169, -0.2816, -0.1582, -0.0840,\n         -0.1607,  0.2748, -0.0589],\n        [ 0.2299, -0.2144,  0.1586,  0.0347, -0.0899,  0.2487,  0.0592,  0.1757,\n          0.0734,  0.2060,  0.0885],\n        [-0.0176,  0.1655,  0.1312,  0.0364,  0.0429,  0.0727,  0.0455, -0.2003,\n          0.2362,  0.1903,  0.1977],\n        [ 0.2052,  0.0351, -0.2767, -0.1180,  0.0059,  0.0535,  0.1565,  0.0084,\n         -0.0112,  0.0309,  0.1460],\n        [ 0.2525,  0.1873,  0.1843,  0.1233,  0.1023, -0.0428,  0.1461, -0.3008,\n          0.1411, -0.2641, -0.1615],\n        [-0.2862, -0.0123,  0.1969, -0.1951,  0.1949, -0.0593,  0.0202,  0.1644,\n          0.2174,  0.0656,  0.1598],\n        [ 0.0034, -0.0013,  0.2949, -0.0516, -0.0260, -0.2200,  0.1336,  0.2330,\n         -0.0097, -0.0721, -0.1770],\n        [ 0.1868, -0.0777,  0.1956,  0.2104,  0.2964, -0.2650, -0.2247, -0.2166,\n          0.0093,  0.1313,  0.0499],\n        [-0.3007,  0.1163,  0.1878,  0.1805, -0.2527,  0.0903, -0.0595, -0.1848,\n          0.1397,  0.1837,  0.0846],\n        [-0.2294, -0.1369, -0.2981,  0.0270, -0.1309, -0.0588,  0.0961, -0.0927,\n         -0.0606,  0.2048, -0.2309],\n        [-0.2667,  0.0300,  0.2068, -0.2676,  0.2828, -0.1912,  0.1210, -0.1533,\n         -0.2351, -0.0338,  0.1833]])\n\n\n1-norm of tensor _h_layer_2.weight\n26.14249038696289\n\n\n2-norm of tensor _h_layer_2.weight\n2.2761452198028564\n\n\n-------------------------------------------------------\n\n\n_h_layer_3.weight tensor([[ 1.2507e-01,  1.8773e-01, -1.4752e-01, -2.3135e-01, -8.6172e-02,\n          1.8661e-02,  4.2230e-02, -2.4691e-01, -2.4688e-01,  1.8667e-01,\n         -2.0026e-01,  1.1923e-01,  9.0708e-02,  2.2375e-01,  9.0916e-02,\n         -1.0693e-01],\n        [ 1.8397e-01, -2.1254e-01, -1.1882e-02,  1.6519e-01, -1.7503e-01,\n         -1.6580e-01, -3.2467e-02,  1.2900e-01,  8.7769e-02,  7.7930e-02,\n         -1.6619e-01, -1.0234e-01, -8.4676e-02,  1.1001e-01,  1.9076e-01,\n          7.7889e-02],\n        [ 7.2255e-02,  2.5763e-02, -7.4555e-02, -1.6228e-01, -1.4132e-01,\n         -2.1711e-01, -2.2063e-01, -5.6216e-02,  1.1255e-01,  8.6220e-02,\n         -2.1387e-01, -1.2203e-01,  2.3924e-03,  2.2749e-01, -1.3522e-01,\n          1.1029e-01],\n        [-2.3435e-01, -2.8471e-02,  1.6463e-01, -7.8765e-02,  8.3449e-02,\n         -1.9854e-01, -2.1899e-01, -1.9138e-01, -2.1330e-01,  2.0538e-01,\n          2.4727e-01, -9.4310e-02,  2.3484e-01, -6.3152e-02,  3.0716e-02,\n         -3.7194e-02],\n        [-2.2400e-01, -6.3648e-02,  9.1280e-02, -2.2568e-01, -2.0916e-01,\n          1.1467e-01,  4.3220e-02, -1.8404e-01,  1.7514e-01,  1.0298e-01,\n          6.3193e-02,  1.2684e-01, -1.2381e-01,  3.3898e-02,  1.3205e-01,\n         -1.2004e-01],\n        [-1.5516e-01, -2.2360e-01,  2.2459e-01,  2.1383e-01, -1.3938e-01,\n          1.5263e-01, -2.0885e-01,  1.6411e-01,  6.2259e-02, -1.3397e-01,\n          2.1990e-01, -2.4001e-01,  1.4870e-01,  7.6282e-02,  3.1374e-02,\n         -1.3147e-01],\n        [-1.1866e-01, -2.3367e-01, -1.2198e-01,  2.4212e-01, -1.5595e-01,\n          1.6221e-01, -2.8221e-02, -2.1301e-01,  1.9896e-04,  1.6173e-01,\n          1.8905e-01, -2.7955e-02, -1.1143e-01, -1.0325e-01,  1.8466e-01,\n         -1.6231e-02],\n        [ 3.6272e-03, -1.8422e-01, -1.5130e-01, -2.8746e-02, -1.9938e-01,\n         -6.5711e-02,  1.1514e-01,  2.1943e-01,  1.0099e-01, -2.4232e-01,\n          8.6506e-02, -4.5777e-02, -4.7916e-02,  1.8971e-01,  5.3366e-02,\n         -2.1294e-01],\n        [-2.0229e-01, -1.8426e-01, -1.8155e-01,  3.0819e-03, -1.1847e-01,\n          1.9346e-01, -1.0151e-01,  1.5129e-01, -1.4108e-01,  1.8744e-01,\n          6.5442e-03,  7.0624e-02, -1.7032e-01,  1.3148e-01,  6.1622e-02,\n         -5.1567e-02],\n        [-2.1645e-01,  1.2335e-01, -1.2269e-01,  7.8575e-02, -2.1388e-01,\n         -1.5942e-01,  2.4661e-01, -1.8703e-01, -3.9012e-03, -1.1092e-01,\n          1.2651e-01, -1.1070e-01,  1.0885e-01,  1.7891e-01, -2.4076e-01,\n          1.8790e-01],\n        [-1.1702e-01, -7.8501e-02,  3.5016e-02,  1.1575e-01, -4.5256e-02,\n          2.3061e-01,  3.8259e-02, -2.1560e-02,  2.0038e-01,  8.4972e-02,\n         -1.0907e-02,  1.0885e-01,  1.0251e-01,  2.2379e-01, -2.1194e-03,\n          2.2022e-02],\n        [ 2.1128e-01,  1.3676e-01, -2.4731e-01,  3.6057e-02,  1.6380e-01,\n          1.8612e-01, -1.4321e-01,  2.0537e-01,  1.8585e-01,  7.4661e-02,\n         -2.3298e-01, -9.0676e-02, -9.2298e-02, -1.6845e-01, -7.1615e-02,\n         -2.1682e-01],\n        [ 1.4469e-01, -2.0130e-01,  1.0010e-01,  7.0460e-02, -6.3097e-02,\n          2.2916e-01,  7.5082e-03, -7.6479e-02, -1.9490e-01,  2.2520e-01,\n          7.8038e-02, -1.4538e-01, -1.3556e-01, -5.5716e-02, -2.0043e-01,\n         -1.5190e-01]])\n\n\n1-norm of tensor _h_layer_3.weight\n27.5601863861084\n\n\n2-norm of tensor _h_layer_3.weight\n2.160196542739868\n\n\n-------------------------------------------------------\n\n\n_h_layer_4.weight tensor([[-0.2762,  0.2128, -0.2099, -0.0892, -0.0547,  0.1559,  0.2039,  0.1603,\n          0.0025, -0.1698,  0.1319, -0.1820, -0.1613],\n        [ 0.1655,  0.1785,  0.1230,  0.0292,  0.0537,  0.1155,  0.1002,  0.2572,\n         -0.2401, -0.2550,  0.1548, -0.1304,  0.1581],\n        [ 0.0095,  0.0712,  0.0374, -0.0223,  0.1649, -0.1719,  0.2054,  0.0699,\n          0.1074, -0.0400,  0.0070, -0.2259, -0.1156],\n        [-0.1773, -0.1734,  0.2498,  0.2689, -0.0084,  0.2771,  0.2178, -0.0548,\n         -0.2323,  0.1872, -0.0786,  0.1333,  0.2083],\n        [ 0.0515, -0.1221,  0.2255, -0.0199,  0.0025, -0.0888, -0.2428,  0.2256,\n          0.2623,  0.2659,  0.0045,  0.1682,  0.0473],\n        [ 0.1910,  0.0391,  0.2387, -0.1277,  0.0134, -0.0634, -0.2072, -0.1393,\n         -0.2616,  0.0623, -0.1851,  0.0148,  0.1555],\n        [ 0.1036, -0.2272, -0.0403,  0.0919, -0.2326,  0.2509, -0.2148, -0.1589,\n          0.2750, -0.2649, -0.2521,  0.1098, -0.0786],\n        [ 0.2032, -0.2229,  0.1100,  0.0903, -0.1259, -0.0981, -0.2437,  0.0562,\n          0.2522,  0.0930, -0.1013, -0.0124,  0.0044]])\n\n\n1-norm of tensor _h_layer_4.weight\n14.8275146484375\n\n\n2-norm of tensor _h_layer_4.weight\n1.683430552482605\n\n\n-------------------------------------------------------\n\n\n_o_layer.weight tensor([[ 0.2672,  0.1569, -0.2811,  0.1388,  0.2327, -0.3088,  0.1318,  0.3344],\n        [ 0.2468, -0.0856,  0.1002,  0.0153,  0.2881,  0.1506, -0.3050,  0.0064],\n        [-0.2089, -0.1206,  0.2930, -0.0187,  0.1090, -0.3016, -0.2149,  0.3333],\n        [ 0.1426, -0.1756,  0.1715, -0.1704,  0.3003, -0.2040, -0.0689, -0.1823]])\n\n\n1-norm of tensor _o_layer.weight\n6.065336227416992\n\n\n2-norm of tensor _o_layer.weight\n1.1975908279418945\n\n\n-------------------------------------------------------\n\n\n"
     ]
    }
   ],
   "source": [
    "for par_name, par in mlp.state_dict().items():\n",
    "    print(par_name, par)\n",
    "    print('\\n')\n",
    "    norm_1 = par.norm(1).item()\n",
    "    pretty_print(norm_1, \"1-norm of tensor {}\".format(par_name))\n",
    "    norm_2 = par.norm(2).item()\n",
    "    pretty_print(norm_2, \"2-norm of tensor {}\".format(par_name))\n",
    "    print('-------------------------------------------------------')\n",
    "    print('\\n')"
   ]
  }
 ]
}