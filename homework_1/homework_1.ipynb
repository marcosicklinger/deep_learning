{
 "metadata": {
  "language_info": {
   "codemirror_mode": {
    "name": "ipython",
    "version": 3
   },
   "file_extension": ".py",
   "mimetype": "text/x-python",
   "name": "python",
   "nbconvert_exporter": "python",
   "pygments_lexer": "ipython3",
   "version": "3.8.5-final"
  },
  "orig_nbformat": 2,
  "kernelspec": {
   "name": "python3",
   "display_name": "Python 3",
   "language": "python"
  }
 },
 "nbformat": 4,
 "nbformat_minor": 2,
 "cells": [
  {
   "source": [
    "# Homework 1\n",
    "### Marco Sicklinger, 03/2021"
   ],
   "cell_type": "markdown",
   "metadata": {}
  },
  {
   "source": [
    "## Question 1"
   ],
   "cell_type": "markdown",
   "metadata": {}
  },
  {
   "cell_type": "code",
   "execution_count": 18,
   "metadata": {},
   "outputs": [],
   "source": [
    "import torch as pt\n",
    "import random"
   ]
  },
  {
   "source": [
    "Defining more sophisticated `print` function (the one used in the laboratory)."
   ],
   "cell_type": "markdown",
   "metadata": {}
  },
  {
   "cell_type": "code",
   "execution_count": 34,
   "metadata": {},
   "outputs": [],
   "source": [
    "def pretty_print(obj, title=None):\n",
    "    if title is not None:\n",
    "        print(title)\n",
    "    print(obj)\n",
    "    print(\"\\n\")"
   ]
  },
  {
   "source": [
    "Creating class for multi-layer perceptrons:"
   ],
   "cell_type": "markdown",
   "metadata": {}
  },
  {
   "cell_type": "code",
   "execution_count": 35,
   "metadata": {},
   "outputs": [],
   "source": [
    "class MultiLayerPerceptron(pt.nn.Module):\n",
    "\n",
    "    def __init__(self):\n",
    "        super().__init__()\n",
    "\n",
    "        # Create members to simulate layers\n",
    "        self._h_layer_1 = pt.nn.Linear(in_features = 5, out_features = 11, bias = False)\n",
    "        self._h_layer_2 = pt.nn.Linear(in_features = 11, out_features = 16, bias = False)\n",
    "        self._h_layer_3 = pt.nn.Linear(in_features = 16, out_features = 13, bias = False)\n",
    "        self._h_layer_4 = pt.nn.Linear(in_features = 13, out_features = 8, bias = False)\n",
    "        self._o_layer = pt.nn.Linear(in_features = 8, out_features = 4, bias = False)\n",
    "\n",
    "    def forward(self, X):\n",
    "\n",
    "        out = self._h_layer_1(X)\n",
    "        out = pt.nn.functional.relu(out)\n",
    "\n",
    "        out = self._h_layer_2(out)\n",
    "        out = pt.nn.functional.relu(out)\n",
    "\n",
    "        out = self._h_layer_3(out)\n",
    "        out = pt.nn.functional.relu(out)\n",
    "\n",
    "        out = self._h_layer_4(out)\n",
    "        out = pt.nn.functional.relu(out)\n",
    "\n",
    "        out = self._o_layer(out)\n",
    "        out = pt.nn.functional.softmax(out, dim=0)\n",
    "\n",
    "        return out\n",
    "\n",
    "        "
   ]
  },
  {
   "source": [
    "## Question 2"
   ],
   "cell_type": "markdown",
   "metadata": {}
  },
  {
   "source": [
    "Creating instance of `MultiLayerPerceptron` class:"
   ],
   "cell_type": "markdown",
   "metadata": {}
  },
  {
   "cell_type": "code",
   "execution_count": 36,
   "metadata": {},
   "outputs": [],
   "source": [
    "mlp = MultiLayerPerceptron()"
   ]
  },
  {
   "source": [
    "#### Print summary with standard method"
   ],
   "cell_type": "markdown",
   "metadata": {}
  },
  {
   "cell_type": "code",
   "execution_count": 37,
   "metadata": {},
   "outputs": [
    {
     "output_type": "stream",
     "name": "stdout",
     "text": [
      "Multi-Layer Perceptron\nMultiLayerPerceptron(\n  (_h_layer_1): Linear(in_features=5, out_features=11, bias=False)\n  (_h_layer_2): Linear(in_features=11, out_features=16, bias=False)\n  (_h_layer_3): Linear(in_features=16, out_features=13, bias=False)\n  (_h_layer_4): Linear(in_features=13, out_features=8, bias=False)\n  (_o_layer): Linear(in_features=8, out_features=4, bias=False)\n)\n\n\n"
     ]
    }
   ],
   "source": [
    "pretty_print(mlp, \"Multi-Layer Perceptron\")"
   ]
  },
  {
   "source": [
    "#### Print summary with `torchsummary.summary` "
   ],
   "cell_type": "markdown",
   "metadata": {}
  },
  {
   "cell_type": "code",
   "execution_count": 38,
   "metadata": {},
   "outputs": [],
   "source": [
    "import sys\n",
    "from torchsummary import summary"
   ]
  },
  {
   "cell_type": "code",
   "execution_count": 39,
   "metadata": {},
   "outputs": [
    {
     "output_type": "stream",
     "name": "stdout",
     "text": [
      "=================================================================\nLayer (type:depth-idx)                   Param #\n=================================================================\n├─Linear: 1-1                            55\n├─Linear: 1-2                            176\n├─Linear: 1-3                            208\n├─Linear: 1-4                            104\n├─Linear: 1-5                            32\n=================================================================\nTotal params: 575\nTrainable params: 575\nNon-trainable params: 0\n=================================================================\n"
     ]
    },
    {
     "output_type": "execute_result",
     "data": {
      "text/plain": [
       "=================================================================\n",
       "Layer (type:depth-idx)                   Param #\n",
       "=================================================================\n",
       "├─Linear: 1-1                            55\n",
       "├─Linear: 1-2                            176\n",
       "├─Linear: 1-3                            208\n",
       "├─Linear: 1-4                            104\n",
       "├─Linear: 1-5                            32\n",
       "=================================================================\n",
       "Total params: 575\n",
       "Trainable params: 575\n",
       "Non-trainable params: 0\n",
       "================================================================="
      ]
     },
     "metadata": {},
     "execution_count": 39
    }
   ],
   "source": [
    "summary(mlp)"
   ]
  },
  {
   "source": [
    "## Question 3\n",
    "\n",
    "### *No bias* case\n",
    "Since the network has a total of six layers, input and output layers included, we need five matrices to store the weights.  \n",
    "\n",
    "A first matrix $W^{(1)}$ is needed between the input and the first hidden layer. Since we have a \"5-noded\" input layer and an \"11-noded\" hidden layer, $W^{(1)}$ will be of the form\n",
    "$$\n",
    "W^{(1)}=\n",
    "\\begin{pmatrix}\n",
    "w^{(1)}_{1,1} & \\dotsm & w^{(1)}_{1,5}\\\\\n",
    "\\dotsm & \\ddots & \\dotsm\\\\\n",
    "w^{(1)}_{11,1} & \\dotsm & w^{(1)}_{11,5}\n",
    "\\end{pmatrix}\n",
    "$$\n",
    "that is a $11\\times5$ order matrix.\n",
    "\n",
    "A second matrix of weights is needed between the first and the second hidden layers: since the former belongs to $\\mathbb{R}^{11}$ and the latter to $\\mathbb{R}^{16}$, we will need a $16\\times 11$ matrix this time:\n",
    "$$\n",
    "W^{(2)}=\n",
    "\\begin{pmatrix}\n",
    "w^{(2)}_{1,1} & \\dotsm & w^{(2)}_{1,11}\\\\\n",
    "\\dotsm & \\ddots & \\dotsm\\\\\n",
    "w^{(2)}_{16,1} & \\dotsm & w^{(2)}_{16,11}\n",
    "\\end{pmatrix}\n",
    "$$\n",
    "that is a $11\\times5$ order matrix.\n",
    "\n",
    "Since hidden layers two and three belongs respectively to $\\mathbb{R}^{16}$ and $\\mathbb{R}^{13}$, now we need a $13\\times16$ order matrix:\n",
    "$$\n",
    "W^{(3)}=\n",
    "\\begin{pmatrix}\n",
    "w^{(3)}_{1,1} & \\dotsm & w^{(3)}_{1,16}\\\\\n",
    "\\dotsm & \\ddots & \\dotsm\\\\\n",
    "w^{(3)}_{13,1} & \\dotsm & w^{(3)}_{13,16}\n",
    "\\end{pmatrix}.\n",
    "$$\n",
    "\n",
    "Similar reasoning brings us to deduce that, in order to deal with the rest of the layers, we need \n",
    "$$\n",
    "W^{(4)}=\n",
    "\\begin{pmatrix}\n",
    "w^{(4)}_{1,1} & \\dotsm & w^{(4)}_{1,13}\\\\\n",
    "\\dotsm & \\ddots & \\dotsm\\\\\n",
    "w^{(4)}_{8,1} & \\dotsm & w^{(4)}_{8,13}\n",
    "\\end{pmatrix}\n",
    "$$\n",
    "$$\n",
    "W^{(5)}=\n",
    "\\begin{pmatrix}\n",
    "w^{(5)}_{1,1} & \\dotsm & w^{(5)}_{1,8}\\\\\n",
    "\\dotsm & \\ddots & \\dotsm\\\\\n",
    "w^{(5)}_{4,1} & \\dotsm & w^{(5)}_{4,8}\n",
    "\\end{pmatrix},\n",
    "$$\n",
    "that are of order $8\\times13$ and $4\\times8$, respectively.\n",
    "\n",
    "This leads to the need of a number of parameters corresponding\n",
    "$$\n",
    "N_p=11\\cdot5+16\\cdot11+13\\cdot16+8\\cdot13+4\\cdot8=575.\n",
    "$$\n",
    "\n",
    "### *Bias* case\n",
    "In this case, to the number of parameters computed for the previous case, one must add the number of biases needed for each hidden layer layer.\n",
    "\n",
    "Since the first hidden layer belongs to $\\mathbb{R}^{11}$, here we need a bias vector\n",
    "$$\n",
    "b^{(1)}=\n",
    "\\begin{pmatrix}\n",
    "b^{(1)}_{1} \\\\\n",
    "\\vdots \\\\\n",
    "b^{(1)}_{11}\n",
    "\\end{pmatrix},\n",
    "$$\n",
    "which is a $11\\times1$ vector. With a similar anrgument, the bias vectors for the rest of the hidden layers are\n",
    "$$\n",
    "b^{(2)}=\n",
    "\\begin{pmatrix}\n",
    "b^{(2)}_{1} \\\\\n",
    "\\vdots \\\\\n",
    "b^{(2)}_{16}\n",
    "\\end{pmatrix},\\,\\,\\,\\,\\,\n",
    "b^{(3)}=\n",
    "\\begin{pmatrix}\n",
    "b^{(3)}_{1} \\\\\n",
    "\\vdots \\\\\n",
    "b^{(3)}_{13}\n",
    "\\end{pmatrix},\\,\\,\\,\\,\\,\n",
    "b^{(4)}=\n",
    "\\begin{pmatrix}\n",
    "b^{(4)}_{1} \\\\\n",
    "\\vdots \\\\\n",
    "b^{(4)}_{8}\n",
    "\\end{pmatrix},\\,\\,\\,\\,\\,\n",
    "b^{(5)}=\n",
    "\\begin{pmatrix}\n",
    "b^{(5)}_{1} \\\\\n",
    "\\vdots \\\\\n",
    "b^{(5)}_{4}\n",
    "\\end{pmatrix},\n",
    "$$\n",
    "that are $16\\times1$, $13\\times1$, $8\\times1$ and $4\\times 1$ vectors, respectively.\n",
    "\n",
    "The total number of parameters needed goes to\n",
    "$$\n",
    "N_p=575+11\\cdot1+16\\cdot1+13\\cdot1+8\\cdot1+4\\cdot1=575+52=627.\n",
    "$$"
   ],
   "cell_type": "markdown",
   "metadata": {}
  },
  {
   "source": [
    "## Question 4"
   ],
   "cell_type": "markdown",
   "metadata": {}
  },
  {
   "cell_type": "code",
   "execution_count": 40,
   "metadata": {},
   "outputs": [
    {
     "output_type": "stream",
     "name": "stdout",
     "text": [
      "_h_layer_1.weight tensor([[ 0.1471,  0.3730, -0.0693, -0.1390, -0.2650],\n        [ 0.4020, -0.0305, -0.2658,  0.3058,  0.0800],\n        [-0.2078, -0.2932,  0.1696,  0.2723, -0.0473],\n        [ 0.1108, -0.1379, -0.1138,  0.2811, -0.3071],\n        [ 0.3451, -0.2241, -0.3402, -0.2188,  0.3836],\n        [-0.0816, -0.2221,  0.3596, -0.3859,  0.3842],\n        [ 0.1919, -0.0690, -0.0911, -0.1626, -0.3167],\n        [-0.0872,  0.0738,  0.4034,  0.1438,  0.3268],\n        [-0.0642,  0.1412,  0.0314,  0.2642, -0.0618],\n        [-0.0170, -0.2534, -0.4254,  0.2709,  0.0534],\n        [-0.3370, -0.3395, -0.0854, -0.2339, -0.0328]])\n\n\n1-norm of tensor _h_layer_1.weight\n11.44139289855957\n\n\n2-norm of tensor _h_layer_1.weight\n1.7872098684310913\n\n\n-------------------------------------------------------\n\n\n_h_layer_2.weight tensor([[ 0.1309,  0.1489,  0.0418, -0.2248, -0.2164, -0.2639, -0.0938, -0.0142,\n          0.1847, -0.0436,  0.2053],\n        [-0.2421, -0.1001,  0.0068, -0.0866,  0.0682, -0.0189, -0.0753,  0.0563,\n         -0.1336, -0.2158,  0.2927],\n        [-0.2275,  0.2617,  0.2504,  0.2814, -0.1119, -0.1023, -0.0156, -0.0417,\n          0.0713,  0.0489, -0.1964],\n        [-0.0742,  0.1202, -0.0430, -0.0537,  0.0737, -0.0379, -0.2886, -0.1994,\n         -0.1628, -0.2460,  0.0618],\n        [ 0.1140,  0.0609, -0.0092,  0.0236,  0.0335,  0.1296,  0.2644, -0.1142,\n          0.0643, -0.0392, -0.2656],\n        [-0.2717, -0.1105, -0.2043,  0.0672, -0.2606, -0.2882, -0.0326,  0.2053,\n          0.1357,  0.1352,  0.0742],\n        [ 0.2040,  0.0061,  0.1590, -0.0728,  0.2403, -0.2651, -0.1594,  0.1864,\n          0.0041, -0.2244, -0.1654],\n        [-0.1223,  0.0871, -0.0416, -0.1006, -0.2142, -0.0852, -0.2137,  0.0421,\n          0.0735, -0.2798, -0.2840],\n        [ 0.1126,  0.1685,  0.2047,  0.1250, -0.0703,  0.0886, -0.0163, -0.2403,\n          0.0698, -0.2818, -0.0177],\n        [ 0.0388,  0.0569, -0.2691, -0.1931,  0.0388,  0.2946, -0.2995,  0.2088,\n         -0.0274,  0.2846,  0.2273],\n        [-0.0415, -0.2068,  0.2128, -0.1059,  0.1445, -0.1560,  0.0032, -0.2285,\n         -0.2455,  0.0754,  0.0125],\n        [ 0.2540, -0.2867, -0.0305,  0.2580, -0.2733,  0.0245,  0.1762, -0.2678,\n          0.2477,  0.1631, -0.2017],\n        [-0.0949, -0.1143,  0.1556, -0.0114,  0.1722, -0.2124, -0.1483, -0.0363,\n         -0.0510, -0.2367,  0.0323],\n        [ 0.1526,  0.0201, -0.1038,  0.2404,  0.2578,  0.2259,  0.1351, -0.1874,\n          0.2587, -0.2240,  0.2328],\n        [ 0.1810, -0.2411,  0.1023,  0.2089,  0.0493,  0.1164,  0.1447, -0.0453,\n         -0.2650, -0.0631, -0.0989],\n        [-0.1454, -0.1568, -0.2738,  0.2887, -0.0468,  0.2593, -0.1719,  0.0080,\n          0.1797,  0.0594, -0.0800]])\n\n\n1-norm of tensor _h_layer_2.weight\n25.410741806030273\n\n\n2-norm of tensor _h_layer_2.weight\n2.2528369426727295\n\n\n-------------------------------------------------------\n\n\n_h_layer_3.weight tensor([[-0.2230,  0.1461,  0.1670, -0.0619, -0.1407, -0.0356,  0.1555,  0.1392,\n         -0.1306, -0.1041,  0.1248,  0.1835,  0.1778,  0.1473, -0.0656, -0.0662],\n        [ 0.1122,  0.1966, -0.1998,  0.1144,  0.1606,  0.0817, -0.0046,  0.0558,\n         -0.1260, -0.0673, -0.1184,  0.1736, -0.1561,  0.1248,  0.1121, -0.0621],\n        [-0.0777, -0.1253, -0.0953,  0.0707,  0.0972,  0.1294, -0.0828,  0.1543,\n          0.0849, -0.0137,  0.0125,  0.0146,  0.1303, -0.2208,  0.2280, -0.0968],\n        [-0.0888, -0.0817, -0.1905, -0.0200,  0.1252, -0.2235, -0.1841,  0.2133,\n          0.0420, -0.2161,  0.2019,  0.2323,  0.0967, -0.1815,  0.1449, -0.1324],\n        [-0.1631,  0.0096,  0.2076, -0.2447, -0.1363,  0.0734, -0.1969, -0.1812,\n         -0.2279,  0.0769, -0.2418, -0.2203, -0.1135, -0.1514, -0.2227, -0.0385],\n        [ 0.0566, -0.2219,  0.1763,  0.0111,  0.0131,  0.0124,  0.1855,  0.1669,\n          0.2481, -0.2184, -0.2363,  0.1776,  0.0815, -0.1714,  0.0977, -0.0937],\n        [ 0.1693,  0.1407, -0.1092,  0.0079,  0.0431, -0.0423, -0.2426,  0.2465,\n          0.0301,  0.1478,  0.1838,  0.1669, -0.1868, -0.1815, -0.2485, -0.0432],\n        [-0.0825, -0.1400, -0.0703, -0.1761, -0.0599,  0.0866,  0.2138, -0.1614,\n         -0.0070, -0.2100,  0.1312, -0.1640,  0.0803, -0.1017,  0.0710, -0.0054],\n        [ 0.1543,  0.2121, -0.0218,  0.0803,  0.0669, -0.1848,  0.2041, -0.1245,\n          0.1257, -0.0750, -0.2160,  0.2178, -0.2114, -0.1683, -0.1143,  0.0484],\n        [-0.1209,  0.1043,  0.1846, -0.1056,  0.2302, -0.0448,  0.1143,  0.1709,\n          0.1143, -0.1292,  0.0119, -0.1757,  0.1625,  0.0558, -0.1436, -0.0170],\n        [-0.1682, -0.2310, -0.2422,  0.1219, -0.2004,  0.2424,  0.0113,  0.2102,\n          0.0867, -0.2450, -0.1923,  0.1680,  0.0372,  0.0631,  0.0335,  0.1166],\n        [ 0.1550, -0.1332,  0.1141,  0.2360,  0.1447, -0.1777,  0.2070, -0.1427,\n          0.2306,  0.1853,  0.0960, -0.1647,  0.1652, -0.2149, -0.1983,  0.2210],\n        [ 0.0545,  0.1307, -0.1013, -0.1687, -0.1245, -0.0263,  0.2448,  0.1127,\n          0.2487,  0.0560, -0.1800, -0.1674,  0.2209,  0.0135,  0.1611,  0.1510]])\n\n\n1-norm of tensor _h_layer_3.weight\n27.99905776977539\n\n\n2-norm of tensor _h_layer_3.weight\n2.175396203994751\n\n\n-------------------------------------------------------\n\n\n_h_layer_4.weight tensor([[-0.1336,  0.2351,  0.1737, -0.2249, -0.2134,  0.2015, -0.1324, -0.0613,\n          0.1056,  0.0736,  0.2170, -0.1516,  0.0848],\n        [ 0.0015,  0.0294,  0.1961, -0.1939, -0.1052,  0.2745,  0.0219,  0.1260,\n         -0.0586,  0.0912,  0.2384, -0.2666, -0.0630],\n        [-0.1986, -0.2143, -0.2453, -0.2405, -0.2191, -0.1647, -0.0684, -0.0632,\n         -0.2034, -0.0589, -0.2568, -0.2132, -0.2527],\n        [ 0.1186, -0.0594, -0.0438,  0.0446, -0.0679, -0.1885,  0.1424, -0.1049,\n         -0.0602, -0.0134,  0.0769, -0.2421, -0.2674],\n        [-0.2035,  0.1901,  0.0100,  0.2255,  0.1956,  0.1231, -0.0542,  0.1447,\n          0.2132,  0.1345,  0.2273, -0.1103,  0.2230],\n        [ 0.0787,  0.1747, -0.1989,  0.0081,  0.2055, -0.0391, -0.0687,  0.2714,\n          0.1375, -0.2647, -0.1403, -0.2319,  0.1658],\n        [-0.2361,  0.0206, -0.0264, -0.1381, -0.2611,  0.1241, -0.1128,  0.2024,\n         -0.2744, -0.0730, -0.2027, -0.1760, -0.1244],\n        [-0.2078,  0.2031,  0.1490,  0.2437,  0.0109, -0.0359,  0.0901, -0.2610,\n         -0.2742, -0.1802, -0.1050, -0.2203, -0.0726]])\n\n\n1-norm of tensor _h_layer_4.weight\n15.570087432861328\n\n\n2-norm of tensor _h_layer_4.weight\n1.7283543348312378\n\n\n-------------------------------------------------------\n\n\n_o_layer.weight tensor([[-0.0365, -0.0686,  0.0922,  0.2131, -0.2839,  0.1421,  0.1585,  0.0452],\n        [-0.1228,  0.0678, -0.0900, -0.0833, -0.0688,  0.0842, -0.1530,  0.0409],\n        [ 0.2930,  0.2091, -0.3077, -0.1484,  0.2474,  0.2594, -0.0650,  0.2456],\n        [-0.1167, -0.3451,  0.1422, -0.0060, -0.1553, -0.2903,  0.1539, -0.1446]])\n\n\n1-norm of tensor _o_layer.weight\n4.880643844604492\n\n\n2-norm of tensor _o_layer.weight\n1.002395510673523\n\n\n-------------------------------------------------------\n\n\n"
     ]
    }
   ],
   "source": [
    "for par_name, par in mlp.state_dict().items():\n",
    "    print(par_name, par)\n",
    "    print('\\n')\n",
    "    norm_1 = par.norm(1).item()\n",
    "    pretty_print(norm_1, \"1-norm of tensor {}\".format(par_name))\n",
    "    norm_2 = par.norm(2).item()\n",
    "    pretty_print(norm_2, \"2-norm of tensor {}\".format(par_name))\n",
    "    print('-------------------------------------------------------')\n",
    "    print('\\n')"
   ]
  },
  {
   "cell_type": "code",
   "execution_count": null,
   "metadata": {},
   "outputs": [],
   "source": []
  }
 ]
}