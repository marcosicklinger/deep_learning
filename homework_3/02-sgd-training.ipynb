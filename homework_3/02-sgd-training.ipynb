{
 "cells": [
  {
   "cell_type": "markdown",
   "metadata": {},
   "source": [
    "### Recap from previous Lab\n",
    "\n",
    "* We explored PyTorch (PT) tensor support and drew parallelisms w.r.t. NumPy `ndarray`\n",
    "* We experimented with some basic Machine Learning (ML) building blocks in PT\n",
    "* We built our first, very simple Artificial Neural Network (ANN), a MultiLayer Perceptron (MLP)\n",
    "\n",
    "### Agenda for today\n",
    "\n",
    "* Today we will be training a MLP using SGD and backpropagation\n",
    "  * we will not be using the synthetic dataset we saw last lecture\n",
    "  * we will be training our MLP on the MNIST dataset, which is a simple (in modern terms) dataset on which to train our ANNs. Due to this reputation, this problem is also called the *Hello World of Deep Learning*"
   ]
  },
  {
   "cell_type": "markdown",
   "metadata": {},
   "source": [
    "### Intro to MNIST\n",
    "\n",
    "MNIST is a dataset for **handwritten digit recognition**.\n",
    "\n",
    "![](img/mnist.png)\n",
    "\n",
    "* The dataset is composed of 60,000 grayscale images\n",
    "  * by default, the dataset is already split into a training set of 50,000 images, while the remaining 10,000 images make up the test/validation set\n",
    "* Each image is composed of 28x28 pixel\n",
    "* Only one digit is present in each image\n",
    "  * thus, we will be classifying digits from 0 to 9 (10 classes)\n",
    "* The digit is centered within the image"
   ]
  },
  {
   "cell_type": "markdown",
   "metadata": {},
   "source": [
    "#### Downloading the data\n",
    "\n",
    "Since we're not covering the handling of data in this specific tutorial, I have prepared an external script which will download the data and \"pack\" it into DataLoaders.\n",
    "You just need to know that DataLoaders and Datasets are two different entities; namely, DataLoaders are build on top of Datasets and handle the creation of the mini-batches that will later be fed into the MLP for the training and testing phase.\n",
    "\n",
    "The script returns both the DataLoaders and Datasets, in case you wanna play with them"
   ]
  },
  {
   "cell_type": "code",
   "execution_count": 1,
   "metadata": {},
   "outputs": [],
   "source": [
    "import torch\n",
    "from regularization import loss_ReL1\n",
    "from scripts import mnist\n",
    "from matplotlib import pyplot as plt\n",
    "\n",
    "minibatch_size_train = 256\n",
    "minibatch_size_test = 512\n",
    "\n",
    "trainloader, testloader, trainset, testset = mnist.get_data(batch_size_train=minibatch_size_test, batch_size_test=minibatch_size_test)"
   ]
  },
  {
   "cell_type": "markdown",
   "metadata": {},
   "source": [
    "Let us quickly view our data"
   ]
  },
  {
   "cell_type": "code",
   "execution_count": 2,
   "metadata": {},
   "outputs": [
    {
     "output_type": "execute_result",
     "data": {
      "text/plain": [
       "<matplotlib.image.AxesImage at 0x7f60954bf190>"
      ]
     },
     "metadata": {},
     "execution_count": 2
    },
    {
     "output_type": "display_data",
     "data": {
      "text/plain": "<Figure size 432x288 with 1 Axes>",
      "image/svg+xml": "<?xml version=\"1.0\" encoding=\"utf-8\" standalone=\"no\"?>\n<!DOCTYPE svg PUBLIC \"-//W3C//DTD SVG 1.1//EN\"\n  \"http://www.w3.org/Graphics/SVG/1.1/DTD/svg11.dtd\">\n<!-- Created with matplotlib (https://matplotlib.org/) -->\n<svg height=\"248.518125pt\" version=\"1.1\" viewBox=\"0 0 251.565 248.518125\" width=\"251.565pt\" xmlns=\"http://www.w3.org/2000/svg\" xmlns:xlink=\"http://www.w3.org/1999/xlink\">\n <metadata>\n  <rdf:RDF xmlns:cc=\"http://creativecommons.org/ns#\" xmlns:dc=\"http://purl.org/dc/elements/1.1/\" xmlns:rdf=\"http://www.w3.org/1999/02/22-rdf-syntax-ns#\">\n   <cc:Work>\n    <dc:type rdf:resource=\"http://purl.org/dc/dcmitype/StillImage\"/>\n    <dc:date>2021-03-31T18:43:56.669415</dc:date>\n    <dc:format>image/svg+xml</dc:format>\n    <dc:creator>\n     <cc:Agent>\n      <dc:title>Matplotlib v3.3.1, https://matplotlib.org/</dc:title>\n     </cc:Agent>\n    </dc:creator>\n   </cc:Work>\n  </rdf:RDF>\n </metadata>\n <defs>\n  <style type=\"text/css\">*{stroke-linecap:butt;stroke-linejoin:round;}</style>\n </defs>\n <g id=\"figure_1\">\n  <g id=\"patch_1\">\n   <path d=\"M 0 248.518125 \nL 251.565 248.518125 \nL 251.565 0 \nL 0 0 \nz\n\" style=\"fill:none;\"/>\n  </g>\n  <g id=\"axes_1\">\n   <g id=\"patch_2\">\n    <path d=\"M 26.925 224.64 \nL 244.365 224.64 \nL 244.365 7.2 \nL 26.925 7.2 \nz\n\" style=\"fill:#ffffff;\"/>\n   </g>\n   <g clip-path=\"url(#pd8292f0a05)\">\n    <image height=\"218\" id=\"image1a13d80e45\" transform=\"scale(1 -1)translate(0 -218)\" width=\"218\" x=\"26.925\" xlink:href=\"data:image/png;base64,\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\" y=\"-6.64\"/>\n   </g>\n   <g id=\"matplotlib.axis_1\">\n    <g id=\"xtick_1\">\n     <g id=\"line2d_1\">\n      <defs>\n       <path d=\"M 0 0 \nL 0 3.5 \n\" id=\"m100e5364c1\" style=\"stroke:#000000;stroke-width:0.8;\"/>\n      </defs>\n      <g>\n       <use style=\"stroke:#000000;stroke-width:0.8;\" x=\"30.807857\" xlink:href=\"#m100e5364c1\" y=\"224.64\"/>\n      </g>\n     </g>\n     <g id=\"text_1\">\n      <!-- 0 -->\n      <g transform=\"translate(27.626607 239.238437)scale(0.1 -0.1)\">\n       <defs>\n        <path d=\"M 31.78125 66.40625 \nQ 24.171875 66.40625 20.328125 58.90625 \nQ 16.5 51.421875 16.5 36.375 \nQ 16.5 21.390625 20.328125 13.890625 \nQ 24.171875 6.390625 31.78125 6.390625 \nQ 39.453125 6.390625 43.28125 13.890625 \nQ 47.125 21.390625 47.125 36.375 \nQ 47.125 51.421875 43.28125 58.90625 \nQ 39.453125 66.40625 31.78125 66.40625 \nz\nM 31.78125 74.21875 \nQ 44.046875 74.21875 50.515625 64.515625 \nQ 56.984375 54.828125 56.984375 36.375 \nQ 56.984375 17.96875 50.515625 8.265625 \nQ 44.046875 -1.421875 31.78125 -1.421875 \nQ 19.53125 -1.421875 13.0625 8.265625 \nQ 6.59375 17.96875 6.59375 36.375 \nQ 6.59375 54.828125 13.0625 64.515625 \nQ 19.53125 74.21875 31.78125 74.21875 \nz\n\" id=\"DejaVuSans-48\"/>\n       </defs>\n       <use xlink:href=\"#DejaVuSans-48\"/>\n      </g>\n     </g>\n    </g>\n    <g id=\"xtick_2\">\n     <g id=\"line2d_2\">\n      <g>\n       <use style=\"stroke:#000000;stroke-width:0.8;\" x=\"69.636429\" xlink:href=\"#m100e5364c1\" y=\"224.64\"/>\n      </g>\n     </g>\n     <g id=\"text_2\">\n      <!-- 5 -->\n      <g transform=\"translate(66.455179 239.238437)scale(0.1 -0.1)\">\n       <defs>\n        <path d=\"M 10.796875 72.90625 \nL 49.515625 72.90625 \nL 49.515625 64.59375 \nL 19.828125 64.59375 \nL 19.828125 46.734375 \nQ 21.96875 47.46875 24.109375 47.828125 \nQ 26.265625 48.1875 28.421875 48.1875 \nQ 40.625 48.1875 47.75 41.5 \nQ 54.890625 34.8125 54.890625 23.390625 \nQ 54.890625 11.625 47.5625 5.09375 \nQ 40.234375 -1.421875 26.90625 -1.421875 \nQ 22.3125 -1.421875 17.546875 -0.640625 \nQ 12.796875 0.140625 7.71875 1.703125 \nL 7.71875 11.625 \nQ 12.109375 9.234375 16.796875 8.0625 \nQ 21.484375 6.890625 26.703125 6.890625 \nQ 35.15625 6.890625 40.078125 11.328125 \nQ 45.015625 15.765625 45.015625 23.390625 \nQ 45.015625 31 40.078125 35.4375 \nQ 35.15625 39.890625 26.703125 39.890625 \nQ 22.75 39.890625 18.8125 39.015625 \nQ 14.890625 38.140625 10.796875 36.28125 \nz\n\" id=\"DejaVuSans-53\"/>\n       </defs>\n       <use xlink:href=\"#DejaVuSans-53\"/>\n      </g>\n     </g>\n    </g>\n    <g id=\"xtick_3\">\n     <g id=\"line2d_3\">\n      <g>\n       <use style=\"stroke:#000000;stroke-width:0.8;\" x=\"108.465\" xlink:href=\"#m100e5364c1\" y=\"224.64\"/>\n      </g>\n     </g>\n     <g id=\"text_3\">\n      <!-- 10 -->\n      <g transform=\"translate(102.1025 239.238437)scale(0.1 -0.1)\">\n       <defs>\n        <path d=\"M 12.40625 8.296875 \nL 28.515625 8.296875 \nL 28.515625 63.921875 \nL 10.984375 60.40625 \nL 10.984375 69.390625 \nL 28.421875 72.90625 \nL 38.28125 72.90625 \nL 38.28125 8.296875 \nL 54.390625 8.296875 \nL 54.390625 0 \nL 12.40625 0 \nz\n\" id=\"DejaVuSans-49\"/>\n       </defs>\n       <use xlink:href=\"#DejaVuSans-49\"/>\n       <use x=\"63.623047\" xlink:href=\"#DejaVuSans-48\"/>\n      </g>\n     </g>\n    </g>\n    <g id=\"xtick_4\">\n     <g id=\"line2d_4\">\n      <g>\n       <use style=\"stroke:#000000;stroke-width:0.8;\" x=\"147.293571\" xlink:href=\"#m100e5364c1\" y=\"224.64\"/>\n      </g>\n     </g>\n     <g id=\"text_4\">\n      <!-- 15 -->\n      <g transform=\"translate(140.931071 239.238437)scale(0.1 -0.1)\">\n       <use xlink:href=\"#DejaVuSans-49\"/>\n       <use x=\"63.623047\" xlink:href=\"#DejaVuSans-53\"/>\n      </g>\n     </g>\n    </g>\n    <g id=\"xtick_5\">\n     <g id=\"line2d_5\">\n      <g>\n       <use style=\"stroke:#000000;stroke-width:0.8;\" x=\"186.122143\" xlink:href=\"#m100e5364c1\" y=\"224.64\"/>\n      </g>\n     </g>\n     <g id=\"text_5\">\n      <!-- 20 -->\n      <g transform=\"translate(179.759643 239.238437)scale(0.1 -0.1)\">\n       <defs>\n        <path d=\"M 19.1875 8.296875 \nL 53.609375 8.296875 \nL 53.609375 0 \nL 7.328125 0 \nL 7.328125 8.296875 \nQ 12.9375 14.109375 22.625 23.890625 \nQ 32.328125 33.6875 34.8125 36.53125 \nQ 39.546875 41.84375 41.421875 45.53125 \nQ 43.3125 49.21875 43.3125 52.78125 \nQ 43.3125 58.59375 39.234375 62.25 \nQ 35.15625 65.921875 28.609375 65.921875 \nQ 23.96875 65.921875 18.8125 64.3125 \nQ 13.671875 62.703125 7.8125 59.421875 \nL 7.8125 69.390625 \nQ 13.765625 71.78125 18.9375 73 \nQ 24.125 74.21875 28.421875 74.21875 \nQ 39.75 74.21875 46.484375 68.546875 \nQ 53.21875 62.890625 53.21875 53.421875 \nQ 53.21875 48.921875 51.53125 44.890625 \nQ 49.859375 40.875 45.40625 35.40625 \nQ 44.1875 33.984375 37.640625 27.21875 \nQ 31.109375 20.453125 19.1875 8.296875 \nz\n\" id=\"DejaVuSans-50\"/>\n       </defs>\n       <use xlink:href=\"#DejaVuSans-50\"/>\n       <use x=\"63.623047\" xlink:href=\"#DejaVuSans-48\"/>\n      </g>\n     </g>\n    </g>\n    <g id=\"xtick_6\">\n     <g id=\"line2d_6\">\n      <g>\n       <use style=\"stroke:#000000;stroke-width:0.8;\" x=\"224.950714\" xlink:href=\"#m100e5364c1\" y=\"224.64\"/>\n      </g>\n     </g>\n     <g id=\"text_6\">\n      <!-- 25 -->\n      <g transform=\"translate(218.588214 239.238437)scale(0.1 -0.1)\">\n       <use xlink:href=\"#DejaVuSans-50\"/>\n       <use x=\"63.623047\" xlink:href=\"#DejaVuSans-53\"/>\n      </g>\n     </g>\n    </g>\n   </g>\n   <g id=\"matplotlib.axis_2\">\n    <g id=\"ytick_1\">\n     <g id=\"line2d_7\">\n      <defs>\n       <path d=\"M 0 0 \nL -3.5 0 \n\" id=\"m184a6fbf6c\" style=\"stroke:#000000;stroke-width:0.8;\"/>\n      </defs>\n      <g>\n       <use style=\"stroke:#000000;stroke-width:0.8;\" x=\"26.925\" xlink:href=\"#m184a6fbf6c\" y=\"11.082857\"/>\n      </g>\n     </g>\n     <g id=\"text_7\">\n      <!-- 0 -->\n      <g transform=\"translate(13.5625 14.882076)scale(0.1 -0.1)\">\n       <use xlink:href=\"#DejaVuSans-48\"/>\n      </g>\n     </g>\n    </g>\n    <g id=\"ytick_2\">\n     <g id=\"line2d_8\">\n      <g>\n       <use style=\"stroke:#000000;stroke-width:0.8;\" x=\"26.925\" xlink:href=\"#m184a6fbf6c\" y=\"49.911429\"/>\n      </g>\n     </g>\n     <g id=\"text_8\">\n      <!-- 5 -->\n      <g transform=\"translate(13.5625 53.710647)scale(0.1 -0.1)\">\n       <use xlink:href=\"#DejaVuSans-53\"/>\n      </g>\n     </g>\n    </g>\n    <g id=\"ytick_3\">\n     <g id=\"line2d_9\">\n      <g>\n       <use style=\"stroke:#000000;stroke-width:0.8;\" x=\"26.925\" xlink:href=\"#m184a6fbf6c\" y=\"88.74\"/>\n      </g>\n     </g>\n     <g id=\"text_9\">\n      <!-- 10 -->\n      <g transform=\"translate(7.2 92.539219)scale(0.1 -0.1)\">\n       <use xlink:href=\"#DejaVuSans-49\"/>\n       <use x=\"63.623047\" xlink:href=\"#DejaVuSans-48\"/>\n      </g>\n     </g>\n    </g>\n    <g id=\"ytick_4\">\n     <g id=\"line2d_10\">\n      <g>\n       <use style=\"stroke:#000000;stroke-width:0.8;\" x=\"26.925\" xlink:href=\"#m184a6fbf6c\" y=\"127.568571\"/>\n      </g>\n     </g>\n     <g id=\"text_10\">\n      <!-- 15 -->\n      <g transform=\"translate(7.2 131.36779)scale(0.1 -0.1)\">\n       <use xlink:href=\"#DejaVuSans-49\"/>\n       <use x=\"63.623047\" xlink:href=\"#DejaVuSans-53\"/>\n      </g>\n     </g>\n    </g>\n    <g id=\"ytick_5\">\n     <g id=\"line2d_11\">\n      <g>\n       <use style=\"stroke:#000000;stroke-width:0.8;\" x=\"26.925\" xlink:href=\"#m184a6fbf6c\" y=\"166.397143\"/>\n      </g>\n     </g>\n     <g id=\"text_11\">\n      <!-- 20 -->\n      <g transform=\"translate(7.2 170.196362)scale(0.1 -0.1)\">\n       <use xlink:href=\"#DejaVuSans-50\"/>\n       <use x=\"63.623047\" xlink:href=\"#DejaVuSans-48\"/>\n      </g>\n     </g>\n    </g>\n    <g id=\"ytick_6\">\n     <g id=\"line2d_12\">\n      <g>\n       <use style=\"stroke:#000000;stroke-width:0.8;\" x=\"26.925\" xlink:href=\"#m184a6fbf6c\" y=\"205.225714\"/>\n      </g>\n     </g>\n     <g id=\"text_12\">\n      <!-- 25 -->\n      <g transform=\"translate(7.2 209.024933)scale(0.1 -0.1)\">\n       <use xlink:href=\"#DejaVuSans-50\"/>\n       <use x=\"63.623047\" xlink:href=\"#DejaVuSans-53\"/>\n      </g>\n     </g>\n    </g>\n   </g>\n   <g id=\"patch_3\">\n    <path d=\"M 26.925 224.64 \nL 26.925 7.2 \n\" style=\"fill:none;stroke:#000000;stroke-linecap:square;stroke-linejoin:miter;stroke-width:0.8;\"/>\n   </g>\n   <g id=\"patch_4\">\n    <path d=\"M 244.365 224.64 \nL 244.365 7.2 \n\" style=\"fill:none;stroke:#000000;stroke-linecap:square;stroke-linejoin:miter;stroke-width:0.8;\"/>\n   </g>\n   <g id=\"patch_5\">\n    <path d=\"M 26.925 224.64 \nL 244.365 224.64 \n\" style=\"fill:none;stroke:#000000;stroke-linecap:square;stroke-linejoin:miter;stroke-width:0.8;\"/>\n   </g>\n   <g id=\"patch_6\">\n    <path d=\"M 26.925 7.2 \nL 244.365 7.2 \n\" style=\"fill:none;stroke:#000000;stroke-linecap:square;stroke-linejoin:miter;stroke-width:0.8;\"/>\n   </g>\n  </g>\n </g>\n <defs>\n  <clipPath id=\"pd8292f0a05\">\n   <rect height=\"217.44\" width=\"217.44\" x=\"26.925\" y=\"7.2\"/>\n  </clipPath>\n </defs>\n</svg>\n",
      "image/png": "[encoded data removed]"
     },
     "metadata": {
      "needs_background": "light"
     }
    }
   ],
   "source": [
    "plt.imshow(trainset.data[15].numpy(), cmap=\"gray\")"
   ]
  },
  {
   "cell_type": "markdown",
   "metadata": {},
   "source": [
    "By applying the `Tensor` skills we learned during the previous lab, we may also plot multiple images within the same plot.\n"
   ]
  },
  {
   "cell_type": "code",
   "execution_count": 3,
   "metadata": {},
   "outputs": [
    {
     "output_type": "execute_result",
     "data": {
      "text/plain": [
       "torch.Size([5, 28, 28])"
      ]
     },
     "metadata": {},
     "execution_count": 3
    }
   ],
   "source": [
    "multi_img = trainset.data[25:30]\n",
    "multi_img.shape"
   ]
  },
  {
   "cell_type": "markdown",
   "metadata": {},
   "source": [
    "We have a (5 x 28 x 28) `Tensor`, we can't plot it with `plt.imshow` because it needs a matrix as input.\n",
    "\n",
    "**Q**: how can we solve this problem? Think about the methods we saw during the last lab"
   ]
  },
  {
   "cell_type": "code",
   "execution_count": 4,
   "metadata": {},
   "outputs": [
    {
     "output_type": "execute_result",
     "data": {
      "text/plain": [
       "<matplotlib.image.AxesImage at 0x7f60953617d0>"
      ]
     },
     "metadata": {},
     "execution_count": 4
    },
    {
     "output_type": "display_data",
     "data": {
      "text/plain": "<Figure size 432x288 with 1 Axes>",
      "image/svg+xml": "<?xml version=\"1.0\" encoding=\"utf-8\" standalone=\"no\"?>\n<!DOCTYPE svg PUBLIC \"-//W3C//DTD SVG 1.1//EN\"\n  \"http://www.w3.org/Graphics/SVG/1.1/DTD/svg11.dtd\">\n<!-- Created with matplotlib (https://matplotlib.org/) -->\n<svg height=\"251.540772pt\" version=\"1.1\" viewBox=\"0 0 86.455143 251.540772\" width=\"86.455143pt\" xmlns=\"http://www.w3.org/2000/svg\" xmlns:xlink=\"http://www.w3.org/1999/xlink\">\n <metadata>\n  <rdf:RDF xmlns:cc=\"http://creativecommons.org/ns#\" xmlns:dc=\"http://purl.org/dc/elements/1.1/\" xmlns:rdf=\"http://www.w3.org/1999/02/22-rdf-syntax-ns#\">\n   <cc:Work>\n    <dc:type rdf:resource=\"http://purl.org/dc/dcmitype/StillImage\"/>\n    <dc:date>2021-03-31T18:44:01.804598</dc:date>\n    <dc:format>image/svg+xml</dc:format>\n    <dc:creator>\n     <cc:Agent>\n      <dc:title>Matplotlib v3.3.1, https://matplotlib.org/</dc:title>\n     </cc:Agent>\n    </dc:creator>\n   </cc:Work>\n  </rdf:RDF>\n </metadata>\n <defs>\n  <style type=\"text/css\">*{stroke-linecap:butt;stroke-linejoin:round;}</style>\n </defs>\n <g id=\"figure_1\">\n  <g id=\"patch_1\">\n   <path d=\"M 0 251.540772 \nL 86.455143 251.540772 \nL 86.455143 0 \nL 0 0 \nz\n\" style=\"fill:none;\"/>\n  </g>\n  <g id=\"axes_1\">\n   <g id=\"patch_2\">\n    <path d=\"M 33.2875 227.662647 \nL 76.7755 227.662647 \nL 76.7755 10.222647 \nL 33.2875 10.222647 \nz\n\" style=\"fill:#ffffff;\"/>\n   </g>\n   <g clip-path=\"url(#pf090b3067b)\">\n    <image height=\"218\" id=\"image67e909d5e1\" transform=\"scale(1 -1)translate(0 -218)\" width=\"44\" x=\"33.2875\" xlink:href=\"data:image/png;base64,\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\" y=\"-9.662647\"/>\n   </g>\n   <g id=\"matplotlib.axis_1\">\n    <g id=\"xtick_1\">\n     <g id=\"line2d_1\">\n      <defs>\n       <path d=\"M 0 0 \nL 0 3.5 \n\" id=\"m5a593e45e1\" style=\"stroke:#000000;stroke-width:0.8;\"/>\n      </defs>\n      <g>\n       <use style=\"stroke:#000000;stroke-width:0.8;\" x=\"34.064071\" xlink:href=\"#m5a593e45e1\" y=\"227.662647\"/>\n      </g>\n     </g>\n     <g id=\"text_1\">\n      <!-- 0 -->\n      <g transform=\"translate(30.882821 242.261085)scale(0.1 -0.1)\">\n       <defs>\n        <path d=\"M 31.78125 66.40625 \nQ 24.171875 66.40625 20.328125 58.90625 \nQ 16.5 51.421875 16.5 36.375 \nQ 16.5 21.390625 20.328125 13.890625 \nQ 24.171875 6.390625 31.78125 6.390625 \nQ 39.453125 6.390625 43.28125 13.890625 \nQ 47.125 21.390625 47.125 36.375 \nQ 47.125 51.421875 43.28125 58.90625 \nQ 39.453125 66.40625 31.78125 66.40625 \nz\nM 31.78125 74.21875 \nQ 44.046875 74.21875 50.515625 64.515625 \nQ 56.984375 54.828125 56.984375 36.375 \nQ 56.984375 17.96875 50.515625 8.265625 \nQ 44.046875 -1.421875 31.78125 -1.421875 \nQ 19.53125 -1.421875 13.0625 8.265625 \nQ 6.59375 17.96875 6.59375 36.375 \nQ 6.59375 54.828125 13.0625 64.515625 \nQ 19.53125 74.21875 31.78125 74.21875 \nz\n\" id=\"DejaVuSans-48\"/>\n       </defs>\n       <use xlink:href=\"#DejaVuSans-48\"/>\n      </g>\n     </g>\n    </g>\n    <g id=\"xtick_2\">\n     <g id=\"line2d_2\">\n      <g>\n       <use style=\"stroke:#000000;stroke-width:0.8;\" x=\"72.892643\" xlink:href=\"#m5a593e45e1\" y=\"227.662647\"/>\n      </g>\n     </g>\n     <g id=\"text_2\">\n      <!-- 25 -->\n      <g transform=\"translate(66.530143 242.261085)scale(0.1 -0.1)\">\n       <defs>\n        <path d=\"M 19.1875 8.296875 \nL 53.609375 8.296875 \nL 53.609375 0 \nL 7.328125 0 \nL 7.328125 8.296875 \nQ 12.9375 14.109375 22.625 23.890625 \nQ 32.328125 33.6875 34.8125 36.53125 \nQ 39.546875 41.84375 41.421875 45.53125 \nQ 43.3125 49.21875 43.3125 52.78125 \nQ 43.3125 58.59375 39.234375 62.25 \nQ 35.15625 65.921875 28.609375 65.921875 \nQ 23.96875 65.921875 18.8125 64.3125 \nQ 13.671875 62.703125 7.8125 59.421875 \nL 7.8125 69.390625 \nQ 13.765625 71.78125 18.9375 73 \nQ 24.125 74.21875 28.421875 74.21875 \nQ 39.75 74.21875 46.484375 68.546875 \nQ 53.21875 62.890625 53.21875 53.421875 \nQ 53.21875 48.921875 51.53125 44.890625 \nQ 49.859375 40.875 45.40625 35.40625 \nQ 44.1875 33.984375 37.640625 27.21875 \nQ 31.109375 20.453125 19.1875 8.296875 \nz\n\" id=\"DejaVuSans-50\"/>\n        <path d=\"M 10.796875 72.90625 \nL 49.515625 72.90625 \nL 49.515625 64.59375 \nL 19.828125 64.59375 \nL 19.828125 46.734375 \nQ 21.96875 47.46875 24.109375 47.828125 \nQ 26.265625 48.1875 28.421875 48.1875 \nQ 40.625 48.1875 47.75 41.5 \nQ 54.890625 34.8125 54.890625 23.390625 \nQ 54.890625 11.625 47.5625 5.09375 \nQ 40.234375 -1.421875 26.90625 -1.421875 \nQ 22.3125 -1.421875 17.546875 -0.640625 \nQ 12.796875 0.140625 7.71875 1.703125 \nL 7.71875 11.625 \nQ 12.109375 9.234375 16.796875 8.0625 \nQ 21.484375 6.890625 26.703125 6.890625 \nQ 35.15625 6.890625 40.078125 11.328125 \nQ 45.015625 15.765625 45.015625 23.390625 \nQ 45.015625 31 40.078125 35.4375 \nQ 35.15625 39.890625 26.703125 39.890625 \nQ 22.75 39.890625 18.8125 39.015625 \nQ 14.890625 38.140625 10.796875 36.28125 \nz\n\" id=\"DejaVuSans-53\"/>\n       </defs>\n       <use xlink:href=\"#DejaVuSans-50\"/>\n       <use x=\"63.623047\" xlink:href=\"#DejaVuSans-53\"/>\n      </g>\n     </g>\n    </g>\n   </g>\n   <g id=\"matplotlib.axis_2\">\n    <g id=\"ytick_1\">\n     <g id=\"line2d_3\">\n      <defs>\n       <path d=\"M 0 0 \nL -3.5 0 \n\" id=\"m095971355b\" style=\"stroke:#000000;stroke-width:0.8;\"/>\n      </defs>\n      <g>\n       <use style=\"stroke:#000000;stroke-width:0.8;\" x=\"33.2875\" xlink:href=\"#m095971355b\" y=\"10.999219\"/>\n      </g>\n     </g>\n     <g id=\"text_3\">\n      <!-- 0 -->\n      <g transform=\"translate(19.925 14.798437)scale(0.1 -0.1)\">\n       <use xlink:href=\"#DejaVuSans-48\"/>\n      </g>\n     </g>\n    </g>\n    <g id=\"ytick_2\">\n     <g id=\"line2d_4\">\n      <g>\n       <use style=\"stroke:#000000;stroke-width:0.8;\" x=\"33.2875\" xlink:href=\"#m095971355b\" y=\"42.062076\"/>\n      </g>\n     </g>\n     <g id=\"text_4\">\n      <!-- 20 -->\n      <g transform=\"translate(13.5625 45.861295)scale(0.1 -0.1)\">\n       <use xlink:href=\"#DejaVuSans-50\"/>\n       <use x=\"63.623047\" xlink:href=\"#DejaVuSans-48\"/>\n      </g>\n     </g>\n    </g>\n    <g id=\"ytick_3\">\n     <g id=\"line2d_5\">\n      <g>\n       <use style=\"stroke:#000000;stroke-width:0.8;\" x=\"33.2875\" xlink:href=\"#m095971355b\" y=\"73.124933\"/>\n      </g>\n     </g>\n     <g id=\"text_5\">\n      <!-- 40 -->\n      <g transform=\"translate(13.5625 76.924152)scale(0.1 -0.1)\">\n       <defs>\n        <path d=\"M 37.796875 64.3125 \nL 12.890625 25.390625 \nL 37.796875 25.390625 \nz\nM 35.203125 72.90625 \nL 47.609375 72.90625 \nL 47.609375 25.390625 \nL 58.015625 25.390625 \nL 58.015625 17.1875 \nL 47.609375 17.1875 \nL 47.609375 0 \nL 37.796875 0 \nL 37.796875 17.1875 \nL 4.890625 17.1875 \nL 4.890625 26.703125 \nz\n\" id=\"DejaVuSans-52\"/>\n       </defs>\n       <use xlink:href=\"#DejaVuSans-52\"/>\n       <use x=\"63.623047\" xlink:href=\"#DejaVuSans-48\"/>\n      </g>\n     </g>\n    </g>\n    <g id=\"ytick_4\">\n     <g id=\"line2d_6\">\n      <g>\n       <use style=\"stroke:#000000;stroke-width:0.8;\" x=\"33.2875\" xlink:href=\"#m095971355b\" y=\"104.18779\"/>\n      </g>\n     </g>\n     <g id=\"text_6\">\n      <!-- 60 -->\n      <g transform=\"translate(13.5625 107.987009)scale(0.1 -0.1)\">\n       <defs>\n        <path d=\"M 33.015625 40.375 \nQ 26.375 40.375 22.484375 35.828125 \nQ 18.609375 31.296875 18.609375 23.390625 \nQ 18.609375 15.53125 22.484375 10.953125 \nQ 26.375 6.390625 33.015625 6.390625 \nQ 39.65625 6.390625 43.53125 10.953125 \nQ 47.40625 15.53125 47.40625 23.390625 \nQ 47.40625 31.296875 43.53125 35.828125 \nQ 39.65625 40.375 33.015625 40.375 \nz\nM 52.59375 71.296875 \nL 52.59375 62.3125 \nQ 48.875 64.0625 45.09375 64.984375 \nQ 41.3125 65.921875 37.59375 65.921875 \nQ 27.828125 65.921875 22.671875 59.328125 \nQ 17.53125 52.734375 16.796875 39.40625 \nQ 19.671875 43.65625 24.015625 45.921875 \nQ 28.375 48.1875 33.59375 48.1875 \nQ 44.578125 48.1875 50.953125 41.515625 \nQ 57.328125 34.859375 57.328125 23.390625 \nQ 57.328125 12.15625 50.6875 5.359375 \nQ 44.046875 -1.421875 33.015625 -1.421875 \nQ 20.359375 -1.421875 13.671875 8.265625 \nQ 6.984375 17.96875 6.984375 36.375 \nQ 6.984375 53.65625 15.1875 63.9375 \nQ 23.390625 74.21875 37.203125 74.21875 \nQ 40.921875 74.21875 44.703125 73.484375 \nQ 48.484375 72.75 52.59375 71.296875 \nz\n\" id=\"DejaVuSans-54\"/>\n       </defs>\n       <use xlink:href=\"#DejaVuSans-54\"/>\n       <use x=\"63.623047\" xlink:href=\"#DejaVuSans-48\"/>\n      </g>\n     </g>\n    </g>\n    <g id=\"ytick_5\">\n     <g id=\"line2d_7\">\n      <g>\n       <use style=\"stroke:#000000;stroke-width:0.8;\" x=\"33.2875\" xlink:href=\"#m095971355b\" y=\"135.250647\"/>\n      </g>\n     </g>\n     <g id=\"text_7\">\n      <!-- 80 -->\n      <g transform=\"translate(13.5625 139.049866)scale(0.1 -0.1)\">\n       <defs>\n        <path d=\"M 31.78125 34.625 \nQ 24.75 34.625 20.71875 30.859375 \nQ 16.703125 27.09375 16.703125 20.515625 \nQ 16.703125 13.921875 20.71875 10.15625 \nQ 24.75 6.390625 31.78125 6.390625 \nQ 38.8125 6.390625 42.859375 10.171875 \nQ 46.921875 13.96875 46.921875 20.515625 \nQ 46.921875 27.09375 42.890625 30.859375 \nQ 38.875 34.625 31.78125 34.625 \nz\nM 21.921875 38.8125 \nQ 15.578125 40.375 12.03125 44.71875 \nQ 8.5 49.078125 8.5 55.328125 \nQ 8.5 64.0625 14.71875 69.140625 \nQ 20.953125 74.21875 31.78125 74.21875 \nQ 42.671875 74.21875 48.875 69.140625 \nQ 55.078125 64.0625 55.078125 55.328125 \nQ 55.078125 49.078125 51.53125 44.71875 \nQ 48 40.375 41.703125 38.8125 \nQ 48.828125 37.15625 52.796875 32.3125 \nQ 56.78125 27.484375 56.78125 20.515625 \nQ 56.78125 9.90625 50.3125 4.234375 \nQ 43.84375 -1.421875 31.78125 -1.421875 \nQ 19.734375 -1.421875 13.25 4.234375 \nQ 6.78125 9.90625 6.78125 20.515625 \nQ 6.78125 27.484375 10.78125 32.3125 \nQ 14.796875 37.15625 21.921875 38.8125 \nz\nM 18.3125 54.390625 \nQ 18.3125 48.734375 21.84375 45.5625 \nQ 25.390625 42.390625 31.78125 42.390625 \nQ 38.140625 42.390625 41.71875 45.5625 \nQ 45.3125 48.734375 45.3125 54.390625 \nQ 45.3125 60.0625 41.71875 63.234375 \nQ 38.140625 66.40625 31.78125 66.40625 \nQ 25.390625 66.40625 21.84375 63.234375 \nQ 18.3125 60.0625 18.3125 54.390625 \nz\n\" id=\"DejaVuSans-56\"/>\n       </defs>\n       <use xlink:href=\"#DejaVuSans-56\"/>\n       <use x=\"63.623047\" xlink:href=\"#DejaVuSans-48\"/>\n      </g>\n     </g>\n    </g>\n    <g id=\"ytick_6\">\n     <g id=\"line2d_8\">\n      <g>\n       <use style=\"stroke:#000000;stroke-width:0.8;\" x=\"33.2875\" xlink:href=\"#m095971355b\" y=\"166.313504\"/>\n      </g>\n     </g>\n     <g id=\"text_8\">\n      <!-- 100 -->\n      <g transform=\"translate(7.2 170.112723)scale(0.1 -0.1)\">\n       <defs>\n        <path d=\"M 12.40625 8.296875 \nL 28.515625 8.296875 \nL 28.515625 63.921875 \nL 10.984375 60.40625 \nL 10.984375 69.390625 \nL 28.421875 72.90625 \nL 38.28125 72.90625 \nL 38.28125 8.296875 \nL 54.390625 8.296875 \nL 54.390625 0 \nL 12.40625 0 \nz\n\" id=\"DejaVuSans-49\"/>\n       </defs>\n       <use xlink:href=\"#DejaVuSans-49\"/>\n       <use x=\"63.623047\" xlink:href=\"#DejaVuSans-48\"/>\n       <use x=\"127.246094\" xlink:href=\"#DejaVuSans-48\"/>\n      </g>\n     </g>\n    </g>\n    <g id=\"ytick_7\">\n     <g id=\"line2d_9\">\n      <g>\n       <use style=\"stroke:#000000;stroke-width:0.8;\" x=\"33.2875\" xlink:href=\"#m095971355b\" y=\"197.376362\"/>\n      </g>\n     </g>\n     <g id=\"text_9\">\n      <!-- 120 -->\n      <g transform=\"translate(7.2 201.17558)scale(0.1 -0.1)\">\n       <use xlink:href=\"#DejaVuSans-49\"/>\n       <use x=\"63.623047\" xlink:href=\"#DejaVuSans-50\"/>\n       <use x=\"127.246094\" xlink:href=\"#DejaVuSans-48\"/>\n      </g>\n     </g>\n    </g>\n   </g>\n   <g id=\"patch_3\">\n    <path d=\"M 33.2875 227.662647 \nL 33.2875 10.222647 \n\" style=\"fill:none;stroke:#000000;stroke-linecap:square;stroke-linejoin:miter;stroke-width:0.8;\"/>\n   </g>\n   <g id=\"patch_4\">\n    <path d=\"M 76.7755 227.662647 \nL 76.7755 10.222647 \n\" style=\"fill:none;stroke:#000000;stroke-linecap:square;stroke-linejoin:miter;stroke-width:0.8;\"/>\n   </g>\n   <g id=\"patch_5\">\n    <path d=\"M 33.2875 227.662647 \nL 76.7755 227.662647 \n\" style=\"fill:none;stroke:#000000;stroke-linecap:square;stroke-linejoin:miter;stroke-width:0.8;\"/>\n   </g>\n   <g id=\"patch_6\">\n    <path d=\"M 33.2875 10.222647 \nL 76.7755 10.222647 \n\" style=\"fill:none;stroke:#000000;stroke-linecap:square;stroke-linejoin:miter;stroke-width:0.8;\"/>\n   </g>\n  </g>\n </g>\n <defs>\n  <clipPath id=\"pf090b3067b\">\n   <rect height=\"217.44\" width=\"43.488\" x=\"33.2875\" y=\"10.222647\"/>\n  </clipPath>\n </defs>\n</svg>\n",
      "image/png": "[encoded data removed]"
     },
     "metadata": {
      "needs_background": "light"
     }
    }
   ],
   "source": [
    "# solve here\n",
    "# shape 5*28 x 28\n",
    "multi_img_reshaped = multi_img.reshape(5*28, 28)\n",
    "plt.imshow(multi_img_reshaped.numpy(), cmap=\"gray\")"
   ]
  },
  {
   "cell_type": "markdown",
   "metadata": {},
   "source": [
    "#### Designing our MLP\n",
    "\n",
    "Let us design our MLP.\n",
    "\n",
    "We need to think about:\n",
    "\n",
    "1. How wide is the output layer?\n",
    "2. How wide is the input layer and how is it structured?\n",
    "3. How many hidden layers and how wide need they be?\n",
    "4. What activation functions will we be using?\n",
    "\n",
    "You may try answering questions 1 and 2 by yourself as there's only one specific answer.\n",
    "Q. 3 and 4, instead, are a choice operated by the designer (the data scientist) and there is no straight definite answer, as usually architectural features are treated as hyperparameters to be tuned as part of the training process.\n",
    "\n",
    "For our MLP, then, we will be designing an MLP with\n",
    "* 3 hidden layers\n",
    "  * the first hidden layer has 16 neurons\n",
    "  * the second hidden layer has 32 neurons\n",
    "  * the third hidden layer has 24 neurons\n",
    "* ReLU as activation function for the hidden layers ($ReLU(x) = \\max(0, x)$)\n",
    "* Cross Entropy loss (or, equivalently, Negative LogLikelihood loss)\n",
    "\n",
    "![](img/mlp_mnist.png)"
   ]
  },
  {
   "cell_type": "code",
   "execution_count": 5,
   "metadata": {},
   "outputs": [],
   "source": [
    "# write here the class for your MLP\n",
    "class MLP(torch.nn.Module):\n",
    "    def __init__(self):\n",
    "        super().__init__()\n",
    "        self.flat = torch.nn.Flatten() # X comes in as a n x 1 x 28 x 28 -> we need n 784-size vectors (or, a n x 784 matrix). flatten does this\n",
    "        self.layer1 = torch.nn.Linear(784, 16)\n",
    "        self.layer2 = torch.nn.Linear(16, 32)\n",
    "        self.layer3 = torch.nn.Linear(32, 24)\n",
    "        self.layer4 = torch.nn.Linear(24, 10)\n",
    "\n",
    "    def forward(self, X): \n",
    "        out = self.flat(X)\n",
    "        out = self.layer1(out)\n",
    "        out = torch.nn.functional.relu(out)\n",
    "        out = self.layer2(out)\n",
    "        out = torch.nn.functional.relu(out)\n",
    "        out = self.layer3(out)\n",
    "        out = torch.nn.functional.relu(out)\n",
    "        out = self.layer4(out)\n",
    "        # out = torch.nn.functional.softmax(out) -> this is wrong since we will use NegativeLogLikelihood Loss\n",
    "        # softmax transforms a vector into a simplex (vector of positive nums summing to 1): \n",
    "        # [1,2,3,4] -> [0.1, 0.2, 0.3, 0.4]\n",
    "        # instead we need the logsoftmax\n",
    "        out = torch.nn.functional.log_softmax(out)\n",
    "        return out"
   ]
  },
  {
   "cell_type": "markdown",
   "metadata": {},
   "source": [
    "#### The training loop\n",
    "\n",
    "We now have to train the network using mini-batch Stochastic Gradient Descent (which we'll indicate as SGD).\n",
    "\n",
    "The mini-batch part is already handled by the `DataLoader`.\n",
    "\n",
    "We just need to call\n",
    "\n",
    "\n",
    "```python\n",
    "for X, y in dataloader:\n",
    "    # do something\n",
    "```\n",
    "\n",
    "`X` and `y` represent our mini-batch (images and ground truth respectively).\n",
    "\n",
    "* What do we need to do inside this loop?\n",
    "  1. do the forward pass\n",
    "  2. calculate the loss\n",
    "  3. do the backward pass and update the parameters\n",
    "* What objects do we need inside this loop?\n",
    "  * the model (to do the forward pass)\n",
    "  * the dataloader (to get `X, y`)\n",
    "  * the loss function (to calculate the value of the loss and backpropagate)\n",
    "  * the optimizer (to upgrade the value of the parameters given the gradients obtained via backprop)\n",
    "* What do we need to do outside this loop?\n",
    "  1. re-shuffle the mini-batches (NB: already taken care of by the `DataLoader`)\n",
    "  2. repeat the loop for each epoch\n",
    "\n",
    "Next, we are going to implement this loop (which we'll call `train_epoch`) in a minimalistic setting, i.e., with no excessive feature or embellishment.\n",
    "  \n",
    "\n"
   ]
  },
  {
   "cell_type": "code",
   "execution_count": 6,
   "metadata": {},
   "outputs": [],
   "source": [
    "def train_epoch(model, dataloader, loss_fn, optimizer):\n",
    "    for X, y in dataloader:\n",
    "        # 1. reset the gradients previously accumulated by the optimizer\n",
    "        #    this will avoid re-using gradients from previous loops\n",
    "        optimizer.zero_grad() \n",
    "        # 2. get the predictions from the current state of the model\n",
    "        #    this is the forward pass\n",
    "        y_hat = model(X)\n",
    "        # 3. calculate the loss on the current mini-batch\n",
    "        loss = loss_ReL1(model, loss_ft = loss_fn(y_hat, y))\n",
    "        # 4. execute the backward pass given the current loss\n",
    "        loss.backward()\n",
    "        # 5. update the value of the params\n",
    "        optimizer.step()"
   ]
  },
  {
   "cell_type": "markdown",
   "metadata": {},
   "source": [
    "#### Question: there's also a `model.zero_grad()` functionality. Is it the same as `optimizer.zero_grad()`?\n",
    "\n",
    "Quick answer: usually yes. I have always seen `optimizer.zero_grad()` but some people prefer the former. See [here](https://discuss.pytorch.org/t/whats-the-difference-between-optimizer-zero-grad-vs-nn-module-zero-grad/59233) for discussion."
   ]
  },
  {
   "cell_type": "markdown",
   "metadata": {},
   "source": [
    "To work, we just need to wrap this routine inside another loop which will repeat `train_epoch` for each epoch."
   ]
  },
  {
   "cell_type": "code",
   "execution_count": 8,
   "metadata": {},
   "outputs": [],
   "source": [
    "def train_model(model, dataloader, loss_fn, optimizer, num_epochs):\n",
    "    # this is a useful switch that lets us pass to training phase to network evaluation\n",
    "    # we will see in a future lab why it is necessary - for now it does nothing in particular\n",
    "    model.train()\n",
    "    for epoch in range(num_epochs):\n",
    "        train_epoch(model, dataloader, loss_fn, optimizer)\n",
    "        print(f\"Epoch {epoch+1} completed.\") # this is just so we have an idea on where we are during the training"
   ]
  },
  {
   "cell_type": "markdown",
   "metadata": {},
   "source": [
    "We will use vanilla SGD with a learning rate of 0.001 and we'll run the training for 3 epochs.\n",
    "Moreover, we will use the Negative Log-Likelihood (NLL) loss function."
   ]
  },
  {
   "cell_type": "code",
   "execution_count": 9,
   "metadata": {},
   "outputs": [],
   "source": [
    "learn_rate = 0.1 # for SGD\n",
    "num_epochs = 3"
   ]
  },
  {
   "cell_type": "code",
   "execution_count": 10,
   "metadata": {},
   "outputs": [],
   "source": [
    "model = MLP()\n",
    "loss_fn = torch.nn.NLLLoss()\n",
    "optimizer = torch.optim.SGD(model.parameters(), lr=learn_rate)"
   ]
  },
  {
   "cell_type": "code",
   "execution_count": 11,
   "metadata": {},
   "outputs": [
    {
     "output_type": "stream",
     "name": "stderr",
     "text": [
      "/home/macro/anaconda3/lib/python3.7/site-packages/ipykernel_launcher.py:24: UserWarning: Implicit dimension choice for log_softmax has been deprecated. Change the call to include dim=X as an argument.\n",
      "Epoch 1 completed.\n",
      "Epoch 2 completed.\n",
      "Epoch 3 completed.\n"
     ]
    }
   ],
   "source": [
    "train_model(model, trainloader, loss_fn, optimizer, num_epochs)"
   ]
  },
  {
   "cell_type": "markdown",
   "metadata": {},
   "source": [
    "The problem with this setting is that we have no idea how the network is faring, either on the training or the test set.\n",
    "\n",
    "We need to devise some ways to assess the model.\n",
    "\n",
    "Three ideas:\n",
    "\n",
    "1. Accumulate the loss for each epoch\n",
    "  * Alternatively, use the average loss per instance\n",
    "2. Show the mean accuracy for each epoch\n",
    "3. 1 and 2, but calculated on the test set\n",
    "\n",
    "1 is easily implementable, just introduce a variable to accumulate the loss during the epoch and print it at the end of the training.\n",
    "\n",
    "For 2 we need also to store the number of data points we have seen up to the current mini-batch. Recalling the concept of cumulative weighted average (CWA) for a time-dependent entity $x_t,~ t\\in\\{0,...,T\\}$:\n",
    "\n",
    "$\\text{CWA}_t = \\frac{ n_{0 : t-1} \\cdot \\text{CWA}_{t-1} + n_t \\cdot x_t }{n_{0 : t-1} + n_t}$\n",
    "\n",
    "where $n_t$ is the weight of the $t$-th observation $x_t$, while $n_{0 : t-1}$ is the cumulative weight of the observations from time instant $0$ to $t-1$."
   ]
  },
  {
   "cell_type": "code",
   "execution_count": 12,
   "metadata": {},
   "outputs": [],
   "source": [
    "def train_epoch(model, dataloader, loss_fn, optimizer, loss_cwa, cum_num_instances):\n",
    "    for X, y in dataloader:\n",
    "        # 1. reset the gradients previously accumulated by the optimizer\n",
    "        #    this will avoid re-using gradients from previous loops\n",
    "        optimizer.zero_grad() \n",
    "        # 2. get the predictions from the current state of the model\n",
    "        #    this is the forward pass\n",
    "        y_hat = model(X)\n",
    "        # 3. calculate the loss on the current mini-batch\n",
    "        loss = loss_ReL1(model, loss_ft = loss_fn(y_hat, y))\n",
    "        # 4. execute the backward pass given the current loss\n",
    "        loss.backward()\n",
    "        # 5. update the value of the params\n",
    "        optimizer.step()\n",
    "        # 6. update the cumulative weighted average of the loss\n",
    "        # a. obtain size of mini-batch\n",
    "        current_n = X.shape[0]\n",
    "        # b. update the CWA\n",
    "        loss_cwa = (loss_cwa * cum_num_instances + loss.item() * current_n) / (cum_num_instances + current_n)\n",
    "        # c. update the cumulative number of instances seen\n",
    "        cum_num_instances += current_n\n",
    "\n",
    "def train_model(model, dataloader, loss_fn, optimizer, num_epochs):\n",
    "    model.train()\n",
    "    for epoch in range(num_epochs):\n",
    "        loss_cwa = 0.0\n",
    "        cum_num_instances = 0\n",
    "        train_epoch(model, dataloader, loss_fn, optimizer, loss_cwa, cum_num_instances)\n",
    "        print(f\"Epoch {epoch+1} completed. Cumulative average of training loss: {loss_cwa}\")"
   ]
  },
  {
   "cell_type": "markdown",
   "metadata": {},
   "source": [
    "Usually, though, since passing parameters like `loss_cwa` and `cum_num_instances` is a bit of a bloater, we usually employ a small class to keep track of all the performance parameter we need to measure. In the PT programming environment we call it `AverageMeter` and is implemented like so"
   ]
  },
  {
   "cell_type": "code",
   "execution_count": 16,
   "metadata": {},
   "outputs": [],
   "source": [
    "class AverageMeter(object):\n",
    "    def __init__(self):\n",
    "        self.reset()\n",
    "\n",
    "    def reset(self):\n",
    "        self.val = 0\n",
    "        self.avg = 0\n",
    "        self.sum = 0\n",
    "        self.count = 0\n",
    "\n",
    "    def update(self, val, n=1):\n",
    "        self.val = val\n",
    "        self.sum += val * n\n",
    "        self.count += n\n",
    "        self.avg = self.sum / self.count"
   ]
  },
  {
   "cell_type": "code",
   "execution_count": 17,
   "metadata": {},
   "outputs": [],
   "source": [
    "def train_model(model, dataloader, loss_fn, optimizer, num_epochs):\n",
    "    model.train()\n",
    "    for epoch in range(num_epochs):\n",
    "        loss_meter = AverageMeter() # zero out average meter -- we are only keeping track of performance through each epoch\n",
    "        train_epoch(model, dataloader, loss_fn, optimizer, loss_meter)\n",
    "        # now with loss meter we can print both the cumulative value and the average value\n",
    "        print(f\"Epoch {epoch+1} completed. Loss - total: {loss_meter.sum} - average: {loss_meter.avg}\")\n",
    "\n",
    "\n",
    "def train_epoch(model, dataloader, loss_fn, optimizer, loss_meter):\n",
    "    for X, y in dataloader:\n",
    "        # 1. reset the gradients previously accumulated by the optimizer\n",
    "        #    this will avoid re-using gradients from previous loops\n",
    "        optimizer.zero_grad() \n",
    "        # 2. get the predictions from the current state of the model\n",
    "        #    this is the forward pass\n",
    "        y_hat = model(X)\n",
    "        # 3. calculate the loss on the current mini-batch\n",
    "        loss = loss_ReL1(model, loss_ft = loss_fn(y_hat, y))\n",
    "        # 4. execute the backward pass given the current loss\n",
    "        loss.backward()\n",
    "        # 5. update the value of the params\n",
    "        optimizer.step()\n",
    "        # 6. update the loss AverageMeter\n",
    "        loss_meter.update(val=loss.item(), n=X.shape[0])\n",
    "\n",
    "\n"
   ]
  },
  {
   "cell_type": "markdown",
   "metadata": {},
   "source": [
    "#### Assessing accuracy\n",
    "\n",
    "Usually, $\\text{loss} \\in [0;+\\infty)$, so it is hard to assess the effectiveness of the ANN based solely on such value.\n",
    "\n",
    "Alongside a loss, we can assess the performance via a much more interpretable index as the **accuracy**\n",
    "\n",
    "$\\text{accuracy} = \\frac{\\text{# correctly identified items}}{\\text{# all items}}$\n",
    "\n",
    "To keep track of the accuracy, we can re-use the AverageMeter defined above, although we need to define a function for it---since PT does not implement it by default."
   ]
  },
  {
   "cell_type": "code",
   "execution_count": 18,
   "metadata": {},
   "outputs": [],
   "source": [
    "def accuracy(y_hat, y):\n",
    "    '''\n",
    "    y_hat is the model output - a Tensor of shape (n x num_classes)\n",
    "    y is the ground truth\n",
    "\n",
    "    How can we implement this function?\n",
    "    '''\n",
    "    classes_prediction = y_hat.argmax(dim=1)\n",
    "    match_ground_truth = classes_prediction == y # -> tensor of booleans\n",
    "    correct_matches = match_ground_truth.sum()\n",
    "    return (correct_matches / y_hat.shape[0]).item()\n",
    "    "
   ]
  },
  {
   "cell_type": "code",
   "execution_count": 19,
   "metadata": {},
   "outputs": [],
   "source": [
    "def train_epoch(model, dataloader, loss_fn, optimizer, loss_meter, accuracy_meter):\n",
    "    for X, y in dataloader:\n",
    "        # 1. reset the gradients previously accumulated by the optimizer\n",
    "        #    this will avoid re-using gradients from previous loops\n",
    "        optimizer.zero_grad()\n",
    "        # 2. get the predictions from the current state of the model\n",
    "        #    this is the forward pass\n",
    "        y_hat = model(X)\n",
    "        # 3. calculate the loss on the current mini-batch\n",
    "        loss = loss_ReL1(model, loss_ft = loss_fn(y_hat, y))\n",
    "        # 4. execute the backward pass given the current loss\n",
    "        loss.backward()\n",
    "        # 5. update the value of the params\n",
    "        optimizer.step()\n",
    "        # 6. calculate the accuracy for this mini-batch\n",
    "        acc = accuracy(y_hat, y)\n",
    "        # 7. update the loss and accuracy AverageMeter\n",
    "        loss_meter.update(val=loss.item(), n=X.shape[0])\n",
    "        accuracy_meter.update(val=acc, n=X.shape[0])\n",
    "\n",
    "def train_model(model, dataloader, loss_fn, optimizer, num_epochs):\n",
    "    model.train()\n",
    "    for epoch in range(num_epochs):\n",
    "        loss_meter = AverageMeter()\n",
    "        accuracy_meter = AverageMeter()\n",
    "        train_epoch(model, dataloader, loss_fn, optimizer, loss_meter, accuracy_meter)\n",
    "        # now with loss meter we can print both the cumulative value and the average value\n",
    "        print(f\"Epoch {epoch+1} completed. Loss - total: {loss_meter.sum} - average: {loss_meter.avg}; Accuracy: {accuracy_meter.avg}\")\n",
    "    # we also return the stats for the final epoch of training\n",
    "    return loss_meter.sum, accuracy_meter.avg"
   ]
  },
  {
   "cell_type": "markdown",
   "metadata": {},
   "source": [
    "*Additional observation*: we might wanna pass the `accuracy` as an additional `performance` parameter (analogous to `loss_fn`) since we might wanna evaluate the performance on a metric different than accuracy.\n",
    "\n",
    "Now, we can train the network and examine its performance as we're running the training"
   ]
  },
  {
   "cell_type": "code",
   "execution_count": 20,
   "metadata": {},
   "outputs": [
    {
     "output_type": "stream",
     "name": "stderr",
     "text": [
      "/home/macro/anaconda3/lib/python3.7/site-packages/ipykernel_launcher.py:24: UserWarning: Implicit dimension choice for log_softmax has been deprecated. Change the call to include dim=X as an argument.\n",
      "Epoch 1 completed. Loss - total: 2598782.6528320312 - average: 43.31304421386719; Accuracy: 0.5031666666984558\n",
      "Epoch 2 completed. Loss - total: 2973333.358520508 - average: 49.5555559753418; Accuracy: 0.8445000000317892\n",
      "Epoch 3 completed. Loss - total: 3144278.286376953 - average: 52.404638106282555; Accuracy: 0.8998666666348776\n",
      "Training completed - final accuracy 0.8998666666348776 and loss 3144278.286376953\n"
     ]
    }
   ],
   "source": [
    "# reset the network and optimizer\n",
    "model = MLP()\n",
    "optimizer = torch.optim.SGD(model.parameters(), lr=learn_rate)\n",
    "\n",
    "loss, acc = train_model(model, trainloader, loss_fn, optimizer, num_epochs)\n",
    "print(f\"Training completed - final accuracy {acc} and loss {loss}\")"
   ]
  },
  {
   "cell_type": "markdown",
   "metadata": {},
   "source": [
    "Recall that we wanted to assess also the network's performance on the test set. We need an additional testing routine for it.\n",
    "\n",
    "For testing, we need only\n",
    "\n",
    "1. the network\n",
    "2. the test-set `DataLoader`\n",
    "3. the loss function / the performance metrics\n",
    "\n",
    "we don't need the optimizer as we're not updating the weights now\n"
   ]
  },
  {
   "cell_type": "code",
   "execution_count": 21,
   "metadata": {},
   "outputs": [],
   "source": [
    "def test_model(model, dataloader, loss_fn=None):\n",
    "    if loss_fn is not None:\n",
    "        loss_meter = AverageMeter()\n",
    "    acc_meter = AverageMeter()\n",
    "    model.eval() # this is the contrary of model.train() we saw before - equivalent to model.train(False)\n",
    "    with torch.no_grad():\n",
    "        for X, y in dataloader:\n",
    "            y_hat = model(X)\n",
    "            loss = loss_ReL1(model, loss_ft = loss_fn(y_hat, y)) if loss_fn is not None else None\n",
    "            acc = accuracy(y_hat, y)\n",
    "            if loss_fn is not None:\n",
    "                loss_meter.update(loss.item(), X.shape[0])\n",
    "            acc_meter.update(acc, X.shape[0])\n",
    "    print(f\"TESTING - loss {loss_meter.sum if loss_fn is not None else '--'} - accuracy {acc_meter.avg}\")\n"
   ]
  },
  {
   "cell_type": "code",
   "execution_count": 22,
   "metadata": {},
   "outputs": [
    {
     "output_type": "stream",
     "name": "stderr",
     "text": [
      "/home/macro/anaconda3/lib/python3.7/site-packages/ipykernel_launcher.py:24: UserWarning: Implicit dimension choice for log_softmax has been deprecated. Change the call to include dim=X as an argument.\n",
      "TESTING - loss -- - accuracy 0.8887666666666667\n"
     ]
    }
   ],
   "source": [
    "test_model(model, testloader)"
   ]
  },
  {
   "cell_type": "markdown",
   "metadata": {},
   "source": [
    "Now that we have nice-enough-looking training and testing routines and that we have trained and tested our model we might want to save it so we can re-use it in the future.\n",
    "\n",
    "The model can be easily saved using the `state_dict()` method"
   ]
  },
  {
   "cell_type": "markdown",
   "metadata": {},
   "source": [
    "We can save it using PT built-in `torch.save`"
   ]
  },
  {
   "cell_type": "code",
   "execution_count": 23,
   "metadata": {},
   "outputs": [],
   "source": [
    "import os\n",
    "folder_save = \"models/mlp_mnist\"\n",
    "os.makedirs(folder_save, exist_ok=True)\n",
    "filename = os.path.join(folder_save, \"model.pt\")\n",
    "torch.save(model.state_dict(), filename)"
   ]
  },
  {
   "cell_type": "markdown",
   "metadata": {},
   "source": [
    "Let's suppose we wish to reload the state_dict. We just need one line of code: "
   ]
  },
  {
   "cell_type": "code",
   "execution_count": 20,
   "metadata": {},
   "outputs": [
    {
     "output_type": "execute_result",
     "data": {
      "text/plain": [
       "<All keys matched successfully>"
      ]
     },
     "metadata": {},
     "execution_count": 20
    }
   ],
   "source": [
    "model.load_state_dict(torch.load(filename))"
   ]
  },
  {
   "cell_type": "markdown",
   "metadata": {},
   "source": [
    "# --- LAB ended here ---"
   ]
  },
  {
   "cell_type": "markdown",
   "metadata": {},
   "source": [
    "#### Saving a model mid-training\n",
    "\n",
    "Let's suppose we further need to train our model. Often times, storing only the weights may not be enough.\n",
    "\n",
    "Till now, we have only seen examples in which the training hyperparameters are static. Modern techniques, though, require dynamic hyperparameters to ensure good performance or generalization. You may have heard of optimizers such as ADAM or techniques such as learning rate annealing. Thus, in order to restore the training, we need to save a **checkpoint** so that we're able to re-start training at the exact same conditions we were in when it first ended^.\n",
    "\n",
    "For now, a checkpoint will be composed of the following objects:\n",
    "1. The `state_dict` of the model\n",
    "2. The state of the optimizer (which is also obtainable via a `state_dict` method---see code)\n",
    "3. (*optionally*) the epochs trained\n",
    "\n",
    "\n",
    "^ *Note that, due to the stochasticity intrinsic in SGD, we may not actually be able to reproduce the exact same situation as before.*"
   ]
  },
  {
   "cell_type": "code",
   "execution_count": null,
   "metadata": {},
   "outputs": [],
   "source": [
    "checkpoint_dict = {\n",
    "    \"parameters\": model.state_dict(),\n",
    "    \"optimizer\": optimizer.state_dict(),\n",
    "    \"epoch\": num_epochs\n",
    "}"
   ]
  },
  {
   "cell_type": "code",
   "execution_count": null,
   "metadata": {},
   "outputs": [],
   "source": [
    "# save\n",
    "filename = os.path.join(folder_save, \"checkpoint.pt\")\n",
    "torch.save(checkpoint_dict, filename)"
   ]
  },
  {
   "cell_type": "code",
   "execution_count": null,
   "metadata": {},
   "outputs": [],
   "source": [
    "# restore checkpoint\n",
    "checkpoint = torch.load(filename)\n",
    "model.load_state_dict(checkpoint[\"parameters\"])\n",
    "optimizer.load_state_dict(checkpoint[\"optimizer\"])"
   ]
  },
  {
   "cell_type": "markdown",
   "metadata": {},
   "source": [
    "In a setting where you wish to restart training, you may modify the `train_model` function by adding the argument `epoch_restart` and looping through epochs like this\n",
    "```python\n",
    "for epoch in range(epoch_restart, num_epochs):\n",
    "    # train loop\n",
    "```\n",
    "\n",
    "**Tip**: especially when training large networks in clusters (where time allocated may be limited) it may be savvy to save a checkpoint at each epoch or training iteration to avoid repeating large chunks of training in case the job hangs up."
   ]
  },
  {
   "cell_type": "markdown",
   "metadata": {},
   "source": [
    "#### Training a model on custom loss functions\n",
    "\n",
    "We might want to fit our MLP using custom losses. Despite being the *de facto* choice for multiclass ML problems, Cross Entropy is not the single loss we can use.\n",
    "\n",
    "A very simple loss we may consider is the Quadratic Loss (QL) [1](https://www.semanticscholar.org/paper/Exploring-the-Role-of-Loss-Functions-in-Multiclass-Demirkaya-Chen/5c80d4ce2ce5e4f0b395969618cd76d35210e72c):\n",
    "\n",
    "$QL(\\hat{y}, y) = \\frac{1}{2}\\text{E}[\\vert\\vert y^{(\\text{one-hot})} - \\hat{y} \\vert\\vert^2] \n",
    " = \\frac{1}{2n}\\sum_{i=1}^{n} (\\vert\\vert y^{(\\text{one-hot})}_i - \\hat{y}_i \\vert\\vert)^2\n",
    " = \\frac{1}{2n}\\sum_{i=1}^{n}\\sum_{j=1}^{d}(y^{(\\text{one-hot})}_{i,j} - \\hat{y}_{i,j})^2$\n",
    "\n",
    "Where:\n",
    "* the one-hot encoding for $y=c$, where $c$ is a possible class out of $C$ classes, is the column vector whose elements are all $0$ beside the $c$-th entry, which is $1$;\n",
    "* with $\\hat{y}$ we mean the output of the model, i.e. a vector representing a probability distribution that a data point be assigned to each class.\n",
    "\n",
    "For instance, given a data point whose ANN output is $\\hat{y}=[0.3, 0.2, 0.4, 0.1]^\\top$ and the ground truth is $y=3$, the QL for this point is\n",
    "\n",
    "$0.5\\cdot \\vert\\vert[0, 0, 1, 0]^\\top - [0.3, 0.2, 0.4, 0.1]^\\top\\vert\\vert^2 = 0.5\\cdot \\vert\\vert[-0.3, -0.2, 0.6, -0.1]^\\top\\vert\\vert^2\n",
    "= 0.5\\cdot (0.09 + 0.04 + 0.36 + 0.01) = 0.5\\cdot 0.5 = 0.25$\n",
    "\n",
    "Let us implement this loss function in PT"
   ]
  },
  {
   "cell_type": "code",
   "execution_count": null,
   "metadata": {},
   "outputs": [],
   "source": [
    "def quadratic_loss(y_hat, y):\n",
    "    '''\n",
    "    y_hat is a matrix of dimension (C x n),\n",
    "    where C is the number of classes, and n is the number of datapoints\n",
    "    y is a vector of classes\n",
    "    '''\n",
    "    # convert y to onehot\n",
    "    y_onehot = torch.nn.functional.one_hot(y.long())\n",
    "    norm = (y_onehot - y_hat.exp()).norm(dim=0)**2\n",
    "    norm_sum = norm.sum()\n",
    "    return norm_sum / (2*y_hat.shape[1])"
   ]
  },
  {
   "cell_type": "code",
   "execution_count": null,
   "metadata": {},
   "outputs": [],
   "source": [
    "learn_rate = 0.1\n",
    "num_epochs = 3\n",
    "\n",
    "model = MLP()\n",
    "loss_fn = quadratic_loss\n",
    "optimizer = torch.optim.SGD(model.parameters(), lr=learn_rate)"
   ]
  },
  {
   "cell_type": "code",
   "execution_count": null,
   "metadata": {},
   "outputs": [],
   "source": [
    "train_model(model, trainloader, loss_fn, optimizer, num_epochs)"
   ]
  },
  {
   "cell_type": "markdown",
   "metadata": {},
   "source": [
    "**Q**: how were we able to train the network on our custom loss even if we never told PT how to compute the backward pass on it (i.e., how to compute its gradient)?"
   ]
  },
  {
   "cell_type": "markdown",
   "metadata": {},
   "source": [
    "### Extra: Build ANNs with Sequential\n",
    "\n",
    "Instead of specifying layers as attribute of the MLP, we may just create a single module which is an instance of `torch.nn.Sequential`:"
   ]
  },
  {
   "cell_type": "code",
   "execution_count": null,
   "metadata": {},
   "outputs": [],
   "source": [
    "class MLP_seq(torch.nn.Module):\n",
    "    def __init__(self):\n",
    "        super().__init__()\n",
    "        self.layers = torch.nn.Sequential(\n",
    "            torch.nn.Flatten(),\n",
    "            torch.nn.Linear(784, 64),\n",
    "            torch.nn.ReLU(), # Note: you must use torch.nn.ReLU() here, not torch.nn.functional.relu\n",
    "            torch.nn.Linear(64,64),\n",
    "            torch.nn.ReLU(),\n",
    "            torch.nn.Linear(64,10),\n",
    "            torch.nn.LogSoftmax(dim=1)\n",
    "        )\n",
    "    \n",
    "    def forward(self, X):\n",
    "        return self.layers(X)"
   ]
  },
  {
   "cell_type": "markdown",
   "metadata": {},
   "source": [
    "In `Sequential` we specify all the modules through which the data is sequentially fed (also the activation functions!).\n",
    "PyTorch automatically creates a `forward` routine for that module. We just need to call `sequenial_module(data)` in the `forward` method of our network. \n",
    "\n",
    "Without training it, let's verify that it's equivalent to our original `MLP` module"
   ]
  },
  {
   "cell_type": "code",
   "execution_count": null,
   "metadata": {},
   "outputs": [],
   "source": [
    "X, y = next(iter(trainloader))\n",
    "first_5_images = X[:5]\n",
    "print(first_5_images.shape)\n",
    "model_seq = MLP_seq()\n",
    "output = model_seq(first_5_images)\n",
    "print(output.shape)\n",
    "print(output[0].exp().sum())"
   ]
  },
  {
   "cell_type": "markdown",
   "metadata": {},
   "source": [
    "Delving into the difference between\n",
    "* `torch.nn.functional.relu()` and\n",
    "* `torch.nn.ReLU()`\n",
    "\n",
    "notice how they're used.\n",
    "* `torch.nn.functional.relu(X)` expects an argument `X`\n",
    "* `torch.nn.ReLU()` expects no argument\n",
    "\n",
    "Indeed, `torch.nn.functional.relu(X)` is a function, while `torch.nn.ReLU()` is a \"functional representation\" of the former.\n",
    "\n",
    "`torch.nn.ReLU()`, though, is a bit more than that."
   ]
  },
  {
   "cell_type": "markdown",
   "metadata": {},
   "source": [
    "### Custom activation functions\n",
    "\n",
    "Let us suppose we wish to add a custom activation function to our network, for example, the sine function.\n",
    "\n",
    "We'll quickly discover that we can't just add a functional representation of it to our `Sequential`. Let's try it"
   ]
  },
  {
   "cell_type": "code",
   "execution_count": null,
   "metadata": {},
   "outputs": [],
   "source": [
    "class SineNN(torch.nn.Module):\n",
    "    def __init__(self):\n",
    "        super().__init__()\n",
    "        self.structure = torch.nn.Sequential(\n",
    "            torch.nn.Linear(2, 2),\n",
    "            torch.sin # this won't work!\n",
    "        )\n",
    "    \n",
    "    def forward(self, X):\n",
    "        return self.structure(X)\n",
    "\n",
    "nn = SineNN()"
   ]
  },
  {
   "cell_type": "markdown",
   "metadata": {},
   "source": [
    "In fact, PyTorch is complaining that the sin module is not inheriting from `torch.nn.Module`, which it needs to do. So, we only need to wrap `torch.sin` in a class like so."
   ]
  },
  {
   "cell_type": "code",
   "execution_count": null,
   "metadata": {},
   "outputs": [],
   "source": [
    "class Sin(torch.nn.Module):\n",
    "    # it needs to have at least a constructor and a forward method, just like an MLP\n",
    "    def __init__(self): \n",
    "        super().__init__()\n",
    "        # no additional stuff to do here as Sin has no additional parameters to set\n",
    "    \n",
    "    def forward(self, X):\n",
    "        return torch.sin(X)"
   ]
  },
  {
   "cell_type": "code",
   "execution_count": null,
   "metadata": {},
   "outputs": [],
   "source": [
    "# it will not produce an exeption now\n",
    "class SineNN(torch.nn.Module):\n",
    "    def __init__(self):\n",
    "        super().__init__()\n",
    "        self.structure = torch.nn.Sequential(\n",
    "            torch.nn.Linear(2, 2),\n",
    "            Sin()\n",
    "        )\n",
    "    \n",
    "    def forward(self, X):\n",
    "        return self.structure(X)\n",
    "\n",
    "nn = SineNN()"
   ]
  },
  {
   "cell_type": "markdown",
   "metadata": {},
   "source": [
    "**Homework**\n",
    "\n",
    "- ~~try reading [1] and implement Correct-Class Quadratic Loss (CCQL). Don't despair if you don't understand everything, just try grasping the concept and understanding the forumulation of CCQL.~~\n",
    "- Reconstruct in PyTorch the first experiment in [Learning representations by back-propagating errors](https://www.nature.com/articles/323533a0) with learning rule in eq.8 (gradient descent without momentum)\n",
    "  - Try to be as close as possible to the original protocol, except for what regards the learning rule\n",
    "  - Read the paper, if you did not do it yet (don’t worry if you don’t understand the other experiments in detail)\n",
    "  - Create the data, the model and everything is needed (do not use dataloaders if you don’t know how yet how they work)\n",
    "  - Train the model\n",
    "  - Inspect the weights you obtained and check if they provide a solution to the problem\n",
    "  - Compare the solution to the solution reported in the paper\n",
    "\n",
    "\n",
    "Additional tips for implementing ANNs in PyTorch (will not be part of the exam): [PyTorch common mistakes, by Aladdin Person](https://youtu.be/O2wJ3tkc-TU)"
   ]
  },
  {
   "cell_type": "markdown",
   "metadata": {},
   "source": [
    "## References\n",
    "[1](https://www.semanticscholar.org/paper/Exploring-the-Role-of-Loss-Functions-in-Multiclass-Demirkaya-Chen/5c80d4ce2ce5e4f0b395969618cd76d35210e72c) A. Demirkaya, J. Chen and S. Oymak, \"Exploring the Role of Loss Functions in Multiclass Classification,\" 2020 54th Annual Conference on Information Sciences and Systems (CISS), Princeton, NJ, USA, 2020, pp. 1-5, doi: 10.1109/CISS48834.2020.1570627167."
   ]
  }
 ],
 "metadata": {
  "kernelspec": {
   "display_name": "Python 3",
   "language": "python",
   "name": "python3"
  },
  "language_info": {
   "codemirror_mode": {
    "name": "ipython",
    "version": 3
   },
   "file_extension": ".py",
   "mimetype": "text/x-python",
   "name": "python",
   "nbconvert_exporter": "python",
   "pygments_lexer": "ipython3",
   "version": "3.8.5-final"
  }
 },
 "nbformat": 4,
 "nbformat_minor": 2
}