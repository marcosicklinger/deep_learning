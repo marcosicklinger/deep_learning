{
 "metadata": {
  "language_info": {
   "codemirror_mode": {
    "name": "ipython",
    "version": 3
   },
   "file_extension": ".py",
   "mimetype": "text/x-python",
   "name": "python",
   "nbconvert_exporter": "python",
   "pygments_lexer": "ipython3",
   "version": "3.8.5-final"
  },
  "orig_nbformat": 2,
  "kernelspec": {
   "name": "python3",
   "display_name": "Python 3",
   "language": "python"
  }
 },
 "nbformat": 4,
 "nbformat_minor": 2,
 "cells": [
  {
   "source": [
    "# Homework 3\n",
    "### Marco Sicklinger, April 2021"
   ],
   "cell_type": "markdown",
   "metadata": {}
  },
  {
   "source": [
    "### Prerequisites: modules & functions definitions\n"
   ],
   "cell_type": "markdown",
   "metadata": {}
  },
  {
   "cell_type": "code",
   "execution_count": 13,
   "metadata": {},
   "outputs": [],
   "source": [
    "import torch\n",
    "from torch import nn\n",
    "import numpy as np\n",
    "import matplotlib.pyplot as plt"
   ]
  },
  {
   "source": [
    "## Assignment 1\n",
    "The custom loss function for the L1 norm regularization can be defined as follows."
   ],
   "cell_type": "markdown",
   "metadata": {}
  },
  {
   "cell_type": "code",
   "execution_count": 12,
   "metadata": {},
   "outputs": [],
   "source": [
    "def loss_ReL1(model, decay = .1, loss_ft = None):\n",
    "    if loss_ft is None:\n",
    "        return None\n",
    "    \n",
    "    L1_norms = [par.norm(1).item() for name, par in model.named_parameters() if 'weight' in name]\n",
    "    return loss_ft + decay*sum(L1_norms)"
   ]
  },
  {
   "source": [
    "It's usage can be found in `02-sgd-training.ipynb`.  \n",
    "A word of caution: if the user who implements the `model` names every layer with labels containing the word \"weight\", the function ends up adding also the biases' norms to the regularization term."
   ],
   "cell_type": "markdown",
   "metadata": {}
  },
  {
   "source": [
    "## Assignment 2"
   ],
   "cell_type": "markdown",
   "metadata": {}
  },
  {
   "source": [
    "Early stopping can be implemented as a function object as follows"
   ],
   "cell_type": "markdown",
   "metadata": {}
  },
  {
   "cell_type": "code",
   "execution_count": 15,
   "metadata": {},
   "outputs": [],
   "source": [
    "class early_stopping:\n",
    "    \"\"\"\n",
    "    Early stopping procedure\n",
    "    \"\"\"\n",
    "\n",
    "    def __init__(self, wordy = False, tolerance = .5, saving_path = 'early_stopping.pt', messenger = print):\n",
    "        \"\"\"\n",
    "        Members\n",
    "        -------\n",
    "        _wordy: bool\n",
    "                boolean for printing (True) or not (False) updates\n",
    "        _path:  str\n",
    "                string indicating where to save best model\n",
    "        _messenger: function\n",
    "                    function used to print class messages\n",
    "        _tolerance: Number\n",
    "                    maximum allowed change in generalized loss \n",
    "        _current:   Number\n",
    "                    variable for saving current values of the loss function\n",
    "        _min:   Number\n",
    "                variable for saving the best loss computed up to current epoch\n",
    "        _generalized_loss:  Number\n",
    "                            variable for saving the change in loss function from previous to current step\n",
    "        early_stop: bool\n",
    "                    boolean set to `True` if threshold is reached, `False` otherwise\n",
    "\n",
    "        Parameters\n",
    "        ----------\n",
    "        wordy:  bool\n",
    "                boolean passed as `True` if class messages are requested, `False` otherwise\n",
    "        saving_path:    str\n",
    "                        string indicating a path where to save best model\n",
    "        messenger:  function\n",
    "                    function used to print class messages \n",
    "        \"\"\"\n",
    "        \n",
    "        self._wordy = wordy\n",
    "        self._path = saving_path\n",
    "        self._messenger = messenger\n",
    "        self._tolerance = threshold\n",
    "        self._current = None\n",
    "        self._min = np.Inf\n",
    "        self._generalized_loss = 0\n",
    "        self.early_stop = False\n",
    "\n",
    "    def __call__(self, loss, model):\n",
    "        \"\"\"\n",
    "        Parameters\n",
    "        ----------\n",
    "        loss:   Number\n",
    "                computed loss function at current epoch\n",
    "        model:  class[torch.nn.Module]\n",
    "                model used for learning\n",
    "        \"\"\"\n",
    "\n",
    "        # initialize current loss to the passed computed loss\n",
    "        # and save minimum found (trivial in this case)\n",
    "        if self._current is None:\n",
    "            self._current = loss\n",
    "            self._min = loss\n",
    "            self.save_model(loss, model)\n",
    "        # if loss decreases update minimum and save.\n",
    "        elif loss < self._current:\n",
    "            self._current = loss\n",
    "            if self._wordy:\n",
    "                self._messenger('early_stopping class message: good step - generalized loss {:.3f}'.format(self.generalized_loss(loss, self._min)))\n",
    "            self._min = loss\n",
    "            self.save_model(loss, model)\n",
    "        # if tolerance is reached, set member `early_stop` to `True`\n",
    "        # so to allow the user to stop the procedure\n",
    "        elif loss >= self._current:\n",
    "            gen_loss = self.generalized_loss(loss, self._min)\n",
    "            if self._wordy:\n",
    "                self._messenger('early_stopping class message: bad step - generalized loss {:.3f}'.format(gen_loss))\n",
    "            if gen_loss > self._tolerance:\n",
    "                self.early_stop = True\n",
    "\n",
    "    def save_model(self, loss, model):\n",
    "        \"\"\"\n",
    "        Function for saving the model\n",
    "\n",
    "        Parameters\n",
    "        ----------\n",
    "        loss:   Number\n",
    "                computed loss function at current epoch\n",
    "        model:  class[torch.nn.Module]\n",
    "                model used for learning\n",
    "        \"\"\"\n",
    "\n",
    "        torch.save(model.state_dict(), self._path)\n",
    "\n",
    "    def generalized_loss(self, loss, Min):\n",
    "        \"\"\"\n",
    "        Function for computing the generalized loss\n",
    "\n",
    "        Parameters\n",
    "        ----------\n",
    "        loss:   Number\n",
    "                computed loss function\n",
    "        Min:    Number\n",
    "                minimum loss function computed up to current epoch\n",
    "        \"\"\"\n",
    "        return loss/Min-1"
   ]
  },
  {
   "cell_type": "code",
   "execution_count": null,
   "metadata": {},
   "outputs": [],
   "source": []
  }
 ]
}